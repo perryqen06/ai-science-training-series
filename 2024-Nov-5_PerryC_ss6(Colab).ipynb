{
  "cells": [
    {
      "cell_type": "markdown",
      "metadata": {
        "id": "view-in-github",
        "colab_type": "text"
      },
      "source": [
        "<a href=\"https://colab.research.google.com/github/perryqen06/ai-science-training-series/blob/main/2024-Nov-5_PerryC_ss6(Colab).ipynb\" target=\"_parent\"><img src=\"https://colab.research.google.com/assets/colab-badge.svg\" alt=\"Open In Colab\"/></a>"
      ]
    },
    {
      "cell_type": "markdown",
      "id": "1fc5d004-5e6f-4bb3-938e-fb44f919cec3",
      "metadata": {
        "execution": {
          "iopub.status.busy": "2023-11-11T07:14:30.136832+00:00",
          "iopub.status.idle": "2023-11-11T07:14:30.175293+00:00"
        },
        "id": "1fc5d004-5e6f-4bb3-938e-fb44f919cec3",
        "jupyter": {
          "source_hidden": false
        }
      },
      "source": [
        "# [`wordplay` 🎮 💬](https://github.com/saforem2/wordplay): Shakespeare ✍️\n",
        "\n",
        "We will be using the [Shakespeare dataset](https://github.com/saforem2/wordplay/blob/main/data/shakespeare/readme.md) to train a (~ small) 10M param LLM _from scratch_.\n",
        "\n",
        "<div>\n",
        "\n",
        "<div align=\"center\" style=\"text-align:center;\">\n",
        "\n",
        "<img src=\"https://github.com/saforem2/wordplay/blob/main/assets/shakespeare.jpeg?raw=true\" width=\"45%\" align=\"center\" /><br>\n",
        "\n",
        "Image generated from [stabilityai/stable-diffusion](https://huggingface.co/spaces/stabilityai/stable-diffusion) on [🤗 Spaces](https://huggingface.co/spaces).<br>\n",
        "\n",
        "</div>\n",
        "\n",
        "<details closed><summary>Prompt Details</summary>\n",
        "\n",
        "<ul>\n",
        "<li>Prompt:</li>\n",
        "<t><q>\n",
        "Shakespeare himself, dressed in full Shakespearean garb,\n",
        "writing code at a modern workstation with multiple monitors, hacking away profusely,\n",
        "backlit, high quality for publication\n",
        "</q></t>\n",
        "\n",
        "<li>Negative Prompt:</li>\n",
        "<t><q>\n",
        "low quality, 3d, photorealistic, ugly\n",
        "</q></t>\n",
        "</ul>\n",
        "\n",
        "</details>\n",
        "\n",
        "</div>"
      ]
    },
    {
      "cell_type": "markdown",
      "id": "bd994b32-ca5f-4e00-81d3-89dbbf7b2093",
      "metadata": {
        "id": "bd994b32-ca5f-4e00-81d3-89dbbf7b2093",
        "jupyter": {
          "source_hidden": false
        }
      },
      "source": [
        "## Install / Setup"
      ]
    },
    {
      "cell_type": "markdown",
      "id": "71c38d27-5acb-4e5d-87c8-dbb2739cf277",
      "metadata": {
        "id": "71c38d27-5acb-4e5d-87c8-dbb2739cf277",
        "jupyter": {
          "source_hidden": false
        }
      },
      "source": [
        "<div class=\"alert alert-block alert-warning\">\n",
        "<b>Warning!</b><br>  \n",
        "\n",
        "**IF YOU ARE EXECUTING ON GOOGLE COLAB**:  \n",
        "\n",
        "You will need to restart your runtime (`Runtime` $\\rightarrow\\,$ `Restart runtime`)  \n",
        "_after_ executing the following cell:\n",
        "\n",
        "</div>"
      ]
    },
    {
      "cell_type": "code",
      "execution_count": null,
      "id": "31e60f3e",
      "metadata": {
        "colab": {
          "base_uri": "https://localhost:8080/"
        },
        "execution": {
          "iopub.execute_input": "2023-11-30T16:35:09.547786Z",
          "iopub.status.busy": "2023-11-30T16:35:09.547243Z",
          "iopub.status.idle": "2023-11-30T16:35:09.697821Z",
          "shell.execute_reply": "2023-11-30T16:35:09.697442Z",
          "shell.execute_reply.started": "2023-11-30T16:35:09.547769Z"
        },
        "id": "31e60f3e",
        "jupyter": {
          "outputs_hidden": false,
          "source_hidden": false
        },
        "outputId": "7998ec11-4e2b-4e7d-e569-4be2e643f698"
      },
      "outputs": [
        {
          "output_type": "stream",
          "name": "stdout",
          "text": [
            "Does not have wordplay installed. Installing...\n",
            "Using HF_DATASETS_CACHE=/content/wordplay/data/shakespeare_char/.cache/huggingface\n",
            "length of dataset in characters: 1,115,394\n",
            "all the unique characters: \n",
            " !$&',-.3:;?ABCDEFGHIJKLMNOPQRSTUVWXYZabcdefghijklmnopqrstuvwxyz\n",
            "vocab size: 65\n",
            "train has 1,003,854 tokens\n",
            "val has 111,540 tokens\n",
            "Collecting deepspeed\n",
            "  Downloading deepspeed-0.15.3.tar.gz (1.4 MB)\n",
            "     ━━━━━━━━━━━━━━━━━━━━━━━━━━━━━━━━━━━━━━━━ 1.4/1.4 MB 36.4 MB/s eta 0:00:00\n",
            "  Preparing metadata (setup.py): started\n",
            "  Preparing metadata (setup.py): finished with status 'done'\n",
            "Collecting hjson (from deepspeed)\n",
            "  Downloading hjson-3.1.0-py3-none-any.whl.metadata (2.6 kB)\n",
            "Requirement already satisfied: msgpack in /usr/local/lib/python3.10/dist-packages (from deepspeed) (1.1.0)\n",
            "Collecting ninja (from deepspeed)\n",
            "  Downloading ninja-1.11.1.1-py2.py3-none-manylinux1_x86_64.manylinux_2_5_x86_64.whl.metadata (5.3 kB)\n",
            "Requirement already satisfied: numpy in /usr/local/lib/python3.10/dist-packages (from deepspeed) (1.26.4)\n",
            "Requirement already satisfied: packaging>=20.0 in /usr/local/lib/python3.10/dist-packages (from deepspeed) (24.1)\n",
            "Requirement already satisfied: psutil in /usr/local/lib/python3.10/dist-packages (from deepspeed) (5.9.5)\n",
            "Requirement already satisfied: py-cpuinfo in /usr/local/lib/python3.10/dist-packages (from deepspeed) (9.0.0)\n",
            "Requirement already satisfied: pydantic>=2.0.0 in /usr/local/lib/python3.10/dist-packages (from deepspeed) (2.9.2)\n",
            "Requirement already satisfied: torch in /usr/local/lib/python3.10/dist-packages (from deepspeed) (2.5.0+cu121)\n",
            "Requirement already satisfied: tqdm in /usr/local/lib/python3.10/dist-packages (from deepspeed) (4.66.6)\n",
            "Collecting nvidia-ml-py (from deepspeed)\n",
            "  Downloading nvidia_ml_py-12.560.30-py3-none-any.whl.metadata (8.6 kB)\n",
            "Requirement already satisfied: annotated-types>=0.6.0 in /usr/local/lib/python3.10/dist-packages (from pydantic>=2.0.0->deepspeed) (0.7.0)\n",
            "Requirement already satisfied: pydantic-core==2.23.4 in /usr/local/lib/python3.10/dist-packages (from pydantic>=2.0.0->deepspeed) (2.23.4)\n",
            "Requirement already satisfied: typing-extensions>=4.6.1 in /usr/local/lib/python3.10/dist-packages (from pydantic>=2.0.0->deepspeed) (4.12.2)\n",
            "Requirement already satisfied: filelock in /usr/local/lib/python3.10/dist-packages (from torch->deepspeed) (3.16.1)\n",
            "Requirement already satisfied: networkx in /usr/local/lib/python3.10/dist-packages (from torch->deepspeed) (3.4.2)\n",
            "Requirement already satisfied: jinja2 in /usr/local/lib/python3.10/dist-packages (from torch->deepspeed) (3.1.4)\n",
            "Requirement already satisfied: fsspec in /usr/local/lib/python3.10/dist-packages (from torch->deepspeed) (2024.10.0)\n",
            "Requirement already satisfied: sympy==1.13.1 in /usr/local/lib/python3.10/dist-packages (from torch->deepspeed) (1.13.1)\n",
            "Requirement already satisfied: mpmath<1.4,>=1.1.0 in /usr/local/lib/python3.10/dist-packages (from sympy==1.13.1->torch->deepspeed) (1.3.0)\n",
            "Requirement already satisfied: MarkupSafe>=2.0 in /usr/local/lib/python3.10/dist-packages (from jinja2->torch->deepspeed) (3.0.2)\n",
            "Downloading hjson-3.1.0-py3-none-any.whl (54 kB)\n",
            "   ━━━━━━━━━━━━━━━━━━━━━━━━━━━━━━━━━━━━━━━━ 54.0/54.0 kB 4.3 MB/s eta 0:00:00\n",
            "Downloading ninja-1.11.1.1-py2.py3-none-manylinux1_x86_64.manylinux_2_5_x86_64.whl (307 kB)\n",
            "   ━━━━━━━━━━━━━━━━━━━━━━━━━━━━━━━━━━━━━━━━ 307.2/307.2 kB 21.6 MB/s eta 0:00:00\n",
            "Downloading nvidia_ml_py-12.560.30-py3-none-any.whl (40 kB)\n",
            "   ━━━━━━━━━━━━━━━━━━━━━━━━━━━━━━━━━━━━━━━━ 40.5/40.5 kB 2.7 MB/s eta 0:00:00\n",
            "Building wheels for collected packages: deepspeed\n",
            "  Building wheel for deepspeed (setup.py): started\n",
            "  Building wheel for deepspeed (setup.py): finished with status 'done'\n",
            "  Created wheel for deepspeed: filename=deepspeed-0.15.3-py3-none-any.whl size=1526202 sha256=0b5ec5cae6ef6fe44d935229e7985849b0504f725efe2f30d20db9d21d658b36\n",
            "  Stored in directory: /root/.cache/pip/wheels/b3/c2/9f/37a2c813b8d64d7908793319cfdfa4f852754e177f20f0b858\n",
            "Successfully built deepspeed\n",
            "Installing collected packages: nvidia-ml-py, ninja, hjson, deepspeed\n",
            "Successfully installed deepspeed-0.15.3 hjson-3.1.0 ninja-1.11.1.1 nvidia-ml-py-12.560.30\n",
            "Obtaining file:///content/wordplay\n",
            "  Installing build dependencies: started\n",
            "  Installing build dependencies: finished with status 'done'\n",
            "  Checking if build backend supports build_editable: started\n",
            "  Checking if build backend supports build_editable: finished with status 'done'\n",
            "  Getting requirements to build editable: started\n",
            "  Getting requirements to build editable: finished with status 'done'\n",
            "  Installing backend dependencies: started\n",
            "  Installing backend dependencies: finished with status 'done'\n",
            "  Preparing editable metadata (pyproject.toml): started\n",
            "  Preparing editable metadata (pyproject.toml): finished with status 'done'\n",
            "Collecting ambivalent@ git+https://github.com/saforem2/ambivalent (from wordplay==0.0.1)\n",
            "  Cloning https://github.com/saforem2/ambivalent to /tmp/pip-install-c3y4x3ev/ambivalent_646f89da5db74af59df7302ea4be26c1\n",
            "  Resolved https://github.com/saforem2/ambivalent to commit eac43ada80b6d4b2f71bf45cee9329993f622e87\n",
            "  Installing build dependencies: started\n",
            "  Installing build dependencies: finished with status 'done'\n",
            "  Getting requirements to build wheel: started\n",
            "  Getting requirements to build wheel: finished with status 'done'\n",
            "  Preparing metadata (pyproject.toml): started\n",
            "  Preparing metadata (pyproject.toml): finished with status 'done'\n",
            "Collecting ezpz@ git+https://github.com/saforem2/ezpz (from wordplay==0.0.1)\n",
            "  Cloning https://github.com/saforem2/ezpz to /tmp/pip-install-c3y4x3ev/ezpz_db9027ed18e94231a2c3079349cf9359\n",
            "  Resolved https://github.com/saforem2/ezpz to commit d5a08dfcecfb00010e731ceb46d18fb2fa4f874c\n",
            "  Installing build dependencies: started\n",
            "  Installing build dependencies: finished with status 'done'\n",
            "  Getting requirements to build wheel: started\n",
            "  Getting requirements to build wheel: finished with status 'done'\n",
            "  Preparing metadata (pyproject.toml): started\n",
            "  Preparing metadata (pyproject.toml): finished with status 'done'\n",
            "Collecting datasets (from wordplay==0.0.1)\n",
            "  Downloading datasets-3.1.0-py3-none-any.whl.metadata (20 kB)\n",
            "Collecting hydra-colorlog (from wordplay==0.0.1)\n",
            "  Downloading hydra_colorlog-1.2.0-py3-none-any.whl.metadata (949 bytes)\n",
            "Collecting hydra-core (from wordplay==0.0.1)\n",
            "  Downloading hydra_core-1.3.2-py3-none-any.whl.metadata (5.5 kB)\n",
            "Requirement already satisfied: joblib in /usr/local/lib/python3.10/dist-packages (from wordplay==0.0.1) (1.4.2)\n",
            "Collecting mpi4py (from wordplay==0.0.1)\n",
            "  Downloading mpi4py-4.0.1.tar.gz (466 kB)\n",
            "     ━━━━━━━━━━━━━━━━━━━━━━━━━━━━━━━━━━━━━━━━ 466.2/466.2 kB 29.2 MB/s eta 0:00:00\n",
            "  Installing build dependencies: started\n",
            "  Installing build dependencies: finished with status 'done'\n",
            "  Getting requirements to build wheel: started\n",
            "  Getting requirements to build wheel: finished with status 'done'\n",
            "  Installing backend dependencies: started\n",
            "  Installing backend dependencies: finished with status 'done'\n",
            "  Preparing metadata (pyproject.toml): started\n",
            "  Preparing metadata (pyproject.toml): finished with status 'done'\n",
            "Requirement already satisfied: rich in /usr/local/lib/python3.10/dist-packages (from wordplay==0.0.1) (13.9.3)\n",
            "Collecting tiktoken (from wordplay==0.0.1)\n",
            "  Downloading tiktoken-0.8.0-cp310-cp310-manylinux_2_17_x86_64.manylinux2014_x86_64.whl.metadata (6.6 kB)\n",
            "Requirement already satisfied: torch in /usr/local/lib/python3.10/dist-packages (from wordplay==0.0.1) (2.5.0+cu121)\n",
            "Requirement already satisfied: tqdm in /usr/local/lib/python3.10/dist-packages (from wordplay==0.0.1) (4.66.6)\n",
            "Requirement already satisfied: transformers in /usr/local/lib/python3.10/dist-packages (from wordplay==0.0.1) (4.44.2)\n",
            "Requirement already satisfied: wandb in /usr/local/lib/python3.10/dist-packages (from wordplay==0.0.1) (0.18.5)\n",
            "Collecting colormaps (from ambivalent@ git+https://github.com/saforem2/ambivalent->wordplay==0.0.1)\n",
            "  Downloading colormaps-0.4.2-py3-none-any.whl.metadata (4.8 kB)\n",
            "Requirement already satisfied: matplotlib in /usr/local/lib/python3.10/dist-packages (from ambivalent@ git+https://github.com/saforem2/ambivalent->wordplay==0.0.1) (3.8.0)\n",
            "Requirement already satisfied: requests in /usr/local/lib/python3.10/dist-packages (from ambivalent@ git+https://github.com/saforem2/ambivalent->wordplay==0.0.1) (2.32.3)\n",
            "Requirement already satisfied: seaborn in /usr/local/lib/python3.10/dist-packages (from ambivalent@ git+https://github.com/saforem2/ambivalent->wordplay==0.0.1) (0.13.2)\n",
            "Requirement already satisfied: filelock in /usr/local/lib/python3.10/dist-packages (from datasets->wordplay==0.0.1) (3.16.1)\n",
            "Requirement already satisfied: numpy>=1.17 in /usr/local/lib/python3.10/dist-packages (from datasets->wordplay==0.0.1) (1.26.4)\n",
            "Requirement already satisfied: pyarrow>=15.0.0 in /usr/local/lib/python3.10/dist-packages (from datasets->wordplay==0.0.1) (17.0.0)\n",
            "Collecting dill<0.3.9,>=0.3.0 (from datasets->wordplay==0.0.1)\n",
            "  Downloading dill-0.3.8-py3-none-any.whl.metadata (10 kB)\n",
            "Requirement already satisfied: pandas in /usr/local/lib/python3.10/dist-packages (from datasets->wordplay==0.0.1) (2.2.2)\n",
            "Collecting xxhash (from datasets->wordplay==0.0.1)\n",
            "  Downloading xxhash-3.5.0-cp310-cp310-manylinux_2_17_x86_64.manylinux2014_x86_64.whl.metadata (12 kB)\n",
            "Collecting multiprocess<0.70.17 (from datasets->wordplay==0.0.1)\n",
            "  Downloading multiprocess-0.70.16-py310-none-any.whl.metadata (7.2 kB)\n",
            "Collecting fsspec<=2024.9.0,>=2023.1.0 (from fsspec[http]<=2024.9.0,>=2023.1.0->datasets->wordplay==0.0.1)\n",
            "  Downloading fsspec-2024.9.0-py3-none-any.whl.metadata (11 kB)\n",
            "Requirement already satisfied: aiohttp in /usr/local/lib/python3.10/dist-packages (from datasets->wordplay==0.0.1) (3.10.10)\n",
            "Requirement already satisfied: huggingface-hub>=0.23.0 in /usr/local/lib/python3.10/dist-packages (from datasets->wordplay==0.0.1) (0.24.7)\n",
            "Requirement already satisfied: packaging in /usr/local/lib/python3.10/dist-packages (from datasets->wordplay==0.0.1) (24.1)\n",
            "Requirement already satisfied: pyyaml>=5.1 in /usr/local/lib/python3.10/dist-packages (from datasets->wordplay==0.0.1) (6.0.2)\n",
            "Requirement already satisfied: h5py in /usr/local/lib/python3.10/dist-packages (from ezpz@ git+https://github.com/saforem2/ezpz->wordplay==0.0.1) (3.12.1)\n",
            "Requirement already satisfied: ipython in /usr/local/lib/python3.10/dist-packages (from ezpz@ git+https://github.com/saforem2/ezpz->wordplay==0.0.1) (7.34.0)\n",
            "Requirement already satisfied: jax in /usr/local/lib/python3.10/dist-packages (from ezpz@ git+https://github.com/saforem2/ezpz->wordplay==0.0.1) (0.4.33)\n",
            "Requirement already satisfied: jaxlib in /usr/local/lib/python3.10/dist-packages (from ezpz@ git+https://github.com/saforem2/ezpz->wordplay==0.0.1) (0.4.33)\n",
            "Collecting jaxtyping (from ezpz@ git+https://github.com/saforem2/ezpz->wordplay==0.0.1)\n",
            "  Downloading jaxtyping-0.2.34-py3-none-any.whl.metadata (6.4 kB)\n",
            "Requirement already satisfied: ml-dtypes in /usr/local/lib/python3.10/dist-packages (from ezpz@ git+https://github.com/saforem2/ezpz->wordplay==0.0.1) (0.4.1)\n",
            "Collecting omegaconf (from ezpz@ git+https://github.com/saforem2/ezpz->wordplay==0.0.1)\n",
            "  Downloading omegaconf-2.3.0-py3-none-any.whl.metadata (3.9 kB)\n",
            "Collecting plotext (from ezpz@ git+https://github.com/saforem2/ezpz->wordplay==0.0.1)\n",
            "  Downloading plotext-5.3.2-py3-none-any.whl.metadata (5.5 kB)\n",
            "Collecting pyinstrument (from ezpz@ git+https://github.com/saforem2/ezpz->wordplay==0.0.1)\n",
            "  Downloading pyinstrument-5.0.0-cp310-cp310-manylinux_2_17_x86_64.manylinux2014_x86_64.whl.metadata (25 kB)\n",
            "Requirement already satisfied: sentencepiece in /usr/local/lib/python3.10/dist-packages (from ezpz@ git+https://github.com/saforem2/ezpz->wordplay==0.0.1) (0.2.0)\n",
            "Collecting sh (from ezpz@ git+https://github.com/saforem2/ezpz->wordplay==0.0.1)\n",
            "  Downloading sh-2.1.0-py3-none-any.whl.metadata (3.4 kB)\n",
            "Requirement already satisfied: tensorboard in /usr/local/lib/python3.10/dist-packages (from ezpz@ git+https://github.com/saforem2/ezpz->wordplay==0.0.1) (2.17.0)\n",
            "Requirement already satisfied: xarray in /usr/local/lib/python3.10/dist-packages (from ezpz@ git+https://github.com/saforem2/ezpz->wordplay==0.0.1) (2024.10.0)\n",
            "Collecting colorlog (from hydra-colorlog->wordplay==0.0.1)\n",
            "  Downloading colorlog-6.9.0-py3-none-any.whl.metadata (10 kB)\n",
            "Collecting antlr4-python3-runtime==4.9.* (from hydra-core->wordplay==0.0.1)\n",
            "  Downloading antlr4-python3-runtime-4.9.3.tar.gz (117 kB)\n",
            "     ━━━━━━━━━━━━━━━━━━━━━━━━━━━━━━━━━━━━━━━━ 117.0/117.0 kB 10.0 MB/s eta 0:00:00\n",
            "  Preparing metadata (setup.py): started\n",
            "  Preparing metadata (setup.py): finished with status 'done'\n",
            "Requirement already satisfied: markdown-it-py>=2.2.0 in /usr/local/lib/python3.10/dist-packages (from rich->wordplay==0.0.1) (3.0.0)\n",
            "Requirement already satisfied: pygments<3.0.0,>=2.13.0 in /usr/local/lib/python3.10/dist-packages (from rich->wordplay==0.0.1) (2.18.0)\n",
            "Requirement already satisfied: typing-extensions<5.0,>=4.0.0 in /usr/local/lib/python3.10/dist-packages (from rich->wordplay==0.0.1) (4.12.2)\n",
            "Requirement already satisfied: regex>=2022.1.18 in /usr/local/lib/python3.10/dist-packages (from tiktoken->wordplay==0.0.1) (2024.9.11)\n",
            "Requirement already satisfied: networkx in /usr/local/lib/python3.10/dist-packages (from torch->wordplay==0.0.1) (3.4.2)\n",
            "Requirement already satisfied: jinja2 in /usr/local/lib/python3.10/dist-packages (from torch->wordplay==0.0.1) (3.1.4)\n",
            "Requirement already satisfied: sympy==1.13.1 in /usr/local/lib/python3.10/dist-packages (from torch->wordplay==0.0.1) (1.13.1)\n",
            "Requirement already satisfied: mpmath<1.4,>=1.1.0 in /usr/local/lib/python3.10/dist-packages (from sympy==1.13.1->torch->wordplay==0.0.1) (1.3.0)\n",
            "Requirement already satisfied: safetensors>=0.4.1 in /usr/local/lib/python3.10/dist-packages (from transformers->wordplay==0.0.1) (0.4.5)\n",
            "Requirement already satisfied: tokenizers<0.20,>=0.19 in /usr/local/lib/python3.10/dist-packages (from transformers->wordplay==0.0.1) (0.19.1)\n",
            "Requirement already satisfied: click!=8.0.0,>=7.1 in /usr/local/lib/python3.10/dist-packages (from wandb->wordplay==0.0.1) (8.1.7)\n",
            "Requirement already satisfied: docker-pycreds>=0.4.0 in /usr/local/lib/python3.10/dist-packages (from wandb->wordplay==0.0.1) (0.4.0)\n",
            "Requirement already satisfied: gitpython!=3.1.29,>=1.0.0 in /usr/local/lib/python3.10/dist-packages (from wandb->wordplay==0.0.1) (3.1.43)\n",
            "Requirement already satisfied: platformdirs in /usr/local/lib/python3.10/dist-packages (from wandb->wordplay==0.0.1) (4.3.6)\n",
            "Requirement already satisfied: protobuf!=4.21.0,!=5.28.0,<6,>=3.19.0 in /usr/local/lib/python3.10/dist-packages (from wandb->wordplay==0.0.1) (3.20.3)\n",
            "Requirement already satisfied: psutil>=5.0.0 in /usr/local/lib/python3.10/dist-packages (from wandb->wordplay==0.0.1) (5.9.5)\n",
            "Requirement already satisfied: sentry-sdk>=2.0.0 in /usr/local/lib/python3.10/dist-packages (from wandb->wordplay==0.0.1) (2.17.0)\n",
            "Requirement already satisfied: setproctitle in /usr/local/lib/python3.10/dist-packages (from wandb->wordplay==0.0.1) (1.3.3)\n",
            "Requirement already satisfied: setuptools in /usr/local/lib/python3.10/dist-packages (from wandb->wordplay==0.0.1) (75.1.0)\n",
            "Requirement already satisfied: six>=1.4.0 in /usr/local/lib/python3.10/dist-packages (from docker-pycreds>=0.4.0->wandb->wordplay==0.0.1) (1.16.0)\n",
            "Requirement already satisfied: aiohappyeyeballs>=2.3.0 in /usr/local/lib/python3.10/dist-packages (from aiohttp->datasets->wordplay==0.0.1) (2.4.3)\n",
            "Requirement already satisfied: aiosignal>=1.1.2 in /usr/local/lib/python3.10/dist-packages (from aiohttp->datasets->wordplay==0.0.1) (1.3.1)\n",
            "Requirement already satisfied: attrs>=17.3.0 in /usr/local/lib/python3.10/dist-packages (from aiohttp->datasets->wordplay==0.0.1) (24.2.0)\n",
            "Requirement already satisfied: frozenlist>=1.1.1 in /usr/local/lib/python3.10/dist-packages (from aiohttp->datasets->wordplay==0.0.1) (1.5.0)\n",
            "Requirement already satisfied: multidict<7.0,>=4.5 in /usr/local/lib/python3.10/dist-packages (from aiohttp->datasets->wordplay==0.0.1) (6.1.0)\n",
            "Requirement already satisfied: yarl<2.0,>=1.12.0 in /usr/local/lib/python3.10/dist-packages (from aiohttp->datasets->wordplay==0.0.1) (1.17.0)\n",
            "Requirement already satisfied: async-timeout<5.0,>=4.0 in /usr/local/lib/python3.10/dist-packages (from aiohttp->datasets->wordplay==0.0.1) (4.0.3)\n",
            "Requirement already satisfied: gitdb<5,>=4.0.1 in /usr/local/lib/python3.10/dist-packages (from gitpython!=3.1.29,>=1.0.0->wandb->wordplay==0.0.1) (4.0.11)\n",
            "Requirement already satisfied: mdurl~=0.1 in /usr/local/lib/python3.10/dist-packages (from markdown-it-py>=2.2.0->rich->wordplay==0.0.1) (0.1.2)\n",
            "Requirement already satisfied: charset-normalizer<4,>=2 in /usr/local/lib/python3.10/dist-packages (from requests->ambivalent@ git+https://github.com/saforem2/ambivalent->wordplay==0.0.1) (3.4.0)\n",
            "Requirement already satisfied: idna<4,>=2.5 in /usr/local/lib/python3.10/dist-packages (from requests->ambivalent@ git+https://github.com/saforem2/ambivalent->wordplay==0.0.1) (3.10)\n",
            "Requirement already satisfied: urllib3<3,>=1.21.1 in /usr/local/lib/python3.10/dist-packages (from requests->ambivalent@ git+https://github.com/saforem2/ambivalent->wordplay==0.0.1) (2.2.3)\n",
            "Requirement already satisfied: certifi>=2017.4.17 in /usr/local/lib/python3.10/dist-packages (from requests->ambivalent@ git+https://github.com/saforem2/ambivalent->wordplay==0.0.1) (2024.8.30)\n",
            "Collecting jedi>=0.16 (from ipython->ezpz@ git+https://github.com/saforem2/ezpz->wordplay==0.0.1)\n",
            "  Downloading jedi-0.19.1-py2.py3-none-any.whl.metadata (22 kB)\n",
            "Requirement already satisfied: decorator in /usr/local/lib/python3.10/dist-packages (from ipython->ezpz@ git+https://github.com/saforem2/ezpz->wordplay==0.0.1) (4.4.2)\n",
            "Requirement already satisfied: pickleshare in /usr/local/lib/python3.10/dist-packages (from ipython->ezpz@ git+https://github.com/saforem2/ezpz->wordplay==0.0.1) (0.7.5)\n",
            "Requirement already satisfied: traitlets>=4.2 in /usr/local/lib/python3.10/dist-packages (from ipython->ezpz@ git+https://github.com/saforem2/ezpz->wordplay==0.0.1) (5.7.1)\n",
            "Requirement already satisfied: prompt-toolkit!=3.0.0,!=3.0.1,<3.1.0,>=2.0.0 in /usr/local/lib/python3.10/dist-packages (from ipython->ezpz@ git+https://github.com/saforem2/ezpz->wordplay==0.0.1) (3.0.48)\n",
            "Requirement already satisfied: backcall in /usr/local/lib/python3.10/dist-packages (from ipython->ezpz@ git+https://github.com/saforem2/ezpz->wordplay==0.0.1) (0.2.0)\n",
            "Requirement already satisfied: matplotlib-inline in /usr/local/lib/python3.10/dist-packages (from ipython->ezpz@ git+https://github.com/saforem2/ezpz->wordplay==0.0.1) (0.1.7)\n",
            "Requirement already satisfied: pexpect>4.3 in /usr/local/lib/python3.10/dist-packages (from ipython->ezpz@ git+https://github.com/saforem2/ezpz->wordplay==0.0.1) (4.9.0)\n",
            "Requirement already satisfied: opt-einsum in /usr/local/lib/python3.10/dist-packages (from jax->ezpz@ git+https://github.com/saforem2/ezpz->wordplay==0.0.1) (3.4.0)\n",
            "Requirement already satisfied: scipy>=1.10 in /usr/local/lib/python3.10/dist-packages (from jax->ezpz@ git+https://github.com/saforem2/ezpz->wordplay==0.0.1) (1.13.1)\n",
            "Collecting typeguard==2.13.3 (from jaxtyping->ezpz@ git+https://github.com/saforem2/ezpz->wordplay==0.0.1)\n",
            "  Downloading typeguard-2.13.3-py3-none-any.whl.metadata (3.6 kB)\n",
            "Requirement already satisfied: MarkupSafe>=2.0 in /usr/local/lib/python3.10/dist-packages (from jinja2->torch->wordplay==0.0.1) (3.0.2)\n",
            "Requirement already satisfied: contourpy>=1.0.1 in /usr/local/lib/python3.10/dist-packages (from matplotlib->ambivalent@ git+https://github.com/saforem2/ambivalent->wordplay==0.0.1) (1.3.0)\n",
            "Requirement already satisfied: cycler>=0.10 in /usr/local/lib/python3.10/dist-packages (from matplotlib->ambivalent@ git+https://github.com/saforem2/ambivalent->wordplay==0.0.1) (0.12.1)\n",
            "Requirement already satisfied: fonttools>=4.22.0 in /usr/local/lib/python3.10/dist-packages (from matplotlib->ambivalent@ git+https://github.com/saforem2/ambivalent->wordplay==0.0.1) (4.54.1)\n",
            "Requirement already satisfied: kiwisolver>=1.0.1 in /usr/local/lib/python3.10/dist-packages (from matplotlib->ambivalent@ git+https://github.com/saforem2/ambivalent->wordplay==0.0.1) (1.4.7)\n",
            "Requirement already satisfied: pillow>=6.2.0 in /usr/local/lib/python3.10/dist-packages (from matplotlib->ambivalent@ git+https://github.com/saforem2/ambivalent->wordplay==0.0.1) (10.4.0)\n",
            "Requirement already satisfied: pyparsing>=2.3.1 in /usr/local/lib/python3.10/dist-packages (from matplotlib->ambivalent@ git+https://github.com/saforem2/ambivalent->wordplay==0.0.1) (3.2.0)\n",
            "Requirement already satisfied: python-dateutil>=2.7 in /usr/local/lib/python3.10/dist-packages (from matplotlib->ambivalent@ git+https://github.com/saforem2/ambivalent->wordplay==0.0.1) (2.8.2)\n",
            "Requirement already satisfied: pytz>=2020.1 in /usr/local/lib/python3.10/dist-packages (from pandas->datasets->wordplay==0.0.1) (2024.2)\n",
            "Requirement already satisfied: tzdata>=2022.7 in /usr/local/lib/python3.10/dist-packages (from pandas->datasets->wordplay==0.0.1) (2024.2)\n",
            "Requirement already satisfied: absl-py>=0.4 in /usr/local/lib/python3.10/dist-packages (from tensorboard->ezpz@ git+https://github.com/saforem2/ezpz->wordplay==0.0.1) (1.4.0)\n",
            "Requirement already satisfied: grpcio>=1.48.2 in /usr/local/lib/python3.10/dist-packages (from tensorboard->ezpz@ git+https://github.com/saforem2/ezpz->wordplay==0.0.1) (1.64.1)\n",
            "Requirement already satisfied: markdown>=2.6.8 in /usr/local/lib/python3.10/dist-packages (from tensorboard->ezpz@ git+https://github.com/saforem2/ezpz->wordplay==0.0.1) (3.7)\n",
            "Requirement already satisfied: tensorboard-data-server<0.8.0,>=0.7.0 in /usr/local/lib/python3.10/dist-packages (from tensorboard->ezpz@ git+https://github.com/saforem2/ezpz->wordplay==0.0.1) (0.7.2)\n",
            "Requirement already satisfied: werkzeug>=1.0.1 in /usr/local/lib/python3.10/dist-packages (from tensorboard->ezpz@ git+https://github.com/saforem2/ezpz->wordplay==0.0.1) (3.0.6)\n",
            "Requirement already satisfied: smmap<6,>=3.0.1 in /usr/local/lib/python3.10/dist-packages (from gitdb<5,>=4.0.1->gitpython!=3.1.29,>=1.0.0->wandb->wordplay==0.0.1) (5.0.1)\n",
            "Requirement already satisfied: parso<0.9.0,>=0.8.3 in /usr/local/lib/python3.10/dist-packages (from jedi>=0.16->ipython->ezpz@ git+https://github.com/saforem2/ezpz->wordplay==0.0.1) (0.8.4)\n",
            "Requirement already satisfied: ptyprocess>=0.5 in /usr/local/lib/python3.10/dist-packages (from pexpect>4.3->ipython->ezpz@ git+https://github.com/saforem2/ezpz->wordplay==0.0.1) (0.7.0)\n",
            "Requirement already satisfied: wcwidth in /usr/local/lib/python3.10/dist-packages (from prompt-toolkit!=3.0.0,!=3.0.1,<3.1.0,>=2.0.0->ipython->ezpz@ git+https://github.com/saforem2/ezpz->wordplay==0.0.1) (0.2.13)\n",
            "Requirement already satisfied: propcache>=0.2.0 in /usr/local/lib/python3.10/dist-packages (from yarl<2.0,>=1.12.0->aiohttp->datasets->wordplay==0.0.1) (0.2.0)\n",
            "Downloading datasets-3.1.0-py3-none-any.whl (480 kB)\n",
            "   ━━━━━━━━━━━━━━━━━━━━━━━━━━━━━━━━━━━━━━━━ 480.6/480.6 kB 32.5 MB/s eta 0:00:00\n",
            "Downloading hydra_colorlog-1.2.0-py3-none-any.whl (3.6 kB)\n",
            "Downloading hydra_core-1.3.2-py3-none-any.whl (154 kB)\n",
            "   ━━━━━━━━━━━━━━━━━━━━━━━━━━━━━━━━━━━━━━━━ 154.5/154.5 kB 14.1 MB/s eta 0:00:00\n",
            "Downloading tiktoken-0.8.0-cp310-cp310-manylinux_2_17_x86_64.manylinux2014_x86_64.whl (1.2 MB)\n",
            "   ━━━━━━━━━━━━━━━━━━━━━━━━━━━━━━━━━━━━━━━━ 1.2/1.2 MB 43.1 MB/s eta 0:00:00\n",
            "Downloading dill-0.3.8-py3-none-any.whl (116 kB)\n",
            "   ━━━━━━━━━━━━━━━━━━━━━━━━━━━━━━━━━━━━━━━━ 116.3/116.3 kB 9.0 MB/s eta 0:00:00\n",
            "Downloading fsspec-2024.9.0-py3-none-any.whl (179 kB)\n",
            "   ━━━━━━━━━━━━━━━━━━━━━━━━━━━━━━━━━━━━━━━━ 179.3/179.3 kB 15.6 MB/s eta 0:00:00\n",
            "Downloading multiprocess-0.70.16-py310-none-any.whl (134 kB)\n",
            "   ━━━━━━━━━━━━━━━━━━━━━━━━━━━━━━━━━━━━━━━━ 134.8/134.8 kB 10.4 MB/s eta 0:00:00\n",
            "Downloading omegaconf-2.3.0-py3-none-any.whl (79 kB)\n",
            "   ━━━━━━━━━━━━━━━━━━━━━━━━━━━━━━━━━━━━━━━━ 79.5/79.5 kB 6.5 MB/s eta 0:00:00\n",
            "Downloading colorlog-6.9.0-py3-none-any.whl (11 kB)\n",
            "Downloading colormaps-0.4.2-py3-none-any.whl (727 kB)\n",
            "   ━━━━━━━━━━━━━━━━━━━━━━━━━━━━━━━━━━━━━━━━ 727.9/727.9 kB 42.5 MB/s eta 0:00:00\n",
            "Downloading jaxtyping-0.2.34-py3-none-any.whl (42 kB)\n",
            "   ━━━━━━━━━━━━━━━━━━━━━━━━━━━━━━━━━━━━━━━━ 42.4/42.4 kB 3.4 MB/s eta 0:00:00\n",
            "Downloading typeguard-2.13.3-py3-none-any.whl (17 kB)\n",
            "Downloading plotext-5.3.2-py3-none-any.whl (64 kB)\n",
            "   ━━━━━━━━━━━━━━━━━━━━━━━━━━━━━━━━━━━━━━━━ 64.0/64.0 kB 6.0 MB/s eta 0:00:00\n",
            "Downloading pyinstrument-5.0.0-cp310-cp310-manylinux_2_17_x86_64.manylinux2014_x86_64.whl (144 kB)\n",
            "   ━━━━━━━━━━━━━━━━━━━━━━━━━━━━━━━━━━━━━━━━ 144.4/144.4 kB 13.8 MB/s eta 0:00:00\n",
            "Downloading sh-2.1.0-py3-none-any.whl (38 kB)\n",
            "Downloading xxhash-3.5.0-cp310-cp310-manylinux_2_17_x86_64.manylinux2014_x86_64.whl (194 kB)\n",
            "   ━━━━━━━━━━━━━━━━━━━━━━━━━━━━━━━━━━━━━━━━ 194.1/194.1 kB 16.6 MB/s eta 0:00:00\n",
            "Downloading jedi-0.19.1-py2.py3-none-any.whl (1.6 MB)\n",
            "   ━━━━━━━━━━━━━━━━━━━━━━━━━━━━━━━━━━━━━━━━ 1.6/1.6 MB 61.3 MB/s eta 0:00:00\n",
            "Building wheels for collected packages: wordplay, ambivalent, ezpz, antlr4-python3-runtime, mpi4py\n",
            "  Building editable for wordplay (pyproject.toml): started\n",
            "  Building editable for wordplay (pyproject.toml): finished with status 'done'\n",
            "  Created wheel for wordplay: filename=wordplay-0.0.1-py3-none-any.whl size=4996 sha256=ad7b25b4558fc58b46c60cfb36fc1b4434a711e30e012fd205d75e9c62d67c58\n",
            "  Stored in directory: /tmp/pip-ephem-wheel-cache-j27_ouan/wheels/d6/ab/19/dc7e8da91634e1c9323d0b675605e849dd8f5a3dd0912ecb38\n",
            "  Building wheel for ambivalent (pyproject.toml): started\n",
            "  Building wheel for ambivalent (pyproject.toml): finished with status 'done'\n",
            "  Created wheel for ambivalent: filename=ambivalent-0.2.0-py3-none-any.whl size=13235 sha256=95f54d233ed0f5591b85896eafdecf7069a67db3116c5c93a40a693b33aad6f9\n",
            "  Stored in directory: /tmp/pip-ephem-wheel-cache-j27_ouan/wheels/7b/e6/96/887dca4e5d3c307c41d4cf84d23f97791a334efab8f1163d30\n",
            "  Building wheel for ezpz (pyproject.toml): started\n",
            "  Building wheel for ezpz (pyproject.toml): finished with status 'done'\n",
            "  Created wheel for ezpz: filename=ezpz-0.2-py3-none-any.whl size=115825 sha256=9e1956f5dd677e14de9cd9ce60adcb440e0643d5d530eb0c51a80579077e8ff2\n",
            "  Stored in directory: /tmp/pip-ephem-wheel-cache-j27_ouan/wheels/eb/89/66/9ab50e62a2bd66fcc997952b73eb94cdb41a99455b21f42909\n",
            "  Building wheel for antlr4-python3-runtime (setup.py): started\n",
            "  Building wheel for antlr4-python3-runtime (setup.py): finished with status 'done'\n",
            "  Created wheel for antlr4-python3-runtime: filename=antlr4_python3_runtime-4.9.3-py3-none-any.whl size=144555 sha256=e442f10313d47a6c9a128511d37c9b59ca42a2b0e632d110ce08b28a00c91bc9\n",
            "  Stored in directory: /root/.cache/pip/wheels/12/93/dd/1f6a127edc45659556564c5730f6d4e300888f4bca2d4c5a88\n",
            "  Building wheel for mpi4py (pyproject.toml): started\n",
            "  Building wheel for mpi4py (pyproject.toml): finished with status 'done'\n",
            "  Created wheel for mpi4py: filename=mpi4py-4.0.1-cp310-cp310-linux_x86_64.whl size=4266354 sha256=a1a75f67b767edd280f7ae83a943c309d0355f4539cfc78774086cc976547c9e\n",
            "  Stored in directory: /root/.cache/pip/wheels/3c/ca/13/13218a83854023ccec184e3af482f0f038b434aa32c19afee8\n",
            "Successfully built wordplay ambivalent ezpz antlr4-python3-runtime mpi4py\n",
            "Installing collected packages: antlr4-python3-runtime, xxhash, typeguard, sh, pyinstrument, plotext, omegaconf, mpi4py, jedi, fsspec, dill, colormaps, colorlog, tiktoken, multiprocess, jaxtyping, hydra-core, hydra-colorlog, ambivalent, ezpz, datasets, wordplay\n",
            "  Attempting uninstall: typeguard\n",
            "    Found existing installation: typeguard 4.4.0\n",
            "    Uninstalling typeguard-4.4.0:\n",
            "      Successfully uninstalled typeguard-4.4.0\n",
            "  Attempting uninstall: fsspec\n",
            "    Found existing installation: fsspec 2024.10.0\n",
            "    Uninstalling fsspec-2024.10.0:\n",
            "      Successfully uninstalled fsspec-2024.10.0\n",
            "Successfully installed ambivalent-0.2.0 antlr4-python3-runtime-4.9.3 colorlog-6.9.0 colormaps-0.4.2 datasets-3.1.0 dill-0.3.8 ezpz-0.2 fsspec-2024.9.0 hydra-colorlog-1.2.0 hydra-core-1.3.2 jaxtyping-0.2.34 jedi-0.19.1 mpi4py-4.0.1 multiprocess-0.70.16 omegaconf-2.3.0 plotext-5.3.2 pyinstrument-5.0.0 sh-2.1.0 tiktoken-0.8.0 typeguard-2.13.3 wordplay-0.0.1 xxhash-3.5.0\n"
          ]
        },
        {
          "output_type": "stream",
          "name": "stderr",
          "text": [
            "Cloning into 'wordplay'...\n",
            "ERROR: Could not open requirements file: [Errno 2] No such file or directory: 'wordplay/requirements.txt'\n",
            "Traceback (most recent call last):\n",
            "  File \"/content/wordplay/data/shakespeare/prepare.py\", line 7, in <module>\n",
            "    import tiktoken\n",
            "ModuleNotFoundError: No module named 'tiktoken'\n",
            "  Running command git clone --filter=blob:none --quiet https://github.com/saforem2/ambivalent /tmp/pip-install-c3y4x3ev/ambivalent_646f89da5db74af59df7302ea4be26c1\n",
            "  Running command git clone --filter=blob:none --quiet https://github.com/saforem2/ezpz /tmp/pip-install-c3y4x3ev/ezpz_db9027ed18e94231a2c3079349cf9359\n",
            "ERROR: pip's dependency resolver does not currently take into account all the packages that are installed. This behaviour is the source of the following dependency conflicts.\n",
            "gcsfs 2024.10.0 requires fsspec==2024.10.0, but you have fsspec 2024.9.0 which is incompatible.\n",
            "inflect 7.4.0 requires typeguard>=4.0.1, but you have typeguard 2.13.3 which is incompatible.\n"
          ]
        }
      ],
      "source": [
        "%%bash\n",
        "\n",
        "python3 -c 'import wordplay; print(wordplay.__file__)' 2> '/dev/null'\n",
        "\n",
        "if [[ $? -eq 0 ]]; then\n",
        "    echo \"Has wordplay installed. Nothing to do.\"\n",
        "else\n",
        "    echo \"Does not have wordplay installed. Installing...\"\n",
        "\n",
        "    git clone 'https://github.com/saforem2/wordplay'\n",
        "    python3 -m pip install -r wordplay/requirements.txt\n",
        "    python3 wordplay/data/shakespeare_char/prepare.py\n",
        "    python3 wordplay/data/shakespeare/prepare.py\n",
        "    python3 -m pip install deepspeed\n",
        "    python3 -m pip install -e wordplay\n",
        "fi"
      ]
    },
    {
      "cell_type": "markdown",
      "id": "c14a8da7-72fe-4839-a14d-f01606285fc3",
      "metadata": {
        "id": "c14a8da7-72fe-4839-a14d-f01606285fc3",
        "jupyter": {
          "source_hidden": false
        }
      },
      "source": [
        "## Post Install\n",
        "\n",
        "If installed correctly, you should be able to:\n",
        "\n",
        "```python\n",
        ">>> import wordplay\n",
        ">>> wordplay.__file__\n",
        "'/path/to/wordplay/src/wordplay/__init__.py'\n",
        "```"
      ]
    },
    {
      "cell_type": "code",
      "execution_count": null,
      "id": "9fbf22d1-34ba-48ae-a78e-fc447fc9a0de",
      "metadata": {
        "colab": {
          "base_uri": "https://localhost:8080/",
          "height": 33
        },
        "execution": {
          "iopub.execute_input": "2023-11-30T16:35:09.818095Z",
          "iopub.status.busy": "2023-11-30T16:35:09.817884Z",
          "iopub.status.idle": "2023-11-30T16:35:10.193029Z",
          "shell.execute_reply": "2023-11-30T16:35:10.192647Z",
          "shell.execute_reply.started": "2023-11-30T16:35:09.818079Z"
        },
        "id": "9fbf22d1-34ba-48ae-a78e-fc447fc9a0de",
        "jupyter": {
          "outputs_hidden": false,
          "source_hidden": false
        },
        "outputId": "76d22aad-20ce-4a10-cf4f-37352283209a"
      },
      "outputs": [
        {
          "output_type": "display_data",
          "data": {
            "text/plain": [
              "\u001b[30m[\u001b[0m\u001b[30m2024-11-08 \u001b[0m\u001b[90m05:17:49.669766\u001b[0m\u001b[30m]\u001b[0m\u001b[30m[\u001b[0m\u001b[1;32mINFO\u001b[0m\u001b[30m]\u001b[0m\u001b[30m[\u001b[0m\u001b[3;34m<ipython-input-1-11aa8b4c39fe>\u001b[0m\u001b[94m:\u001b[0m\u001b[30m14\u001b[0m\u001b[30m]\u001b[0m\u001b[38;2;131;131;131m - \u001b[0m\u001b[32m/content/wordplay/src/wordplay/\u001b[0m\u001b[35m__init__.py\u001b[0m\n"
            ],
            "text/html": [
              "<pre style=\"white-space:pre;overflow-x:auto;line-height:normal;font-family:Menlo,'DejaVu Sans Mono',consolas,'Courier New',monospace\"><span style=\"color: #000000; text-decoration-color: #000000\">[</span><span style=\"color: #000000; text-decoration-color: #000000\">2024-11-08 </span><span style=\"color: #808080; text-decoration-color: #808080\">05:17:49.669766</span><span style=\"color: #000000; text-decoration-color: #000000\">][</span><span style=\"color: #008000; text-decoration-color: #008000; font-weight: bold\">INFO</span><span style=\"color: #000000; text-decoration-color: #000000\">][</span><span style=\"color: #000080; text-decoration-color: #000080; font-style: italic\">&lt;ipython-input-1-11aa8b4c39fe&gt;</span><span style=\"color: #0000ff; text-decoration-color: #0000ff\">:</span><span style=\"color: #000000; text-decoration-color: #000000\">14</span><span style=\"color: #000000; text-decoration-color: #000000\">]</span><span style=\"color: #838383; text-decoration-color: #838383\"> - </span><span style=\"color: #008000; text-decoration-color: #008000\">/content/wordplay/src/wordplay/</span><span style=\"color: #800080; text-decoration-color: #800080\">__init__.py</span>\n",
              "</pre>\n"
            ]
          },
          "metadata": {}
        }
      ],
      "source": [
        "%load_ext autoreload\n",
        "%autoreload 2\n",
        "import os\n",
        "\n",
        "os.environ['COLORTERM'] = 'truecolor'\n",
        "# If running on MacOS:\n",
        "# os.environ['PYTORCH_ENABLE_MPS_FALLBACK'] = '1'\n",
        "# -----------------------------------------------\n",
        "\n",
        "from ezpz import get_logger\n",
        "log = get_logger(level='INFO')\n",
        "\n",
        "import wordplay\n",
        "log.info(wordplay.__file__)"
      ]
    },
    {
      "cell_type": "markdown",
      "id": "e329ed94-582e-4aa8-bbe0-ba56782fe9e9",
      "metadata": {
        "id": "e329ed94-582e-4aa8-bbe0-ba56782fe9e9",
        "jupyter": {
          "source_hidden": false
        }
      },
      "source": [
        "## Build Trainer\n",
        "\n",
        "Explicitly, we:\n",
        "\n",
        "1. `setup_torch(...)`\n",
        "2. Build `cfg: DictConfig = get_config(...)`\n",
        "3. Instnatiate `config: ExperimentConfig = instantiate(cfg)`\n",
        "4. Build `trainer = Trainer(config)`"
      ]
    },
    {
      "cell_type": "code",
      "execution_count": null,
      "id": "f827bd82",
      "metadata": {
        "colab": {
          "base_uri": "https://localhost:8080/",
          "height": 529
        },
        "id": "f827bd82",
        "jupyter": {
          "outputs_hidden": false,
          "source_hidden": false
        },
        "outputId": "10036f53-2c3c-41e4-810a-5546a369b0e0"
      },
      "outputs": [
        {
          "output_type": "display_data",
          "data": {
            "text/plain": [
              "\u001b[30m[\u001b[0m\u001b[30m2024-11-08 \u001b[0m\u001b[90m05:18:15.525307\u001b[0m\u001b[30m]\u001b[0m\u001b[30m[\u001b[0m\u001b[1;32mINFO\u001b[0m\u001b[30m]\u001b[0m\u001b[30m[\u001b[0m\u001b[3;34mconfigs.py\u001b[0m\u001b[94m:\u001b[0m\u001b[30m81\u001b[0m\u001b[30m]\u001b[0m\u001b[38;2;131;131;131m - \u001b[0mSetting HF_DATASETS_CACHE to \u001b[32m/content/wordplay/.cache/huggingface/\u001b[0m\u001b[35mdatasets\u001b[0m\n"
            ],
            "text/html": [
              "<pre style=\"white-space:pre;overflow-x:auto;line-height:normal;font-family:Menlo,'DejaVu Sans Mono',consolas,'Courier New',monospace\"><span style=\"color: #000000; text-decoration-color: #000000\">[</span><span style=\"color: #000000; text-decoration-color: #000000\">2024-11-08 </span><span style=\"color: #808080; text-decoration-color: #808080\">05:18:15.525307</span><span style=\"color: #000000; text-decoration-color: #000000\">][</span><span style=\"color: #008000; text-decoration-color: #008000; font-weight: bold\">INFO</span><span style=\"color: #000000; text-decoration-color: #000000\">][</span><span style=\"color: #000080; text-decoration-color: #000080; font-style: italic\">configs.py</span><span style=\"color: #0000ff; text-decoration-color: #0000ff\">:</span><span style=\"color: #000000; text-decoration-color: #000000\">81</span><span style=\"color: #000000; text-decoration-color: #000000\">]</span><span style=\"color: #838383; text-decoration-color: #838383\"> - </span>Setting HF_DATASETS_CACHE to <span style=\"color: #008000; text-decoration-color: #008000\">/content/wordplay/.cache/huggingface/</span><span style=\"color: #800080; text-decoration-color: #800080\">datasets</span>\n",
              "</pre>\n"
            ]
          },
          "metadata": {}
        },
        {
          "output_type": "display_data",
          "data": {
            "text/plain": [
              "\u001b[30m[\u001b[0m\u001b[30m2024-11-08 \u001b[0m\u001b[90m05:18:15.578427\u001b[0m\u001b[30m]\u001b[0m\u001b[30m[\u001b[0m\u001b[1;32mINFO\u001b[0m\u001b[30m]\u001b[0m\u001b[30m[\u001b[0m\u001b[3;34mdist.py\u001b[0m\u001b[94m:\u001b[0m\u001b[30m92\u001b[0m\u001b[30m]\u001b[0m\u001b[38;2;131;131;131m - \u001b[0m\n",
              "\n",
              "\u001b[97m[\u001b[0mdist_info\u001b[97m]\u001b[0m:\n",
              "  • \u001b[3;94mDEVICE\u001b[0m=\u001b[95mcuda\u001b[0m\n",
              "  • \u001b[3;94mDEVICE_ID\u001b[0m=\u001b[95mcu\u001b[0m\u001b[1;92mda\u001b[0m\u001b[1;92m:0\u001b[0m\n",
              "  • \u001b[3;94mDISTRIBUTED_BACKEND\u001b[0m=\u001b[95mnccl\u001b[0m\n",
              "  • \u001b[3;94mGPUS_PER_NODE\u001b[0m=\u001b[95m1\u001b[0m\n",
              "  • \u001b[3;94mHOSTS\u001b[0m=\u001b[97m[\u001b[0m\u001b[3;92m'3c4ace3e92a6'\u001b[0m\u001b[97m]\u001b[0m\n",
              "  • \u001b[3;94mHOSTFILE\u001b[0m=\u001b[32m/content/\u001b[0m\u001b[35mhostfile\u001b[0m\n",
              "  • \u001b[3;94mHOSTNAME\u001b[0m=\u001b[95m3c4ace3e92a6\u001b[0m\n",
              "  • \u001b[3;94mLOCAL_RANK\u001b[0m=\u001b[95m0\u001b[0m\n",
              "  • \u001b[3;94mMACHINE\u001b[0m=\u001b[95m3c4ace3e92a6\u001b[0m\n",
              "  • \u001b[3;94mNUM_NODES\u001b[0m=\u001b[95m1\u001b[0m\n",
              "  • \u001b[3;94mNGPUS\u001b[0m=\u001b[95m1\u001b[0m\n",
              "  • \u001b[3;94mNGPUS_AVAILABLE\u001b[0m=\u001b[95m1\u001b[0m\n",
              "  • \u001b[3;94mNODE_ID\u001b[0m=\u001b[95m0\u001b[0m\n",
              "  • \u001b[3;94mRANK\u001b[0m=\u001b[95m0\u001b[0m\n",
              "  • \u001b[3;94mSCHEDULER\u001b[0m=\u001b[95mLOCAL\u001b[0m\n",
              "  • \u001b[3;94mWORLD_SIZE_TOTAL\u001b[0m=\u001b[95m1\u001b[0m\n",
              "  • \u001b[3;94mWORLD_SIZE_IN_USE\u001b[0m=\u001b[95m1\u001b[0m\n",
              "  • \u001b[3;94mLAUNCH_CMD\u001b[0m=\u001b[3;95mNone\u001b[0m\n",
              "\n",
              "\n"
            ],
            "text/html": [
              "<pre style=\"white-space:pre;overflow-x:auto;line-height:normal;font-family:Menlo,'DejaVu Sans Mono',consolas,'Courier New',monospace\"><span style=\"color: #000000; text-decoration-color: #000000\">[</span><span style=\"color: #000000; text-decoration-color: #000000\">2024-11-08 </span><span style=\"color: #808080; text-decoration-color: #808080\">05:18:15.578427</span><span style=\"color: #000000; text-decoration-color: #000000\">][</span><span style=\"color: #008000; text-decoration-color: #008000; font-weight: bold\">INFO</span><span style=\"color: #000000; text-decoration-color: #000000\">][</span><span style=\"color: #000080; text-decoration-color: #000080; font-style: italic\">dist.py</span><span style=\"color: #0000ff; text-decoration-color: #0000ff\">:</span><span style=\"color: #000000; text-decoration-color: #000000\">92</span><span style=\"color: #000000; text-decoration-color: #000000\">]</span><span style=\"color: #838383; text-decoration-color: #838383\"> - </span>\n",
              "\n",
              "<span style=\"color: #ffffff; text-decoration-color: #ffffff\">[</span>dist_info<span style=\"color: #ffffff; text-decoration-color: #ffffff\">]</span>:\n",
              "  • <span style=\"color: #0000ff; text-decoration-color: #0000ff; font-style: italic\">DEVICE</span>=<span style=\"color: #ff00ff; text-decoration-color: #ff00ff\">cuda</span>\n",
              "  • <span style=\"color: #0000ff; text-decoration-color: #0000ff; font-style: italic\">DEVICE_ID</span>=<span style=\"color: #ff00ff; text-decoration-color: #ff00ff\">cu</span><span style=\"color: #00ff00; text-decoration-color: #00ff00; font-weight: bold\">da</span><span style=\"color: #00ff00; text-decoration-color: #00ff00; font-weight: bold\">:0</span>\n",
              "  • <span style=\"color: #0000ff; text-decoration-color: #0000ff; font-style: italic\">DISTRIBUTED_BACKEND</span>=<span style=\"color: #ff00ff; text-decoration-color: #ff00ff\">nccl</span>\n",
              "  • <span style=\"color: #0000ff; text-decoration-color: #0000ff; font-style: italic\">GPUS_PER_NODE</span>=<span style=\"color: #ff00ff; text-decoration-color: #ff00ff\">1</span>\n",
              "  • <span style=\"color: #0000ff; text-decoration-color: #0000ff; font-style: italic\">HOSTS</span>=<span style=\"color: #ffffff; text-decoration-color: #ffffff\">[</span><span style=\"color: #00ff00; text-decoration-color: #00ff00; font-style: italic\">'3c4ace3e92a6'</span><span style=\"color: #ffffff; text-decoration-color: #ffffff\">]</span>\n",
              "  • <span style=\"color: #0000ff; text-decoration-color: #0000ff; font-style: italic\">HOSTFILE</span>=<span style=\"color: #008000; text-decoration-color: #008000\">/content/</span><span style=\"color: #800080; text-decoration-color: #800080\">hostfile</span>\n",
              "  • <span style=\"color: #0000ff; text-decoration-color: #0000ff; font-style: italic\">HOSTNAME</span>=<span style=\"color: #ff00ff; text-decoration-color: #ff00ff\">3c4ace3e92a6</span>\n",
              "  • <span style=\"color: #0000ff; text-decoration-color: #0000ff; font-style: italic\">LOCAL_RANK</span>=<span style=\"color: #ff00ff; text-decoration-color: #ff00ff\">0</span>\n",
              "  • <span style=\"color: #0000ff; text-decoration-color: #0000ff; font-style: italic\">MACHINE</span>=<span style=\"color: #ff00ff; text-decoration-color: #ff00ff\">3c4ace3e92a6</span>\n",
              "  • <span style=\"color: #0000ff; text-decoration-color: #0000ff; font-style: italic\">NUM_NODES</span>=<span style=\"color: #ff00ff; text-decoration-color: #ff00ff\">1</span>\n",
              "  • <span style=\"color: #0000ff; text-decoration-color: #0000ff; font-style: italic\">NGPUS</span>=<span style=\"color: #ff00ff; text-decoration-color: #ff00ff\">1</span>\n",
              "  • <span style=\"color: #0000ff; text-decoration-color: #0000ff; font-style: italic\">NGPUS_AVAILABLE</span>=<span style=\"color: #ff00ff; text-decoration-color: #ff00ff\">1</span>\n",
              "  • <span style=\"color: #0000ff; text-decoration-color: #0000ff; font-style: italic\">NODE_ID</span>=<span style=\"color: #ff00ff; text-decoration-color: #ff00ff\">0</span>\n",
              "  • <span style=\"color: #0000ff; text-decoration-color: #0000ff; font-style: italic\">RANK</span>=<span style=\"color: #ff00ff; text-decoration-color: #ff00ff\">0</span>\n",
              "  • <span style=\"color: #0000ff; text-decoration-color: #0000ff; font-style: italic\">SCHEDULER</span>=<span style=\"color: #ff00ff; text-decoration-color: #ff00ff\">LOCAL</span>\n",
              "  • <span style=\"color: #0000ff; text-decoration-color: #0000ff; font-style: italic\">WORLD_SIZE_TOTAL</span>=<span style=\"color: #ff00ff; text-decoration-color: #ff00ff\">1</span>\n",
              "  • <span style=\"color: #0000ff; text-decoration-color: #0000ff; font-style: italic\">WORLD_SIZE_IN_USE</span>=<span style=\"color: #ff00ff; text-decoration-color: #ff00ff\">1</span>\n",
              "  • <span style=\"color: #0000ff; text-decoration-color: #0000ff; font-style: italic\">LAUNCH_CMD</span>=<span style=\"color: #ff00ff; text-decoration-color: #ff00ff; font-style: italic\">None</span>\n",
              "\n",
              "\n",
              "</pre>\n"
            ]
          },
          "metadata": {}
        },
        {
          "output_type": "display_data",
          "data": {
            "text/plain": [
              "\u001b[30m[\u001b[0m\u001b[30m2024-11-08 \u001b[0m\u001b[90m05:18:15.583568\u001b[0m\u001b[30m]\u001b[0m\u001b[30m[\u001b[0m\u001b[1;32mINFO\u001b[0m\u001b[30m]\u001b[0m\u001b[30m[\u001b[0m\u001b[3;34mdist.py\u001b[0m\u001b[94m:\u001b[0m\u001b[30m728\u001b[0m\u001b[30m]\u001b[0m\u001b[38;2;131;131;131m - \u001b[0m\u001b[97m[\u001b[0m\u001b[95m0\u001b[0m/\u001b[95m1\u001b[0m\u001b[97m]\u001b[0m Using \u001b[3;94mdevice\u001b[0m=\u001b[3;92m'cuda'\u001b[0m with \u001b[3;94mbackend\u001b[0m=\u001b[3;92m'DDP'\u001b[0m + \u001b[3;92m'nccl'\u001b[0m for distributed training.\n"
            ],
            "text/html": [
              "<pre style=\"white-space:pre;overflow-x:auto;line-height:normal;font-family:Menlo,'DejaVu Sans Mono',consolas,'Courier New',monospace\"><span style=\"color: #000000; text-decoration-color: #000000\">[</span><span style=\"color: #000000; text-decoration-color: #000000\">2024-11-08 </span><span style=\"color: #808080; text-decoration-color: #808080\">05:18:15.583568</span><span style=\"color: #000000; text-decoration-color: #000000\">][</span><span style=\"color: #008000; text-decoration-color: #008000; font-weight: bold\">INFO</span><span style=\"color: #000000; text-decoration-color: #000000\">][</span><span style=\"color: #000080; text-decoration-color: #000080; font-style: italic\">dist.py</span><span style=\"color: #0000ff; text-decoration-color: #0000ff\">:</span><span style=\"color: #000000; text-decoration-color: #000000\">728</span><span style=\"color: #000000; text-decoration-color: #000000\">]</span><span style=\"color: #838383; text-decoration-color: #838383\"> - </span><span style=\"color: #ffffff; text-decoration-color: #ffffff\">[</span><span style=\"color: #ff00ff; text-decoration-color: #ff00ff\">0</span>/<span style=\"color: #ff00ff; text-decoration-color: #ff00ff\">1</span><span style=\"color: #ffffff; text-decoration-color: #ffffff\">]</span> Using <span style=\"color: #0000ff; text-decoration-color: #0000ff; font-style: italic\">device</span>=<span style=\"color: #00ff00; text-decoration-color: #00ff00; font-style: italic\">'cuda'</span> with <span style=\"color: #0000ff; text-decoration-color: #0000ff; font-style: italic\">backend</span>=<span style=\"color: #00ff00; text-decoration-color: #00ff00; font-style: italic\">'DDP'</span> + <span style=\"color: #00ff00; text-decoration-color: #00ff00; font-style: italic\">'nccl'</span> for distributed training.\n",
              "</pre>\n"
            ]
          },
          "metadata": {}
        },
        {
          "output_type": "display_data",
          "data": {
            "text/plain": [
              "\u001b[30m[\u001b[0m\u001b[30m2024-11-08 \u001b[0m\u001b[90m05:18:15.588932\u001b[0m\u001b[30m]\u001b[0m\u001b[30m[\u001b[0m\u001b[1;32mINFO\u001b[0m\u001b[30m]\u001b[0m\u001b[30m[\u001b[0m\u001b[3;34mdist.py\u001b[0m\u001b[94m:\u001b[0m\u001b[30m348\u001b[0m\u001b[30m]\u001b[0m\u001b[38;2;131;131;131m - \u001b[0m\u001b[97m[\u001b[0m\u001b[3;94mdevice\u001b[0m=\u001b[3;92m'cuda'\u001b[0m\u001b[97m]\u001b[0m\u001b[97m[\u001b[0m\u001b[3;94mrank\u001b[0m=\u001b[95m0\u001b[0m/\u001b[95m0\u001b[0m\u001b[97m]\u001b[0m\u001b[97m[\u001b[0m\u001b[3;94mlocal_rank\u001b[0m=\u001b[95m0\u001b[0m/\u001b[95m0\u001b[0m\u001b[97m]\u001b[0m\u001b[97m[\u001b[0m\u001b[3;94mnode\u001b[0m=\u001b[95m0\u001b[0m/\u001b[95m0\u001b[0m\u001b[97m]\u001b[0m\n"
            ],
            "text/html": [
              "<pre style=\"white-space:pre;overflow-x:auto;line-height:normal;font-family:Menlo,'DejaVu Sans Mono',consolas,'Courier New',monospace\"><span style=\"color: #000000; text-decoration-color: #000000\">[</span><span style=\"color: #000000; text-decoration-color: #000000\">2024-11-08 </span><span style=\"color: #808080; text-decoration-color: #808080\">05:18:15.588932</span><span style=\"color: #000000; text-decoration-color: #000000\">][</span><span style=\"color: #008000; text-decoration-color: #008000; font-weight: bold\">INFO</span><span style=\"color: #000000; text-decoration-color: #000000\">][</span><span style=\"color: #000080; text-decoration-color: #000080; font-style: italic\">dist.py</span><span style=\"color: #0000ff; text-decoration-color: #0000ff\">:</span><span style=\"color: #000000; text-decoration-color: #000000\">348</span><span style=\"color: #000000; text-decoration-color: #000000\">]</span><span style=\"color: #838383; text-decoration-color: #838383\"> - </span><span style=\"color: #ffffff; text-decoration-color: #ffffff\">[</span><span style=\"color: #0000ff; text-decoration-color: #0000ff; font-style: italic\">device</span>=<span style=\"color: #00ff00; text-decoration-color: #00ff00; font-style: italic\">'cuda'</span><span style=\"color: #ffffff; text-decoration-color: #ffffff\">][</span><span style=\"color: #0000ff; text-decoration-color: #0000ff; font-style: italic\">rank</span>=<span style=\"color: #ff00ff; text-decoration-color: #ff00ff\">0</span>/<span style=\"color: #ff00ff; text-decoration-color: #ff00ff\">0</span><span style=\"color: #ffffff; text-decoration-color: #ffffff\">][</span><span style=\"color: #0000ff; text-decoration-color: #0000ff; font-style: italic\">local_rank</span>=<span style=\"color: #ff00ff; text-decoration-color: #ff00ff\">0</span>/<span style=\"color: #ff00ff; text-decoration-color: #ff00ff\">0</span><span style=\"color: #ffffff; text-decoration-color: #ffffff\">][</span><span style=\"color: #0000ff; text-decoration-color: #0000ff; font-style: italic\">node</span>=<span style=\"color: #ff00ff; text-decoration-color: #ff00ff\">0</span>/<span style=\"color: #ff00ff; text-decoration-color: #ff00ff\">0</span><span style=\"color: #ffffff; text-decoration-color: #ffffff\">]</span>\n",
              "</pre>\n"
            ]
          },
          "metadata": {}
        },
        {
          "output_type": "display_data",
          "data": {
            "text/plain": [
              "\u001b[30m[\u001b[0m\u001b[30m2024-11-08 \u001b[0m\u001b[90m05:18:15.592515\u001b[0m\u001b[30m]\u001b[0m\u001b[30m[\u001b[0m\u001b[93mWARNING\u001b[0m\u001b[30m]\u001b[0m\u001b[30m[\u001b[0m\u001b[3;34mdist.py\u001b[0m\u001b[94m:\u001b[0m\u001b[30m352\u001b[0m\u001b[30m]\u001b[0m\u001b[38;2;131;131;131m - \u001b[0mUsing \u001b[97m[\u001b[0m\u001b[95m1\u001b[0m \u001b[32m/\u001b[0m \u001b[95m1\u001b[0m\u001b[97m]\u001b[0m available \u001b[3;92m\"cuda\"\u001b[0m devices !!\n"
            ],
            "text/html": [
              "<pre style=\"white-space:pre;overflow-x:auto;line-height:normal;font-family:Menlo,'DejaVu Sans Mono',consolas,'Courier New',monospace\"><span style=\"color: #000000; text-decoration-color: #000000\">[</span><span style=\"color: #000000; text-decoration-color: #000000\">2024-11-08 </span><span style=\"color: #808080; text-decoration-color: #808080\">05:18:15.592515</span><span style=\"color: #000000; text-decoration-color: #000000\">][</span><span style=\"color: #ffff00; text-decoration-color: #ffff00\">WARNING</span><span style=\"color: #000000; text-decoration-color: #000000\">][</span><span style=\"color: #000080; text-decoration-color: #000080; font-style: italic\">dist.py</span><span style=\"color: #0000ff; text-decoration-color: #0000ff\">:</span><span style=\"color: #000000; text-decoration-color: #000000\">352</span><span style=\"color: #000000; text-decoration-color: #000000\">]</span><span style=\"color: #838383; text-decoration-color: #838383\"> - </span>Using <span style=\"color: #ffffff; text-decoration-color: #ffffff\">[</span><span style=\"color: #ff00ff; text-decoration-color: #ff00ff\">1</span> <span style=\"color: #008000; text-decoration-color: #008000\">/</span> <span style=\"color: #ff00ff; text-decoration-color: #ff00ff\">1</span><span style=\"color: #ffffff; text-decoration-color: #ffffff\">]</span> available <span style=\"color: #00ff00; text-decoration-color: #00ff00; font-style: italic\">\"cuda\"</span> devices !!\n",
              "</pre>\n"
            ]
          },
          "metadata": {}
        },
        {
          "output_type": "display_data",
          "data": {
            "text/plain": [
              "\u001b[30m[\u001b[0m\u001b[30m2024-11-08 \u001b[0m\u001b[90m05:18:15.771528\u001b[0m\u001b[30m]\u001b[0m\u001b[30m[\u001b[0m\u001b[1;32mINFO\u001b[0m\u001b[30m]\u001b[0m\u001b[30m[\u001b[0m\u001b[3;34mconfigs.py\u001b[0m\u001b[94m:\u001b[0m\u001b[30m317\u001b[0m\u001b[30m]\u001b[0m\u001b[38;2;131;131;131m - \u001b[0mLoading train from \u001b[32m/content/wordplay/data/shakespeare_char/\u001b[0m\u001b[35mtrain.bin\u001b[0m\n"
            ],
            "text/html": [
              "<pre style=\"white-space:pre;overflow-x:auto;line-height:normal;font-family:Menlo,'DejaVu Sans Mono',consolas,'Courier New',monospace\"><span style=\"color: #000000; text-decoration-color: #000000\">[</span><span style=\"color: #000000; text-decoration-color: #000000\">2024-11-08 </span><span style=\"color: #808080; text-decoration-color: #808080\">05:18:15.771528</span><span style=\"color: #000000; text-decoration-color: #000000\">][</span><span style=\"color: #008000; text-decoration-color: #008000; font-weight: bold\">INFO</span><span style=\"color: #000000; text-decoration-color: #000000\">][</span><span style=\"color: #000080; text-decoration-color: #000080; font-style: italic\">configs.py</span><span style=\"color: #0000ff; text-decoration-color: #0000ff\">:</span><span style=\"color: #000000; text-decoration-color: #000000\">317</span><span style=\"color: #000000; text-decoration-color: #000000\">]</span><span style=\"color: #838383; text-decoration-color: #838383\"> - </span>Loading train from <span style=\"color: #008000; text-decoration-color: #008000\">/content/wordplay/data/shakespeare_char/</span><span style=\"color: #800080; text-decoration-color: #800080\">train.bin</span>\n",
              "</pre>\n"
            ]
          },
          "metadata": {}
        },
        {
          "output_type": "display_data",
          "data": {
            "text/plain": [
              "\u001b[30m[\u001b[0m\u001b[30m2024-11-08 \u001b[0m\u001b[90m05:18:15.774977\u001b[0m\u001b[30m]\u001b[0m\u001b[30m[\u001b[0m\u001b[1;32mINFO\u001b[0m\u001b[30m]\u001b[0m\u001b[30m[\u001b[0m\u001b[3;34mconfigs.py\u001b[0m\u001b[94m:\u001b[0m\u001b[30m317\u001b[0m\u001b[30m]\u001b[0m\u001b[38;2;131;131;131m - \u001b[0mLoading val from \u001b[32m/content/wordplay/data/shakespeare_char/\u001b[0m\u001b[35mval.bin\u001b[0m\n"
            ],
            "text/html": [
              "<pre style=\"white-space:pre;overflow-x:auto;line-height:normal;font-family:Menlo,'DejaVu Sans Mono',consolas,'Courier New',monospace\"><span style=\"color: #000000; text-decoration-color: #000000\">[</span><span style=\"color: #000000; text-decoration-color: #000000\">2024-11-08 </span><span style=\"color: #808080; text-decoration-color: #808080\">05:18:15.774977</span><span style=\"color: #000000; text-decoration-color: #000000\">][</span><span style=\"color: #008000; text-decoration-color: #008000; font-weight: bold\">INFO</span><span style=\"color: #000000; text-decoration-color: #000000\">][</span><span style=\"color: #000080; text-decoration-color: #000080; font-style: italic\">configs.py</span><span style=\"color: #0000ff; text-decoration-color: #0000ff\">:</span><span style=\"color: #000000; text-decoration-color: #000000\">317</span><span style=\"color: #000000; text-decoration-color: #000000\">]</span><span style=\"color: #838383; text-decoration-color: #838383\"> - </span>Loading val from <span style=\"color: #008000; text-decoration-color: #008000\">/content/wordplay/data/shakespeare_char/</span><span style=\"color: #800080; text-decoration-color: #800080\">val.bin</span>\n",
              "</pre>\n"
            ]
          },
          "metadata": {}
        },
        {
          "output_type": "display_data",
          "data": {
            "text/plain": [
              "\u001b[30m[\u001b[0m\u001b[30m2024-11-08 \u001b[0m\u001b[90m05:18:15.779837\u001b[0m\u001b[30m]\u001b[0m\u001b[30m[\u001b[0m\u001b[1;32mINFO\u001b[0m\u001b[30m]\u001b[0m\u001b[30m[\u001b[0m\u001b[3;34mconfigs.py\u001b[0m\u001b[94m:\u001b[0m\u001b[30m442\u001b[0m\u001b[30m]\u001b[0m\u001b[38;2;131;131;131m - \u001b[0mTokens per iteration: \u001b[95m16\u001b[0m,\u001b[95m384\u001b[0m\n"
            ],
            "text/html": [
              "<pre style=\"white-space:pre;overflow-x:auto;line-height:normal;font-family:Menlo,'DejaVu Sans Mono',consolas,'Courier New',monospace\"><span style=\"color: #000000; text-decoration-color: #000000\">[</span><span style=\"color: #000000; text-decoration-color: #000000\">2024-11-08 </span><span style=\"color: #808080; text-decoration-color: #808080\">05:18:15.779837</span><span style=\"color: #000000; text-decoration-color: #000000\">][</span><span style=\"color: #008000; text-decoration-color: #008000; font-weight: bold\">INFO</span><span style=\"color: #000000; text-decoration-color: #000000\">][</span><span style=\"color: #000080; text-decoration-color: #000080; font-style: italic\">configs.py</span><span style=\"color: #0000ff; text-decoration-color: #0000ff\">:</span><span style=\"color: #000000; text-decoration-color: #000000\">442</span><span style=\"color: #000000; text-decoration-color: #000000\">]</span><span style=\"color: #838383; text-decoration-color: #838383\"> - </span>Tokens per iteration: <span style=\"color: #ff00ff; text-decoration-color: #ff00ff\">16</span>,<span style=\"color: #ff00ff; text-decoration-color: #ff00ff\">384</span>\n",
              "</pre>\n"
            ]
          },
          "metadata": {}
        },
        {
          "output_type": "display_data",
          "data": {
            "text/plain": [
              "\u001b[30m[\u001b[0m\u001b[30m2024-11-08 \u001b[0m\u001b[90m05:18:15.783369\u001b[0m\u001b[30m]\u001b[0m\u001b[30m[\u001b[0m\u001b[1;32mINFO\u001b[0m\u001b[30m]\u001b[0m\u001b[30m[\u001b[0m\u001b[3;34mconfigs.py\u001b[0m\u001b[94m:\u001b[0m\u001b[30m465\u001b[0m\u001b[30m]\u001b[0m\u001b[38;2;131;131;131m - \u001b[0mUsing self.\u001b[3;94mptdtype\u001b[0m=\u001b[95mtorch\u001b[0m.float16 on self.\u001b[3;94mdevice_type\u001b[0m=\u001b[3;92m'cuda'\u001b[0m\n"
            ],
            "text/html": [
              "<pre style=\"white-space:pre;overflow-x:auto;line-height:normal;font-family:Menlo,'DejaVu Sans Mono',consolas,'Courier New',monospace\"><span style=\"color: #000000; text-decoration-color: #000000\">[</span><span style=\"color: #000000; text-decoration-color: #000000\">2024-11-08 </span><span style=\"color: #808080; text-decoration-color: #808080\">05:18:15.783369</span><span style=\"color: #000000; text-decoration-color: #000000\">][</span><span style=\"color: #008000; text-decoration-color: #008000; font-weight: bold\">INFO</span><span style=\"color: #000000; text-decoration-color: #000000\">][</span><span style=\"color: #000080; text-decoration-color: #000080; font-style: italic\">configs.py</span><span style=\"color: #0000ff; text-decoration-color: #0000ff\">:</span><span style=\"color: #000000; text-decoration-color: #000000\">465</span><span style=\"color: #000000; text-decoration-color: #000000\">]</span><span style=\"color: #838383; text-decoration-color: #838383\"> - </span>Using self.<span style=\"color: #0000ff; text-decoration-color: #0000ff; font-style: italic\">ptdtype</span>=<span style=\"color: #ff00ff; text-decoration-color: #ff00ff\">torch</span>.float16 on self.<span style=\"color: #0000ff; text-decoration-color: #0000ff; font-style: italic\">device_type</span>=<span style=\"color: #00ff00; text-decoration-color: #00ff00; font-style: italic\">'cuda'</span>\n",
              "</pre>\n"
            ]
          },
          "metadata": {}
        },
        {
          "output_type": "display_data",
          "data": {
            "text/plain": [
              "\u001b[30m[\u001b[0m\u001b[30m2024-11-08 \u001b[0m\u001b[90m05:18:15.786797\u001b[0m\u001b[30m]\u001b[0m\u001b[30m[\u001b[0m\u001b[1;32mINFO\u001b[0m\u001b[30m]\u001b[0m\u001b[30m[\u001b[0m\u001b[3;34mconfigs.py\u001b[0m\u001b[94m:\u001b[0m\u001b[30m471\u001b[0m\u001b[30m]\u001b[0m\u001b[38;2;131;131;131m - \u001b[0mInitializing a new model from scratch\n"
            ],
            "text/html": [
              "<pre style=\"white-space:pre;overflow-x:auto;line-height:normal;font-family:Menlo,'DejaVu Sans Mono',consolas,'Courier New',monospace\"><span style=\"color: #000000; text-decoration-color: #000000\">[</span><span style=\"color: #000000; text-decoration-color: #000000\">2024-11-08 </span><span style=\"color: #808080; text-decoration-color: #808080\">05:18:15.786797</span><span style=\"color: #000000; text-decoration-color: #000000\">][</span><span style=\"color: #008000; text-decoration-color: #008000; font-weight: bold\">INFO</span><span style=\"color: #000000; text-decoration-color: #000000\">][</span><span style=\"color: #000080; text-decoration-color: #000080; font-style: italic\">configs.py</span><span style=\"color: #0000ff; text-decoration-color: #0000ff\">:</span><span style=\"color: #000000; text-decoration-color: #000000\">471</span><span style=\"color: #000000; text-decoration-color: #000000\">]</span><span style=\"color: #838383; text-decoration-color: #838383\"> - </span>Initializing a new model from scratch\n",
              "</pre>\n"
            ]
          },
          "metadata": {}
        }
      ],
      "source": [
        "import os\n",
        "import numpy as np\n",
        "from ezpz import setup\n",
        "from hydra.utils import instantiate\n",
        "from wordplay.configs import get_config, PROJECT_ROOT\n",
        "from wordplay.trainer import Trainer\n",
        "\n",
        "HF_DATASETS_CACHE = PROJECT_ROOT.joinpath('.cache', 'huggingface')\n",
        "HF_DATASETS_CACHE.mkdir(exist_ok=True, parents=True)\n",
        "\n",
        "os.environ['HF_DATASETS_CACHE'] = HF_DATASETS_CACHE.as_posix()\n",
        "\n",
        "BACKEND = 'DDP'\n",
        "\n",
        "rank = setup(\n",
        "    framework='pytorch',\n",
        "    backend=BACKEND,\n",
        "    seed=1234,\n",
        ")\n",
        "\n",
        "cfg = get_config(\n",
        "    [\n",
        "        'data=shakespeare',\n",
        "        'model=shakespeare',\n",
        "        'optimizer=shakespeare',\n",
        "        'train=shakespeare',\n",
        "        f'train.backend={BACKEND}',\n",
        "        'train.compile=false',\n",
        "        'train.dtype=float16',\n",
        "        'train.max_iters=1000',\n",
        "        'train.log_interval=50',\n",
        "        'train.eval_interval=500',\n",
        "    ]\n",
        ")\n",
        "config = instantiate(cfg)"
      ]
    },
    {
      "cell_type": "markdown",
      "id": "3bO8kTx-s59-",
      "metadata": {
        "id": "3bO8kTx-s59-"
      },
      "source": [
        "### Build `Trainer` object"
      ]
    },
    {
      "cell_type": "code",
      "execution_count": null,
      "id": "7d12405a-8f88-476b-8922-a1a212adc682",
      "metadata": {
        "colab": {
          "base_uri": "https://localhost:8080/",
          "height": 1000
        },
        "execution": {
          "iopub.execute_input": "2023-11-30T16:35:10.194033Z",
          "iopub.status.busy": "2023-11-30T16:35:10.193752Z",
          "iopub.status.idle": "2023-11-30T16:36:28.944914Z",
          "shell.execute_reply": "2023-11-30T16:36:28.943625Z",
          "shell.execute_reply.started": "2023-11-30T16:35:10.194017Z"
        },
        "id": "7d12405a-8f88-476b-8922-a1a212adc682",
        "jupyter": {
          "outputs_hidden": false,
          "source_hidden": false
        },
        "outputId": "4cb8295d-93ae-4cf6-d0fc-c1228816affe"
      },
      "outputs": [
        {
          "output_type": "display_data",
          "data": {
            "text/plain": [
              "\u001b[30m[\u001b[0m\u001b[30m2024-11-08 \u001b[0m\u001b[90m05:21:41.524502\u001b[0m\u001b[30m]\u001b[0m\u001b[30m[\u001b[0m\u001b[1;32mINFO\u001b[0m\u001b[30m]\u001b[0m\u001b[30m[\u001b[0m\u001b[3;34mtrainer.py\u001b[0m\u001b[94m:\u001b[0m\u001b[30m248\u001b[0m\u001b[30m]\u001b[0m\u001b[38;2;131;131;131m - \u001b[0mInitializing a new model from scratch\n"
            ],
            "text/html": [
              "<pre style=\"white-space:pre;overflow-x:auto;line-height:normal;font-family:Menlo,'DejaVu Sans Mono',consolas,'Courier New',monospace\"><span style=\"color: #000000; text-decoration-color: #000000\">[</span><span style=\"color: #000000; text-decoration-color: #000000\">2024-11-08 </span><span style=\"color: #808080; text-decoration-color: #808080\">05:21:41.524502</span><span style=\"color: #000000; text-decoration-color: #000000\">][</span><span style=\"color: #008000; text-decoration-color: #008000; font-weight: bold\">INFO</span><span style=\"color: #000000; text-decoration-color: #000000\">][</span><span style=\"color: #000080; text-decoration-color: #000080; font-style: italic\">trainer.py</span><span style=\"color: #0000ff; text-decoration-color: #0000ff\">:</span><span style=\"color: #000000; text-decoration-color: #000000\">248</span><span style=\"color: #000000; text-decoration-color: #000000\">]</span><span style=\"color: #838383; text-decoration-color: #838383\"> - </span>Initializing a new model from scratch\n",
              "</pre>\n"
            ]
          },
          "metadata": {}
        },
        {
          "output_type": "display_data",
          "data": {
            "text/plain": [
              "\u001b[30m[\u001b[0m\u001b[30m2024-11-08 \u001b[0m\u001b[90m05:21:41.908516\u001b[0m\u001b[30m]\u001b[0m\u001b[30m[\u001b[0m\u001b[1;32mINFO\u001b[0m\u001b[30m]\u001b[0m\u001b[30m[\u001b[0m\u001b[3;34mmodel.py\u001b[0m\u001b[94m:\u001b[0m\u001b[30m255\u001b[0m\u001b[30m]\u001b[0m\u001b[38;2;131;131;131m - \u001b[0mnumber of parameters: \u001b[95m10.\u001b[0m65M\n"
            ],
            "text/html": [
              "<pre style=\"white-space:pre;overflow-x:auto;line-height:normal;font-family:Menlo,'DejaVu Sans Mono',consolas,'Courier New',monospace\"><span style=\"color: #000000; text-decoration-color: #000000\">[</span><span style=\"color: #000000; text-decoration-color: #000000\">2024-11-08 </span><span style=\"color: #808080; text-decoration-color: #808080\">05:21:41.908516</span><span style=\"color: #000000; text-decoration-color: #000000\">][</span><span style=\"color: #008000; text-decoration-color: #008000; font-weight: bold\">INFO</span><span style=\"color: #000000; text-decoration-color: #000000\">][</span><span style=\"color: #000080; text-decoration-color: #000080; font-style: italic\">model.py</span><span style=\"color: #0000ff; text-decoration-color: #0000ff\">:</span><span style=\"color: #000000; text-decoration-color: #000000\">255</span><span style=\"color: #000000; text-decoration-color: #000000\">]</span><span style=\"color: #838383; text-decoration-color: #838383\"> - </span>number of parameters: <span style=\"color: #ff00ff; text-decoration-color: #ff00ff\">10.</span>65M\n",
              "</pre>\n"
            ]
          },
          "metadata": {}
        },
        {
          "output_type": "display_data",
          "data": {
            "text/plain": [
              "\u001b[30m[\u001b[0m\u001b[30m2024-11-08 \u001b[0m\u001b[90m05:21:42.176921\u001b[0m\u001b[30m]\u001b[0m\u001b[30m[\u001b[0m\u001b[1;32mINFO\u001b[0m\u001b[30m]\u001b[0m\u001b[30m[\u001b[0m\u001b[3;34mtrainer.py\u001b[0m\u001b[94m:\u001b[0m\u001b[30m266\u001b[0m\u001b[30m]\u001b[0m\u001b[38;2;131;131;131m - \u001b[0mModel size: \u001b[3;94mnum_params\u001b[0m=\u001b[95m10646784\u001b[0m\n"
            ],
            "text/html": [
              "<pre style=\"white-space:pre;overflow-x:auto;line-height:normal;font-family:Menlo,'DejaVu Sans Mono',consolas,'Courier New',monospace\"><span style=\"color: #000000; text-decoration-color: #000000\">[</span><span style=\"color: #000000; text-decoration-color: #000000\">2024-11-08 </span><span style=\"color: #808080; text-decoration-color: #808080\">05:21:42.176921</span><span style=\"color: #000000; text-decoration-color: #000000\">][</span><span style=\"color: #008000; text-decoration-color: #008000; font-weight: bold\">INFO</span><span style=\"color: #000000; text-decoration-color: #000000\">][</span><span style=\"color: #000080; text-decoration-color: #000080; font-style: italic\">trainer.py</span><span style=\"color: #0000ff; text-decoration-color: #0000ff\">:</span><span style=\"color: #000000; text-decoration-color: #000000\">266</span><span style=\"color: #000000; text-decoration-color: #000000\">]</span><span style=\"color: #838383; text-decoration-color: #838383\"> - </span>Model size: <span style=\"color: #0000ff; text-decoration-color: #0000ff; font-style: italic\">num_params</span>=<span style=\"color: #ff00ff; text-decoration-color: #ff00ff\">10646784</span>\n",
              "</pre>\n"
            ]
          },
          "metadata": {}
        },
        {
          "output_type": "display_data",
          "data": {
            "text/plain": [
              "\u001b[30m[\u001b[0m\u001b[30m2024-11-08 \u001b[0m\u001b[90m05:21:42.183940\u001b[0m\u001b[30m]\u001b[0m\u001b[30m[\u001b[0m\u001b[1;32mINFO\u001b[0m\u001b[30m]\u001b[0m\u001b[30m[\u001b[0m\u001b[3;34mmodel.py\u001b[0m\u001b[94m:\u001b[0m\u001b[30m445\u001b[0m\u001b[30m]\u001b[0m\u001b[38;2;131;131;131m - \u001b[0mnum decayed parameter tensors: \u001b[95m26\u001b[0m, with \u001b[95m10\u001b[0m,\u001b[95m740\u001b[0m,\u001b[95m096\u001b[0m parameters\n"
            ],
            "text/html": [
              "<pre style=\"white-space:pre;overflow-x:auto;line-height:normal;font-family:Menlo,'DejaVu Sans Mono',consolas,'Courier New',monospace\"><span style=\"color: #000000; text-decoration-color: #000000\">[</span><span style=\"color: #000000; text-decoration-color: #000000\">2024-11-08 </span><span style=\"color: #808080; text-decoration-color: #808080\">05:21:42.183940</span><span style=\"color: #000000; text-decoration-color: #000000\">][</span><span style=\"color: #008000; text-decoration-color: #008000; font-weight: bold\">INFO</span><span style=\"color: #000000; text-decoration-color: #000000\">][</span><span style=\"color: #000080; text-decoration-color: #000080; font-style: italic\">model.py</span><span style=\"color: #0000ff; text-decoration-color: #0000ff\">:</span><span style=\"color: #000000; text-decoration-color: #000000\">445</span><span style=\"color: #000000; text-decoration-color: #000000\">]</span><span style=\"color: #838383; text-decoration-color: #838383\"> - </span>num decayed parameter tensors: <span style=\"color: #ff00ff; text-decoration-color: #ff00ff\">26</span>, with <span style=\"color: #ff00ff; text-decoration-color: #ff00ff\">10</span>,<span style=\"color: #ff00ff; text-decoration-color: #ff00ff\">740</span>,<span style=\"color: #ff00ff; text-decoration-color: #ff00ff\">096</span> parameters\n",
              "</pre>\n"
            ]
          },
          "metadata": {}
        },
        {
          "output_type": "display_data",
          "data": {
            "text/plain": [
              "\u001b[30m[\u001b[0m\u001b[30m2024-11-08 \u001b[0m\u001b[90m05:21:42.187379\u001b[0m\u001b[30m]\u001b[0m\u001b[30m[\u001b[0m\u001b[1;32mINFO\u001b[0m\u001b[30m]\u001b[0m\u001b[30m[\u001b[0m\u001b[3;34mmodel.py\u001b[0m\u001b[94m:\u001b[0m\u001b[30m449\u001b[0m\u001b[30m]\u001b[0m\u001b[38;2;131;131;131m - \u001b[0mnum non-decayed parameter tensors: \u001b[95m13\u001b[0m, with \u001b[95m4\u001b[0m,\u001b[95m992\u001b[0m parameters\n"
            ],
            "text/html": [
              "<pre style=\"white-space:pre;overflow-x:auto;line-height:normal;font-family:Menlo,'DejaVu Sans Mono',consolas,'Courier New',monospace\"><span style=\"color: #000000; text-decoration-color: #000000\">[</span><span style=\"color: #000000; text-decoration-color: #000000\">2024-11-08 </span><span style=\"color: #808080; text-decoration-color: #808080\">05:21:42.187379</span><span style=\"color: #000000; text-decoration-color: #000000\">][</span><span style=\"color: #008000; text-decoration-color: #008000; font-weight: bold\">INFO</span><span style=\"color: #000000; text-decoration-color: #000000\">][</span><span style=\"color: #000080; text-decoration-color: #000080; font-style: italic\">model.py</span><span style=\"color: #0000ff; text-decoration-color: #0000ff\">:</span><span style=\"color: #000000; text-decoration-color: #000000\">449</span><span style=\"color: #000000; text-decoration-color: #000000\">]</span><span style=\"color: #838383; text-decoration-color: #838383\"> - </span>num non-decayed parameter tensors: <span style=\"color: #ff00ff; text-decoration-color: #ff00ff\">13</span>, with <span style=\"color: #ff00ff; text-decoration-color: #ff00ff\">4</span>,<span style=\"color: #ff00ff; text-decoration-color: #ff00ff\">992</span> parameters\n",
              "</pre>\n"
            ]
          },
          "metadata": {}
        },
        {
          "output_type": "display_data",
          "data": {
            "text/plain": [
              "\u001b[30m[\u001b[0m\u001b[30m2024-11-08 \u001b[0m\u001b[90m05:21:43.666520\u001b[0m\u001b[30m]\u001b[0m\u001b[30m[\u001b[0m\u001b[1;32mINFO\u001b[0m\u001b[30m]\u001b[0m\u001b[30m[\u001b[0m\u001b[3;34mmodel.py\u001b[0m\u001b[94m:\u001b[0m\u001b[30m465\u001b[0m\u001b[30m]\u001b[0m\u001b[38;2;131;131;131m - \u001b[0musing fused AdamW: \u001b[3;92mTrue\u001b[0m\n"
            ],
            "text/html": [
              "<pre style=\"white-space:pre;overflow-x:auto;line-height:normal;font-family:Menlo,'DejaVu Sans Mono',consolas,'Courier New',monospace\"><span style=\"color: #000000; text-decoration-color: #000000\">[</span><span style=\"color: #000000; text-decoration-color: #000000\">2024-11-08 </span><span style=\"color: #808080; text-decoration-color: #808080\">05:21:43.666520</span><span style=\"color: #000000; text-decoration-color: #000000\">][</span><span style=\"color: #008000; text-decoration-color: #008000; font-weight: bold\">INFO</span><span style=\"color: #000000; text-decoration-color: #000000\">][</span><span style=\"color: #000080; text-decoration-color: #000080; font-style: italic\">model.py</span><span style=\"color: #0000ff; text-decoration-color: #0000ff\">:</span><span style=\"color: #000000; text-decoration-color: #000000\">465</span><span style=\"color: #000000; text-decoration-color: #000000\">]</span><span style=\"color: #838383; text-decoration-color: #838383\"> - </span>using fused AdamW: <span style=\"color: #00ff00; text-decoration-color: #00ff00; font-style: italic\">True</span>\n",
              "</pre>\n"
            ]
          },
          "metadata": {}
        },
        {
          "output_type": "stream",
          "name": "stderr",
          "text": [
            "/content/wordplay/src/wordplay/trainer.py:303: FutureWarning: `torch.cuda.amp.GradScaler(args...)` is deprecated. Please use `torch.amp.GradScaler('cuda', args...)` instead.\n",
            "  grad_scaler = GradScaler(\n"
          ]
        },
        {
          "output_type": "display_data",
          "data": {
            "text/plain": [
              "\u001b[30m[\u001b[0m\u001b[30m2024-11-08 \u001b[0m\u001b[90m05:21:43.670266\u001b[0m\u001b[30m]\u001b[0m\u001b[30m[\u001b[0m\u001b[1;7;31mCRITICAL\u001b[0m\u001b[30m]\u001b[0m\u001b[30m[\u001b[0m\u001b[3;34mtrainer.py\u001b[0m\u001b[94m:\u001b[0m\u001b[30m318\u001b[0m\u001b[30m]\u001b[0m\u001b[38;2;131;131;131m - \u001b[0m\u001b[3;92m\"\u001b[0m\u001b[3;92mdevid\u001b[0m\u001b[3;92m='cuda:0'\"\u001b[0m\n"
            ],
            "text/html": [
              "<pre style=\"white-space:pre;overflow-x:auto;line-height:normal;font-family:Menlo,'DejaVu Sans Mono',consolas,'Courier New',monospace\"><span style=\"color: #000000; text-decoration-color: #000000\">[</span><span style=\"color: #000000; text-decoration-color: #000000\">2024-11-08 </span><span style=\"color: #808080; text-decoration-color: #808080\">05:21:43.670266</span><span style=\"color: #000000; text-decoration-color: #000000\">][</span><span style=\"background-color: #800000; font-weight: bold\">CRITICAL</span><span style=\"color: #000000; text-decoration-color: #000000\">][</span><span style=\"color: #000080; text-decoration-color: #000080; font-style: italic\">trainer.py</span><span style=\"color: #0000ff; text-decoration-color: #0000ff\">:</span><span style=\"color: #000000; text-decoration-color: #000000\">318</span><span style=\"color: #000000; text-decoration-color: #000000\">]</span><span style=\"color: #838383; text-decoration-color: #838383\"> - </span><span style=\"color: #00ff00; text-decoration-color: #00ff00; font-style: italic\">\"devid='cuda:0'\"</span>\n",
              "</pre>\n"
            ]
          },
          "metadata": {}
        },
        {
          "output_type": "display_data",
          "data": {
            "text/plain": [
              "\u001b[30m[\u001b[0m\u001b[30m2024-11-08 \u001b[0m\u001b[90m05:21:43.680865\u001b[0m\u001b[30m]\u001b[0m\u001b[30m[\u001b[0m\u001b[1;32mINFO\u001b[0m\u001b[30m]\u001b[0m\u001b[30m[\u001b[0m\u001b[3;34mtrainer.py\u001b[0m\u001b[94m:\u001b[0m\u001b[30m358\u001b[0m\u001b[30m]\u001b[0m\u001b[38;2;131;131;131m - \u001b[0m• self.\u001b[3;94mmodel\u001b[0m=\u001b[1;35mGPT\u001b[0m\u001b[97m(\u001b[0m\n",
              "  \u001b[97m(\u001b[0mtransformer\u001b[97m)\u001b[0m: \u001b[1;35mModuleDict\u001b[0m\u001b[97m(\u001b[0m\n",
              "    \u001b[97m(\u001b[0mwte\u001b[97m)\u001b[0m: \u001b[1;35mEmbedding\u001b[0m\u001b[97m(\u001b[0m\u001b[95m65\u001b[0m, \u001b[95m384\u001b[0m\u001b[97m)\u001b[0m\n",
              "    \u001b[97m(\u001b[0mwpe\u001b[97m)\u001b[0m: \u001b[1;35mEmbedding\u001b[0m\u001b[97m(\u001b[0m\u001b[95m256\u001b[0m, \u001b[95m384\u001b[0m\u001b[97m)\u001b[0m\n",
              "    \u001b[97m(\u001b[0mdrop\u001b[97m)\u001b[0m: \u001b[1;35mDropout\u001b[0m\u001b[97m(\u001b[0m\u001b[3;94mp\u001b[0m=\u001b[95m0\u001b[0m\u001b[95m.2\u001b[0m, \u001b[3;94minplace\u001b[0m=\u001b[3;91mFalse\u001b[0m\u001b[97m)\u001b[0m\n",
              "    \u001b[97m(\u001b[0mh\u001b[97m)\u001b[0m: \u001b[1;35mModuleList\u001b[0m\u001b[97m(\u001b[0m\n",
              "      \u001b[97m(\u001b[0m\u001b[95m0\u001b[0m-\u001b[95m5\u001b[0m\u001b[97m)\u001b[0m: \u001b[95m6\u001b[0m x \u001b[1;35mBlock\u001b[0m\u001b[97m(\u001b[0m\n",
              "        \u001b[97m(\u001b[0mln_1\u001b[97m)\u001b[0m: \u001b[1;35mLayerNorm\u001b[0m\u001b[97m(\u001b[0m\u001b[97m)\u001b[0m\n",
              "        \u001b[97m(\u001b[0mattn\u001b[97m)\u001b[0m: \u001b[1;35mCausalSelfAttention\u001b[0m\u001b[97m(\u001b[0m\n",
              "          \u001b[97m(\u001b[0mc_attn\u001b[97m)\u001b[0m: \u001b[1;35mLinear\u001b[0m\u001b[97m(\u001b[0m\u001b[3;94min_features\u001b[0m=\u001b[95m384\u001b[0m, \u001b[3;94mout_features\u001b[0m=\u001b[95m1152\u001b[0m, \u001b[3;94mbias\u001b[0m=\u001b[3;91mFalse\u001b[0m\u001b[97m)\u001b[0m\n",
              "          \u001b[97m(\u001b[0mc_proj\u001b[97m)\u001b[0m: \u001b[1;35mLinear\u001b[0m\u001b[97m(\u001b[0m\u001b[3;94min_features\u001b[0m=\u001b[95m384\u001b[0m, \u001b[3;94mout_features\u001b[0m=\u001b[95m384\u001b[0m, \u001b[3;94mbias\u001b[0m=\u001b[3;91mFalse\u001b[0m\u001b[97m)\u001b[0m\n",
              "          \u001b[97m(\u001b[0mattn_dropout\u001b[97m)\u001b[0m: \u001b[1;35mDropout\u001b[0m\u001b[97m(\u001b[0m\u001b[3;94mp\u001b[0m=\u001b[95m0\u001b[0m\u001b[95m.2\u001b[0m, \u001b[3;94minplace\u001b[0m=\u001b[3;91mFalse\u001b[0m\u001b[97m)\u001b[0m\n",
              "          \u001b[97m(\u001b[0mresid_dropout\u001b[97m)\u001b[0m: \u001b[1;35mDropout\u001b[0m\u001b[97m(\u001b[0m\u001b[3;94mp\u001b[0m=\u001b[95m0\u001b[0m\u001b[95m.2\u001b[0m, \u001b[3;94minplace\u001b[0m=\u001b[3;91mFalse\u001b[0m\u001b[97m)\u001b[0m\n",
              "        \u001b[97m)\u001b[0m\n",
              "        \u001b[97m(\u001b[0mln_2\u001b[97m)\u001b[0m: \u001b[1;35mLayerNorm\u001b[0m\u001b[97m(\u001b[0m\u001b[97m)\u001b[0m\n",
              "        \u001b[97m(\u001b[0mmlp\u001b[97m)\u001b[0m: \u001b[1;35mMLP\u001b[0m\u001b[97m(\u001b[0m\n",
              "          \u001b[97m(\u001b[0mc_fc\u001b[97m)\u001b[0m: \u001b[1;35mLinear\u001b[0m\u001b[97m(\u001b[0m\u001b[3;94min_features\u001b[0m=\u001b[95m384\u001b[0m, \u001b[3;94mout_features\u001b[0m=\u001b[95m1536\u001b[0m, \u001b[3;94mbias\u001b[0m=\u001b[3;91mFalse\u001b[0m\u001b[97m)\u001b[0m\n",
              "          \u001b[97m(\u001b[0mact_fn\u001b[97m)\u001b[0m: \u001b[1;35mGELU\u001b[0m\u001b[97m(\u001b[0m\u001b[3;94mapproximate\u001b[0m=\u001b[3;92m'none'\u001b[0m\u001b[97m)\u001b[0m\n",
              "          \u001b[97m(\u001b[0mc_proj\u001b[97m)\u001b[0m: \u001b[1;35mLinear\u001b[0m\u001b[97m(\u001b[0m\u001b[3;94min_features\u001b[0m=\u001b[95m1536\u001b[0m, \u001b[3;94mout_features\u001b[0m=\u001b[95m384\u001b[0m, \u001b[3;94mbias\u001b[0m=\u001b[3;91mFalse\u001b[0m\u001b[97m)\u001b[0m\n",
              "          \u001b[97m(\u001b[0mdropout\u001b[97m)\u001b[0m: \u001b[1;35mDropout\u001b[0m\u001b[97m(\u001b[0m\u001b[3;94mp\u001b[0m=\u001b[95m0\u001b[0m\u001b[95m.2\u001b[0m, \u001b[3;94minplace\u001b[0m=\u001b[3;91mFalse\u001b[0m\u001b[97m)\u001b[0m\n",
              "        \u001b[97m)\u001b[0m\n",
              "      \u001b[97m)\u001b[0m\n",
              "    \u001b[97m)\u001b[0m\n",
              "    \u001b[97m(\u001b[0mln_f\u001b[97m)\u001b[0m: \u001b[1;35mLayerNorm\u001b[0m\u001b[97m(\u001b[0m\u001b[97m)\u001b[0m\n",
              "  \u001b[97m)\u001b[0m\n",
              "  \u001b[97m(\u001b[0mlm_head\u001b[97m)\u001b[0m: \u001b[1;35mLinear\u001b[0m\u001b[97m(\u001b[0m\u001b[3;94min_features\u001b[0m=\u001b[95m384\u001b[0m, \u001b[3;94mout_features\u001b[0m=\u001b[95m65\u001b[0m, \u001b[3;94mbias\u001b[0m=\u001b[3;91mFalse\u001b[0m\u001b[97m)\u001b[0m\n",
              "\u001b[97m)\u001b[0m\n"
            ],
            "text/html": [
              "<pre style=\"white-space:pre;overflow-x:auto;line-height:normal;font-family:Menlo,'DejaVu Sans Mono',consolas,'Courier New',monospace\"><span style=\"color: #000000; text-decoration-color: #000000\">[</span><span style=\"color: #000000; text-decoration-color: #000000\">2024-11-08 </span><span style=\"color: #808080; text-decoration-color: #808080\">05:21:43.680865</span><span style=\"color: #000000; text-decoration-color: #000000\">][</span><span style=\"color: #008000; text-decoration-color: #008000; font-weight: bold\">INFO</span><span style=\"color: #000000; text-decoration-color: #000000\">][</span><span style=\"color: #000080; text-decoration-color: #000080; font-style: italic\">trainer.py</span><span style=\"color: #0000ff; text-decoration-color: #0000ff\">:</span><span style=\"color: #000000; text-decoration-color: #000000\">358</span><span style=\"color: #000000; text-decoration-color: #000000\">]</span><span style=\"color: #838383; text-decoration-color: #838383\"> - </span>• self.<span style=\"color: #0000ff; text-decoration-color: #0000ff; font-style: italic\">model</span>=<span style=\"color: #800080; text-decoration-color: #800080; font-weight: bold\">GPT</span><span style=\"color: #ffffff; text-decoration-color: #ffffff\">(</span>\n",
              "  <span style=\"color: #ffffff; text-decoration-color: #ffffff\">(</span>transformer<span style=\"color: #ffffff; text-decoration-color: #ffffff\">)</span>: <span style=\"color: #800080; text-decoration-color: #800080; font-weight: bold\">ModuleDict</span><span style=\"color: #ffffff; text-decoration-color: #ffffff\">(</span>\n",
              "    <span style=\"color: #ffffff; text-decoration-color: #ffffff\">(</span>wte<span style=\"color: #ffffff; text-decoration-color: #ffffff\">)</span>: <span style=\"color: #800080; text-decoration-color: #800080; font-weight: bold\">Embedding</span><span style=\"color: #ffffff; text-decoration-color: #ffffff\">(</span><span style=\"color: #ff00ff; text-decoration-color: #ff00ff\">65</span>, <span style=\"color: #ff00ff; text-decoration-color: #ff00ff\">384</span><span style=\"color: #ffffff; text-decoration-color: #ffffff\">)</span>\n",
              "    <span style=\"color: #ffffff; text-decoration-color: #ffffff\">(</span>wpe<span style=\"color: #ffffff; text-decoration-color: #ffffff\">)</span>: <span style=\"color: #800080; text-decoration-color: #800080; font-weight: bold\">Embedding</span><span style=\"color: #ffffff; text-decoration-color: #ffffff\">(</span><span style=\"color: #ff00ff; text-decoration-color: #ff00ff\">256</span>, <span style=\"color: #ff00ff; text-decoration-color: #ff00ff\">384</span><span style=\"color: #ffffff; text-decoration-color: #ffffff\">)</span>\n",
              "    <span style=\"color: #ffffff; text-decoration-color: #ffffff\">(</span>drop<span style=\"color: #ffffff; text-decoration-color: #ffffff\">)</span>: <span style=\"color: #800080; text-decoration-color: #800080; font-weight: bold\">Dropout</span><span style=\"color: #ffffff; text-decoration-color: #ffffff\">(</span><span style=\"color: #0000ff; text-decoration-color: #0000ff; font-style: italic\">p</span>=<span style=\"color: #ff00ff; text-decoration-color: #ff00ff\">0.2</span>, <span style=\"color: #0000ff; text-decoration-color: #0000ff; font-style: italic\">inplace</span>=<span style=\"color: #ff0000; text-decoration-color: #ff0000; font-style: italic\">False</span><span style=\"color: #ffffff; text-decoration-color: #ffffff\">)</span>\n",
              "    <span style=\"color: #ffffff; text-decoration-color: #ffffff\">(</span>h<span style=\"color: #ffffff; text-decoration-color: #ffffff\">)</span>: <span style=\"color: #800080; text-decoration-color: #800080; font-weight: bold\">ModuleList</span><span style=\"color: #ffffff; text-decoration-color: #ffffff\">(</span>\n",
              "      <span style=\"color: #ffffff; text-decoration-color: #ffffff\">(</span><span style=\"color: #ff00ff; text-decoration-color: #ff00ff\">0</span>-<span style=\"color: #ff00ff; text-decoration-color: #ff00ff\">5</span><span style=\"color: #ffffff; text-decoration-color: #ffffff\">)</span>: <span style=\"color: #ff00ff; text-decoration-color: #ff00ff\">6</span> x <span style=\"color: #800080; text-decoration-color: #800080; font-weight: bold\">Block</span><span style=\"color: #ffffff; text-decoration-color: #ffffff\">(</span>\n",
              "        <span style=\"color: #ffffff; text-decoration-color: #ffffff\">(</span>ln_1<span style=\"color: #ffffff; text-decoration-color: #ffffff\">)</span>: <span style=\"color: #800080; text-decoration-color: #800080; font-weight: bold\">LayerNorm</span><span style=\"color: #ffffff; text-decoration-color: #ffffff\">()</span>\n",
              "        <span style=\"color: #ffffff; text-decoration-color: #ffffff\">(</span>attn<span style=\"color: #ffffff; text-decoration-color: #ffffff\">)</span>: <span style=\"color: #800080; text-decoration-color: #800080; font-weight: bold\">CausalSelfAttention</span><span style=\"color: #ffffff; text-decoration-color: #ffffff\">(</span>\n",
              "          <span style=\"color: #ffffff; text-decoration-color: #ffffff\">(</span>c_attn<span style=\"color: #ffffff; text-decoration-color: #ffffff\">)</span>: <span style=\"color: #800080; text-decoration-color: #800080; font-weight: bold\">Linear</span><span style=\"color: #ffffff; text-decoration-color: #ffffff\">(</span><span style=\"color: #0000ff; text-decoration-color: #0000ff; font-style: italic\">in_features</span>=<span style=\"color: #ff00ff; text-decoration-color: #ff00ff\">384</span>, <span style=\"color: #0000ff; text-decoration-color: #0000ff; font-style: italic\">out_features</span>=<span style=\"color: #ff00ff; text-decoration-color: #ff00ff\">1152</span>, <span style=\"color: #0000ff; text-decoration-color: #0000ff; font-style: italic\">bias</span>=<span style=\"color: #ff0000; text-decoration-color: #ff0000; font-style: italic\">False</span><span style=\"color: #ffffff; text-decoration-color: #ffffff\">)</span>\n",
              "          <span style=\"color: #ffffff; text-decoration-color: #ffffff\">(</span>c_proj<span style=\"color: #ffffff; text-decoration-color: #ffffff\">)</span>: <span style=\"color: #800080; text-decoration-color: #800080; font-weight: bold\">Linear</span><span style=\"color: #ffffff; text-decoration-color: #ffffff\">(</span><span style=\"color: #0000ff; text-decoration-color: #0000ff; font-style: italic\">in_features</span>=<span style=\"color: #ff00ff; text-decoration-color: #ff00ff\">384</span>, <span style=\"color: #0000ff; text-decoration-color: #0000ff; font-style: italic\">out_features</span>=<span style=\"color: #ff00ff; text-decoration-color: #ff00ff\">384</span>, <span style=\"color: #0000ff; text-decoration-color: #0000ff; font-style: italic\">bias</span>=<span style=\"color: #ff0000; text-decoration-color: #ff0000; font-style: italic\">False</span><span style=\"color: #ffffff; text-decoration-color: #ffffff\">)</span>\n",
              "          <span style=\"color: #ffffff; text-decoration-color: #ffffff\">(</span>attn_dropout<span style=\"color: #ffffff; text-decoration-color: #ffffff\">)</span>: <span style=\"color: #800080; text-decoration-color: #800080; font-weight: bold\">Dropout</span><span style=\"color: #ffffff; text-decoration-color: #ffffff\">(</span><span style=\"color: #0000ff; text-decoration-color: #0000ff; font-style: italic\">p</span>=<span style=\"color: #ff00ff; text-decoration-color: #ff00ff\">0.2</span>, <span style=\"color: #0000ff; text-decoration-color: #0000ff; font-style: italic\">inplace</span>=<span style=\"color: #ff0000; text-decoration-color: #ff0000; font-style: italic\">False</span><span style=\"color: #ffffff; text-decoration-color: #ffffff\">)</span>\n",
              "          <span style=\"color: #ffffff; text-decoration-color: #ffffff\">(</span>resid_dropout<span style=\"color: #ffffff; text-decoration-color: #ffffff\">)</span>: <span style=\"color: #800080; text-decoration-color: #800080; font-weight: bold\">Dropout</span><span style=\"color: #ffffff; text-decoration-color: #ffffff\">(</span><span style=\"color: #0000ff; text-decoration-color: #0000ff; font-style: italic\">p</span>=<span style=\"color: #ff00ff; text-decoration-color: #ff00ff\">0.2</span>, <span style=\"color: #0000ff; text-decoration-color: #0000ff; font-style: italic\">inplace</span>=<span style=\"color: #ff0000; text-decoration-color: #ff0000; font-style: italic\">False</span><span style=\"color: #ffffff; text-decoration-color: #ffffff\">)</span>\n",
              "        <span style=\"color: #ffffff; text-decoration-color: #ffffff\">)</span>\n",
              "        <span style=\"color: #ffffff; text-decoration-color: #ffffff\">(</span>ln_2<span style=\"color: #ffffff; text-decoration-color: #ffffff\">)</span>: <span style=\"color: #800080; text-decoration-color: #800080; font-weight: bold\">LayerNorm</span><span style=\"color: #ffffff; text-decoration-color: #ffffff\">()</span>\n",
              "        <span style=\"color: #ffffff; text-decoration-color: #ffffff\">(</span>mlp<span style=\"color: #ffffff; text-decoration-color: #ffffff\">)</span>: <span style=\"color: #800080; text-decoration-color: #800080; font-weight: bold\">MLP</span><span style=\"color: #ffffff; text-decoration-color: #ffffff\">(</span>\n",
              "          <span style=\"color: #ffffff; text-decoration-color: #ffffff\">(</span>c_fc<span style=\"color: #ffffff; text-decoration-color: #ffffff\">)</span>: <span style=\"color: #800080; text-decoration-color: #800080; font-weight: bold\">Linear</span><span style=\"color: #ffffff; text-decoration-color: #ffffff\">(</span><span style=\"color: #0000ff; text-decoration-color: #0000ff; font-style: italic\">in_features</span>=<span style=\"color: #ff00ff; text-decoration-color: #ff00ff\">384</span>, <span style=\"color: #0000ff; text-decoration-color: #0000ff; font-style: italic\">out_features</span>=<span style=\"color: #ff00ff; text-decoration-color: #ff00ff\">1536</span>, <span style=\"color: #0000ff; text-decoration-color: #0000ff; font-style: italic\">bias</span>=<span style=\"color: #ff0000; text-decoration-color: #ff0000; font-style: italic\">False</span><span style=\"color: #ffffff; text-decoration-color: #ffffff\">)</span>\n",
              "          <span style=\"color: #ffffff; text-decoration-color: #ffffff\">(</span>act_fn<span style=\"color: #ffffff; text-decoration-color: #ffffff\">)</span>: <span style=\"color: #800080; text-decoration-color: #800080; font-weight: bold\">GELU</span><span style=\"color: #ffffff; text-decoration-color: #ffffff\">(</span><span style=\"color: #0000ff; text-decoration-color: #0000ff; font-style: italic\">approximate</span>=<span style=\"color: #00ff00; text-decoration-color: #00ff00; font-style: italic\">'none'</span><span style=\"color: #ffffff; text-decoration-color: #ffffff\">)</span>\n",
              "          <span style=\"color: #ffffff; text-decoration-color: #ffffff\">(</span>c_proj<span style=\"color: #ffffff; text-decoration-color: #ffffff\">)</span>: <span style=\"color: #800080; text-decoration-color: #800080; font-weight: bold\">Linear</span><span style=\"color: #ffffff; text-decoration-color: #ffffff\">(</span><span style=\"color: #0000ff; text-decoration-color: #0000ff; font-style: italic\">in_features</span>=<span style=\"color: #ff00ff; text-decoration-color: #ff00ff\">1536</span>, <span style=\"color: #0000ff; text-decoration-color: #0000ff; font-style: italic\">out_features</span>=<span style=\"color: #ff00ff; text-decoration-color: #ff00ff\">384</span>, <span style=\"color: #0000ff; text-decoration-color: #0000ff; font-style: italic\">bias</span>=<span style=\"color: #ff0000; text-decoration-color: #ff0000; font-style: italic\">False</span><span style=\"color: #ffffff; text-decoration-color: #ffffff\">)</span>\n",
              "          <span style=\"color: #ffffff; text-decoration-color: #ffffff\">(</span>dropout<span style=\"color: #ffffff; text-decoration-color: #ffffff\">)</span>: <span style=\"color: #800080; text-decoration-color: #800080; font-weight: bold\">Dropout</span><span style=\"color: #ffffff; text-decoration-color: #ffffff\">(</span><span style=\"color: #0000ff; text-decoration-color: #0000ff; font-style: italic\">p</span>=<span style=\"color: #ff00ff; text-decoration-color: #ff00ff\">0.2</span>, <span style=\"color: #0000ff; text-decoration-color: #0000ff; font-style: italic\">inplace</span>=<span style=\"color: #ff0000; text-decoration-color: #ff0000; font-style: italic\">False</span><span style=\"color: #ffffff; text-decoration-color: #ffffff\">)</span>\n",
              "        <span style=\"color: #ffffff; text-decoration-color: #ffffff\">)</span>\n",
              "      <span style=\"color: #ffffff; text-decoration-color: #ffffff\">)</span>\n",
              "    <span style=\"color: #ffffff; text-decoration-color: #ffffff\">)</span>\n",
              "    <span style=\"color: #ffffff; text-decoration-color: #ffffff\">(</span>ln_f<span style=\"color: #ffffff; text-decoration-color: #ffffff\">)</span>: <span style=\"color: #800080; text-decoration-color: #800080; font-weight: bold\">LayerNorm</span><span style=\"color: #ffffff; text-decoration-color: #ffffff\">()</span>\n",
              "  <span style=\"color: #ffffff; text-decoration-color: #ffffff\">)</span>\n",
              "  <span style=\"color: #ffffff; text-decoration-color: #ffffff\">(</span>lm_head<span style=\"color: #ffffff; text-decoration-color: #ffffff\">)</span>: <span style=\"color: #800080; text-decoration-color: #800080; font-weight: bold\">Linear</span><span style=\"color: #ffffff; text-decoration-color: #ffffff\">(</span><span style=\"color: #0000ff; text-decoration-color: #0000ff; font-style: italic\">in_features</span>=<span style=\"color: #ff00ff; text-decoration-color: #ff00ff\">384</span>, <span style=\"color: #0000ff; text-decoration-color: #0000ff; font-style: italic\">out_features</span>=<span style=\"color: #ff00ff; text-decoration-color: #ff00ff\">65</span>, <span style=\"color: #0000ff; text-decoration-color: #0000ff; font-style: italic\">bias</span>=<span style=\"color: #ff0000; text-decoration-color: #ff0000; font-style: italic\">False</span><span style=\"color: #ffffff; text-decoration-color: #ffffff\">)</span>\n",
              "<span style=\"color: #ffffff; text-decoration-color: #ffffff\">)</span>\n",
              "</pre>\n"
            ]
          },
          "metadata": {}
        },
        {
          "output_type": "display_data",
          "data": {
            "text/plain": [
              "\u001b[30m[\u001b[0m\u001b[30m2024-11-08 \u001b[0m\u001b[90m05:21:43.690056\u001b[0m\u001b[30m]\u001b[0m\u001b[30m[\u001b[0m\u001b[1;32mINFO\u001b[0m\u001b[30m]\u001b[0m\u001b[30m[\u001b[0m\u001b[3;34mtrainer.py\u001b[0m\u001b[94m:\u001b[0m\u001b[30m359\u001b[0m\u001b[30m]\u001b[0m\u001b[38;2;131;131;131m - \u001b[0m• self.\u001b[3;94mgrad_scaler\u001b[0m=\u001b[1m<\u001b[0m\u001b[1;95mtorch.cuda.amp.grad_scaler.GradScaler\u001b[0m\u001b[39m object at \u001b[0m\u001b[95m0x7ca06f12d090\u001b[0m\u001b[1m>\u001b[0m\n"
            ],
            "text/html": [
              "<pre style=\"white-space:pre;overflow-x:auto;line-height:normal;font-family:Menlo,'DejaVu Sans Mono',consolas,'Courier New',monospace\"><span style=\"color: #000000; text-decoration-color: #000000\">[</span><span style=\"color: #000000; text-decoration-color: #000000\">2024-11-08 </span><span style=\"color: #808080; text-decoration-color: #808080\">05:21:43.690056</span><span style=\"color: #000000; text-decoration-color: #000000\">][</span><span style=\"color: #008000; text-decoration-color: #008000; font-weight: bold\">INFO</span><span style=\"color: #000000; text-decoration-color: #000000\">][</span><span style=\"color: #000080; text-decoration-color: #000080; font-style: italic\">trainer.py</span><span style=\"color: #0000ff; text-decoration-color: #0000ff\">:</span><span style=\"color: #000000; text-decoration-color: #000000\">359</span><span style=\"color: #000000; text-decoration-color: #000000\">]</span><span style=\"color: #838383; text-decoration-color: #838383\"> - </span>• self.<span style=\"color: #0000ff; text-decoration-color: #0000ff; font-style: italic\">grad_scaler</span>=<span style=\"font-weight: bold\">&lt;</span><span style=\"color: #ff00ff; text-decoration-color: #ff00ff; font-weight: bold\">torch.cuda.amp.grad_scaler.GradScaler</span><span style=\"color: #000000; text-decoration-color: #000000\"> object at </span><span style=\"color: #ff00ff; text-decoration-color: #ff00ff\">0x7ca06f12d090</span><span style=\"font-weight: bold\">&gt;</span>\n",
              "</pre>\n"
            ]
          },
          "metadata": {}
        },
        {
          "output_type": "display_data",
          "data": {
            "text/plain": [
              "\u001b[30m[\u001b[0m\u001b[30m2024-11-08 \u001b[0m\u001b[90m05:21:43.693819\u001b[0m\u001b[30m]\u001b[0m\u001b[30m[\u001b[0m\u001b[1;32mINFO\u001b[0m\u001b[30m]\u001b[0m\u001b[30m[\u001b[0m\u001b[3;34mtrainer.py\u001b[0m\u001b[94m:\u001b[0m\u001b[30m360\u001b[0m\u001b[30m]\u001b[0m\u001b[38;2;131;131;131m - \u001b[0m• self.\u001b[3;94mmodel_engine\u001b[0m=\u001b[1;35mGPT\u001b[0m\u001b[97m(\u001b[0m\n",
              "  \u001b[97m(\u001b[0mtransformer\u001b[97m)\u001b[0m: \u001b[1;35mModuleDict\u001b[0m\u001b[97m(\u001b[0m\n",
              "    \u001b[97m(\u001b[0mwte\u001b[97m)\u001b[0m: \u001b[1;35mEmbedding\u001b[0m\u001b[97m(\u001b[0m\u001b[95m65\u001b[0m, \u001b[95m384\u001b[0m\u001b[97m)\u001b[0m\n",
              "    \u001b[97m(\u001b[0mwpe\u001b[97m)\u001b[0m: \u001b[1;35mEmbedding\u001b[0m\u001b[97m(\u001b[0m\u001b[95m256\u001b[0m, \u001b[95m384\u001b[0m\u001b[97m)\u001b[0m\n",
              "    \u001b[97m(\u001b[0mdrop\u001b[97m)\u001b[0m: \u001b[1;35mDropout\u001b[0m\u001b[97m(\u001b[0m\u001b[3;94mp\u001b[0m=\u001b[95m0\u001b[0m\u001b[95m.2\u001b[0m, \u001b[3;94minplace\u001b[0m=\u001b[3;91mFalse\u001b[0m\u001b[97m)\u001b[0m\n",
              "    \u001b[97m(\u001b[0mh\u001b[97m)\u001b[0m: \u001b[1;35mModuleList\u001b[0m\u001b[97m(\u001b[0m\n",
              "      \u001b[97m(\u001b[0m\u001b[95m0\u001b[0m-\u001b[95m5\u001b[0m\u001b[97m)\u001b[0m: \u001b[95m6\u001b[0m x \u001b[1;35mBlock\u001b[0m\u001b[97m(\u001b[0m\n",
              "        \u001b[97m(\u001b[0mln_1\u001b[97m)\u001b[0m: \u001b[1;35mLayerNorm\u001b[0m\u001b[97m(\u001b[0m\u001b[97m)\u001b[0m\n",
              "        \u001b[97m(\u001b[0mattn\u001b[97m)\u001b[0m: \u001b[1;35mCausalSelfAttention\u001b[0m\u001b[97m(\u001b[0m\n",
              "          \u001b[97m(\u001b[0mc_attn\u001b[97m)\u001b[0m: \u001b[1;35mLinear\u001b[0m\u001b[97m(\u001b[0m\u001b[3;94min_features\u001b[0m=\u001b[95m384\u001b[0m, \u001b[3;94mout_features\u001b[0m=\u001b[95m1152\u001b[0m, \u001b[3;94mbias\u001b[0m=\u001b[3;91mFalse\u001b[0m\u001b[97m)\u001b[0m\n",
              "          \u001b[97m(\u001b[0mc_proj\u001b[97m)\u001b[0m: \u001b[1;35mLinear\u001b[0m\u001b[97m(\u001b[0m\u001b[3;94min_features\u001b[0m=\u001b[95m384\u001b[0m, \u001b[3;94mout_features\u001b[0m=\u001b[95m384\u001b[0m, \u001b[3;94mbias\u001b[0m=\u001b[3;91mFalse\u001b[0m\u001b[97m)\u001b[0m\n",
              "          \u001b[97m(\u001b[0mattn_dropout\u001b[97m)\u001b[0m: \u001b[1;35mDropout\u001b[0m\u001b[97m(\u001b[0m\u001b[3;94mp\u001b[0m=\u001b[95m0\u001b[0m\u001b[95m.2\u001b[0m, \u001b[3;94minplace\u001b[0m=\u001b[3;91mFalse\u001b[0m\u001b[97m)\u001b[0m\n",
              "          \u001b[97m(\u001b[0mresid_dropout\u001b[97m)\u001b[0m: \u001b[1;35mDropout\u001b[0m\u001b[97m(\u001b[0m\u001b[3;94mp\u001b[0m=\u001b[95m0\u001b[0m\u001b[95m.2\u001b[0m, \u001b[3;94minplace\u001b[0m=\u001b[3;91mFalse\u001b[0m\u001b[97m)\u001b[0m\n",
              "        \u001b[97m)\u001b[0m\n",
              "        \u001b[97m(\u001b[0mln_2\u001b[97m)\u001b[0m: \u001b[1;35mLayerNorm\u001b[0m\u001b[97m(\u001b[0m\u001b[97m)\u001b[0m\n",
              "        \u001b[97m(\u001b[0mmlp\u001b[97m)\u001b[0m: \u001b[1;35mMLP\u001b[0m\u001b[97m(\u001b[0m\n",
              "          \u001b[97m(\u001b[0mc_fc\u001b[97m)\u001b[0m: \u001b[1;35mLinear\u001b[0m\u001b[97m(\u001b[0m\u001b[3;94min_features\u001b[0m=\u001b[95m384\u001b[0m, \u001b[3;94mout_features\u001b[0m=\u001b[95m1536\u001b[0m, \u001b[3;94mbias\u001b[0m=\u001b[3;91mFalse\u001b[0m\u001b[97m)\u001b[0m\n",
              "          \u001b[97m(\u001b[0mact_fn\u001b[97m)\u001b[0m: \u001b[1;35mGELU\u001b[0m\u001b[97m(\u001b[0m\u001b[3;94mapproximate\u001b[0m=\u001b[3;92m'none'\u001b[0m\u001b[97m)\u001b[0m\n",
              "          \u001b[97m(\u001b[0mc_proj\u001b[97m)\u001b[0m: \u001b[1;35mLinear\u001b[0m\u001b[97m(\u001b[0m\u001b[3;94min_features\u001b[0m=\u001b[95m1536\u001b[0m, \u001b[3;94mout_features\u001b[0m=\u001b[95m384\u001b[0m, \u001b[3;94mbias\u001b[0m=\u001b[3;91mFalse\u001b[0m\u001b[97m)\u001b[0m\n",
              "          \u001b[97m(\u001b[0mdropout\u001b[97m)\u001b[0m: \u001b[1;35mDropout\u001b[0m\u001b[97m(\u001b[0m\u001b[3;94mp\u001b[0m=\u001b[95m0\u001b[0m\u001b[95m.2\u001b[0m, \u001b[3;94minplace\u001b[0m=\u001b[3;91mFalse\u001b[0m\u001b[97m)\u001b[0m\n",
              "        \u001b[97m)\u001b[0m\n",
              "      \u001b[97m)\u001b[0m\n",
              "    \u001b[97m)\u001b[0m\n",
              "    \u001b[97m(\u001b[0mln_f\u001b[97m)\u001b[0m: \u001b[1;35mLayerNorm\u001b[0m\u001b[97m(\u001b[0m\u001b[97m)\u001b[0m\n",
              "  \u001b[97m)\u001b[0m\n",
              "  \u001b[97m(\u001b[0mlm_head\u001b[97m)\u001b[0m: \u001b[1;35mLinear\u001b[0m\u001b[97m(\u001b[0m\u001b[3;94min_features\u001b[0m=\u001b[95m384\u001b[0m, \u001b[3;94mout_features\u001b[0m=\u001b[95m65\u001b[0m, \u001b[3;94mbias\u001b[0m=\u001b[3;91mFalse\u001b[0m\u001b[97m)\u001b[0m\n",
              "\u001b[97m)\u001b[0m\n"
            ],
            "text/html": [
              "<pre style=\"white-space:pre;overflow-x:auto;line-height:normal;font-family:Menlo,'DejaVu Sans Mono',consolas,'Courier New',monospace\"><span style=\"color: #000000; text-decoration-color: #000000\">[</span><span style=\"color: #000000; text-decoration-color: #000000\">2024-11-08 </span><span style=\"color: #808080; text-decoration-color: #808080\">05:21:43.693819</span><span style=\"color: #000000; text-decoration-color: #000000\">][</span><span style=\"color: #008000; text-decoration-color: #008000; font-weight: bold\">INFO</span><span style=\"color: #000000; text-decoration-color: #000000\">][</span><span style=\"color: #000080; text-decoration-color: #000080; font-style: italic\">trainer.py</span><span style=\"color: #0000ff; text-decoration-color: #0000ff\">:</span><span style=\"color: #000000; text-decoration-color: #000000\">360</span><span style=\"color: #000000; text-decoration-color: #000000\">]</span><span style=\"color: #838383; text-decoration-color: #838383\"> - </span>• self.<span style=\"color: #0000ff; text-decoration-color: #0000ff; font-style: italic\">model_engine</span>=<span style=\"color: #800080; text-decoration-color: #800080; font-weight: bold\">GPT</span><span style=\"color: #ffffff; text-decoration-color: #ffffff\">(</span>\n",
              "  <span style=\"color: #ffffff; text-decoration-color: #ffffff\">(</span>transformer<span style=\"color: #ffffff; text-decoration-color: #ffffff\">)</span>: <span style=\"color: #800080; text-decoration-color: #800080; font-weight: bold\">ModuleDict</span><span style=\"color: #ffffff; text-decoration-color: #ffffff\">(</span>\n",
              "    <span style=\"color: #ffffff; text-decoration-color: #ffffff\">(</span>wte<span style=\"color: #ffffff; text-decoration-color: #ffffff\">)</span>: <span style=\"color: #800080; text-decoration-color: #800080; font-weight: bold\">Embedding</span><span style=\"color: #ffffff; text-decoration-color: #ffffff\">(</span><span style=\"color: #ff00ff; text-decoration-color: #ff00ff\">65</span>, <span style=\"color: #ff00ff; text-decoration-color: #ff00ff\">384</span><span style=\"color: #ffffff; text-decoration-color: #ffffff\">)</span>\n",
              "    <span style=\"color: #ffffff; text-decoration-color: #ffffff\">(</span>wpe<span style=\"color: #ffffff; text-decoration-color: #ffffff\">)</span>: <span style=\"color: #800080; text-decoration-color: #800080; font-weight: bold\">Embedding</span><span style=\"color: #ffffff; text-decoration-color: #ffffff\">(</span><span style=\"color: #ff00ff; text-decoration-color: #ff00ff\">256</span>, <span style=\"color: #ff00ff; text-decoration-color: #ff00ff\">384</span><span style=\"color: #ffffff; text-decoration-color: #ffffff\">)</span>\n",
              "    <span style=\"color: #ffffff; text-decoration-color: #ffffff\">(</span>drop<span style=\"color: #ffffff; text-decoration-color: #ffffff\">)</span>: <span style=\"color: #800080; text-decoration-color: #800080; font-weight: bold\">Dropout</span><span style=\"color: #ffffff; text-decoration-color: #ffffff\">(</span><span style=\"color: #0000ff; text-decoration-color: #0000ff; font-style: italic\">p</span>=<span style=\"color: #ff00ff; text-decoration-color: #ff00ff\">0.2</span>, <span style=\"color: #0000ff; text-decoration-color: #0000ff; font-style: italic\">inplace</span>=<span style=\"color: #ff0000; text-decoration-color: #ff0000; font-style: italic\">False</span><span style=\"color: #ffffff; text-decoration-color: #ffffff\">)</span>\n",
              "    <span style=\"color: #ffffff; text-decoration-color: #ffffff\">(</span>h<span style=\"color: #ffffff; text-decoration-color: #ffffff\">)</span>: <span style=\"color: #800080; text-decoration-color: #800080; font-weight: bold\">ModuleList</span><span style=\"color: #ffffff; text-decoration-color: #ffffff\">(</span>\n",
              "      <span style=\"color: #ffffff; text-decoration-color: #ffffff\">(</span><span style=\"color: #ff00ff; text-decoration-color: #ff00ff\">0</span>-<span style=\"color: #ff00ff; text-decoration-color: #ff00ff\">5</span><span style=\"color: #ffffff; text-decoration-color: #ffffff\">)</span>: <span style=\"color: #ff00ff; text-decoration-color: #ff00ff\">6</span> x <span style=\"color: #800080; text-decoration-color: #800080; font-weight: bold\">Block</span><span style=\"color: #ffffff; text-decoration-color: #ffffff\">(</span>\n",
              "        <span style=\"color: #ffffff; text-decoration-color: #ffffff\">(</span>ln_1<span style=\"color: #ffffff; text-decoration-color: #ffffff\">)</span>: <span style=\"color: #800080; text-decoration-color: #800080; font-weight: bold\">LayerNorm</span><span style=\"color: #ffffff; text-decoration-color: #ffffff\">()</span>\n",
              "        <span style=\"color: #ffffff; text-decoration-color: #ffffff\">(</span>attn<span style=\"color: #ffffff; text-decoration-color: #ffffff\">)</span>: <span style=\"color: #800080; text-decoration-color: #800080; font-weight: bold\">CausalSelfAttention</span><span style=\"color: #ffffff; text-decoration-color: #ffffff\">(</span>\n",
              "          <span style=\"color: #ffffff; text-decoration-color: #ffffff\">(</span>c_attn<span style=\"color: #ffffff; text-decoration-color: #ffffff\">)</span>: <span style=\"color: #800080; text-decoration-color: #800080; font-weight: bold\">Linear</span><span style=\"color: #ffffff; text-decoration-color: #ffffff\">(</span><span style=\"color: #0000ff; text-decoration-color: #0000ff; font-style: italic\">in_features</span>=<span style=\"color: #ff00ff; text-decoration-color: #ff00ff\">384</span>, <span style=\"color: #0000ff; text-decoration-color: #0000ff; font-style: italic\">out_features</span>=<span style=\"color: #ff00ff; text-decoration-color: #ff00ff\">1152</span>, <span style=\"color: #0000ff; text-decoration-color: #0000ff; font-style: italic\">bias</span>=<span style=\"color: #ff0000; text-decoration-color: #ff0000; font-style: italic\">False</span><span style=\"color: #ffffff; text-decoration-color: #ffffff\">)</span>\n",
              "          <span style=\"color: #ffffff; text-decoration-color: #ffffff\">(</span>c_proj<span style=\"color: #ffffff; text-decoration-color: #ffffff\">)</span>: <span style=\"color: #800080; text-decoration-color: #800080; font-weight: bold\">Linear</span><span style=\"color: #ffffff; text-decoration-color: #ffffff\">(</span><span style=\"color: #0000ff; text-decoration-color: #0000ff; font-style: italic\">in_features</span>=<span style=\"color: #ff00ff; text-decoration-color: #ff00ff\">384</span>, <span style=\"color: #0000ff; text-decoration-color: #0000ff; font-style: italic\">out_features</span>=<span style=\"color: #ff00ff; text-decoration-color: #ff00ff\">384</span>, <span style=\"color: #0000ff; text-decoration-color: #0000ff; font-style: italic\">bias</span>=<span style=\"color: #ff0000; text-decoration-color: #ff0000; font-style: italic\">False</span><span style=\"color: #ffffff; text-decoration-color: #ffffff\">)</span>\n",
              "          <span style=\"color: #ffffff; text-decoration-color: #ffffff\">(</span>attn_dropout<span style=\"color: #ffffff; text-decoration-color: #ffffff\">)</span>: <span style=\"color: #800080; text-decoration-color: #800080; font-weight: bold\">Dropout</span><span style=\"color: #ffffff; text-decoration-color: #ffffff\">(</span><span style=\"color: #0000ff; text-decoration-color: #0000ff; font-style: italic\">p</span>=<span style=\"color: #ff00ff; text-decoration-color: #ff00ff\">0.2</span>, <span style=\"color: #0000ff; text-decoration-color: #0000ff; font-style: italic\">inplace</span>=<span style=\"color: #ff0000; text-decoration-color: #ff0000; font-style: italic\">False</span><span style=\"color: #ffffff; text-decoration-color: #ffffff\">)</span>\n",
              "          <span style=\"color: #ffffff; text-decoration-color: #ffffff\">(</span>resid_dropout<span style=\"color: #ffffff; text-decoration-color: #ffffff\">)</span>: <span style=\"color: #800080; text-decoration-color: #800080; font-weight: bold\">Dropout</span><span style=\"color: #ffffff; text-decoration-color: #ffffff\">(</span><span style=\"color: #0000ff; text-decoration-color: #0000ff; font-style: italic\">p</span>=<span style=\"color: #ff00ff; text-decoration-color: #ff00ff\">0.2</span>, <span style=\"color: #0000ff; text-decoration-color: #0000ff; font-style: italic\">inplace</span>=<span style=\"color: #ff0000; text-decoration-color: #ff0000; font-style: italic\">False</span><span style=\"color: #ffffff; text-decoration-color: #ffffff\">)</span>\n",
              "        <span style=\"color: #ffffff; text-decoration-color: #ffffff\">)</span>\n",
              "        <span style=\"color: #ffffff; text-decoration-color: #ffffff\">(</span>ln_2<span style=\"color: #ffffff; text-decoration-color: #ffffff\">)</span>: <span style=\"color: #800080; text-decoration-color: #800080; font-weight: bold\">LayerNorm</span><span style=\"color: #ffffff; text-decoration-color: #ffffff\">()</span>\n",
              "        <span style=\"color: #ffffff; text-decoration-color: #ffffff\">(</span>mlp<span style=\"color: #ffffff; text-decoration-color: #ffffff\">)</span>: <span style=\"color: #800080; text-decoration-color: #800080; font-weight: bold\">MLP</span><span style=\"color: #ffffff; text-decoration-color: #ffffff\">(</span>\n",
              "          <span style=\"color: #ffffff; text-decoration-color: #ffffff\">(</span>c_fc<span style=\"color: #ffffff; text-decoration-color: #ffffff\">)</span>: <span style=\"color: #800080; text-decoration-color: #800080; font-weight: bold\">Linear</span><span style=\"color: #ffffff; text-decoration-color: #ffffff\">(</span><span style=\"color: #0000ff; text-decoration-color: #0000ff; font-style: italic\">in_features</span>=<span style=\"color: #ff00ff; text-decoration-color: #ff00ff\">384</span>, <span style=\"color: #0000ff; text-decoration-color: #0000ff; font-style: italic\">out_features</span>=<span style=\"color: #ff00ff; text-decoration-color: #ff00ff\">1536</span>, <span style=\"color: #0000ff; text-decoration-color: #0000ff; font-style: italic\">bias</span>=<span style=\"color: #ff0000; text-decoration-color: #ff0000; font-style: italic\">False</span><span style=\"color: #ffffff; text-decoration-color: #ffffff\">)</span>\n",
              "          <span style=\"color: #ffffff; text-decoration-color: #ffffff\">(</span>act_fn<span style=\"color: #ffffff; text-decoration-color: #ffffff\">)</span>: <span style=\"color: #800080; text-decoration-color: #800080; font-weight: bold\">GELU</span><span style=\"color: #ffffff; text-decoration-color: #ffffff\">(</span><span style=\"color: #0000ff; text-decoration-color: #0000ff; font-style: italic\">approximate</span>=<span style=\"color: #00ff00; text-decoration-color: #00ff00; font-style: italic\">'none'</span><span style=\"color: #ffffff; text-decoration-color: #ffffff\">)</span>\n",
              "          <span style=\"color: #ffffff; text-decoration-color: #ffffff\">(</span>c_proj<span style=\"color: #ffffff; text-decoration-color: #ffffff\">)</span>: <span style=\"color: #800080; text-decoration-color: #800080; font-weight: bold\">Linear</span><span style=\"color: #ffffff; text-decoration-color: #ffffff\">(</span><span style=\"color: #0000ff; text-decoration-color: #0000ff; font-style: italic\">in_features</span>=<span style=\"color: #ff00ff; text-decoration-color: #ff00ff\">1536</span>, <span style=\"color: #0000ff; text-decoration-color: #0000ff; font-style: italic\">out_features</span>=<span style=\"color: #ff00ff; text-decoration-color: #ff00ff\">384</span>, <span style=\"color: #0000ff; text-decoration-color: #0000ff; font-style: italic\">bias</span>=<span style=\"color: #ff0000; text-decoration-color: #ff0000; font-style: italic\">False</span><span style=\"color: #ffffff; text-decoration-color: #ffffff\">)</span>\n",
              "          <span style=\"color: #ffffff; text-decoration-color: #ffffff\">(</span>dropout<span style=\"color: #ffffff; text-decoration-color: #ffffff\">)</span>: <span style=\"color: #800080; text-decoration-color: #800080; font-weight: bold\">Dropout</span><span style=\"color: #ffffff; text-decoration-color: #ffffff\">(</span><span style=\"color: #0000ff; text-decoration-color: #0000ff; font-style: italic\">p</span>=<span style=\"color: #ff00ff; text-decoration-color: #ff00ff\">0.2</span>, <span style=\"color: #0000ff; text-decoration-color: #0000ff; font-style: italic\">inplace</span>=<span style=\"color: #ff0000; text-decoration-color: #ff0000; font-style: italic\">False</span><span style=\"color: #ffffff; text-decoration-color: #ffffff\">)</span>\n",
              "        <span style=\"color: #ffffff; text-decoration-color: #ffffff\">)</span>\n",
              "      <span style=\"color: #ffffff; text-decoration-color: #ffffff\">)</span>\n",
              "    <span style=\"color: #ffffff; text-decoration-color: #ffffff\">)</span>\n",
              "    <span style=\"color: #ffffff; text-decoration-color: #ffffff\">(</span>ln_f<span style=\"color: #ffffff; text-decoration-color: #ffffff\">)</span>: <span style=\"color: #800080; text-decoration-color: #800080; font-weight: bold\">LayerNorm</span><span style=\"color: #ffffff; text-decoration-color: #ffffff\">()</span>\n",
              "  <span style=\"color: #ffffff; text-decoration-color: #ffffff\">)</span>\n",
              "  <span style=\"color: #ffffff; text-decoration-color: #ffffff\">(</span>lm_head<span style=\"color: #ffffff; text-decoration-color: #ffffff\">)</span>: <span style=\"color: #800080; text-decoration-color: #800080; font-weight: bold\">Linear</span><span style=\"color: #ffffff; text-decoration-color: #ffffff\">(</span><span style=\"color: #0000ff; text-decoration-color: #0000ff; font-style: italic\">in_features</span>=<span style=\"color: #ff00ff; text-decoration-color: #ff00ff\">384</span>, <span style=\"color: #0000ff; text-decoration-color: #0000ff; font-style: italic\">out_features</span>=<span style=\"color: #ff00ff; text-decoration-color: #ff00ff\">65</span>, <span style=\"color: #0000ff; text-decoration-color: #0000ff; font-style: italic\">bias</span>=<span style=\"color: #ff0000; text-decoration-color: #ff0000; font-style: italic\">False</span><span style=\"color: #ffffff; text-decoration-color: #ffffff\">)</span>\n",
              "<span style=\"color: #ffffff; text-decoration-color: #ffffff\">)</span>\n",
              "</pre>\n"
            ]
          },
          "metadata": {}
        },
        {
          "output_type": "display_data",
          "data": {
            "text/plain": [
              "\u001b[30m[\u001b[0m\u001b[30m2024-11-08 \u001b[0m\u001b[90m05:21:43.705529\u001b[0m\u001b[30m]\u001b[0m\u001b[30m[\u001b[0m\u001b[1;32mINFO\u001b[0m\u001b[30m]\u001b[0m\u001b[30m[\u001b[0m\u001b[3;34mtrainer.py\u001b[0m\u001b[94m:\u001b[0m\u001b[30m361\u001b[0m\u001b[30m]\u001b[0m\u001b[38;2;131;131;131m - \u001b[0m• self.\u001b[3;94moptimizer\u001b[0m=\u001b[95mAdamW\u001b[0m \u001b[97m(\u001b[0m\n",
              "Parameter Group \u001b[95m0\u001b[0m\n",
              "    amsgrad: \u001b[3;91mFalse\u001b[0m\n",
              "    betas: \u001b[97m(\u001b[0m\u001b[95m0.9\u001b[0m, \u001b[95m0.99\u001b[0m\u001b[97m)\u001b[0m\n",
              "    capturable: \u001b[3;91mFalse\u001b[0m\n",
              "    differentiable: \u001b[3;91mFalse\u001b[0m\n",
              "    eps: \u001b[95m1e-08\u001b[0m\n",
              "    foreach: \u001b[3;95mNone\u001b[0m\n",
              "    fused: \u001b[3;92mTrue\u001b[0m\n",
              "    lr: \u001b[95m0.001\u001b[0m\n",
              "    maximize: \u001b[3;91mFalse\u001b[0m\n",
              "    weight_decay: \u001b[95m0.1\u001b[0m\n",
              "\n",
              "Parameter Group \u001b[95m1\u001b[0m\n",
              "    amsgrad: \u001b[3;91mFalse\u001b[0m\n",
              "    betas: \u001b[97m(\u001b[0m\u001b[95m0.9\u001b[0m, \u001b[95m0.99\u001b[0m\u001b[97m)\u001b[0m\n",
              "    capturable: \u001b[3;91mFalse\u001b[0m\n",
              "    differentiable: \u001b[3;91mFalse\u001b[0m\n",
              "    eps: \u001b[95m1e-08\u001b[0m\n",
              "    foreach: \u001b[3;95mNone\u001b[0m\n",
              "    fused: \u001b[3;92mTrue\u001b[0m\n",
              "    lr: \u001b[95m0.001\u001b[0m\n",
              "    maximize: \u001b[3;91mFalse\u001b[0m\n",
              "    weight_decay: \u001b[95m0.0\u001b[0m\n",
              "\u001b[97m)\u001b[0m\n"
            ],
            "text/html": [
              "<pre style=\"white-space:pre;overflow-x:auto;line-height:normal;font-family:Menlo,'DejaVu Sans Mono',consolas,'Courier New',monospace\"><span style=\"color: #000000; text-decoration-color: #000000\">[</span><span style=\"color: #000000; text-decoration-color: #000000\">2024-11-08 </span><span style=\"color: #808080; text-decoration-color: #808080\">05:21:43.705529</span><span style=\"color: #000000; text-decoration-color: #000000\">][</span><span style=\"color: #008000; text-decoration-color: #008000; font-weight: bold\">INFO</span><span style=\"color: #000000; text-decoration-color: #000000\">][</span><span style=\"color: #000080; text-decoration-color: #000080; font-style: italic\">trainer.py</span><span style=\"color: #0000ff; text-decoration-color: #0000ff\">:</span><span style=\"color: #000000; text-decoration-color: #000000\">361</span><span style=\"color: #000000; text-decoration-color: #000000\">]</span><span style=\"color: #838383; text-decoration-color: #838383\"> - </span>• self.<span style=\"color: #0000ff; text-decoration-color: #0000ff; font-style: italic\">optimizer</span>=<span style=\"color: #ff00ff; text-decoration-color: #ff00ff\">AdamW</span> <span style=\"color: #ffffff; text-decoration-color: #ffffff\">(</span>\n",
              "Parameter Group <span style=\"color: #ff00ff; text-decoration-color: #ff00ff\">0</span>\n",
              "    amsgrad: <span style=\"color: #ff0000; text-decoration-color: #ff0000; font-style: italic\">False</span>\n",
              "    betas: <span style=\"color: #ffffff; text-decoration-color: #ffffff\">(</span><span style=\"color: #ff00ff; text-decoration-color: #ff00ff\">0.9</span>, <span style=\"color: #ff00ff; text-decoration-color: #ff00ff\">0.99</span><span style=\"color: #ffffff; text-decoration-color: #ffffff\">)</span>\n",
              "    capturable: <span style=\"color: #ff0000; text-decoration-color: #ff0000; font-style: italic\">False</span>\n",
              "    differentiable: <span style=\"color: #ff0000; text-decoration-color: #ff0000; font-style: italic\">False</span>\n",
              "    eps: <span style=\"color: #ff00ff; text-decoration-color: #ff00ff\">1e-08</span>\n",
              "    foreach: <span style=\"color: #ff00ff; text-decoration-color: #ff00ff; font-style: italic\">None</span>\n",
              "    fused: <span style=\"color: #00ff00; text-decoration-color: #00ff00; font-style: italic\">True</span>\n",
              "    lr: <span style=\"color: #ff00ff; text-decoration-color: #ff00ff\">0.001</span>\n",
              "    maximize: <span style=\"color: #ff0000; text-decoration-color: #ff0000; font-style: italic\">False</span>\n",
              "    weight_decay: <span style=\"color: #ff00ff; text-decoration-color: #ff00ff\">0.1</span>\n",
              "\n",
              "Parameter Group <span style=\"color: #ff00ff; text-decoration-color: #ff00ff\">1</span>\n",
              "    amsgrad: <span style=\"color: #ff0000; text-decoration-color: #ff0000; font-style: italic\">False</span>\n",
              "    betas: <span style=\"color: #ffffff; text-decoration-color: #ffffff\">(</span><span style=\"color: #ff00ff; text-decoration-color: #ff00ff\">0.9</span>, <span style=\"color: #ff00ff; text-decoration-color: #ff00ff\">0.99</span><span style=\"color: #ffffff; text-decoration-color: #ffffff\">)</span>\n",
              "    capturable: <span style=\"color: #ff0000; text-decoration-color: #ff0000; font-style: italic\">False</span>\n",
              "    differentiable: <span style=\"color: #ff0000; text-decoration-color: #ff0000; font-style: italic\">False</span>\n",
              "    eps: <span style=\"color: #ff00ff; text-decoration-color: #ff00ff\">1e-08</span>\n",
              "    foreach: <span style=\"color: #ff00ff; text-decoration-color: #ff00ff; font-style: italic\">None</span>\n",
              "    fused: <span style=\"color: #00ff00; text-decoration-color: #00ff00; font-style: italic\">True</span>\n",
              "    lr: <span style=\"color: #ff00ff; text-decoration-color: #ff00ff\">0.001</span>\n",
              "    maximize: <span style=\"color: #ff0000; text-decoration-color: #ff0000; font-style: italic\">False</span>\n",
              "    weight_decay: <span style=\"color: #ff00ff; text-decoration-color: #ff00ff\">0.0</span>\n",
              "<span style=\"color: #ffffff; text-decoration-color: #ffffff\">)</span>\n",
              "</pre>\n"
            ]
          },
          "metadata": {}
        }
      ],
      "source": [
        "trainer = Trainer(config)"
      ]
    },
    {
      "cell_type": "markdown",
      "id": "cca969e9-5132-42a8-9728-9db1bce6a198",
      "metadata": {
        "id": "cca969e9-5132-42a8-9728-9db1bce6a198",
        "jupyter": {
          "source_hidden": false
        }
      },
      "source": [
        "## Prompt (**prior** to training)"
      ]
    },
    {
      "cell_type": "code",
      "execution_count": null,
      "id": "d4f50e19",
      "metadata": {
        "colab": {
          "base_uri": "https://localhost:8080/",
          "height": 225
        },
        "id": "d4f50e19",
        "jupyter": {
          "outputs_hidden": false,
          "source_hidden": false
        },
        "outputId": "5598c9a2-7b6d-4002-aa89-90b6cec34313"
      },
      "outputs": [
        {
          "output_type": "display_data",
          "data": {
            "text/plain": [
              "\u001b[30m[\u001b[0m\u001b[30m2024-11-08 \u001b[0m\u001b[90m05:23:08.678974\u001b[0m\u001b[30m]\u001b[0m\u001b[30m[\u001b[0m\u001b[1;32mINFO\u001b[0m\u001b[30m]\u001b[0m\u001b[30m[\u001b[0m\u001b[3;34mtrainer.py\u001b[0m\u001b[94m:\u001b[0m\u001b[30m979\u001b[0m\u001b[30m]\u001b[0m\u001b[38;2;131;131;131m - \u001b[0m\u001b[97m[\u001b[0mprompt\u001b[97m]\u001b[0m: \u001b[3;92m'What is an LLM?:IQIi-VV'\u001b[0mV-\u001b[3;92m'peHQK'\u001b[0msQVbHcpAibsalHbbbbEGffSH:sB:QVhRVSVb--Z'\n"
            ],
            "text/html": [
              "<pre style=\"white-space:pre;overflow-x:auto;line-height:normal;font-family:Menlo,'DejaVu Sans Mono',consolas,'Courier New',monospace\"><span style=\"color: #000000; text-decoration-color: #000000\">[</span><span style=\"color: #000000; text-decoration-color: #000000\">2024-11-08 </span><span style=\"color: #808080; text-decoration-color: #808080\">05:23:08.678974</span><span style=\"color: #000000; text-decoration-color: #000000\">][</span><span style=\"color: #008000; text-decoration-color: #008000; font-weight: bold\">INFO</span><span style=\"color: #000000; text-decoration-color: #000000\">][</span><span style=\"color: #000080; text-decoration-color: #000080; font-style: italic\">trainer.py</span><span style=\"color: #0000ff; text-decoration-color: #0000ff\">:</span><span style=\"color: #000000; text-decoration-color: #000000\">979</span><span style=\"color: #000000; text-decoration-color: #000000\">]</span><span style=\"color: #838383; text-decoration-color: #838383\"> - </span><span style=\"color: #ffffff; text-decoration-color: #ffffff\">[</span>prompt<span style=\"color: #ffffff; text-decoration-color: #ffffff\">]</span>: <span style=\"color: #00ff00; text-decoration-color: #00ff00; font-style: italic\">'What is an LLM?:IQIi-VV'</span>V-<span style=\"color: #00ff00; text-decoration-color: #00ff00; font-style: italic\">'peHQK'</span>sQVbHcpAibsalHbbbbEGffSH:sB:QVhRVSVb--Z'\n",
              "</pre>\n"
            ]
          },
          "metadata": {}
        },
        {
          "output_type": "display_data",
          "data": {
            "text/plain": [
              "\u001b[30m[\u001b[0m\u001b[30m2024-11-08 \u001b[0m\u001b[90m05:23:08.682142\u001b[0m\u001b[30m]\u001b[0m\u001b[30m[\u001b[0m\u001b[1;32mINFO\u001b[0m\u001b[30m]\u001b[0m\u001b[30m[\u001b[0m\u001b[3;34mtrainer.py\u001b[0m\u001b[94m:\u001b[0m\u001b[30m980\u001b[0m\u001b[30m]\u001b[0m\u001b[38;2;131;131;131m - \u001b[0m> ZKMiI:sff:MHVbbVbbdd-ZbkiJHbS:yaafIKHHHS'la'hbs?wVVSCCiiX'aqsb-ZvQJJHHb'\u001b[3;92m'-hsHHaiY,EEaUV'\u001b[0m,qCeb\n",
              "> oLlZpIIjppbbJf-KayyC:vHHa KJJ\n",
              "> 'CrVY::G:sbbaf:sQhipNt,\n",
              "> \u001b[3;92m'sVYipJpYC'\u001b[0mSKiq$$iSSMsaacPa,QbIKttKK--wFbFFaiVEiii\n"
            ],
            "text/html": [
              "<pre style=\"white-space:pre;overflow-x:auto;line-height:normal;font-family:Menlo,'DejaVu Sans Mono',consolas,'Courier New',monospace\"><span style=\"color: #000000; text-decoration-color: #000000\">[</span><span style=\"color: #000000; text-decoration-color: #000000\">2024-11-08 </span><span style=\"color: #808080; text-decoration-color: #808080\">05:23:08.682142</span><span style=\"color: #000000; text-decoration-color: #000000\">][</span><span style=\"color: #008000; text-decoration-color: #008000; font-weight: bold\">INFO</span><span style=\"color: #000000; text-decoration-color: #000000\">][</span><span style=\"color: #000080; text-decoration-color: #000080; font-style: italic\">trainer.py</span><span style=\"color: #0000ff; text-decoration-color: #0000ff\">:</span><span style=\"color: #000000; text-decoration-color: #000000\">980</span><span style=\"color: #000000; text-decoration-color: #000000\">]</span><span style=\"color: #838383; text-decoration-color: #838383\"> - </span>&gt; ZKMiI:sff:MHVbbVbbdd-ZbkiJHbS:yaafIKHHHS'la'hbs?wVVSCCiiX'aqsb-ZvQJJHHb'<span style=\"color: #00ff00; text-decoration-color: #00ff00; font-style: italic\">'-hsHHaiY,EEaUV'</span>,qCeb\n",
              "&gt; oLlZpIIjppbbJf-KayyC:vHHa KJJ\n",
              "&gt; 'CrVY::G:sbbaf:sQhipNt,\n",
              "&gt; <span style=\"color: #00ff00; text-decoration-color: #00ff00; font-style: italic\">'sVYipJpYC'</span>SKiq$$iSSMsaacPa,QbIKttKK--wFbFFaiVEiii\n",
              "</pre>\n"
            ]
          },
          "metadata": {}
        },
        {
          "output_type": "display_data",
          "data": {
            "text/plain": [
              "\u001b[30m[\u001b[0m\u001b[30m2024-11-08 \u001b[0m\u001b[90m05:23:08.685833\u001b[0m\u001b[30m]\u001b[0m\u001b[30m[\u001b[0m\u001b[1;32mINFO\u001b[0m\u001b[30m]\u001b[0m\u001b[30m[\u001b[0m\u001b[3;34m<ipython-input-5-49a42458dcaa>\u001b[0m\u001b[94m:\u001b[0m\u001b[30m9\u001b[0m\u001b[30m]\u001b[0m\u001b[38;2;131;131;131m - \u001b[0m\u001b[97m[\u001b[0m\u001b[3;92m'prompt'\u001b[0m\u001b[97m]\u001b[0m: \u001b[3;92m'What is an LLM?'\u001b[0m\n"
            ],
            "text/html": [
              "<pre style=\"white-space:pre;overflow-x:auto;line-height:normal;font-family:Menlo,'DejaVu Sans Mono',consolas,'Courier New',monospace\"><span style=\"color: #000000; text-decoration-color: #000000\">[</span><span style=\"color: #000000; text-decoration-color: #000000\">2024-11-08 </span><span style=\"color: #808080; text-decoration-color: #808080\">05:23:08.685833</span><span style=\"color: #000000; text-decoration-color: #000000\">][</span><span style=\"color: #008000; text-decoration-color: #008000; font-weight: bold\">INFO</span><span style=\"color: #000000; text-decoration-color: #000000\">][</span><span style=\"color: #000080; text-decoration-color: #000080; font-style: italic\">&lt;ipython-input-5-49a42458dcaa&gt;</span><span style=\"color: #0000ff; text-decoration-color: #0000ff\">:</span><span style=\"color: #000000; text-decoration-color: #000000\">9</span><span style=\"color: #000000; text-decoration-color: #000000\">]</span><span style=\"color: #838383; text-decoration-color: #838383\"> - </span><span style=\"color: #ffffff; text-decoration-color: #ffffff\">[</span><span style=\"color: #00ff00; text-decoration-color: #00ff00; font-style: italic\">'prompt'</span><span style=\"color: #ffffff; text-decoration-color: #ffffff\">]</span>: <span style=\"color: #00ff00; text-decoration-color: #00ff00; font-style: italic\">'What is an LLM?'</span>\n",
              "</pre>\n"
            ]
          },
          "metadata": {}
        },
        {
          "output_type": "display_data",
          "data": {
            "text/plain": [
              "\u001b[30m[\u001b[0m\u001b[30m2024-11-08 \u001b[0m\u001b[90m05:23:08.689590\u001b[0m\u001b[30m]\u001b[0m\u001b[30m[\u001b[0m\u001b[1;32mINFO\u001b[0m\u001b[30m]\u001b[0m\u001b[30m[\u001b[0m\u001b[3;34m<ipython-input-5-49a42458dcaa>\u001b[0m\u001b[94m:\u001b[0m\u001b[30m10\u001b[0m\u001b[30m]\u001b[0m\u001b[38;2;131;131;131m - \u001b[0m\u001b[97m[\u001b[0m\u001b[3;92m'response'\u001b[0m\u001b[97m]\u001b[0m:\n",
              "\n",
              "What is an LLM?:IQIi-VV'V-\u001b[3;92m'peHQK'\u001b[0msQVbHcpAibsalHbbbbEGffSH:sB:QVhRVSVb--Z\n",
              "ZKMiI:sff:MHVbbVbbdd-ZbkiJHbS:yaafIKHHHS'la'hbs?wVVSCCiiX'aqsb-ZvQJJHHb'\u001b[3;92m'-hsHHaiY,EEaUV'\u001b[0m,qCeb\n",
              "oLlZpIIjppbbJf-KayyC:vHHa KJJ\n",
              "'CrVY::G:sbbaf:sQhipNt,\n",
              "\u001b[3;92m'sVYipJpYC'\u001b[0mSKiq$$iSSMsaacPa,QbIKttKK--wFbFFaiVEiii\n"
            ],
            "text/html": [
              "<pre style=\"white-space:pre;overflow-x:auto;line-height:normal;font-family:Menlo,'DejaVu Sans Mono',consolas,'Courier New',monospace\"><span style=\"color: #000000; text-decoration-color: #000000\">[</span><span style=\"color: #000000; text-decoration-color: #000000\">2024-11-08 </span><span style=\"color: #808080; text-decoration-color: #808080\">05:23:08.689590</span><span style=\"color: #000000; text-decoration-color: #000000\">][</span><span style=\"color: #008000; text-decoration-color: #008000; font-weight: bold\">INFO</span><span style=\"color: #000000; text-decoration-color: #000000\">][</span><span style=\"color: #000080; text-decoration-color: #000080; font-style: italic\">&lt;ipython-input-5-49a42458dcaa&gt;</span><span style=\"color: #0000ff; text-decoration-color: #0000ff\">:</span><span style=\"color: #000000; text-decoration-color: #000000\">10</span><span style=\"color: #000000; text-decoration-color: #000000\">]</span><span style=\"color: #838383; text-decoration-color: #838383\"> - </span><span style=\"color: #ffffff; text-decoration-color: #ffffff\">[</span><span style=\"color: #00ff00; text-decoration-color: #00ff00; font-style: italic\">'response'</span><span style=\"color: #ffffff; text-decoration-color: #ffffff\">]</span>:\n",
              "\n",
              "What is an LLM?:IQIi-VV'V-<span style=\"color: #00ff00; text-decoration-color: #00ff00; font-style: italic\">'peHQK'</span>sQVbHcpAibsalHbbbbEGffSH:sB:QVhRVSVb--Z\n",
              "ZKMiI:sff:MHVbbVbbdd-ZbkiJHbS:yaafIKHHHS'la'hbs?wVVSCCiiX'aqsb-ZvQJJHHb'<span style=\"color: #00ff00; text-decoration-color: #00ff00; font-style: italic\">'-hsHHaiY,EEaUV'</span>,qCeb\n",
              "oLlZpIIjppbbJf-KayyC:vHHa KJJ\n",
              "'CrVY::G:sbbaf:sQhipNt,\n",
              "<span style=\"color: #00ff00; text-decoration-color: #00ff00; font-style: italic\">'sVYipJpYC'</span>SKiq$$iSSMsaacPa,QbIKttKK--wFbFFaiVEiii\n",
              "</pre>\n"
            ]
          },
          "metadata": {}
        }
      ],
      "source": [
        "query = \"What is an LLM?\"\n",
        "outputs = trainer.evaluate(\n",
        "    query,\n",
        "    num_samples=1,\n",
        "    max_new_tokens=256,\n",
        "    top_k=16,\n",
        "    display=True\n",
        ")\n",
        "log.info(f\"['prompt']: '{query}'\")\n",
        "log.info(\"['response']:\\n\\n\" + fr\"{outputs['0']['raw']}\")"
      ]
    },
    {
      "cell_type": "markdown",
      "id": "c5202ff3-8811-47c9-8b9d-9818d4603697",
      "metadata": {
        "id": "c5202ff3-8811-47c9-8b9d-9818d4603697",
        "jupyter": {
          "source_hidden": false
        }
      },
      "source": [
        "## Train Model\n",
        "\n",
        "|  name  |       description            |\n",
        "|:------:|:----------------------------:|\n",
        "| `step` | Current training step        |\n",
        "| `loss` | Loss value                   |\n",
        "| `dt`   | Time per step (in **ms**)    |\n",
        "| `sps`  | Samples per second           |\n",
        "| `mtps` | (million) Tokens per sec     |\n",
        "| `mfu`  | Model Flops utilization[^1]  |\n",
        "^legend: #tbl-legend\n",
        "\n",
        "[^1]: in units of A100 `bfloat16` peak FLOPS"
      ]
    },
    {
      "cell_type": "code",
      "execution_count": null,
      "id": "291fa522",
      "metadata": {
        "colab": {
          "base_uri": "https://localhost:8080/",
          "height": 35
        },
        "id": "291fa522",
        "jupyter": {
          "outputs_hidden": false,
          "source_hidden": false
        },
        "outputId": "b477c708-2221-49bd-bd68-f6444bb2578f"
      },
      "outputs": [
        {
          "output_type": "execute_result",
          "data": {
            "text/plain": [
              "'cuda'"
            ],
            "application/vnd.google.colaboratory.intrinsic+json": {
              "type": "string"
            }
          },
          "metadata": {},
          "execution_count": 6
        }
      ],
      "source": [
        "trainer.config.device_type"
      ]
    },
    {
      "cell_type": "code",
      "execution_count": null,
      "id": "WhKRSNLCtNtk",
      "metadata": {
        "colab": {
          "base_uri": "https://localhost:8080/",
          "height": 449
        },
        "id": "WhKRSNLCtNtk",
        "outputId": "0e62f131-43b9-4d7d-bc6e-22eec3319afe"
      },
      "outputs": [
        {
          "output_type": "display_data",
          "data": {
            "text/plain": [
              "\u001b[1;35mGPT\u001b[0m\u001b[97m(\u001b[0m\n",
              "  \u001b[97m(\u001b[0mtransformer\u001b[97m)\u001b[0m: \u001b[1;35mModuleDict\u001b[0m\u001b[97m(\u001b[0m\n",
              "    \u001b[97m(\u001b[0mwte\u001b[97m)\u001b[0m: \u001b[1;35mEmbedding\u001b[0m\u001b[97m(\u001b[0m\u001b[95m65\u001b[0m, \u001b[95m384\u001b[0m\u001b[97m)\u001b[0m\n",
              "    \u001b[97m(\u001b[0mwpe\u001b[97m)\u001b[0m: \u001b[1;35mEmbedding\u001b[0m\u001b[97m(\u001b[0m\u001b[95m256\u001b[0m, \u001b[95m384\u001b[0m\u001b[97m)\u001b[0m\n",
              "    \u001b[97m(\u001b[0mdrop\u001b[97m)\u001b[0m: \u001b[1;35mDropout\u001b[0m\u001b[97m(\u001b[0m\u001b[3;94mp\u001b[0m=\u001b[95m0\u001b[0m\u001b[95m.2\u001b[0m, \u001b[3;94minplace\u001b[0m=\u001b[3;91mFalse\u001b[0m\u001b[97m)\u001b[0m\n",
              "    \u001b[97m(\u001b[0mh\u001b[97m)\u001b[0m: \u001b[1;35mModuleList\u001b[0m\u001b[97m(\u001b[0m\n",
              "      \u001b[97m(\u001b[0m\u001b[95m0\u001b[0m-\u001b[95m5\u001b[0m\u001b[97m)\u001b[0m: \u001b[95m6\u001b[0m x \u001b[1;35mBlock\u001b[0m\u001b[97m(\u001b[0m\n",
              "        \u001b[97m(\u001b[0mln_1\u001b[97m)\u001b[0m: \u001b[1;35mLayerNorm\u001b[0m\u001b[97m(\u001b[0m\u001b[97m)\u001b[0m\n",
              "        \u001b[97m(\u001b[0mattn\u001b[97m)\u001b[0m: \u001b[1;35mCausalSelfAttention\u001b[0m\u001b[97m(\u001b[0m\n",
              "          \u001b[97m(\u001b[0mc_attn\u001b[97m)\u001b[0m: \u001b[1;35mLinear\u001b[0m\u001b[97m(\u001b[0m\u001b[3;94min_features\u001b[0m=\u001b[95m384\u001b[0m, \u001b[3;94mout_features\u001b[0m=\u001b[95m1152\u001b[0m, \u001b[3;94mbias\u001b[0m=\u001b[3;91mFalse\u001b[0m\u001b[97m)\u001b[0m\n",
              "          \u001b[97m(\u001b[0mc_proj\u001b[97m)\u001b[0m: \u001b[1;35mLinear\u001b[0m\u001b[97m(\u001b[0m\u001b[3;94min_features\u001b[0m=\u001b[95m384\u001b[0m, \u001b[3;94mout_features\u001b[0m=\u001b[95m384\u001b[0m, \u001b[3;94mbias\u001b[0m=\u001b[3;91mFalse\u001b[0m\u001b[97m)\u001b[0m\n",
              "          \u001b[97m(\u001b[0mattn_dropout\u001b[97m)\u001b[0m: \u001b[1;35mDropout\u001b[0m\u001b[97m(\u001b[0m\u001b[3;94mp\u001b[0m=\u001b[95m0\u001b[0m\u001b[95m.2\u001b[0m, \u001b[3;94minplace\u001b[0m=\u001b[3;91mFalse\u001b[0m\u001b[97m)\u001b[0m\n",
              "          \u001b[97m(\u001b[0mresid_dropout\u001b[97m)\u001b[0m: \u001b[1;35mDropout\u001b[0m\u001b[97m(\u001b[0m\u001b[3;94mp\u001b[0m=\u001b[95m0\u001b[0m\u001b[95m.2\u001b[0m, \u001b[3;94minplace\u001b[0m=\u001b[3;91mFalse\u001b[0m\u001b[97m)\u001b[0m\n",
              "        \u001b[97m)\u001b[0m\n",
              "        \u001b[97m(\u001b[0mln_2\u001b[97m)\u001b[0m: \u001b[1;35mLayerNorm\u001b[0m\u001b[97m(\u001b[0m\u001b[97m)\u001b[0m\n",
              "        \u001b[97m(\u001b[0mmlp\u001b[97m)\u001b[0m: \u001b[1;35mMLP\u001b[0m\u001b[97m(\u001b[0m\n",
              "          \u001b[97m(\u001b[0mc_fc\u001b[97m)\u001b[0m: \u001b[1;35mLinear\u001b[0m\u001b[97m(\u001b[0m\u001b[3;94min_features\u001b[0m=\u001b[95m384\u001b[0m, \u001b[3;94mout_features\u001b[0m=\u001b[95m1536\u001b[0m, \u001b[3;94mbias\u001b[0m=\u001b[3;91mFalse\u001b[0m\u001b[97m)\u001b[0m\n",
              "          \u001b[97m(\u001b[0mact_fn\u001b[97m)\u001b[0m: \u001b[1;35mGELU\u001b[0m\u001b[97m(\u001b[0m\u001b[3;94mapproximate\u001b[0m=\u001b[3;92m'none'\u001b[0m\u001b[97m)\u001b[0m\n",
              "          \u001b[97m(\u001b[0mc_proj\u001b[97m)\u001b[0m: \u001b[1;35mLinear\u001b[0m\u001b[97m(\u001b[0m\u001b[3;94min_features\u001b[0m=\u001b[95m1536\u001b[0m, \u001b[3;94mout_features\u001b[0m=\u001b[95m384\u001b[0m, \u001b[3;94mbias\u001b[0m=\u001b[3;91mFalse\u001b[0m\u001b[97m)\u001b[0m\n",
              "          \u001b[97m(\u001b[0mdropout\u001b[97m)\u001b[0m: \u001b[1;35mDropout\u001b[0m\u001b[97m(\u001b[0m\u001b[3;94mp\u001b[0m=\u001b[95m0\u001b[0m\u001b[95m.2\u001b[0m, \u001b[3;94minplace\u001b[0m=\u001b[3;91mFalse\u001b[0m\u001b[97m)\u001b[0m\n",
              "        \u001b[97m)\u001b[0m\n",
              "      \u001b[97m)\u001b[0m\n",
              "    \u001b[97m)\u001b[0m\n",
              "    \u001b[97m(\u001b[0mln_f\u001b[97m)\u001b[0m: \u001b[1;35mLayerNorm\u001b[0m\u001b[97m(\u001b[0m\u001b[97m)\u001b[0m\n",
              "  \u001b[97m)\u001b[0m\n",
              "  \u001b[97m(\u001b[0mlm_head\u001b[97m)\u001b[0m: \u001b[1;35mLinear\u001b[0m\u001b[97m(\u001b[0m\u001b[3;94min_features\u001b[0m=\u001b[95m384\u001b[0m, \u001b[3;94mout_features\u001b[0m=\u001b[95m65\u001b[0m, \u001b[3;94mbias\u001b[0m=\u001b[3;91mFalse\u001b[0m\u001b[97m)\u001b[0m\n",
              "\u001b[97m)\u001b[0m\n"
            ],
            "text/html": [
              "<pre style=\"white-space:pre;overflow-x:auto;line-height:normal;font-family:Menlo,'DejaVu Sans Mono',consolas,'Courier New',monospace\"><span style=\"color: #800080; text-decoration-color: #800080; font-weight: bold\">GPT</span><span style=\"color: #ffffff; text-decoration-color: #ffffff\">(</span>\n",
              "  <span style=\"color: #ffffff; text-decoration-color: #ffffff\">(</span>transformer<span style=\"color: #ffffff; text-decoration-color: #ffffff\">)</span>: <span style=\"color: #800080; text-decoration-color: #800080; font-weight: bold\">ModuleDict</span><span style=\"color: #ffffff; text-decoration-color: #ffffff\">(</span>\n",
              "    <span style=\"color: #ffffff; text-decoration-color: #ffffff\">(</span>wte<span style=\"color: #ffffff; text-decoration-color: #ffffff\">)</span>: <span style=\"color: #800080; text-decoration-color: #800080; font-weight: bold\">Embedding</span><span style=\"color: #ffffff; text-decoration-color: #ffffff\">(</span><span style=\"color: #ff00ff; text-decoration-color: #ff00ff\">65</span>, <span style=\"color: #ff00ff; text-decoration-color: #ff00ff\">384</span><span style=\"color: #ffffff; text-decoration-color: #ffffff\">)</span>\n",
              "    <span style=\"color: #ffffff; text-decoration-color: #ffffff\">(</span>wpe<span style=\"color: #ffffff; text-decoration-color: #ffffff\">)</span>: <span style=\"color: #800080; text-decoration-color: #800080; font-weight: bold\">Embedding</span><span style=\"color: #ffffff; text-decoration-color: #ffffff\">(</span><span style=\"color: #ff00ff; text-decoration-color: #ff00ff\">256</span>, <span style=\"color: #ff00ff; text-decoration-color: #ff00ff\">384</span><span style=\"color: #ffffff; text-decoration-color: #ffffff\">)</span>\n",
              "    <span style=\"color: #ffffff; text-decoration-color: #ffffff\">(</span>drop<span style=\"color: #ffffff; text-decoration-color: #ffffff\">)</span>: <span style=\"color: #800080; text-decoration-color: #800080; font-weight: bold\">Dropout</span><span style=\"color: #ffffff; text-decoration-color: #ffffff\">(</span><span style=\"color: #0000ff; text-decoration-color: #0000ff; font-style: italic\">p</span>=<span style=\"color: #ff00ff; text-decoration-color: #ff00ff\">0.2</span>, <span style=\"color: #0000ff; text-decoration-color: #0000ff; font-style: italic\">inplace</span>=<span style=\"color: #ff0000; text-decoration-color: #ff0000; font-style: italic\">False</span><span style=\"color: #ffffff; text-decoration-color: #ffffff\">)</span>\n",
              "    <span style=\"color: #ffffff; text-decoration-color: #ffffff\">(</span>h<span style=\"color: #ffffff; text-decoration-color: #ffffff\">)</span>: <span style=\"color: #800080; text-decoration-color: #800080; font-weight: bold\">ModuleList</span><span style=\"color: #ffffff; text-decoration-color: #ffffff\">(</span>\n",
              "      <span style=\"color: #ffffff; text-decoration-color: #ffffff\">(</span><span style=\"color: #ff00ff; text-decoration-color: #ff00ff\">0</span>-<span style=\"color: #ff00ff; text-decoration-color: #ff00ff\">5</span><span style=\"color: #ffffff; text-decoration-color: #ffffff\">)</span>: <span style=\"color: #ff00ff; text-decoration-color: #ff00ff\">6</span> x <span style=\"color: #800080; text-decoration-color: #800080; font-weight: bold\">Block</span><span style=\"color: #ffffff; text-decoration-color: #ffffff\">(</span>\n",
              "        <span style=\"color: #ffffff; text-decoration-color: #ffffff\">(</span>ln_1<span style=\"color: #ffffff; text-decoration-color: #ffffff\">)</span>: <span style=\"color: #800080; text-decoration-color: #800080; font-weight: bold\">LayerNorm</span><span style=\"color: #ffffff; text-decoration-color: #ffffff\">()</span>\n",
              "        <span style=\"color: #ffffff; text-decoration-color: #ffffff\">(</span>attn<span style=\"color: #ffffff; text-decoration-color: #ffffff\">)</span>: <span style=\"color: #800080; text-decoration-color: #800080; font-weight: bold\">CausalSelfAttention</span><span style=\"color: #ffffff; text-decoration-color: #ffffff\">(</span>\n",
              "          <span style=\"color: #ffffff; text-decoration-color: #ffffff\">(</span>c_attn<span style=\"color: #ffffff; text-decoration-color: #ffffff\">)</span>: <span style=\"color: #800080; text-decoration-color: #800080; font-weight: bold\">Linear</span><span style=\"color: #ffffff; text-decoration-color: #ffffff\">(</span><span style=\"color: #0000ff; text-decoration-color: #0000ff; font-style: italic\">in_features</span>=<span style=\"color: #ff00ff; text-decoration-color: #ff00ff\">384</span>, <span style=\"color: #0000ff; text-decoration-color: #0000ff; font-style: italic\">out_features</span>=<span style=\"color: #ff00ff; text-decoration-color: #ff00ff\">1152</span>, <span style=\"color: #0000ff; text-decoration-color: #0000ff; font-style: italic\">bias</span>=<span style=\"color: #ff0000; text-decoration-color: #ff0000; font-style: italic\">False</span><span style=\"color: #ffffff; text-decoration-color: #ffffff\">)</span>\n",
              "          <span style=\"color: #ffffff; text-decoration-color: #ffffff\">(</span>c_proj<span style=\"color: #ffffff; text-decoration-color: #ffffff\">)</span>: <span style=\"color: #800080; text-decoration-color: #800080; font-weight: bold\">Linear</span><span style=\"color: #ffffff; text-decoration-color: #ffffff\">(</span><span style=\"color: #0000ff; text-decoration-color: #0000ff; font-style: italic\">in_features</span>=<span style=\"color: #ff00ff; text-decoration-color: #ff00ff\">384</span>, <span style=\"color: #0000ff; text-decoration-color: #0000ff; font-style: italic\">out_features</span>=<span style=\"color: #ff00ff; text-decoration-color: #ff00ff\">384</span>, <span style=\"color: #0000ff; text-decoration-color: #0000ff; font-style: italic\">bias</span>=<span style=\"color: #ff0000; text-decoration-color: #ff0000; font-style: italic\">False</span><span style=\"color: #ffffff; text-decoration-color: #ffffff\">)</span>\n",
              "          <span style=\"color: #ffffff; text-decoration-color: #ffffff\">(</span>attn_dropout<span style=\"color: #ffffff; text-decoration-color: #ffffff\">)</span>: <span style=\"color: #800080; text-decoration-color: #800080; font-weight: bold\">Dropout</span><span style=\"color: #ffffff; text-decoration-color: #ffffff\">(</span><span style=\"color: #0000ff; text-decoration-color: #0000ff; font-style: italic\">p</span>=<span style=\"color: #ff00ff; text-decoration-color: #ff00ff\">0.2</span>, <span style=\"color: #0000ff; text-decoration-color: #0000ff; font-style: italic\">inplace</span>=<span style=\"color: #ff0000; text-decoration-color: #ff0000; font-style: italic\">False</span><span style=\"color: #ffffff; text-decoration-color: #ffffff\">)</span>\n",
              "          <span style=\"color: #ffffff; text-decoration-color: #ffffff\">(</span>resid_dropout<span style=\"color: #ffffff; text-decoration-color: #ffffff\">)</span>: <span style=\"color: #800080; text-decoration-color: #800080; font-weight: bold\">Dropout</span><span style=\"color: #ffffff; text-decoration-color: #ffffff\">(</span><span style=\"color: #0000ff; text-decoration-color: #0000ff; font-style: italic\">p</span>=<span style=\"color: #ff00ff; text-decoration-color: #ff00ff\">0.2</span>, <span style=\"color: #0000ff; text-decoration-color: #0000ff; font-style: italic\">inplace</span>=<span style=\"color: #ff0000; text-decoration-color: #ff0000; font-style: italic\">False</span><span style=\"color: #ffffff; text-decoration-color: #ffffff\">)</span>\n",
              "        <span style=\"color: #ffffff; text-decoration-color: #ffffff\">)</span>\n",
              "        <span style=\"color: #ffffff; text-decoration-color: #ffffff\">(</span>ln_2<span style=\"color: #ffffff; text-decoration-color: #ffffff\">)</span>: <span style=\"color: #800080; text-decoration-color: #800080; font-weight: bold\">LayerNorm</span><span style=\"color: #ffffff; text-decoration-color: #ffffff\">()</span>\n",
              "        <span style=\"color: #ffffff; text-decoration-color: #ffffff\">(</span>mlp<span style=\"color: #ffffff; text-decoration-color: #ffffff\">)</span>: <span style=\"color: #800080; text-decoration-color: #800080; font-weight: bold\">MLP</span><span style=\"color: #ffffff; text-decoration-color: #ffffff\">(</span>\n",
              "          <span style=\"color: #ffffff; text-decoration-color: #ffffff\">(</span>c_fc<span style=\"color: #ffffff; text-decoration-color: #ffffff\">)</span>: <span style=\"color: #800080; text-decoration-color: #800080; font-weight: bold\">Linear</span><span style=\"color: #ffffff; text-decoration-color: #ffffff\">(</span><span style=\"color: #0000ff; text-decoration-color: #0000ff; font-style: italic\">in_features</span>=<span style=\"color: #ff00ff; text-decoration-color: #ff00ff\">384</span>, <span style=\"color: #0000ff; text-decoration-color: #0000ff; font-style: italic\">out_features</span>=<span style=\"color: #ff00ff; text-decoration-color: #ff00ff\">1536</span>, <span style=\"color: #0000ff; text-decoration-color: #0000ff; font-style: italic\">bias</span>=<span style=\"color: #ff0000; text-decoration-color: #ff0000; font-style: italic\">False</span><span style=\"color: #ffffff; text-decoration-color: #ffffff\">)</span>\n",
              "          <span style=\"color: #ffffff; text-decoration-color: #ffffff\">(</span>act_fn<span style=\"color: #ffffff; text-decoration-color: #ffffff\">)</span>: <span style=\"color: #800080; text-decoration-color: #800080; font-weight: bold\">GELU</span><span style=\"color: #ffffff; text-decoration-color: #ffffff\">(</span><span style=\"color: #0000ff; text-decoration-color: #0000ff; font-style: italic\">approximate</span>=<span style=\"color: #00ff00; text-decoration-color: #00ff00; font-style: italic\">'none'</span><span style=\"color: #ffffff; text-decoration-color: #ffffff\">)</span>\n",
              "          <span style=\"color: #ffffff; text-decoration-color: #ffffff\">(</span>c_proj<span style=\"color: #ffffff; text-decoration-color: #ffffff\">)</span>: <span style=\"color: #800080; text-decoration-color: #800080; font-weight: bold\">Linear</span><span style=\"color: #ffffff; text-decoration-color: #ffffff\">(</span><span style=\"color: #0000ff; text-decoration-color: #0000ff; font-style: italic\">in_features</span>=<span style=\"color: #ff00ff; text-decoration-color: #ff00ff\">1536</span>, <span style=\"color: #0000ff; text-decoration-color: #0000ff; font-style: italic\">out_features</span>=<span style=\"color: #ff00ff; text-decoration-color: #ff00ff\">384</span>, <span style=\"color: #0000ff; text-decoration-color: #0000ff; font-style: italic\">bias</span>=<span style=\"color: #ff0000; text-decoration-color: #ff0000; font-style: italic\">False</span><span style=\"color: #ffffff; text-decoration-color: #ffffff\">)</span>\n",
              "          <span style=\"color: #ffffff; text-decoration-color: #ffffff\">(</span>dropout<span style=\"color: #ffffff; text-decoration-color: #ffffff\">)</span>: <span style=\"color: #800080; text-decoration-color: #800080; font-weight: bold\">Dropout</span><span style=\"color: #ffffff; text-decoration-color: #ffffff\">(</span><span style=\"color: #0000ff; text-decoration-color: #0000ff; font-style: italic\">p</span>=<span style=\"color: #ff00ff; text-decoration-color: #ff00ff\">0.2</span>, <span style=\"color: #0000ff; text-decoration-color: #0000ff; font-style: italic\">inplace</span>=<span style=\"color: #ff0000; text-decoration-color: #ff0000; font-style: italic\">False</span><span style=\"color: #ffffff; text-decoration-color: #ffffff\">)</span>\n",
              "        <span style=\"color: #ffffff; text-decoration-color: #ffffff\">)</span>\n",
              "      <span style=\"color: #ffffff; text-decoration-color: #ffffff\">)</span>\n",
              "    <span style=\"color: #ffffff; text-decoration-color: #ffffff\">)</span>\n",
              "    <span style=\"color: #ffffff; text-decoration-color: #ffffff\">(</span>ln_f<span style=\"color: #ffffff; text-decoration-color: #ffffff\">)</span>: <span style=\"color: #800080; text-decoration-color: #800080; font-weight: bold\">LayerNorm</span><span style=\"color: #ffffff; text-decoration-color: #ffffff\">()</span>\n",
              "  <span style=\"color: #ffffff; text-decoration-color: #ffffff\">)</span>\n",
              "  <span style=\"color: #ffffff; text-decoration-color: #ffffff\">(</span>lm_head<span style=\"color: #ffffff; text-decoration-color: #ffffff\">)</span>: <span style=\"color: #800080; text-decoration-color: #800080; font-weight: bold\">Linear</span><span style=\"color: #ffffff; text-decoration-color: #ffffff\">(</span><span style=\"color: #0000ff; text-decoration-color: #0000ff; font-style: italic\">in_features</span>=<span style=\"color: #ff00ff; text-decoration-color: #ff00ff\">384</span>, <span style=\"color: #0000ff; text-decoration-color: #0000ff; font-style: italic\">out_features</span>=<span style=\"color: #ff00ff; text-decoration-color: #ff00ff\">65</span>, <span style=\"color: #0000ff; text-decoration-color: #0000ff; font-style: italic\">bias</span>=<span style=\"color: #ff0000; text-decoration-color: #ff0000; font-style: italic\">False</span><span style=\"color: #ffffff; text-decoration-color: #ffffff\">)</span>\n",
              "<span style=\"color: #ffffff; text-decoration-color: #ffffff\">)</span>\n",
              "</pre>\n"
            ]
          },
          "metadata": {}
        }
      ],
      "source": [
        "from rich import print\n",
        "\n",
        "print(trainer.model)"
      ]
    },
    {
      "cell_type": "markdown",
      "id": "6GzygcwBvovx",
      "metadata": {
        "id": "6GzygcwBvovx"
      },
      "source": [
        "## (partial) Training:\n",
        "\n",
        "We'll first train for 500 iterations and then evaluate the models performance on the same prompt:\n",
        "\n",
        "> What is an LLM?"
      ]
    },
    {
      "cell_type": "code",
      "execution_count": null,
      "id": "acb8d33b-f8c9-41c6-aa61-95bdb76bf6ea",
      "metadata": {
        "colab": {
          "base_uri": "https://localhost:8080/",
          "height": 688
        },
        "execution": {
          "iopub.status.busy": "2023-11-30T16:36:28.946773Z",
          "iopub.status.idle": "2023-11-30T16:36:28.946965Z",
          "shell.execute_reply": "2023-11-30T16:36:28.946874Z",
          "shell.execute_reply.started": "2023-11-30T16:36:28.946865Z"
        },
        "id": "acb8d33b-f8c9-41c6-aa61-95bdb76bf6ea",
        "jupyter": {
          "outputs_hidden": false,
          "source_hidden": false
        },
        "outputId": "e75d26aa-0e4d-485b-e2cd-5b2515601a68"
      },
      "outputs": [
        {
          "output_type": "display_data",
          "data": {
            "text/plain": [
              "\u001b[3m                Training Legend                 \u001b[0m\n",
              "┏━━━━━━━━━━━━━┳━━━━━━━━━━━━━━━━━━━━━━━━━━━━━━━━┓\n",
              "┃\u001b[1m \u001b[0m\u001b[1m       abbr\u001b[0m\u001b[1m \u001b[0m┃\u001b[1m \u001b[0m\u001b[1mdesc                          \u001b[0m\u001b[1m \u001b[0m┃\n",
              "┡━━━━━━━━━━━━━╇━━━━━━━━━━━━━━━━━━━━━━━━━━━━━━━━┩\n",
              "│\u001b[32m \u001b[0m\u001b[32m       step\u001b[0m\u001b[32m \u001b[0m│ Current training iteration     │\n",
              "│\u001b[32m \u001b[0m\u001b[32m       loss\u001b[0m\u001b[32m \u001b[0m│ Loss value                     │\n",
              "│\u001b[32m \u001b[0m\u001b[32m         dt\u001b[0m\u001b[32m \u001b[0m│ Elapsed time per training step │\n",
              "│\u001b[32m \u001b[0m\u001b[32m        dtf\u001b[0m\u001b[32m \u001b[0m│ Elapsed time per forward step  │\n",
              "│\u001b[32m \u001b[0m\u001b[32m        dtb\u001b[0m\u001b[32m \u001b[0m│ Elapsed time per backward step │\n",
              "│\u001b[32m \u001b[0m\u001b[32m        sps\u001b[0m\u001b[32m \u001b[0m│ Samples per second             │\n",
              "│\u001b[32m \u001b[0m\u001b[32msps_per_gpu\u001b[0m\u001b[32m \u001b[0m│ Samples per second (per GPU)   │\n",
              "│\u001b[32m \u001b[0m\u001b[32m        tps\u001b[0m\u001b[32m \u001b[0m│ Tokens per second              │\n",
              "│\u001b[32m \u001b[0m\u001b[32mtps_per_gpu\u001b[0m\u001b[32m \u001b[0m│ Tokens per second (per GPU)    │\n",
              "│\u001b[32m \u001b[0m\u001b[32m        mfu\u001b[0m\u001b[32m \u001b[0m│ Model flops utilization        │\n",
              "└─────────────┴────────────────────────────────┘\n"
            ],
            "text/html": [
              "<pre style=\"white-space:pre;overflow-x:auto;line-height:normal;font-family:Menlo,'DejaVu Sans Mono',consolas,'Courier New',monospace\"><span style=\"font-style: italic\">                Training Legend                 </span>\n",
              "┏━━━━━━━━━━━━━┳━━━━━━━━━━━━━━━━━━━━━━━━━━━━━━━━┓\n",
              "┃<span style=\"font-weight: bold\">        abbr </span>┃<span style=\"font-weight: bold\"> desc                           </span>┃\n",
              "┡━━━━━━━━━━━━━╇━━━━━━━━━━━━━━━━━━━━━━━━━━━━━━━━┩\n",
              "│<span style=\"color: #008000; text-decoration-color: #008000\">        step </span>│ Current training iteration     │\n",
              "│<span style=\"color: #008000; text-decoration-color: #008000\">        loss </span>│ Loss value                     │\n",
              "│<span style=\"color: #008000; text-decoration-color: #008000\">          dt </span>│ Elapsed time per training step │\n",
              "│<span style=\"color: #008000; text-decoration-color: #008000\">         dtf </span>│ Elapsed time per forward step  │\n",
              "│<span style=\"color: #008000; text-decoration-color: #008000\">         dtb </span>│ Elapsed time per backward step │\n",
              "│<span style=\"color: #008000; text-decoration-color: #008000\">         sps </span>│ Samples per second             │\n",
              "│<span style=\"color: #008000; text-decoration-color: #008000\"> sps_per_gpu </span>│ Samples per second (per GPU)   │\n",
              "│<span style=\"color: #008000; text-decoration-color: #008000\">         tps </span>│ Tokens per second              │\n",
              "│<span style=\"color: #008000; text-decoration-color: #008000\"> tps_per_gpu </span>│ Tokens per second (per GPU)    │\n",
              "│<span style=\"color: #008000; text-decoration-color: #008000\">         mfu </span>│ Model flops utilization        │\n",
              "└─────────────┴────────────────────────────────┘\n",
              "</pre>\n"
            ]
          },
          "metadata": {}
        },
        {
          "output_type": "display_data",
          "data": {
            "text/plain": [
              "\u001b[30m[\u001b[0m\u001b[30m2024-11-08 \u001b[0m\u001b[90m05:24:45.883338\u001b[0m\u001b[30m]\u001b[0m\u001b[30m[\u001b[0m\u001b[1;32mINFO\u001b[0m\u001b[30m]\u001b[0m\u001b[30m[\u001b[0m\u001b[3;34mtrainer.py\u001b[0m\u001b[94m:\u001b[0m\u001b[30m827\u001b[0m\u001b[30m]\u001b[0m\u001b[38;2;131;131;131m - \u001b[0m\u001b[97m[\u001b[0m\u001b[3;92m'prompt'\u001b[0m\u001b[97m]\u001b[0m: \u001b[3;92m'What is an LLM?'\u001b[0m\n"
            ],
            "text/html": [
              "<pre style=\"white-space:pre;overflow-x:auto;line-height:normal;font-family:Menlo,'DejaVu Sans Mono',consolas,'Courier New',monospace\"><span style=\"color: #000000; text-decoration-color: #000000\">[</span><span style=\"color: #000000; text-decoration-color: #000000\">2024-11-08 </span><span style=\"color: #808080; text-decoration-color: #808080\">05:24:45.883338</span><span style=\"color: #000000; text-decoration-color: #000000\">][</span><span style=\"color: #008000; text-decoration-color: #008000; font-weight: bold\">INFO</span><span style=\"color: #000000; text-decoration-color: #000000\">][</span><span style=\"color: #000080; text-decoration-color: #000080; font-style: italic\">trainer.py</span><span style=\"color: #0000ff; text-decoration-color: #0000ff\">:</span><span style=\"color: #000000; text-decoration-color: #000000\">827</span><span style=\"color: #000000; text-decoration-color: #000000\">]</span><span style=\"color: #838383; text-decoration-color: #838383\"> - </span><span style=\"color: #ffffff; text-decoration-color: #ffffff\">[</span><span style=\"color: #00ff00; text-decoration-color: #00ff00; font-style: italic\">'prompt'</span><span style=\"color: #ffffff; text-decoration-color: #ffffff\">]</span>: <span style=\"color: #00ff00; text-decoration-color: #00ff00; font-style: italic\">'What is an LLM?'</span>\n",
              "</pre>\n"
            ]
          },
          "metadata": {}
        },
        {
          "output_type": "display_data",
          "data": {
            "text/plain": [
              "\u001b[30m[\u001b[0m\u001b[30m2024-11-08 \u001b[0m\u001b[90m05:24:45.886013\u001b[0m\u001b[30m]\u001b[0m\u001b[30m[\u001b[0m\u001b[1;32mINFO\u001b[0m\u001b[30m]\u001b[0m\u001b[30m[\u001b[0m\u001b[3;34mtrainer.py\u001b[0m\u001b[94m:\u001b[0m\u001b[30m831\u001b[0m\u001b[30m]\u001b[0m\u001b[38;2;131;131;131m - \u001b[0m\u001b[97m[\u001b[0m\u001b[3;92m'response'\u001b[0m\u001b[97m]\u001b[0m:\n",
              "\n",
              "What is an LLM?k,,,,  fIHEHsEvsGVsIs'\u001b[3;92m'sfNMIQHHSHVVtissQVNZ CHGqafSSSkb.--HEHKK, ffaJQQJJqJJQNNfqkkHv-QBSaKEEVvXVZ3QabswwIEqsVtqrSyQ--jBafH'\u001b[0m33QIfpq--ankS\n",
              "bssaSpEaHHH?ashKaSeXX-aaIIJSqvUHBBSSSDaiaO-afqppCCCa::wE--YEQGf?CVhCcJibbQMIjaa?apJqqIHiLSiq''HHHNanJJJQsa-ZvEEkHhEYba\n"
            ],
            "text/html": [
              "<pre style=\"white-space:pre;overflow-x:auto;line-height:normal;font-family:Menlo,'DejaVu Sans Mono',consolas,'Courier New',monospace\"><span style=\"color: #000000; text-decoration-color: #000000\">[</span><span style=\"color: #000000; text-decoration-color: #000000\">2024-11-08 </span><span style=\"color: #808080; text-decoration-color: #808080\">05:24:45.886013</span><span style=\"color: #000000; text-decoration-color: #000000\">][</span><span style=\"color: #008000; text-decoration-color: #008000; font-weight: bold\">INFO</span><span style=\"color: #000000; text-decoration-color: #000000\">][</span><span style=\"color: #000080; text-decoration-color: #000080; font-style: italic\">trainer.py</span><span style=\"color: #0000ff; text-decoration-color: #0000ff\">:</span><span style=\"color: #000000; text-decoration-color: #000000\">831</span><span style=\"color: #000000; text-decoration-color: #000000\">]</span><span style=\"color: #838383; text-decoration-color: #838383\"> - </span><span style=\"color: #ffffff; text-decoration-color: #ffffff\">[</span><span style=\"color: #00ff00; text-decoration-color: #00ff00; font-style: italic\">'response'</span><span style=\"color: #ffffff; text-decoration-color: #ffffff\">]</span>:\n",
              "\n",
              "What is an LLM?k,,,,  fIHEHsEvsGVsIs'<span style=\"color: #00ff00; text-decoration-color: #00ff00; font-style: italic\">'sfNMIQHHSHVVtissQVNZ CHGqafSSSkb.--HEHKK, ffaJQQJJqJJQNNfqkkHv-QBSaKEEVvXVZ3QabswwIEqsVtqrSyQ--jBafH'</span>33QIfpq--ankS\n",
              "bssaSpEaHHH?ashKaSeXX-aaIIJSqvUHBBSSSDaiaO-afqppCCCa::wE--YEQGf?CVhCcJibbQMIjaa?apJqqIHiLSiq''HHHNanJJJQsa-ZvEEkHhEYba\n",
              "</pre>\n"
            ]
          },
          "metadata": {}
        },
        {
          "output_type": "display_data",
          "data": {
            "text/plain": [
              "\u001b[30m[\u001b[0m\u001b[30m2024-11-08 \u001b[0m\u001b[90m05:25:03.313812\u001b[0m\u001b[30m]\u001b[0m\u001b[30m[\u001b[0m\u001b[1;32mINFO\u001b[0m\u001b[30m]\u001b[0m\u001b[30m[\u001b[0m\u001b[3;34mtrainer.py\u001b[0m\u001b[94m:\u001b[0m\u001b[30m892\u001b[0m\u001b[30m]\u001b[0m\u001b[38;2;131;131;131m - \u001b[0m\u001b[3;94mstep\u001b[0m=\u001b[95m50\u001b[0m \u001b[3;94mloss\u001b[0m=\u001b[95m2\u001b[0m\u001b[95m.50536\u001b[0m \u001b[3;94mdt\u001b[0m=\u001b[95m0\u001b[0m\u001b[95m.0951422\u001b[0m \u001b[3;94mdtf\u001b[0m=\u001b[95m0\u001b[0m\u001b[95m.00437039\u001b[0m \u001b[3;94mdtb\u001b[0m=\u001b[95m0\u001b[0m\u001b[95m.00685079\u001b[0m \u001b[3;94msps\u001b[0m=\u001b[95m10\u001b[0m\u001b[95m.5106\u001b[0m \u001b[3;94msps_per_gpu\u001b[0m=\u001b[95m10\u001b[0m\u001b[95m.5106\u001b[0m \u001b[3;94mtps\u001b[0m=\u001b[95m172205\u001b[0m \u001b[3;94mtps_per_gpu\u001b[0m=\u001b[95m172205\u001b[0m \u001b[3;94mmfu\u001b[0m=\u001b[95m3\u001b[0m\u001b[95m.91649\u001b[0m\n"
            ],
            "text/html": [
              "<pre style=\"white-space:pre;overflow-x:auto;line-height:normal;font-family:Menlo,'DejaVu Sans Mono',consolas,'Courier New',monospace\"><span style=\"color: #000000; text-decoration-color: #000000\">[</span><span style=\"color: #000000; text-decoration-color: #000000\">2024-11-08 </span><span style=\"color: #808080; text-decoration-color: #808080\">05:25:03.313812</span><span style=\"color: #000000; text-decoration-color: #000000\">][</span><span style=\"color: #008000; text-decoration-color: #008000; font-weight: bold\">INFO</span><span style=\"color: #000000; text-decoration-color: #000000\">][</span><span style=\"color: #000080; text-decoration-color: #000080; font-style: italic\">trainer.py</span><span style=\"color: #0000ff; text-decoration-color: #0000ff\">:</span><span style=\"color: #000000; text-decoration-color: #000000\">892</span><span style=\"color: #000000; text-decoration-color: #000000\">]</span><span style=\"color: #838383; text-decoration-color: #838383\"> - </span><span style=\"color: #0000ff; text-decoration-color: #0000ff; font-style: italic\">step</span>=<span style=\"color: #ff00ff; text-decoration-color: #ff00ff\">50</span> <span style=\"color: #0000ff; text-decoration-color: #0000ff; font-style: italic\">loss</span>=<span style=\"color: #ff00ff; text-decoration-color: #ff00ff\">2.50536</span> <span style=\"color: #0000ff; text-decoration-color: #0000ff; font-style: italic\">dt</span>=<span style=\"color: #ff00ff; text-decoration-color: #ff00ff\">0.0951422</span> <span style=\"color: #0000ff; text-decoration-color: #0000ff; font-style: italic\">dtf</span>=<span style=\"color: #ff00ff; text-decoration-color: #ff00ff\">0.00437039</span> <span style=\"color: #0000ff; text-decoration-color: #0000ff; font-style: italic\">dtb</span>=<span style=\"color: #ff00ff; text-decoration-color: #ff00ff\">0.00685079</span> <span style=\"color: #0000ff; text-decoration-color: #0000ff; font-style: italic\">sps</span>=<span style=\"color: #ff00ff; text-decoration-color: #ff00ff\">10.5106</span> <span style=\"color: #0000ff; text-decoration-color: #0000ff; font-style: italic\">sps_per_gpu</span>=<span style=\"color: #ff00ff; text-decoration-color: #ff00ff\">10.5106</span> <span style=\"color: #0000ff; text-decoration-color: #0000ff; font-style: italic\">tps</span>=<span style=\"color: #ff00ff; text-decoration-color: #ff00ff\">172205</span> <span style=\"color: #0000ff; text-decoration-color: #0000ff; font-style: italic\">tps_per_gpu</span>=<span style=\"color: #ff00ff; text-decoration-color: #ff00ff\">172205</span> <span style=\"color: #0000ff; text-decoration-color: #0000ff; font-style: italic\">mfu</span>=<span style=\"color: #ff00ff; text-decoration-color: #ff00ff\">3.91649</span>\n",
              "</pre>\n"
            ]
          },
          "metadata": {}
        },
        {
          "output_type": "display_data",
          "data": {
            "text/plain": [
              "\u001b[30m[\u001b[0m\u001b[30m2024-11-08 \u001b[0m\u001b[90m05:25:08.159951\u001b[0m\u001b[30m]\u001b[0m\u001b[30m[\u001b[0m\u001b[1;32mINFO\u001b[0m\u001b[30m]\u001b[0m\u001b[30m[\u001b[0m\u001b[3;34mtrainer.py\u001b[0m\u001b[94m:\u001b[0m\u001b[30m892\u001b[0m\u001b[30m]\u001b[0m\u001b[38;2;131;131;131m - \u001b[0m\u001b[3;94mstep\u001b[0m=\u001b[95m100\u001b[0m \u001b[3;94mloss\u001b[0m=\u001b[95m2\u001b[0m\u001b[95m.48167\u001b[0m \u001b[3;94mdt\u001b[0m=\u001b[95m0\u001b[0m\u001b[95m.100002\u001b[0m \u001b[3;94mdtf\u001b[0m=\u001b[95m0\u001b[0m\u001b[95m.00706379\u001b[0m \u001b[3;94mdtb\u001b[0m=\u001b[95m0\u001b[0m\u001b[95m.0128566\u001b[0m \u001b[3;94msps\u001b[0m=\u001b[95m9\u001b[0m\u001b[95m.99976\u001b[0m \u001b[3;94msps_per_gpu\u001b[0m=\u001b[95m9\u001b[0m\u001b[95m.99976\u001b[0m \u001b[3;94mtps\u001b[0m=\u001b[95m163836\u001b[0m \u001b[3;94mtps_per_gpu\u001b[0m=\u001b[95m163836\u001b[0m \u001b[3;94mmfu\u001b[0m=\u001b[95m3\u001b[0m\u001b[95m.89746\u001b[0m\n"
            ],
            "text/html": [
              "<pre style=\"white-space:pre;overflow-x:auto;line-height:normal;font-family:Menlo,'DejaVu Sans Mono',consolas,'Courier New',monospace\"><span style=\"color: #000000; text-decoration-color: #000000\">[</span><span style=\"color: #000000; text-decoration-color: #000000\">2024-11-08 </span><span style=\"color: #808080; text-decoration-color: #808080\">05:25:08.159951</span><span style=\"color: #000000; text-decoration-color: #000000\">][</span><span style=\"color: #008000; text-decoration-color: #008000; font-weight: bold\">INFO</span><span style=\"color: #000000; text-decoration-color: #000000\">][</span><span style=\"color: #000080; text-decoration-color: #000080; font-style: italic\">trainer.py</span><span style=\"color: #0000ff; text-decoration-color: #0000ff\">:</span><span style=\"color: #000000; text-decoration-color: #000000\">892</span><span style=\"color: #000000; text-decoration-color: #000000\">]</span><span style=\"color: #838383; text-decoration-color: #838383\"> - </span><span style=\"color: #0000ff; text-decoration-color: #0000ff; font-style: italic\">step</span>=<span style=\"color: #ff00ff; text-decoration-color: #ff00ff\">100</span> <span style=\"color: #0000ff; text-decoration-color: #0000ff; font-style: italic\">loss</span>=<span style=\"color: #ff00ff; text-decoration-color: #ff00ff\">2.48167</span> <span style=\"color: #0000ff; text-decoration-color: #0000ff; font-style: italic\">dt</span>=<span style=\"color: #ff00ff; text-decoration-color: #ff00ff\">0.100002</span> <span style=\"color: #0000ff; text-decoration-color: #0000ff; font-style: italic\">dtf</span>=<span style=\"color: #ff00ff; text-decoration-color: #ff00ff\">0.00706379</span> <span style=\"color: #0000ff; text-decoration-color: #0000ff; font-style: italic\">dtb</span>=<span style=\"color: #ff00ff; text-decoration-color: #ff00ff\">0.0128566</span> <span style=\"color: #0000ff; text-decoration-color: #0000ff; font-style: italic\">sps</span>=<span style=\"color: #ff00ff; text-decoration-color: #ff00ff\">9.99976</span> <span style=\"color: #0000ff; text-decoration-color: #0000ff; font-style: italic\">sps_per_gpu</span>=<span style=\"color: #ff00ff; text-decoration-color: #ff00ff\">9.99976</span> <span style=\"color: #0000ff; text-decoration-color: #0000ff; font-style: italic\">tps</span>=<span style=\"color: #ff00ff; text-decoration-color: #ff00ff\">163836</span> <span style=\"color: #0000ff; text-decoration-color: #0000ff; font-style: italic\">tps_per_gpu</span>=<span style=\"color: #ff00ff; text-decoration-color: #ff00ff\">163836</span> <span style=\"color: #0000ff; text-decoration-color: #0000ff; font-style: italic\">mfu</span>=<span style=\"color: #ff00ff; text-decoration-color: #ff00ff\">3.89746</span>\n",
              "</pre>\n"
            ]
          },
          "metadata": {}
        },
        {
          "output_type": "display_data",
          "data": {
            "text/plain": [
              "\u001b[30m[\u001b[0m\u001b[30m2024-11-08 \u001b[0m\u001b[90m05:25:13.056142\u001b[0m\u001b[30m]\u001b[0m\u001b[30m[\u001b[0m\u001b[1;32mINFO\u001b[0m\u001b[30m]\u001b[0m\u001b[30m[\u001b[0m\u001b[3;34mtrainer.py\u001b[0m\u001b[94m:\u001b[0m\u001b[30m892\u001b[0m\u001b[30m]\u001b[0m\u001b[38;2;131;131;131m - \u001b[0m\u001b[3;94mstep\u001b[0m=\u001b[95m150\u001b[0m \u001b[3;94mloss\u001b[0m=\u001b[95m2\u001b[0m\u001b[95m.42007\u001b[0m \u001b[3;94mdt\u001b[0m=\u001b[95m0\u001b[0m\u001b[95m.0991337\u001b[0m \u001b[3;94mdtf\u001b[0m=\u001b[95m0\u001b[0m\u001b[95m.00443665\u001b[0m \u001b[3;94mdtb\u001b[0m=\u001b[95m0\u001b[0m\u001b[95m.00697066\u001b[0m \u001b[3;94msps\u001b[0m=\u001b[95m10\u001b[0m\u001b[95m.0874\u001b[0m \u001b[3;94msps_per_gpu\u001b[0m=\u001b[95m10\u001b[0m\u001b[95m.0874\u001b[0m \u001b[3;94mtps\u001b[0m=\u001b[95m165272\u001b[0m \u001b[3;94mtps_per_gpu\u001b[0m=\u001b[95m165272\u001b[0m \u001b[3;94mmfu\u001b[0m=\u001b[95m3\u001b[0m\u001b[95m.88359\u001b[0m\n"
            ],
            "text/html": [
              "<pre style=\"white-space:pre;overflow-x:auto;line-height:normal;font-family:Menlo,'DejaVu Sans Mono',consolas,'Courier New',monospace\"><span style=\"color: #000000; text-decoration-color: #000000\">[</span><span style=\"color: #000000; text-decoration-color: #000000\">2024-11-08 </span><span style=\"color: #808080; text-decoration-color: #808080\">05:25:13.056142</span><span style=\"color: #000000; text-decoration-color: #000000\">][</span><span style=\"color: #008000; text-decoration-color: #008000; font-weight: bold\">INFO</span><span style=\"color: #000000; text-decoration-color: #000000\">][</span><span style=\"color: #000080; text-decoration-color: #000080; font-style: italic\">trainer.py</span><span style=\"color: #0000ff; text-decoration-color: #0000ff\">:</span><span style=\"color: #000000; text-decoration-color: #000000\">892</span><span style=\"color: #000000; text-decoration-color: #000000\">]</span><span style=\"color: #838383; text-decoration-color: #838383\"> - </span><span style=\"color: #0000ff; text-decoration-color: #0000ff; font-style: italic\">step</span>=<span style=\"color: #ff00ff; text-decoration-color: #ff00ff\">150</span> <span style=\"color: #0000ff; text-decoration-color: #0000ff; font-style: italic\">loss</span>=<span style=\"color: #ff00ff; text-decoration-color: #ff00ff\">2.42007</span> <span style=\"color: #0000ff; text-decoration-color: #0000ff; font-style: italic\">dt</span>=<span style=\"color: #ff00ff; text-decoration-color: #ff00ff\">0.0991337</span> <span style=\"color: #0000ff; text-decoration-color: #0000ff; font-style: italic\">dtf</span>=<span style=\"color: #ff00ff; text-decoration-color: #ff00ff\">0.00443665</span> <span style=\"color: #0000ff; text-decoration-color: #0000ff; font-style: italic\">dtb</span>=<span style=\"color: #ff00ff; text-decoration-color: #ff00ff\">0.00697066</span> <span style=\"color: #0000ff; text-decoration-color: #0000ff; font-style: italic\">sps</span>=<span style=\"color: #ff00ff; text-decoration-color: #ff00ff\">10.0874</span> <span style=\"color: #0000ff; text-decoration-color: #0000ff; font-style: italic\">sps_per_gpu</span>=<span style=\"color: #ff00ff; text-decoration-color: #ff00ff\">10.0874</span> <span style=\"color: #0000ff; text-decoration-color: #0000ff; font-style: italic\">tps</span>=<span style=\"color: #ff00ff; text-decoration-color: #ff00ff\">165272</span> <span style=\"color: #0000ff; text-decoration-color: #0000ff; font-style: italic\">tps_per_gpu</span>=<span style=\"color: #ff00ff; text-decoration-color: #ff00ff\">165272</span> <span style=\"color: #0000ff; text-decoration-color: #0000ff; font-style: italic\">mfu</span>=<span style=\"color: #ff00ff; text-decoration-color: #ff00ff\">3.88359</span>\n",
              "</pre>\n"
            ]
          },
          "metadata": {}
        },
        {
          "output_type": "display_data",
          "data": {
            "text/plain": [
              "\u001b[30m[\u001b[0m\u001b[30m2024-11-08 \u001b[0m\u001b[90m05:25:17.978772\u001b[0m\u001b[30m]\u001b[0m\u001b[30m[\u001b[0m\u001b[1;32mINFO\u001b[0m\u001b[30m]\u001b[0m\u001b[30m[\u001b[0m\u001b[3;34mtrainer.py\u001b[0m\u001b[94m:\u001b[0m\u001b[30m892\u001b[0m\u001b[30m]\u001b[0m\u001b[38;2;131;131;131m - \u001b[0m\u001b[3;94mstep\u001b[0m=\u001b[95m200\u001b[0m \u001b[3;94mloss\u001b[0m=\u001b[95m2\u001b[0m\u001b[95m.26795\u001b[0m \u001b[3;94mdt\u001b[0m=\u001b[95m0\u001b[0m\u001b[95m.0994601\u001b[0m \u001b[3;94mdtf\u001b[0m=\u001b[95m0\u001b[0m\u001b[95m.00442648\u001b[0m \u001b[3;94mdtb\u001b[0m=\u001b[95m0\u001b[0m\u001b[95m.00693984\u001b[0m \u001b[3;94msps\u001b[0m=\u001b[95m10\u001b[0m\u001b[95m.0543\u001b[0m \u001b[3;94msps_per_gpu\u001b[0m=\u001b[95m10\u001b[0m\u001b[95m.0543\u001b[0m \u001b[3;94mtps\u001b[0m=\u001b[95m164729\u001b[0m \u001b[3;94mtps_per_gpu\u001b[0m=\u001b[95m164729\u001b[0m \u001b[3;94mmfu\u001b[0m=\u001b[95m3\u001b[0m\u001b[95m.86988\u001b[0m\n"
            ],
            "text/html": [
              "<pre style=\"white-space:pre;overflow-x:auto;line-height:normal;font-family:Menlo,'DejaVu Sans Mono',consolas,'Courier New',monospace\"><span style=\"color: #000000; text-decoration-color: #000000\">[</span><span style=\"color: #000000; text-decoration-color: #000000\">2024-11-08 </span><span style=\"color: #808080; text-decoration-color: #808080\">05:25:17.978772</span><span style=\"color: #000000; text-decoration-color: #000000\">][</span><span style=\"color: #008000; text-decoration-color: #008000; font-weight: bold\">INFO</span><span style=\"color: #000000; text-decoration-color: #000000\">][</span><span style=\"color: #000080; text-decoration-color: #000080; font-style: italic\">trainer.py</span><span style=\"color: #0000ff; text-decoration-color: #0000ff\">:</span><span style=\"color: #000000; text-decoration-color: #000000\">892</span><span style=\"color: #000000; text-decoration-color: #000000\">]</span><span style=\"color: #838383; text-decoration-color: #838383\"> - </span><span style=\"color: #0000ff; text-decoration-color: #0000ff; font-style: italic\">step</span>=<span style=\"color: #ff00ff; text-decoration-color: #ff00ff\">200</span> <span style=\"color: #0000ff; text-decoration-color: #0000ff; font-style: italic\">loss</span>=<span style=\"color: #ff00ff; text-decoration-color: #ff00ff\">2.26795</span> <span style=\"color: #0000ff; text-decoration-color: #0000ff; font-style: italic\">dt</span>=<span style=\"color: #ff00ff; text-decoration-color: #ff00ff\">0.0994601</span> <span style=\"color: #0000ff; text-decoration-color: #0000ff; font-style: italic\">dtf</span>=<span style=\"color: #ff00ff; text-decoration-color: #ff00ff\">0.00442648</span> <span style=\"color: #0000ff; text-decoration-color: #0000ff; font-style: italic\">dtb</span>=<span style=\"color: #ff00ff; text-decoration-color: #ff00ff\">0.00693984</span> <span style=\"color: #0000ff; text-decoration-color: #0000ff; font-style: italic\">sps</span>=<span style=\"color: #ff00ff; text-decoration-color: #ff00ff\">10.0543</span> <span style=\"color: #0000ff; text-decoration-color: #0000ff; font-style: italic\">sps_per_gpu</span>=<span style=\"color: #ff00ff; text-decoration-color: #ff00ff\">10.0543</span> <span style=\"color: #0000ff; text-decoration-color: #0000ff; font-style: italic\">tps</span>=<span style=\"color: #ff00ff; text-decoration-color: #ff00ff\">164729</span> <span style=\"color: #0000ff; text-decoration-color: #0000ff; font-style: italic\">tps_per_gpu</span>=<span style=\"color: #ff00ff; text-decoration-color: #ff00ff\">164729</span> <span style=\"color: #0000ff; text-decoration-color: #0000ff; font-style: italic\">mfu</span>=<span style=\"color: #ff00ff; text-decoration-color: #ff00ff\">3.86988</span>\n",
              "</pre>\n"
            ]
          },
          "metadata": {}
        },
        {
          "output_type": "display_data",
          "data": {
            "text/plain": [
              "\u001b[30m[\u001b[0m\u001b[30m2024-11-08 \u001b[0m\u001b[90m05:25:22.921090\u001b[0m\u001b[30m]\u001b[0m\u001b[30m[\u001b[0m\u001b[1;32mINFO\u001b[0m\u001b[30m]\u001b[0m\u001b[30m[\u001b[0m\u001b[3;34mtrainer.py\u001b[0m\u001b[94m:\u001b[0m\u001b[30m892\u001b[0m\u001b[30m]\u001b[0m\u001b[38;2;131;131;131m - \u001b[0m\u001b[3;94mstep\u001b[0m=\u001b[95m250\u001b[0m \u001b[3;94mloss\u001b[0m=\u001b[95m2\u001b[0m\u001b[95m.06456\u001b[0m \u001b[3;94mdt\u001b[0m=\u001b[95m0\u001b[0m\u001b[95m.0976051\u001b[0m \u001b[3;94mdtf\u001b[0m=\u001b[95m0\u001b[0m\u001b[95m.00431692\u001b[0m \u001b[3;94mdtb\u001b[0m=\u001b[95m0\u001b[0m\u001b[95m.00712179\u001b[0m \u001b[3;94msps\u001b[0m=\u001b[95m10\u001b[0m\u001b[95m.2454\u001b[0m \u001b[3;94msps_per_gpu\u001b[0m=\u001b[95m10\u001b[0m\u001b[95m.2454\u001b[0m \u001b[3;94mtps\u001b[0m=\u001b[95m167860\u001b[0m \u001b[3;94mtps_per_gpu\u001b[0m=\u001b[95m167860\u001b[0m \u001b[3;94mmfu\u001b[0m=\u001b[95m3\u001b[0m\u001b[95m.86466\u001b[0m\n"
            ],
            "text/html": [
              "<pre style=\"white-space:pre;overflow-x:auto;line-height:normal;font-family:Menlo,'DejaVu Sans Mono',consolas,'Courier New',monospace\"><span style=\"color: #000000; text-decoration-color: #000000\">[</span><span style=\"color: #000000; text-decoration-color: #000000\">2024-11-08 </span><span style=\"color: #808080; text-decoration-color: #808080\">05:25:22.921090</span><span style=\"color: #000000; text-decoration-color: #000000\">][</span><span style=\"color: #008000; text-decoration-color: #008000; font-weight: bold\">INFO</span><span style=\"color: #000000; text-decoration-color: #000000\">][</span><span style=\"color: #000080; text-decoration-color: #000080; font-style: italic\">trainer.py</span><span style=\"color: #0000ff; text-decoration-color: #0000ff\">:</span><span style=\"color: #000000; text-decoration-color: #000000\">892</span><span style=\"color: #000000; text-decoration-color: #000000\">]</span><span style=\"color: #838383; text-decoration-color: #838383\"> - </span><span style=\"color: #0000ff; text-decoration-color: #0000ff; font-style: italic\">step</span>=<span style=\"color: #ff00ff; text-decoration-color: #ff00ff\">250</span> <span style=\"color: #0000ff; text-decoration-color: #0000ff; font-style: italic\">loss</span>=<span style=\"color: #ff00ff; text-decoration-color: #ff00ff\">2.06456</span> <span style=\"color: #0000ff; text-decoration-color: #0000ff; font-style: italic\">dt</span>=<span style=\"color: #ff00ff; text-decoration-color: #ff00ff\">0.0976051</span> <span style=\"color: #0000ff; text-decoration-color: #0000ff; font-style: italic\">dtf</span>=<span style=\"color: #ff00ff; text-decoration-color: #ff00ff\">0.00431692</span> <span style=\"color: #0000ff; text-decoration-color: #0000ff; font-style: italic\">dtb</span>=<span style=\"color: #ff00ff; text-decoration-color: #ff00ff\">0.00712179</span> <span style=\"color: #0000ff; text-decoration-color: #0000ff; font-style: italic\">sps</span>=<span style=\"color: #ff00ff; text-decoration-color: #ff00ff\">10.2454</span> <span style=\"color: #0000ff; text-decoration-color: #0000ff; font-style: italic\">sps_per_gpu</span>=<span style=\"color: #ff00ff; text-decoration-color: #ff00ff\">10.2454</span> <span style=\"color: #0000ff; text-decoration-color: #0000ff; font-style: italic\">tps</span>=<span style=\"color: #ff00ff; text-decoration-color: #ff00ff\">167860</span> <span style=\"color: #0000ff; text-decoration-color: #0000ff; font-style: italic\">tps_per_gpu</span>=<span style=\"color: #ff00ff; text-decoration-color: #ff00ff\">167860</span> <span style=\"color: #0000ff; text-decoration-color: #0000ff; font-style: italic\">mfu</span>=<span style=\"color: #ff00ff; text-decoration-color: #ff00ff\">3.86466</span>\n",
              "</pre>\n"
            ]
          },
          "metadata": {}
        },
        {
          "output_type": "display_data",
          "data": {
            "text/plain": [
              "\u001b[30m[\u001b[0m\u001b[30m2024-11-08 \u001b[0m\u001b[90m05:25:27.889243\u001b[0m\u001b[30m]\u001b[0m\u001b[30m[\u001b[0m\u001b[1;32mINFO\u001b[0m\u001b[30m]\u001b[0m\u001b[30m[\u001b[0m\u001b[3;34mtrainer.py\u001b[0m\u001b[94m:\u001b[0m\u001b[30m892\u001b[0m\u001b[30m]\u001b[0m\u001b[38;2;131;131;131m - \u001b[0m\u001b[3;94mstep\u001b[0m=\u001b[95m300\u001b[0m \u001b[3;94mloss\u001b[0m=\u001b[95m1\u001b[0m\u001b[95m.92141\u001b[0m \u001b[3;94mdt\u001b[0m=\u001b[95m0\u001b[0m\u001b[95m.101356\u001b[0m \u001b[3;94mdtf\u001b[0m=\u001b[95m0\u001b[0m\u001b[95m.0049911\u001b[0m \u001b[3;94mdtb\u001b[0m=\u001b[95m0\u001b[0m\u001b[95m.00686963\u001b[0m \u001b[3;94msps\u001b[0m=\u001b[95m9\u001b[0m\u001b[95m.86622\u001b[0m \u001b[3;94msps_per_gpu\u001b[0m=\u001b[95m9\u001b[0m\u001b[95m.86622\u001b[0m \u001b[3;94mtps\u001b[0m=\u001b[95m161648\u001b[0m \u001b[3;94mtps_per_gpu\u001b[0m=\u001b[95m161648\u001b[0m \u001b[3;94mmfu\u001b[0m=\u001b[95m3\u001b[0m\u001b[95m.84583\u001b[0m\n"
            ],
            "text/html": [
              "<pre style=\"white-space:pre;overflow-x:auto;line-height:normal;font-family:Menlo,'DejaVu Sans Mono',consolas,'Courier New',monospace\"><span style=\"color: #000000; text-decoration-color: #000000\">[</span><span style=\"color: #000000; text-decoration-color: #000000\">2024-11-08 </span><span style=\"color: #808080; text-decoration-color: #808080\">05:25:27.889243</span><span style=\"color: #000000; text-decoration-color: #000000\">][</span><span style=\"color: #008000; text-decoration-color: #008000; font-weight: bold\">INFO</span><span style=\"color: #000000; text-decoration-color: #000000\">][</span><span style=\"color: #000080; text-decoration-color: #000080; font-style: italic\">trainer.py</span><span style=\"color: #0000ff; text-decoration-color: #0000ff\">:</span><span style=\"color: #000000; text-decoration-color: #000000\">892</span><span style=\"color: #000000; text-decoration-color: #000000\">]</span><span style=\"color: #838383; text-decoration-color: #838383\"> - </span><span style=\"color: #0000ff; text-decoration-color: #0000ff; font-style: italic\">step</span>=<span style=\"color: #ff00ff; text-decoration-color: #ff00ff\">300</span> <span style=\"color: #0000ff; text-decoration-color: #0000ff; font-style: italic\">loss</span>=<span style=\"color: #ff00ff; text-decoration-color: #ff00ff\">1.92141</span> <span style=\"color: #0000ff; text-decoration-color: #0000ff; font-style: italic\">dt</span>=<span style=\"color: #ff00ff; text-decoration-color: #ff00ff\">0.101356</span> <span style=\"color: #0000ff; text-decoration-color: #0000ff; font-style: italic\">dtf</span>=<span style=\"color: #ff00ff; text-decoration-color: #ff00ff\">0.0049911</span> <span style=\"color: #0000ff; text-decoration-color: #0000ff; font-style: italic\">dtb</span>=<span style=\"color: #ff00ff; text-decoration-color: #ff00ff\">0.00686963</span> <span style=\"color: #0000ff; text-decoration-color: #0000ff; font-style: italic\">sps</span>=<span style=\"color: #ff00ff; text-decoration-color: #ff00ff\">9.86622</span> <span style=\"color: #0000ff; text-decoration-color: #0000ff; font-style: italic\">sps_per_gpu</span>=<span style=\"color: #ff00ff; text-decoration-color: #ff00ff\">9.86622</span> <span style=\"color: #0000ff; text-decoration-color: #0000ff; font-style: italic\">tps</span>=<span style=\"color: #ff00ff; text-decoration-color: #ff00ff\">161648</span> <span style=\"color: #0000ff; text-decoration-color: #0000ff; font-style: italic\">tps_per_gpu</span>=<span style=\"color: #ff00ff; text-decoration-color: #ff00ff\">161648</span> <span style=\"color: #0000ff; text-decoration-color: #0000ff; font-style: italic\">mfu</span>=<span style=\"color: #ff00ff; text-decoration-color: #ff00ff\">3.84583</span>\n",
              "</pre>\n"
            ]
          },
          "metadata": {}
        },
        {
          "output_type": "display_data",
          "data": {
            "text/plain": [
              "\u001b[30m[\u001b[0m\u001b[30m2024-11-08 \u001b[0m\u001b[90m05:25:32.939010\u001b[0m\u001b[30m]\u001b[0m\u001b[30m[\u001b[0m\u001b[1;32mINFO\u001b[0m\u001b[30m]\u001b[0m\u001b[30m[\u001b[0m\u001b[3;34mtrainer.py\u001b[0m\u001b[94m:\u001b[0m\u001b[30m892\u001b[0m\u001b[30m]\u001b[0m\u001b[38;2;131;131;131m - \u001b[0m\u001b[3;94mstep\u001b[0m=\u001b[95m350\u001b[0m \u001b[3;94mloss\u001b[0m=\u001b[95m1\u001b[0m\u001b[95m.79536\u001b[0m \u001b[3;94mdt\u001b[0m=\u001b[95m0\u001b[0m\u001b[95m.0931828\u001b[0m \u001b[3;94mdtf\u001b[0m=\u001b[95m0\u001b[0m\u001b[95m.00679681\u001b[0m \u001b[3;94mdtb\u001b[0m=\u001b[95m0\u001b[0m\u001b[95m.00966938\u001b[0m \u001b[3;94msps\u001b[0m=\u001b[95m10\u001b[0m\u001b[95m.7316\u001b[0m \u001b[3;94msps_per_gpu\u001b[0m=\u001b[95m10\u001b[0m\u001b[95m.7316\u001b[0m \u001b[3;94mtps\u001b[0m=\u001b[95m175826\u001b[0m \u001b[3;94mtps_per_gpu\u001b[0m=\u001b[95m175826\u001b[0m \u001b[3;94mmfu\u001b[0m=\u001b[95m3\u001b[0m\u001b[95m.86113\u001b[0m\n"
            ],
            "text/html": [
              "<pre style=\"white-space:pre;overflow-x:auto;line-height:normal;font-family:Menlo,'DejaVu Sans Mono',consolas,'Courier New',monospace\"><span style=\"color: #000000; text-decoration-color: #000000\">[</span><span style=\"color: #000000; text-decoration-color: #000000\">2024-11-08 </span><span style=\"color: #808080; text-decoration-color: #808080\">05:25:32.939010</span><span style=\"color: #000000; text-decoration-color: #000000\">][</span><span style=\"color: #008000; text-decoration-color: #008000; font-weight: bold\">INFO</span><span style=\"color: #000000; text-decoration-color: #000000\">][</span><span style=\"color: #000080; text-decoration-color: #000080; font-style: italic\">trainer.py</span><span style=\"color: #0000ff; text-decoration-color: #0000ff\">:</span><span style=\"color: #000000; text-decoration-color: #000000\">892</span><span style=\"color: #000000; text-decoration-color: #000000\">]</span><span style=\"color: #838383; text-decoration-color: #838383\"> - </span><span style=\"color: #0000ff; text-decoration-color: #0000ff; font-style: italic\">step</span>=<span style=\"color: #ff00ff; text-decoration-color: #ff00ff\">350</span> <span style=\"color: #0000ff; text-decoration-color: #0000ff; font-style: italic\">loss</span>=<span style=\"color: #ff00ff; text-decoration-color: #ff00ff\">1.79536</span> <span style=\"color: #0000ff; text-decoration-color: #0000ff; font-style: italic\">dt</span>=<span style=\"color: #ff00ff; text-decoration-color: #ff00ff\">0.0931828</span> <span style=\"color: #0000ff; text-decoration-color: #0000ff; font-style: italic\">dtf</span>=<span style=\"color: #ff00ff; text-decoration-color: #ff00ff\">0.00679681</span> <span style=\"color: #0000ff; text-decoration-color: #0000ff; font-style: italic\">dtb</span>=<span style=\"color: #ff00ff; text-decoration-color: #ff00ff\">0.00966938</span> <span style=\"color: #0000ff; text-decoration-color: #0000ff; font-style: italic\">sps</span>=<span style=\"color: #ff00ff; text-decoration-color: #ff00ff\">10.7316</span> <span style=\"color: #0000ff; text-decoration-color: #0000ff; font-style: italic\">sps_per_gpu</span>=<span style=\"color: #ff00ff; text-decoration-color: #ff00ff\">10.7316</span> <span style=\"color: #0000ff; text-decoration-color: #0000ff; font-style: italic\">tps</span>=<span style=\"color: #ff00ff; text-decoration-color: #ff00ff\">175826</span> <span style=\"color: #0000ff; text-decoration-color: #0000ff; font-style: italic\">tps_per_gpu</span>=<span style=\"color: #ff00ff; text-decoration-color: #ff00ff\">175826</span> <span style=\"color: #0000ff; text-decoration-color: #0000ff; font-style: italic\">mfu</span>=<span style=\"color: #ff00ff; text-decoration-color: #ff00ff\">3.86113</span>\n",
              "</pre>\n"
            ]
          },
          "metadata": {}
        },
        {
          "output_type": "display_data",
          "data": {
            "text/plain": [
              "\u001b[30m[\u001b[0m\u001b[30m2024-11-08 \u001b[0m\u001b[90m05:25:37.997473\u001b[0m\u001b[30m]\u001b[0m\u001b[30m[\u001b[0m\u001b[1;32mINFO\u001b[0m\u001b[30m]\u001b[0m\u001b[30m[\u001b[0m\u001b[3;34mtrainer.py\u001b[0m\u001b[94m:\u001b[0m\u001b[30m892\u001b[0m\u001b[30m]\u001b[0m\u001b[38;2;131;131;131m - \u001b[0m\u001b[3;94mstep\u001b[0m=\u001b[95m400\u001b[0m \u001b[3;94mloss\u001b[0m=\u001b[95m1\u001b[0m\u001b[95m.73486\u001b[0m \u001b[3;94mdt\u001b[0m=\u001b[95m0\u001b[0m\u001b[95m.101175\u001b[0m \u001b[3;94mdtf\u001b[0m=\u001b[95m0\u001b[0m\u001b[95m.0042673\u001b[0m \u001b[3;94mdtb\u001b[0m=\u001b[95m0\u001b[0m\u001b[95m.0069322\u001b[0m \u001b[3;94msps\u001b[0m=\u001b[95m9\u001b[0m\u001b[95m.8839\u001b[0m \u001b[3;94msps_per_gpu\u001b[0m=\u001b[95m9\u001b[0m\u001b[95m.8839\u001b[0m \u001b[3;94mtps\u001b[0m=\u001b[95m161938\u001b[0m \u001b[3;94mtps_per_gpu\u001b[0m=\u001b[95m161938\u001b[0m \u001b[3;94mmfu\u001b[0m=\u001b[95m3\u001b[0m\u001b[95m.84332\u001b[0m\n"
            ],
            "text/html": [
              "<pre style=\"white-space:pre;overflow-x:auto;line-height:normal;font-family:Menlo,'DejaVu Sans Mono',consolas,'Courier New',monospace\"><span style=\"color: #000000; text-decoration-color: #000000\">[</span><span style=\"color: #000000; text-decoration-color: #000000\">2024-11-08 </span><span style=\"color: #808080; text-decoration-color: #808080\">05:25:37.997473</span><span style=\"color: #000000; text-decoration-color: #000000\">][</span><span style=\"color: #008000; text-decoration-color: #008000; font-weight: bold\">INFO</span><span style=\"color: #000000; text-decoration-color: #000000\">][</span><span style=\"color: #000080; text-decoration-color: #000080; font-style: italic\">trainer.py</span><span style=\"color: #0000ff; text-decoration-color: #0000ff\">:</span><span style=\"color: #000000; text-decoration-color: #000000\">892</span><span style=\"color: #000000; text-decoration-color: #000000\">]</span><span style=\"color: #838383; text-decoration-color: #838383\"> - </span><span style=\"color: #0000ff; text-decoration-color: #0000ff; font-style: italic\">step</span>=<span style=\"color: #ff00ff; text-decoration-color: #ff00ff\">400</span> <span style=\"color: #0000ff; text-decoration-color: #0000ff; font-style: italic\">loss</span>=<span style=\"color: #ff00ff; text-decoration-color: #ff00ff\">1.73486</span> <span style=\"color: #0000ff; text-decoration-color: #0000ff; font-style: italic\">dt</span>=<span style=\"color: #ff00ff; text-decoration-color: #ff00ff\">0.101175</span> <span style=\"color: #0000ff; text-decoration-color: #0000ff; font-style: italic\">dtf</span>=<span style=\"color: #ff00ff; text-decoration-color: #ff00ff\">0.0042673</span> <span style=\"color: #0000ff; text-decoration-color: #0000ff; font-style: italic\">dtb</span>=<span style=\"color: #ff00ff; text-decoration-color: #ff00ff\">0.0069322</span> <span style=\"color: #0000ff; text-decoration-color: #0000ff; font-style: italic\">sps</span>=<span style=\"color: #ff00ff; text-decoration-color: #ff00ff\">9.8839</span> <span style=\"color: #0000ff; text-decoration-color: #0000ff; font-style: italic\">sps_per_gpu</span>=<span style=\"color: #ff00ff; text-decoration-color: #ff00ff\">9.8839</span> <span style=\"color: #0000ff; text-decoration-color: #0000ff; font-style: italic\">tps</span>=<span style=\"color: #ff00ff; text-decoration-color: #ff00ff\">161938</span> <span style=\"color: #0000ff; text-decoration-color: #0000ff; font-style: italic\">tps_per_gpu</span>=<span style=\"color: #ff00ff; text-decoration-color: #ff00ff\">161938</span> <span style=\"color: #0000ff; text-decoration-color: #0000ff; font-style: italic\">mfu</span>=<span style=\"color: #ff00ff; text-decoration-color: #ff00ff\">3.84332</span>\n",
              "</pre>\n"
            ]
          },
          "metadata": {}
        },
        {
          "output_type": "display_data",
          "data": {
            "text/plain": [
              "\u001b[30m[\u001b[0m\u001b[30m2024-11-08 \u001b[0m\u001b[90m05:25:43.058861\u001b[0m\u001b[30m]\u001b[0m\u001b[30m[\u001b[0m\u001b[1;32mINFO\u001b[0m\u001b[30m]\u001b[0m\u001b[30m[\u001b[0m\u001b[3;34mtrainer.py\u001b[0m\u001b[94m:\u001b[0m\u001b[30m892\u001b[0m\u001b[30m]\u001b[0m\u001b[38;2;131;131;131m - \u001b[0m\u001b[3;94mstep\u001b[0m=\u001b[95m450\u001b[0m \u001b[3;94mloss\u001b[0m=\u001b[95m1\u001b[0m\u001b[95m.68148\u001b[0m \u001b[3;94mdt\u001b[0m=\u001b[95m0\u001b[0m\u001b[95m.101949\u001b[0m \u001b[3;94mdtf\u001b[0m=\u001b[95m0\u001b[0m\u001b[95m.00433356\u001b[0m \u001b[3;94mdtb\u001b[0m=\u001b[95m0\u001b[0m\u001b[95m.00692518\u001b[0m \u001b[3;94msps\u001b[0m=\u001b[95m9\u001b[0m\u001b[95m.80879\u001b[0m \u001b[3;94msps_per_gpu\u001b[0m=\u001b[95m9\u001b[0m\u001b[95m.80879\u001b[0m \u001b[3;94mtps\u001b[0m=\u001b[95m160707\u001b[0m \u001b[3;94mtps_per_gpu\u001b[0m=\u001b[95m160707\u001b[0m \u001b[3;94mmfu\u001b[0m=\u001b[95m3\u001b[0m\u001b[95m.82448\u001b[0m\n"
            ],
            "text/html": [
              "<pre style=\"white-space:pre;overflow-x:auto;line-height:normal;font-family:Menlo,'DejaVu Sans Mono',consolas,'Courier New',monospace\"><span style=\"color: #000000; text-decoration-color: #000000\">[</span><span style=\"color: #000000; text-decoration-color: #000000\">2024-11-08 </span><span style=\"color: #808080; text-decoration-color: #808080\">05:25:43.058861</span><span style=\"color: #000000; text-decoration-color: #000000\">][</span><span style=\"color: #008000; text-decoration-color: #008000; font-weight: bold\">INFO</span><span style=\"color: #000000; text-decoration-color: #000000\">][</span><span style=\"color: #000080; text-decoration-color: #000080; font-style: italic\">trainer.py</span><span style=\"color: #0000ff; text-decoration-color: #0000ff\">:</span><span style=\"color: #000000; text-decoration-color: #000000\">892</span><span style=\"color: #000000; text-decoration-color: #000000\">]</span><span style=\"color: #838383; text-decoration-color: #838383\"> - </span><span style=\"color: #0000ff; text-decoration-color: #0000ff; font-style: italic\">step</span>=<span style=\"color: #ff00ff; text-decoration-color: #ff00ff\">450</span> <span style=\"color: #0000ff; text-decoration-color: #0000ff; font-style: italic\">loss</span>=<span style=\"color: #ff00ff; text-decoration-color: #ff00ff\">1.68148</span> <span style=\"color: #0000ff; text-decoration-color: #0000ff; font-style: italic\">dt</span>=<span style=\"color: #ff00ff; text-decoration-color: #ff00ff\">0.101949</span> <span style=\"color: #0000ff; text-decoration-color: #0000ff; font-style: italic\">dtf</span>=<span style=\"color: #ff00ff; text-decoration-color: #ff00ff\">0.00433356</span> <span style=\"color: #0000ff; text-decoration-color: #0000ff; font-style: italic\">dtb</span>=<span style=\"color: #ff00ff; text-decoration-color: #ff00ff\">0.00692518</span> <span style=\"color: #0000ff; text-decoration-color: #0000ff; font-style: italic\">sps</span>=<span style=\"color: #ff00ff; text-decoration-color: #ff00ff\">9.80879</span> <span style=\"color: #0000ff; text-decoration-color: #0000ff; font-style: italic\">sps_per_gpu</span>=<span style=\"color: #ff00ff; text-decoration-color: #ff00ff\">9.80879</span> <span style=\"color: #0000ff; text-decoration-color: #0000ff; font-style: italic\">tps</span>=<span style=\"color: #ff00ff; text-decoration-color: #ff00ff\">160707</span> <span style=\"color: #0000ff; text-decoration-color: #0000ff; font-style: italic\">tps_per_gpu</span>=<span style=\"color: #ff00ff; text-decoration-color: #ff00ff\">160707</span> <span style=\"color: #0000ff; text-decoration-color: #0000ff; font-style: italic\">mfu</span>=<span style=\"color: #ff00ff; text-decoration-color: #ff00ff\">3.82448</span>\n",
              "</pre>\n"
            ]
          },
          "metadata": {}
        },
        {
          "output_type": "display_data",
          "data": {
            "text/plain": [
              "\u001b[30m[\u001b[0m\u001b[30m2024-11-08 \u001b[0m\u001b[90m05:25:48.141039\u001b[0m\u001b[30m]\u001b[0m\u001b[30m[\u001b[0m\u001b[1;32mINFO\u001b[0m\u001b[30m]\u001b[0m\u001b[30m[\u001b[0m\u001b[3;34mtrainer.py\u001b[0m\u001b[94m:\u001b[0m\u001b[30m892\u001b[0m\u001b[30m]\u001b[0m\u001b[38;2;131;131;131m - \u001b[0m\u001b[3;94mstep\u001b[0m=\u001b[95m500\u001b[0m \u001b[3;94mloss\u001b[0m=\u001b[95m1\u001b[0m\u001b[95m.60571\u001b[0m \u001b[3;94mdt\u001b[0m=\u001b[95m0\u001b[0m\u001b[95m.100799\u001b[0m \u001b[3;94mdtf\u001b[0m=\u001b[95m0\u001b[0m\u001b[95m.00441345\u001b[0m \u001b[3;94mdtb\u001b[0m=\u001b[95m0\u001b[0m\u001b[95m.0071194\u001b[0m \u001b[3;94msps\u001b[0m=\u001b[95m9\u001b[0m\u001b[95m.9207\u001b[0m \u001b[3;94msps_per_gpu\u001b[0m=\u001b[95m9\u001b[0m\u001b[95m.9207\u001b[0m \u001b[3;94mtps\u001b[0m=\u001b[95m162541\u001b[0m \u001b[3;94mtps_per_gpu\u001b[0m=\u001b[95m162541\u001b[0m \u001b[3;94mmfu\u001b[0m=\u001b[95m3\u001b[0m\u001b[95m.8117\u001b[0m\n"
            ],
            "text/html": [
              "<pre style=\"white-space:pre;overflow-x:auto;line-height:normal;font-family:Menlo,'DejaVu Sans Mono',consolas,'Courier New',monospace\"><span style=\"color: #000000; text-decoration-color: #000000\">[</span><span style=\"color: #000000; text-decoration-color: #000000\">2024-11-08 </span><span style=\"color: #808080; text-decoration-color: #808080\">05:25:48.141039</span><span style=\"color: #000000; text-decoration-color: #000000\">][</span><span style=\"color: #008000; text-decoration-color: #008000; font-weight: bold\">INFO</span><span style=\"color: #000000; text-decoration-color: #000000\">][</span><span style=\"color: #000080; text-decoration-color: #000080; font-style: italic\">trainer.py</span><span style=\"color: #0000ff; text-decoration-color: #0000ff\">:</span><span style=\"color: #000000; text-decoration-color: #000000\">892</span><span style=\"color: #000000; text-decoration-color: #000000\">]</span><span style=\"color: #838383; text-decoration-color: #838383\"> - </span><span style=\"color: #0000ff; text-decoration-color: #0000ff; font-style: italic\">step</span>=<span style=\"color: #ff00ff; text-decoration-color: #ff00ff\">500</span> <span style=\"color: #0000ff; text-decoration-color: #0000ff; font-style: italic\">loss</span>=<span style=\"color: #ff00ff; text-decoration-color: #ff00ff\">1.60571</span> <span style=\"color: #0000ff; text-decoration-color: #0000ff; font-style: italic\">dt</span>=<span style=\"color: #ff00ff; text-decoration-color: #ff00ff\">0.100799</span> <span style=\"color: #0000ff; text-decoration-color: #0000ff; font-style: italic\">dtf</span>=<span style=\"color: #ff00ff; text-decoration-color: #ff00ff\">0.00441345</span> <span style=\"color: #0000ff; text-decoration-color: #0000ff; font-style: italic\">dtb</span>=<span style=\"color: #ff00ff; text-decoration-color: #ff00ff\">0.0071194</span> <span style=\"color: #0000ff; text-decoration-color: #0000ff; font-style: italic\">sps</span>=<span style=\"color: #ff00ff; text-decoration-color: #ff00ff\">9.9207</span> <span style=\"color: #0000ff; text-decoration-color: #0000ff; font-style: italic\">sps_per_gpu</span>=<span style=\"color: #ff00ff; text-decoration-color: #ff00ff\">9.9207</span> <span style=\"color: #0000ff; text-decoration-color: #0000ff; font-style: italic\">tps</span>=<span style=\"color: #ff00ff; text-decoration-color: #ff00ff\">162541</span> <span style=\"color: #0000ff; text-decoration-color: #0000ff; font-style: italic\">tps_per_gpu</span>=<span style=\"color: #ff00ff; text-decoration-color: #ff00ff\">162541</span> <span style=\"color: #0000ff; text-decoration-color: #0000ff; font-style: italic\">mfu</span>=<span style=\"color: #ff00ff; text-decoration-color: #ff00ff\">3.8117</span>\n",
              "</pre>\n"
            ]
          },
          "metadata": {}
        }
      ],
      "source": [
        "trainer.train(train_iters=500)"
      ]
    },
    {
      "cell_type": "code",
      "execution_count": null,
      "id": "A8XJpQsuunPh",
      "metadata": {
        "colab": {
          "base_uri": "https://localhost:8080/",
          "height": 305
        },
        "id": "A8XJpQsuunPh",
        "outputId": "bc502cbc-1d85-4fb6-c0bd-62bb4e192571"
      },
      "outputs": [
        {
          "output_type": "display_data",
          "data": {
            "text/plain": [
              "\u001b[30m[\u001b[0m\u001b[30m2024-11-08 \u001b[0m\u001b[90m05:29:04.825248\u001b[0m\u001b[30m]\u001b[0m\u001b[30m[\u001b[0m\u001b[1;32mINFO\u001b[0m\u001b[30m]\u001b[0m\u001b[30m[\u001b[0m\u001b[3;34m<ipython-input-9-18639f76aec6>\u001b[0m\u001b[94m:\u001b[0m\u001b[30m12\u001b[0m\u001b[30m]\u001b[0m\u001b[38;2;131;131;131m - \u001b[0mtook: \u001b[95m1.\u001b[0m1311s\n"
            ],
            "text/html": [
              "<pre style=\"white-space:pre;overflow-x:auto;line-height:normal;font-family:Menlo,'DejaVu Sans Mono',consolas,'Courier New',monospace\"><span style=\"color: #000000; text-decoration-color: #000000\">[</span><span style=\"color: #000000; text-decoration-color: #000000\">2024-11-08 </span><span style=\"color: #808080; text-decoration-color: #808080\">05:29:04.825248</span><span style=\"color: #000000; text-decoration-color: #000000\">][</span><span style=\"color: #008000; text-decoration-color: #008000; font-weight: bold\">INFO</span><span style=\"color: #000000; text-decoration-color: #000000\">][</span><span style=\"color: #000080; text-decoration-color: #000080; font-style: italic\">&lt;ipython-input-9-18639f76aec6&gt;</span><span style=\"color: #0000ff; text-decoration-color: #0000ff\">:</span><span style=\"color: #000000; text-decoration-color: #000000\">12</span><span style=\"color: #000000; text-decoration-color: #000000\">]</span><span style=\"color: #838383; text-decoration-color: #838383\"> - </span>took: <span style=\"color: #ff00ff; text-decoration-color: #ff00ff\">1.</span>1311s\n",
              "</pre>\n"
            ]
          },
          "metadata": {}
        },
        {
          "output_type": "display_data",
          "data": {
            "text/plain": [
              "\u001b[30m[\u001b[0m\u001b[30m2024-11-08 \u001b[0m\u001b[90m05:29:04.829937\u001b[0m\u001b[30m]\u001b[0m\u001b[30m[\u001b[0m\u001b[1;32mINFO\u001b[0m\u001b[30m]\u001b[0m\u001b[30m[\u001b[0m\u001b[3;34m<ipython-input-9-18639f76aec6>\u001b[0m\u001b[94m:\u001b[0m\u001b[30m13\u001b[0m\u001b[30m]\u001b[0m\u001b[38;2;131;131;131m - \u001b[0m\u001b[97m[\u001b[0m\u001b[3;92m'prompt'\u001b[0m\u001b[97m]\u001b[0m: \u001b[3;92m'What is an LLM?'\u001b[0m\n"
            ],
            "text/html": [
              "<pre style=\"white-space:pre;overflow-x:auto;line-height:normal;font-family:Menlo,'DejaVu Sans Mono',consolas,'Courier New',monospace\"><span style=\"color: #000000; text-decoration-color: #000000\">[</span><span style=\"color: #000000; text-decoration-color: #000000\">2024-11-08 </span><span style=\"color: #808080; text-decoration-color: #808080\">05:29:04.829937</span><span style=\"color: #000000; text-decoration-color: #000000\">][</span><span style=\"color: #008000; text-decoration-color: #008000; font-weight: bold\">INFO</span><span style=\"color: #000000; text-decoration-color: #000000\">][</span><span style=\"color: #000080; text-decoration-color: #000080; font-style: italic\">&lt;ipython-input-9-18639f76aec6&gt;</span><span style=\"color: #0000ff; text-decoration-color: #0000ff\">:</span><span style=\"color: #000000; text-decoration-color: #000000\">13</span><span style=\"color: #000000; text-decoration-color: #000000\">]</span><span style=\"color: #838383; text-decoration-color: #838383\"> - </span><span style=\"color: #ffffff; text-decoration-color: #ffffff\">[</span><span style=\"color: #00ff00; text-decoration-color: #00ff00; font-style: italic\">'prompt'</span><span style=\"color: #ffffff; text-decoration-color: #ffffff\">]</span>: <span style=\"color: #00ff00; text-decoration-color: #00ff00; font-style: italic\">'What is an LLM?'</span>\n",
              "</pre>\n"
            ]
          },
          "metadata": {}
        },
        {
          "output_type": "display_data",
          "data": {
            "text/plain": [
              "\u001b[30m[\u001b[0m\u001b[30m2024-11-08 \u001b[0m\u001b[90m05:29:04.832995\u001b[0m\u001b[30m]\u001b[0m\u001b[30m[\u001b[0m\u001b[1;32mINFO\u001b[0m\u001b[30m]\u001b[0m\u001b[30m[\u001b[0m\u001b[3;34m<ipython-input-9-18639f76aec6>\u001b[0m\u001b[94m:\u001b[0m\u001b[30m14\u001b[0m\u001b[30m]\u001b[0m\u001b[38;2;131;131;131m - \u001b[0m\u001b[97m[\u001b[0m\u001b[3;92m'response'\u001b[0m\u001b[97m]\u001b[0m:\n",
              "\n",
              "What is an LLM?\n",
              "\n",
              "RADY ANNE:\n",
              "Why good of the wrown the man.\n",
              "\n",
              "DUKE VINCENTIO:\n",
              "They abidge of the gentle well hasten to leave their dewine.\n",
              "\n",
              "FLORIZEL:\n",
              "So more me good manness would despectors against him in these?\n",
              "What his dame?\n",
              "\n",
              "GLOUCESTER:\n",
              "And it say the people in this re\n"
            ],
            "text/html": [
              "<pre style=\"white-space:pre;overflow-x:auto;line-height:normal;font-family:Menlo,'DejaVu Sans Mono',consolas,'Courier New',monospace\"><span style=\"color: #000000; text-decoration-color: #000000\">[</span><span style=\"color: #000000; text-decoration-color: #000000\">2024-11-08 </span><span style=\"color: #808080; text-decoration-color: #808080\">05:29:04.832995</span><span style=\"color: #000000; text-decoration-color: #000000\">][</span><span style=\"color: #008000; text-decoration-color: #008000; font-weight: bold\">INFO</span><span style=\"color: #000000; text-decoration-color: #000000\">][</span><span style=\"color: #000080; text-decoration-color: #000080; font-style: italic\">&lt;ipython-input-9-18639f76aec6&gt;</span><span style=\"color: #0000ff; text-decoration-color: #0000ff\">:</span><span style=\"color: #000000; text-decoration-color: #000000\">14</span><span style=\"color: #000000; text-decoration-color: #000000\">]</span><span style=\"color: #838383; text-decoration-color: #838383\"> - </span><span style=\"color: #ffffff; text-decoration-color: #ffffff\">[</span><span style=\"color: #00ff00; text-decoration-color: #00ff00; font-style: italic\">'response'</span><span style=\"color: #ffffff; text-decoration-color: #ffffff\">]</span>:\n",
              "\n",
              "What is an LLM?\n",
              "\n",
              "RADY ANNE:\n",
              "Why good of the wrown the man.\n",
              "\n",
              "DUKE VINCENTIO:\n",
              "They abidge of the gentle well hasten to leave their dewine.\n",
              "\n",
              "FLORIZEL:\n",
              "So more me good manness would despectors against him in these?\n",
              "What his dame?\n",
              "\n",
              "GLOUCESTER:\n",
              "And it say the people in this re\n",
              "</pre>\n"
            ]
          },
          "metadata": {}
        }
      ],
      "source": [
        "import time\n",
        "\n",
        "query = \"What is an LLM?\"\n",
        "t0 = time.perf_counter()\n",
        "outputs = trainer.evaluate(\n",
        "    query,\n",
        "    num_samples=1,\n",
        "    max_new_tokens=256,\n",
        "    top_k=16,\n",
        "    display=False\n",
        ")\n",
        "log.info(f'took: {time.perf_counter() - t0:.4f}s')\n",
        "log.info(f\"['prompt']: '{query}'\")\n",
        "log.info(\"['response']:\\n\\n\" + fr\"{outputs['0']['raw']}\")"
      ]
    },
    {
      "cell_type": "markdown",
      "id": "dSECFbpLwAer",
      "metadata": {
        "id": "dSECFbpLwAer"
      },
      "source": [
        "## Resume Training..."
      ]
    },
    {
      "cell_type": "code",
      "execution_count": null,
      "id": "ku1I3G_jv_-a",
      "metadata": {
        "colab": {
          "base_uri": "https://localhost:8080/",
          "height": 1000
        },
        "id": "ku1I3G_jv_-a",
        "outputId": "2768d883-ff3e-4cbc-fadb-48eea38c1ca8"
      },
      "outputs": [
        {
          "output_type": "display_data",
          "data": {
            "text/plain": [
              "\u001b[30m[\u001b[0m\u001b[30m2024-11-08 \u001b[0m\u001b[90m00:06:56.839677\u001b[0m\u001b[30m]\u001b[0m\u001b[30m[\u001b[0m\u001b[1;32mINFO\u001b[0m\u001b[30m]\u001b[0m\u001b[30m[\u001b[0m\u001b[3;34mtrainer.py\u001b[0m\u001b[94m:\u001b[0m\u001b[30m827\u001b[0m\u001b[30m]\u001b[0m\u001b[38;2;131;131;131m - \u001b[0m\u001b[97m[\u001b[0m\u001b[3;92m'prompt'\u001b[0m\u001b[97m]\u001b[0m: \u001b[3;92m'What is an LLM?'\u001b[0m\n"
            ],
            "text/html": [
              "<pre style=\"white-space:pre;overflow-x:auto;line-height:normal;font-family:Menlo,'DejaVu Sans Mono',consolas,'Courier New',monospace\"><span style=\"color: #000000; text-decoration-color: #000000\">[</span><span style=\"color: #000000; text-decoration-color: #000000\">2024-11-08 </span><span style=\"color: #808080; text-decoration-color: #808080\">00:06:56.839677</span><span style=\"color: #000000; text-decoration-color: #000000\">][</span><span style=\"color: #008000; text-decoration-color: #008000; font-weight: bold\">INFO</span><span style=\"color: #000000; text-decoration-color: #000000\">][</span><span style=\"color: #000080; text-decoration-color: #000080; font-style: italic\">trainer.py</span><span style=\"color: #0000ff; text-decoration-color: #0000ff\">:</span><span style=\"color: #000000; text-decoration-color: #000000\">827</span><span style=\"color: #000000; text-decoration-color: #000000\">]</span><span style=\"color: #838383; text-decoration-color: #838383\"> - </span><span style=\"color: #ffffff; text-decoration-color: #ffffff\">[</span><span style=\"color: #00ff00; text-decoration-color: #00ff00; font-style: italic\">'prompt'</span><span style=\"color: #ffffff; text-decoration-color: #ffffff\">]</span>: <span style=\"color: #00ff00; text-decoration-color: #00ff00; font-style: italic\">'What is an LLM?'</span>\n",
              "</pre>\n"
            ]
          },
          "metadata": {}
        },
        {
          "output_type": "display_data",
          "data": {
            "text/plain": [
              "\u001b[30m[\u001b[0m\u001b[30m2024-11-08 \u001b[0m\u001b[90m00:06:56.843034\u001b[0m\u001b[30m]\u001b[0m\u001b[30m[\u001b[0m\u001b[1;32mINFO\u001b[0m\u001b[30m]\u001b[0m\u001b[30m[\u001b[0m\u001b[3;34mtrainer.py\u001b[0m\u001b[94m:\u001b[0m\u001b[30m831\u001b[0m\u001b[30m]\u001b[0m\u001b[38;2;131;131;131m - \u001b[0m\u001b[97m[\u001b[0m\u001b[3;92m'response'\u001b[0m\u001b[97m]\u001b[0m:\n",
              "\n",
              "What is an LLM?\n",
              "\n",
              "TRANIONIO:\n",
              "Why good of the wrongs worse well.\n",
              "\n",
              "SICINIUS:\n",
              "O cannot is to with will as not me speak the conting?\n",
              "\n",
              "BUCKINGHAM:\n",
              "Madam thou bed me?\n",
              "\n",
              "ANGELO:\n",
              "Marry, sir, sir, ho desp you not dow, so?\n",
              "What is you with the live\n",
              "Of much than the people in this.\n",
              "\n",
              "\n"
            ],
            "text/html": [
              "<pre style=\"white-space:pre;overflow-x:auto;line-height:normal;font-family:Menlo,'DejaVu Sans Mono',consolas,'Courier New',monospace\"><span style=\"color: #000000; text-decoration-color: #000000\">[</span><span style=\"color: #000000; text-decoration-color: #000000\">2024-11-08 </span><span style=\"color: #808080; text-decoration-color: #808080\">00:06:56.843034</span><span style=\"color: #000000; text-decoration-color: #000000\">][</span><span style=\"color: #008000; text-decoration-color: #008000; font-weight: bold\">INFO</span><span style=\"color: #000000; text-decoration-color: #000000\">][</span><span style=\"color: #000080; text-decoration-color: #000080; font-style: italic\">trainer.py</span><span style=\"color: #0000ff; text-decoration-color: #0000ff\">:</span><span style=\"color: #000000; text-decoration-color: #000000\">831</span><span style=\"color: #000000; text-decoration-color: #000000\">]</span><span style=\"color: #838383; text-decoration-color: #838383\"> - </span><span style=\"color: #ffffff; text-decoration-color: #ffffff\">[</span><span style=\"color: #00ff00; text-decoration-color: #00ff00; font-style: italic\">'response'</span><span style=\"color: #ffffff; text-decoration-color: #ffffff\">]</span>:\n",
              "\n",
              "What is an LLM?\n",
              "\n",
              "TRANIONIO:\n",
              "Why good of the wrongs worse well.\n",
              "\n",
              "SICINIUS:\n",
              "O cannot is to with will as not me speak the conting?\n",
              "\n",
              "BUCKINGHAM:\n",
              "Madam thou bed me?\n",
              "\n",
              "ANGELO:\n",
              "Marry, sir, sir, ho desp you not dow, so?\n",
              "What is you with the live\n",
              "Of much than the people in this.\n",
              "\n",
              "\n",
              "</pre>\n"
            ]
          },
          "metadata": {}
        },
        {
          "output_type": "display_data",
          "data": {
            "text/plain": [
              "\u001b[30m[\u001b[0m\u001b[30m2024-11-08 \u001b[0m\u001b[90m00:07:09.112937\u001b[0m\u001b[30m]\u001b[0m\u001b[30m[\u001b[0m\u001b[1;32mINFO\u001b[0m\u001b[30m]\u001b[0m\u001b[30m[\u001b[0m\u001b[3;34mtrainer.py\u001b[0m\u001b[94m:\u001b[0m\u001b[30m762\u001b[0m\u001b[30m]\u001b[0m\u001b[38;2;131;131;131m - \u001b[0mSaving checkpoint to: \u001b[32m/\u001b[0m\u001b[35mcontent\u001b[0m\n"
            ],
            "text/html": [
              "<pre style=\"white-space:pre;overflow-x:auto;line-height:normal;font-family:Menlo,'DejaVu Sans Mono',consolas,'Courier New',monospace\"><span style=\"color: #000000; text-decoration-color: #000000\">[</span><span style=\"color: #000000; text-decoration-color: #000000\">2024-11-08 </span><span style=\"color: #808080; text-decoration-color: #808080\">00:07:09.112937</span><span style=\"color: #000000; text-decoration-color: #000000\">][</span><span style=\"color: #008000; text-decoration-color: #008000; font-weight: bold\">INFO</span><span style=\"color: #000000; text-decoration-color: #000000\">][</span><span style=\"color: #000080; text-decoration-color: #000080; font-style: italic\">trainer.py</span><span style=\"color: #0000ff; text-decoration-color: #0000ff\">:</span><span style=\"color: #000000; text-decoration-color: #000000\">762</span><span style=\"color: #000000; text-decoration-color: #000000\">]</span><span style=\"color: #838383; text-decoration-color: #838383\"> - </span>Saving checkpoint to: <span style=\"color: #008000; text-decoration-color: #008000\">/</span><span style=\"color: #800080; text-decoration-color: #800080\">content</span>\n",
              "</pre>\n"
            ]
          },
          "metadata": {}
        },
        {
          "output_type": "display_data",
          "data": {
            "text/plain": [
              "\u001b[30m[\u001b[0m\u001b[30m2024-11-08 \u001b[0m\u001b[90m00:07:09.115349\u001b[0m\u001b[30m]\u001b[0m\u001b[30m[\u001b[0m\u001b[1;32mINFO\u001b[0m\u001b[30m]\u001b[0m\u001b[30m[\u001b[0m\u001b[3;34mtrainer.py\u001b[0m\u001b[94m:\u001b[0m\u001b[30m763\u001b[0m\u001b[30m]\u001b[0m\u001b[38;2;131;131;131m - \u001b[0mSaving model to: \u001b[32m/content/\u001b[0m\u001b[35mmodel.pth\u001b[0m\n"
            ],
            "text/html": [
              "<pre style=\"white-space:pre;overflow-x:auto;line-height:normal;font-family:Menlo,'DejaVu Sans Mono',consolas,'Courier New',monospace\"><span style=\"color: #000000; text-decoration-color: #000000\">[</span><span style=\"color: #000000; text-decoration-color: #000000\">2024-11-08 </span><span style=\"color: #808080; text-decoration-color: #808080\">00:07:09.115349</span><span style=\"color: #000000; text-decoration-color: #000000\">][</span><span style=\"color: #008000; text-decoration-color: #008000; font-weight: bold\">INFO</span><span style=\"color: #000000; text-decoration-color: #000000\">][</span><span style=\"color: #000080; text-decoration-color: #000080; font-style: italic\">trainer.py</span><span style=\"color: #0000ff; text-decoration-color: #0000ff\">:</span><span style=\"color: #000000; text-decoration-color: #000000\">763</span><span style=\"color: #000000; text-decoration-color: #000000\">]</span><span style=\"color: #838383; text-decoration-color: #838383\"> - </span>Saving model to: <span style=\"color: #008000; text-decoration-color: #008000\">/content/</span><span style=\"color: #800080; text-decoration-color: #800080\">model.pth</span>\n",
              "</pre>\n"
            ]
          },
          "metadata": {}
        },
        {
          "output_type": "display_data",
          "data": {
            "text/plain": [
              "\u001b[30m[\u001b[0m\u001b[30m2024-11-08 \u001b[0m\u001b[90m00:07:09.520021\u001b[0m\u001b[30m]\u001b[0m\u001b[30m[\u001b[0m\u001b[1;32mINFO\u001b[0m\u001b[30m]\u001b[0m\u001b[30m[\u001b[0m\u001b[3;34mconfigs.py\u001b[0m\u001b[94m:\u001b[0m\u001b[30m141\u001b[0m\u001b[30m]\u001b[0m\u001b[38;2;131;131;131m - \u001b[0mAppending \u001b[32m/\u001b[0m\u001b[35mcontent\u001b[0m to \u001b[32m/content/wordplay/src/ckpts/\u001b[0m\u001b[35mcheckpoints.log\u001b[0m\n"
            ],
            "text/html": [
              "<pre style=\"white-space:pre;overflow-x:auto;line-height:normal;font-family:Menlo,'DejaVu Sans Mono',consolas,'Courier New',monospace\"><span style=\"color: #000000; text-decoration-color: #000000\">[</span><span style=\"color: #000000; text-decoration-color: #000000\">2024-11-08 </span><span style=\"color: #808080; text-decoration-color: #808080\">00:07:09.520021</span><span style=\"color: #000000; text-decoration-color: #000000\">][</span><span style=\"color: #008000; text-decoration-color: #008000; font-weight: bold\">INFO</span><span style=\"color: #000000; text-decoration-color: #000000\">][</span><span style=\"color: #000080; text-decoration-color: #000080; font-style: italic\">configs.py</span><span style=\"color: #0000ff; text-decoration-color: #0000ff\">:</span><span style=\"color: #000000; text-decoration-color: #000000\">141</span><span style=\"color: #000000; text-decoration-color: #000000\">]</span><span style=\"color: #838383; text-decoration-color: #838383\"> - </span>Appending <span style=\"color: #008000; text-decoration-color: #008000\">/</span><span style=\"color: #800080; text-decoration-color: #800080\">content</span> to <span style=\"color: #008000; text-decoration-color: #008000\">/content/wordplay/src/ckpts/</span><span style=\"color: #800080; text-decoration-color: #800080\">checkpoints.log</span>\n",
              "</pre>\n"
            ]
          },
          "metadata": {}
        },
        {
          "output_type": "display_data",
          "data": {
            "text/plain": [
              "\u001b[30m[\u001b[0m\u001b[30m2024-11-08 \u001b[0m\u001b[90m00:07:14.498763\u001b[0m\u001b[30m]\u001b[0m\u001b[30m[\u001b[0m\u001b[1;32mINFO\u001b[0m\u001b[30m]\u001b[0m\u001b[30m[\u001b[0m\u001b[3;34mtrainer.py\u001b[0m\u001b[94m:\u001b[0m\u001b[30m892\u001b[0m\u001b[30m]\u001b[0m\u001b[38;2;131;131;131m - \u001b[0m\u001b[3;94mstep\u001b[0m=\u001b[95m550\u001b[0m \u001b[3;94mloss\u001b[0m=\u001b[95m1\u001b[0m\u001b[95m.57958\u001b[0m \u001b[3;94mdt\u001b[0m=\u001b[95m0\u001b[0m\u001b[95m.107161\u001b[0m \u001b[3;94mdtf\u001b[0m=\u001b[95m0\u001b[0m\u001b[95m.00707209\u001b[0m \u001b[3;94mdtb\u001b[0m=\u001b[95m0\u001b[0m\u001b[95m.0105243\u001b[0m \u001b[3;94msps\u001b[0m=\u001b[95m9\u001b[0m\u001b[95m.33174\u001b[0m \u001b[3;94msps_per_gpu\u001b[0m=\u001b[95m9\u001b[0m\u001b[95m.33174\u001b[0m \u001b[3;94mtps\u001b[0m=\u001b[95m152891\u001b[0m \u001b[3;94mtps_per_gpu\u001b[0m=\u001b[95m152891\u001b[0m \u001b[3;94mmfu\u001b[0m=\u001b[95m3\u001b[0m\u001b[95m.47723\u001b[0m\n"
            ],
            "text/html": [
              "<pre style=\"white-space:pre;overflow-x:auto;line-height:normal;font-family:Menlo,'DejaVu Sans Mono',consolas,'Courier New',monospace\"><span style=\"color: #000000; text-decoration-color: #000000\">[</span><span style=\"color: #000000; text-decoration-color: #000000\">2024-11-08 </span><span style=\"color: #808080; text-decoration-color: #808080\">00:07:14.498763</span><span style=\"color: #000000; text-decoration-color: #000000\">][</span><span style=\"color: #008000; text-decoration-color: #008000; font-weight: bold\">INFO</span><span style=\"color: #000000; text-decoration-color: #000000\">][</span><span style=\"color: #000080; text-decoration-color: #000080; font-style: italic\">trainer.py</span><span style=\"color: #0000ff; text-decoration-color: #0000ff\">:</span><span style=\"color: #000000; text-decoration-color: #000000\">892</span><span style=\"color: #000000; text-decoration-color: #000000\">]</span><span style=\"color: #838383; text-decoration-color: #838383\"> - </span><span style=\"color: #0000ff; text-decoration-color: #0000ff; font-style: italic\">step</span>=<span style=\"color: #ff00ff; text-decoration-color: #ff00ff\">550</span> <span style=\"color: #0000ff; text-decoration-color: #0000ff; font-style: italic\">loss</span>=<span style=\"color: #ff00ff; text-decoration-color: #ff00ff\">1.57958</span> <span style=\"color: #0000ff; text-decoration-color: #0000ff; font-style: italic\">dt</span>=<span style=\"color: #ff00ff; text-decoration-color: #ff00ff\">0.107161</span> <span style=\"color: #0000ff; text-decoration-color: #0000ff; font-style: italic\">dtf</span>=<span style=\"color: #ff00ff; text-decoration-color: #ff00ff\">0.00707209</span> <span style=\"color: #0000ff; text-decoration-color: #0000ff; font-style: italic\">dtb</span>=<span style=\"color: #ff00ff; text-decoration-color: #ff00ff\">0.0105243</span> <span style=\"color: #0000ff; text-decoration-color: #0000ff; font-style: italic\">sps</span>=<span style=\"color: #ff00ff; text-decoration-color: #ff00ff\">9.33174</span> <span style=\"color: #0000ff; text-decoration-color: #0000ff; font-style: italic\">sps_per_gpu</span>=<span style=\"color: #ff00ff; text-decoration-color: #ff00ff\">9.33174</span> <span style=\"color: #0000ff; text-decoration-color: #0000ff; font-style: italic\">tps</span>=<span style=\"color: #ff00ff; text-decoration-color: #ff00ff\">152891</span> <span style=\"color: #0000ff; text-decoration-color: #0000ff; font-style: italic\">tps_per_gpu</span>=<span style=\"color: #ff00ff; text-decoration-color: #ff00ff\">152891</span> <span style=\"color: #0000ff; text-decoration-color: #0000ff; font-style: italic\">mfu</span>=<span style=\"color: #ff00ff; text-decoration-color: #ff00ff\">3.47723</span>\n",
              "</pre>\n"
            ]
          },
          "metadata": {}
        },
        {
          "output_type": "display_data",
          "data": {
            "text/plain": [
              "\u001b[30m[\u001b[0m\u001b[30m2024-11-08 \u001b[0m\u001b[90m00:07:19.473834\u001b[0m\u001b[30m]\u001b[0m\u001b[30m[\u001b[0m\u001b[1;32mINFO\u001b[0m\u001b[30m]\u001b[0m\u001b[30m[\u001b[0m\u001b[3;34mtrainer.py\u001b[0m\u001b[94m:\u001b[0m\u001b[30m892\u001b[0m\u001b[30m]\u001b[0m\u001b[38;2;131;131;131m - \u001b[0m\u001b[3;94mstep\u001b[0m=\u001b[95m600\u001b[0m \u001b[3;94mloss\u001b[0m=\u001b[95m1\u001b[0m\u001b[95m.52222\u001b[0m \u001b[3;94mdt\u001b[0m=\u001b[95m0\u001b[0m\u001b[95m.101075\u001b[0m \u001b[3;94mdtf\u001b[0m=\u001b[95m0\u001b[0m\u001b[95m.00545796\u001b[0m \u001b[3;94mdtb\u001b[0m=\u001b[95m0\u001b[0m\u001b[95m.00739125\u001b[0m \u001b[3;94msps\u001b[0m=\u001b[95m9\u001b[0m\u001b[95m.89361\u001b[0m \u001b[3;94msps_per_gpu\u001b[0m=\u001b[95m9\u001b[0m\u001b[95m.89361\u001b[0m \u001b[3;94mtps\u001b[0m=\u001b[95m162097\u001b[0m \u001b[3;94mtps_per_gpu\u001b[0m=\u001b[95m162097\u001b[0m \u001b[3;94mmfu\u001b[0m=\u001b[95m3\u001b[0m\u001b[95m.49816\u001b[0m\n"
            ],
            "text/html": [
              "<pre style=\"white-space:pre;overflow-x:auto;line-height:normal;font-family:Menlo,'DejaVu Sans Mono',consolas,'Courier New',monospace\"><span style=\"color: #000000; text-decoration-color: #000000\">[</span><span style=\"color: #000000; text-decoration-color: #000000\">2024-11-08 </span><span style=\"color: #808080; text-decoration-color: #808080\">00:07:19.473834</span><span style=\"color: #000000; text-decoration-color: #000000\">][</span><span style=\"color: #008000; text-decoration-color: #008000; font-weight: bold\">INFO</span><span style=\"color: #000000; text-decoration-color: #000000\">][</span><span style=\"color: #000080; text-decoration-color: #000080; font-style: italic\">trainer.py</span><span style=\"color: #0000ff; text-decoration-color: #0000ff\">:</span><span style=\"color: #000000; text-decoration-color: #000000\">892</span><span style=\"color: #000000; text-decoration-color: #000000\">]</span><span style=\"color: #838383; text-decoration-color: #838383\"> - </span><span style=\"color: #0000ff; text-decoration-color: #0000ff; font-style: italic\">step</span>=<span style=\"color: #ff00ff; text-decoration-color: #ff00ff\">600</span> <span style=\"color: #0000ff; text-decoration-color: #0000ff; font-style: italic\">loss</span>=<span style=\"color: #ff00ff; text-decoration-color: #ff00ff\">1.52222</span> <span style=\"color: #0000ff; text-decoration-color: #0000ff; font-style: italic\">dt</span>=<span style=\"color: #ff00ff; text-decoration-color: #ff00ff\">0.101075</span> <span style=\"color: #0000ff; text-decoration-color: #0000ff; font-style: italic\">dtf</span>=<span style=\"color: #ff00ff; text-decoration-color: #ff00ff\">0.00545796</span> <span style=\"color: #0000ff; text-decoration-color: #0000ff; font-style: italic\">dtb</span>=<span style=\"color: #ff00ff; text-decoration-color: #ff00ff\">0.00739125</span> <span style=\"color: #0000ff; text-decoration-color: #0000ff; font-style: italic\">sps</span>=<span style=\"color: #ff00ff; text-decoration-color: #ff00ff\">9.89361</span> <span style=\"color: #0000ff; text-decoration-color: #0000ff; font-style: italic\">sps_per_gpu</span>=<span style=\"color: #ff00ff; text-decoration-color: #ff00ff\">9.89361</span> <span style=\"color: #0000ff; text-decoration-color: #0000ff; font-style: italic\">tps</span>=<span style=\"color: #ff00ff; text-decoration-color: #ff00ff\">162097</span> <span style=\"color: #0000ff; text-decoration-color: #0000ff; font-style: italic\">tps_per_gpu</span>=<span style=\"color: #ff00ff; text-decoration-color: #ff00ff\">162097</span> <span style=\"color: #0000ff; text-decoration-color: #0000ff; font-style: italic\">mfu</span>=<span style=\"color: #ff00ff; text-decoration-color: #ff00ff\">3.49816</span>\n",
              "</pre>\n"
            ]
          },
          "metadata": {}
        },
        {
          "output_type": "display_data",
          "data": {
            "text/plain": [
              "\u001b[30m[\u001b[0m\u001b[30m2024-11-08 \u001b[0m\u001b[90m00:07:24.492986\u001b[0m\u001b[30m]\u001b[0m\u001b[30m[\u001b[0m\u001b[1;32mINFO\u001b[0m\u001b[30m]\u001b[0m\u001b[30m[\u001b[0m\u001b[3;34mtrainer.py\u001b[0m\u001b[94m:\u001b[0m\u001b[30m892\u001b[0m\u001b[30m]\u001b[0m\u001b[38;2;131;131;131m - \u001b[0m\u001b[3;94mstep\u001b[0m=\u001b[95m650\u001b[0m \u001b[3;94mloss\u001b[0m=\u001b[95m1\u001b[0m\u001b[95m.51314\u001b[0m \u001b[3;94mdt\u001b[0m=\u001b[95m0\u001b[0m\u001b[95m.102358\u001b[0m \u001b[3;94mdtf\u001b[0m=\u001b[95m0\u001b[0m\u001b[95m.00622334\u001b[0m \u001b[3;94mdtb\u001b[0m=\u001b[95m0\u001b[0m\u001b[95m.010354\u001b[0m \u001b[3;94msps\u001b[0m=\u001b[95m9\u001b[0m\u001b[95m.7696\u001b[0m \u001b[3;94msps_per_gpu\u001b[0m=\u001b[95m9\u001b[0m\u001b[95m.7696\u001b[0m \u001b[3;94mtps\u001b[0m=\u001b[95m160065\u001b[0m \u001b[3;94mtps_per_gpu\u001b[0m=\u001b[95m160065\u001b[0m \u001b[3;94mmfu\u001b[0m=\u001b[95m3\u001b[0m\u001b[95m.51239\u001b[0m\n"
            ],
            "text/html": [
              "<pre style=\"white-space:pre;overflow-x:auto;line-height:normal;font-family:Menlo,'DejaVu Sans Mono',consolas,'Courier New',monospace\"><span style=\"color: #000000; text-decoration-color: #000000\">[</span><span style=\"color: #000000; text-decoration-color: #000000\">2024-11-08 </span><span style=\"color: #808080; text-decoration-color: #808080\">00:07:24.492986</span><span style=\"color: #000000; text-decoration-color: #000000\">][</span><span style=\"color: #008000; text-decoration-color: #008000; font-weight: bold\">INFO</span><span style=\"color: #000000; text-decoration-color: #000000\">][</span><span style=\"color: #000080; text-decoration-color: #000080; font-style: italic\">trainer.py</span><span style=\"color: #0000ff; text-decoration-color: #0000ff\">:</span><span style=\"color: #000000; text-decoration-color: #000000\">892</span><span style=\"color: #000000; text-decoration-color: #000000\">]</span><span style=\"color: #838383; text-decoration-color: #838383\"> - </span><span style=\"color: #0000ff; text-decoration-color: #0000ff; font-style: italic\">step</span>=<span style=\"color: #ff00ff; text-decoration-color: #ff00ff\">650</span> <span style=\"color: #0000ff; text-decoration-color: #0000ff; font-style: italic\">loss</span>=<span style=\"color: #ff00ff; text-decoration-color: #ff00ff\">1.51314</span> <span style=\"color: #0000ff; text-decoration-color: #0000ff; font-style: italic\">dt</span>=<span style=\"color: #ff00ff; text-decoration-color: #ff00ff\">0.102358</span> <span style=\"color: #0000ff; text-decoration-color: #0000ff; font-style: italic\">dtf</span>=<span style=\"color: #ff00ff; text-decoration-color: #ff00ff\">0.00622334</span> <span style=\"color: #0000ff; text-decoration-color: #0000ff; font-style: italic\">dtb</span>=<span style=\"color: #ff00ff; text-decoration-color: #ff00ff\">0.010354</span> <span style=\"color: #0000ff; text-decoration-color: #0000ff; font-style: italic\">sps</span>=<span style=\"color: #ff00ff; text-decoration-color: #ff00ff\">9.7696</span> <span style=\"color: #0000ff; text-decoration-color: #0000ff; font-style: italic\">sps_per_gpu</span>=<span style=\"color: #ff00ff; text-decoration-color: #ff00ff\">9.7696</span> <span style=\"color: #0000ff; text-decoration-color: #0000ff; font-style: italic\">tps</span>=<span style=\"color: #ff00ff; text-decoration-color: #ff00ff\">160065</span> <span style=\"color: #0000ff; text-decoration-color: #0000ff; font-style: italic\">tps_per_gpu</span>=<span style=\"color: #ff00ff; text-decoration-color: #ff00ff\">160065</span> <span style=\"color: #0000ff; text-decoration-color: #0000ff; font-style: italic\">mfu</span>=<span style=\"color: #ff00ff; text-decoration-color: #ff00ff\">3.51239</span>\n",
              "</pre>\n"
            ]
          },
          "metadata": {}
        },
        {
          "output_type": "display_data",
          "data": {
            "text/plain": [
              "\u001b[30m[\u001b[0m\u001b[30m2024-11-08 \u001b[0m\u001b[90m00:07:29.529272\u001b[0m\u001b[30m]\u001b[0m\u001b[30m[\u001b[0m\u001b[1;32mINFO\u001b[0m\u001b[30m]\u001b[0m\u001b[30m[\u001b[0m\u001b[3;34mtrainer.py\u001b[0m\u001b[94m:\u001b[0m\u001b[30m892\u001b[0m\u001b[30m]\u001b[0m\u001b[38;2;131;131;131m - \u001b[0m\u001b[3;94mstep\u001b[0m=\u001b[95m700\u001b[0m \u001b[3;94mloss\u001b[0m=\u001b[95m1\u001b[0m\u001b[95m.45362\u001b[0m \u001b[3;94mdt\u001b[0m=\u001b[95m0\u001b[0m\u001b[95m.100401\u001b[0m \u001b[3;94mdtf\u001b[0m=\u001b[95m0\u001b[0m\u001b[95m.00472873\u001b[0m \u001b[3;94mdtb\u001b[0m=\u001b[95m0\u001b[0m\u001b[95m.00738034\u001b[0m \u001b[3;94msps\u001b[0m=\u001b[95m9\u001b[0m\u001b[95m.96008\u001b[0m \u001b[3;94msps_per_gpu\u001b[0m=\u001b[95m9\u001b[0m\u001b[95m.96008\u001b[0m \u001b[3;94mtps\u001b[0m=\u001b[95m163186\u001b[0m \u001b[3;94mtps_per_gpu\u001b[0m=\u001b[95m163186\u001b[0m \u001b[3;94mmfu\u001b[0m=\u001b[95m3\u001b[0m\u001b[95m.53228\u001b[0m\n"
            ],
            "text/html": [
              "<pre style=\"white-space:pre;overflow-x:auto;line-height:normal;font-family:Menlo,'DejaVu Sans Mono',consolas,'Courier New',monospace\"><span style=\"color: #000000; text-decoration-color: #000000\">[</span><span style=\"color: #000000; text-decoration-color: #000000\">2024-11-08 </span><span style=\"color: #808080; text-decoration-color: #808080\">00:07:29.529272</span><span style=\"color: #000000; text-decoration-color: #000000\">][</span><span style=\"color: #008000; text-decoration-color: #008000; font-weight: bold\">INFO</span><span style=\"color: #000000; text-decoration-color: #000000\">][</span><span style=\"color: #000080; text-decoration-color: #000080; font-style: italic\">trainer.py</span><span style=\"color: #0000ff; text-decoration-color: #0000ff\">:</span><span style=\"color: #000000; text-decoration-color: #000000\">892</span><span style=\"color: #000000; text-decoration-color: #000000\">]</span><span style=\"color: #838383; text-decoration-color: #838383\"> - </span><span style=\"color: #0000ff; text-decoration-color: #0000ff; font-style: italic\">step</span>=<span style=\"color: #ff00ff; text-decoration-color: #ff00ff\">700</span> <span style=\"color: #0000ff; text-decoration-color: #0000ff; font-style: italic\">loss</span>=<span style=\"color: #ff00ff; text-decoration-color: #ff00ff\">1.45362</span> <span style=\"color: #0000ff; text-decoration-color: #0000ff; font-style: italic\">dt</span>=<span style=\"color: #ff00ff; text-decoration-color: #ff00ff\">0.100401</span> <span style=\"color: #0000ff; text-decoration-color: #0000ff; font-style: italic\">dtf</span>=<span style=\"color: #ff00ff; text-decoration-color: #ff00ff\">0.00472873</span> <span style=\"color: #0000ff; text-decoration-color: #0000ff; font-style: italic\">dtb</span>=<span style=\"color: #ff00ff; text-decoration-color: #ff00ff\">0.00738034</span> <span style=\"color: #0000ff; text-decoration-color: #0000ff; font-style: italic\">sps</span>=<span style=\"color: #ff00ff; text-decoration-color: #ff00ff\">9.96008</span> <span style=\"color: #0000ff; text-decoration-color: #0000ff; font-style: italic\">sps_per_gpu</span>=<span style=\"color: #ff00ff; text-decoration-color: #ff00ff\">9.96008</span> <span style=\"color: #0000ff; text-decoration-color: #0000ff; font-style: italic\">tps</span>=<span style=\"color: #ff00ff; text-decoration-color: #ff00ff\">163186</span> <span style=\"color: #0000ff; text-decoration-color: #0000ff; font-style: italic\">tps_per_gpu</span>=<span style=\"color: #ff00ff; text-decoration-color: #ff00ff\">163186</span> <span style=\"color: #0000ff; text-decoration-color: #0000ff; font-style: italic\">mfu</span>=<span style=\"color: #ff00ff; text-decoration-color: #ff00ff\">3.53228</span>\n",
              "</pre>\n"
            ]
          },
          "metadata": {}
        },
        {
          "output_type": "display_data",
          "data": {
            "text/plain": [
              "\u001b[30m[\u001b[0m\u001b[30m2024-11-08 \u001b[0m\u001b[90m00:07:34.593385\u001b[0m\u001b[30m]\u001b[0m\u001b[30m[\u001b[0m\u001b[1;32mINFO\u001b[0m\u001b[30m]\u001b[0m\u001b[30m[\u001b[0m\u001b[3;34mtrainer.py\u001b[0m\u001b[94m:\u001b[0m\u001b[30m892\u001b[0m\u001b[30m]\u001b[0m\u001b[38;2;131;131;131m - \u001b[0m\u001b[3;94mstep\u001b[0m=\u001b[95m750\u001b[0m \u001b[3;94mloss\u001b[0m=\u001b[95m1\u001b[0m\u001b[95m.42322\u001b[0m \u001b[3;94mdt\u001b[0m=\u001b[95m0\u001b[0m\u001b[95m.0993816\u001b[0m \u001b[3;94mdtf\u001b[0m=\u001b[95m0\u001b[0m\u001b[95m.00430793\u001b[0m \u001b[3;94mdtb\u001b[0m=\u001b[95m0\u001b[0m\u001b[95m.00698339\u001b[0m \u001b[3;94msps\u001b[0m=\u001b[95m10\u001b[0m\u001b[95m.0622\u001b[0m \u001b[3;94msps_per_gpu\u001b[0m=\u001b[95m10\u001b[0m\u001b[95m.0622\u001b[0m \u001b[3;94mtps\u001b[0m=\u001b[95m164860\u001b[0m \u001b[3;94mtps_per_gpu\u001b[0m=\u001b[95m164860\u001b[0m \u001b[3;94mmfu\u001b[0m=\u001b[95m3\u001b[0m\u001b[95m.554\u001b[0m\n"
            ],
            "text/html": [
              "<pre style=\"white-space:pre;overflow-x:auto;line-height:normal;font-family:Menlo,'DejaVu Sans Mono',consolas,'Courier New',monospace\"><span style=\"color: #000000; text-decoration-color: #000000\">[</span><span style=\"color: #000000; text-decoration-color: #000000\">2024-11-08 </span><span style=\"color: #808080; text-decoration-color: #808080\">00:07:34.593385</span><span style=\"color: #000000; text-decoration-color: #000000\">][</span><span style=\"color: #008000; text-decoration-color: #008000; font-weight: bold\">INFO</span><span style=\"color: #000000; text-decoration-color: #000000\">][</span><span style=\"color: #000080; text-decoration-color: #000080; font-style: italic\">trainer.py</span><span style=\"color: #0000ff; text-decoration-color: #0000ff\">:</span><span style=\"color: #000000; text-decoration-color: #000000\">892</span><span style=\"color: #000000; text-decoration-color: #000000\">]</span><span style=\"color: #838383; text-decoration-color: #838383\"> - </span><span style=\"color: #0000ff; text-decoration-color: #0000ff; font-style: italic\">step</span>=<span style=\"color: #ff00ff; text-decoration-color: #ff00ff\">750</span> <span style=\"color: #0000ff; text-decoration-color: #0000ff; font-style: italic\">loss</span>=<span style=\"color: #ff00ff; text-decoration-color: #ff00ff\">1.42322</span> <span style=\"color: #0000ff; text-decoration-color: #0000ff; font-style: italic\">dt</span>=<span style=\"color: #ff00ff; text-decoration-color: #ff00ff\">0.0993816</span> <span style=\"color: #0000ff; text-decoration-color: #0000ff; font-style: italic\">dtf</span>=<span style=\"color: #ff00ff; text-decoration-color: #ff00ff\">0.00430793</span> <span style=\"color: #0000ff; text-decoration-color: #0000ff; font-style: italic\">dtb</span>=<span style=\"color: #ff00ff; text-decoration-color: #ff00ff\">0.00698339</span> <span style=\"color: #0000ff; text-decoration-color: #0000ff; font-style: italic\">sps</span>=<span style=\"color: #ff00ff; text-decoration-color: #ff00ff\">10.0622</span> <span style=\"color: #0000ff; text-decoration-color: #0000ff; font-style: italic\">sps_per_gpu</span>=<span style=\"color: #ff00ff; text-decoration-color: #ff00ff\">10.0622</span> <span style=\"color: #0000ff; text-decoration-color: #0000ff; font-style: italic\">tps</span>=<span style=\"color: #ff00ff; text-decoration-color: #ff00ff\">164860</span> <span style=\"color: #0000ff; text-decoration-color: #0000ff; font-style: italic\">tps_per_gpu</span>=<span style=\"color: #ff00ff; text-decoration-color: #ff00ff\">164860</span> <span style=\"color: #0000ff; text-decoration-color: #0000ff; font-style: italic\">mfu</span>=<span style=\"color: #ff00ff; text-decoration-color: #ff00ff\">3.554</span>\n",
              "</pre>\n"
            ]
          },
          "metadata": {}
        },
        {
          "output_type": "display_data",
          "data": {
            "text/plain": [
              "\u001b[30m[\u001b[0m\u001b[30m2024-11-08 \u001b[0m\u001b[90m00:07:39.656085\u001b[0m\u001b[30m]\u001b[0m\u001b[30m[\u001b[0m\u001b[1;32mINFO\u001b[0m\u001b[30m]\u001b[0m\u001b[30m[\u001b[0m\u001b[3;34mtrainer.py\u001b[0m\u001b[94m:\u001b[0m\u001b[30m892\u001b[0m\u001b[30m]\u001b[0m\u001b[38;2;131;131;131m - \u001b[0m\u001b[3;94mstep\u001b[0m=\u001b[95m800\u001b[0m \u001b[3;94mloss\u001b[0m=\u001b[95m1\u001b[0m\u001b[95m.43307\u001b[0m \u001b[3;94mdt\u001b[0m=\u001b[95m0\u001b[0m\u001b[95m.100135\u001b[0m \u001b[3;94mdtf\u001b[0m=\u001b[95m0\u001b[0m\u001b[95m.00461758\u001b[0m \u001b[3;94mdtb\u001b[0m=\u001b[95m0\u001b[0m\u001b[95m.00747293\u001b[0m \u001b[3;94msps\u001b[0m=\u001b[95m9\u001b[0m\u001b[95m.98653\u001b[0m \u001b[3;94msps_per_gpu\u001b[0m=\u001b[95m9\u001b[0m\u001b[95m.98653\u001b[0m \u001b[3;94mtps\u001b[0m=\u001b[95m163619\u001b[0m \u001b[3;94mtps_per_gpu\u001b[0m=\u001b[95m163619\u001b[0m \u001b[3;94mmfu\u001b[0m=\u001b[95m3\u001b[0m\u001b[95m.57072\u001b[0m\n"
            ],
            "text/html": [
              "<pre style=\"white-space:pre;overflow-x:auto;line-height:normal;font-family:Menlo,'DejaVu Sans Mono',consolas,'Courier New',monospace\"><span style=\"color: #000000; text-decoration-color: #000000\">[</span><span style=\"color: #000000; text-decoration-color: #000000\">2024-11-08 </span><span style=\"color: #808080; text-decoration-color: #808080\">00:07:39.656085</span><span style=\"color: #000000; text-decoration-color: #000000\">][</span><span style=\"color: #008000; text-decoration-color: #008000; font-weight: bold\">INFO</span><span style=\"color: #000000; text-decoration-color: #000000\">][</span><span style=\"color: #000080; text-decoration-color: #000080; font-style: italic\">trainer.py</span><span style=\"color: #0000ff; text-decoration-color: #0000ff\">:</span><span style=\"color: #000000; text-decoration-color: #000000\">892</span><span style=\"color: #000000; text-decoration-color: #000000\">]</span><span style=\"color: #838383; text-decoration-color: #838383\"> - </span><span style=\"color: #0000ff; text-decoration-color: #0000ff; font-style: italic\">step</span>=<span style=\"color: #ff00ff; text-decoration-color: #ff00ff\">800</span> <span style=\"color: #0000ff; text-decoration-color: #0000ff; font-style: italic\">loss</span>=<span style=\"color: #ff00ff; text-decoration-color: #ff00ff\">1.43307</span> <span style=\"color: #0000ff; text-decoration-color: #0000ff; font-style: italic\">dt</span>=<span style=\"color: #ff00ff; text-decoration-color: #ff00ff\">0.100135</span> <span style=\"color: #0000ff; text-decoration-color: #0000ff; font-style: italic\">dtf</span>=<span style=\"color: #ff00ff; text-decoration-color: #ff00ff\">0.00461758</span> <span style=\"color: #0000ff; text-decoration-color: #0000ff; font-style: italic\">dtb</span>=<span style=\"color: #ff00ff; text-decoration-color: #ff00ff\">0.00747293</span> <span style=\"color: #0000ff; text-decoration-color: #0000ff; font-style: italic\">sps</span>=<span style=\"color: #ff00ff; text-decoration-color: #ff00ff\">9.98653</span> <span style=\"color: #0000ff; text-decoration-color: #0000ff; font-style: italic\">sps_per_gpu</span>=<span style=\"color: #ff00ff; text-decoration-color: #ff00ff\">9.98653</span> <span style=\"color: #0000ff; text-decoration-color: #0000ff; font-style: italic\">tps</span>=<span style=\"color: #ff00ff; text-decoration-color: #ff00ff\">163619</span> <span style=\"color: #0000ff; text-decoration-color: #0000ff; font-style: italic\">tps_per_gpu</span>=<span style=\"color: #ff00ff; text-decoration-color: #ff00ff\">163619</span> <span style=\"color: #0000ff; text-decoration-color: #0000ff; font-style: italic\">mfu</span>=<span style=\"color: #ff00ff; text-decoration-color: #ff00ff\">3.57072</span>\n",
              "</pre>\n"
            ]
          },
          "metadata": {}
        },
        {
          "output_type": "display_data",
          "data": {
            "text/plain": [
              "\u001b[30m[\u001b[0m\u001b[30m2024-11-08 \u001b[0m\u001b[90m00:07:44.751463\u001b[0m\u001b[30m]\u001b[0m\u001b[30m[\u001b[0m\u001b[1;32mINFO\u001b[0m\u001b[30m]\u001b[0m\u001b[30m[\u001b[0m\u001b[3;34mtrainer.py\u001b[0m\u001b[94m:\u001b[0m\u001b[30m892\u001b[0m\u001b[30m]\u001b[0m\u001b[38;2;131;131;131m - \u001b[0m\u001b[3;94mstep\u001b[0m=\u001b[95m850\u001b[0m \u001b[3;94mloss\u001b[0m=\u001b[95m1\u001b[0m\u001b[95m.41574\u001b[0m \u001b[3;94mdt\u001b[0m=\u001b[95m0\u001b[0m\u001b[95m.101301\u001b[0m \u001b[3;94mdtf\u001b[0m=\u001b[95m0\u001b[0m\u001b[95m.00466093\u001b[0m \u001b[3;94mdtb\u001b[0m=\u001b[95m0\u001b[0m\u001b[95m.00750105\u001b[0m \u001b[3;94msps\u001b[0m=\u001b[95m9\u001b[0m\u001b[95m.87161\u001b[0m \u001b[3;94msps_per_gpu\u001b[0m=\u001b[95m9\u001b[0m\u001b[95m.87161\u001b[0m \u001b[3;94mtps\u001b[0m=\u001b[95m161736\u001b[0m \u001b[3;94mtps_per_gpu\u001b[0m=\u001b[95m161736\u001b[0m \u001b[3;94mmfu\u001b[0m=\u001b[95m3\u001b[0m\u001b[95m.58149\u001b[0m\n"
            ],
            "text/html": [
              "<pre style=\"white-space:pre;overflow-x:auto;line-height:normal;font-family:Menlo,'DejaVu Sans Mono',consolas,'Courier New',monospace\"><span style=\"color: #000000; text-decoration-color: #000000\">[</span><span style=\"color: #000000; text-decoration-color: #000000\">2024-11-08 </span><span style=\"color: #808080; text-decoration-color: #808080\">00:07:44.751463</span><span style=\"color: #000000; text-decoration-color: #000000\">][</span><span style=\"color: #008000; text-decoration-color: #008000; font-weight: bold\">INFO</span><span style=\"color: #000000; text-decoration-color: #000000\">][</span><span style=\"color: #000080; text-decoration-color: #000080; font-style: italic\">trainer.py</span><span style=\"color: #0000ff; text-decoration-color: #0000ff\">:</span><span style=\"color: #000000; text-decoration-color: #000000\">892</span><span style=\"color: #000000; text-decoration-color: #000000\">]</span><span style=\"color: #838383; text-decoration-color: #838383\"> - </span><span style=\"color: #0000ff; text-decoration-color: #0000ff; font-style: italic\">step</span>=<span style=\"color: #ff00ff; text-decoration-color: #ff00ff\">850</span> <span style=\"color: #0000ff; text-decoration-color: #0000ff; font-style: italic\">loss</span>=<span style=\"color: #ff00ff; text-decoration-color: #ff00ff\">1.41574</span> <span style=\"color: #0000ff; text-decoration-color: #0000ff; font-style: italic\">dt</span>=<span style=\"color: #ff00ff; text-decoration-color: #ff00ff\">0.101301</span> <span style=\"color: #0000ff; text-decoration-color: #0000ff; font-style: italic\">dtf</span>=<span style=\"color: #ff00ff; text-decoration-color: #ff00ff\">0.00466093</span> <span style=\"color: #0000ff; text-decoration-color: #0000ff; font-style: italic\">dtb</span>=<span style=\"color: #ff00ff; text-decoration-color: #ff00ff\">0.00750105</span> <span style=\"color: #0000ff; text-decoration-color: #0000ff; font-style: italic\">sps</span>=<span style=\"color: #ff00ff; text-decoration-color: #ff00ff\">9.87161</span> <span style=\"color: #0000ff; text-decoration-color: #0000ff; font-style: italic\">sps_per_gpu</span>=<span style=\"color: #ff00ff; text-decoration-color: #ff00ff\">9.87161</span> <span style=\"color: #0000ff; text-decoration-color: #0000ff; font-style: italic\">tps</span>=<span style=\"color: #ff00ff; text-decoration-color: #ff00ff\">161736</span> <span style=\"color: #0000ff; text-decoration-color: #0000ff; font-style: italic\">tps_per_gpu</span>=<span style=\"color: #ff00ff; text-decoration-color: #ff00ff\">161736</span> <span style=\"color: #0000ff; text-decoration-color: #0000ff; font-style: italic\">mfu</span>=<span style=\"color: #ff00ff; text-decoration-color: #ff00ff\">3.58149</span>\n",
              "</pre>\n"
            ]
          },
          "metadata": {}
        },
        {
          "output_type": "display_data",
          "data": {
            "text/plain": [
              "\u001b[30m[\u001b[0m\u001b[30m2024-11-08 \u001b[0m\u001b[90m00:07:49.898708\u001b[0m\u001b[30m]\u001b[0m\u001b[30m[\u001b[0m\u001b[1;32mINFO\u001b[0m\u001b[30m]\u001b[0m\u001b[30m[\u001b[0m\u001b[3;34mtrainer.py\u001b[0m\u001b[94m:\u001b[0m\u001b[30m892\u001b[0m\u001b[30m]\u001b[0m\u001b[38;2;131;131;131m - \u001b[0m\u001b[3;94mstep\u001b[0m=\u001b[95m900\u001b[0m \u001b[3;94mloss\u001b[0m=\u001b[95m1\u001b[0m\u001b[95m.38289\u001b[0m \u001b[3;94mdt\u001b[0m=\u001b[95m0\u001b[0m\u001b[95m.106711\u001b[0m \u001b[3;94mdtf\u001b[0m=\u001b[95m0\u001b[0m\u001b[95m.00680892\u001b[0m \u001b[3;94mdtb\u001b[0m=\u001b[95m0\u001b[0m\u001b[95m.0112572\u001b[0m \u001b[3;94msps\u001b[0m=\u001b[95m9\u001b[0m\u001b[95m.37109\u001b[0m \u001b[3;94msps_per_gpu\u001b[0m=\u001b[95m9\u001b[0m\u001b[95m.37109\u001b[0m \u001b[3;94mtps\u001b[0m=\u001b[95m153536\u001b[0m \u001b[3;94mtps_per_gpu\u001b[0m=\u001b[95m153536\u001b[0m \u001b[3;94mmfu\u001b[0m=\u001b[95m3\u001b[0m\u001b[95m.57253\u001b[0m\n"
            ],
            "text/html": [
              "<pre style=\"white-space:pre;overflow-x:auto;line-height:normal;font-family:Menlo,'DejaVu Sans Mono',consolas,'Courier New',monospace\"><span style=\"color: #000000; text-decoration-color: #000000\">[</span><span style=\"color: #000000; text-decoration-color: #000000\">2024-11-08 </span><span style=\"color: #808080; text-decoration-color: #808080\">00:07:49.898708</span><span style=\"color: #000000; text-decoration-color: #000000\">][</span><span style=\"color: #008000; text-decoration-color: #008000; font-weight: bold\">INFO</span><span style=\"color: #000000; text-decoration-color: #000000\">][</span><span style=\"color: #000080; text-decoration-color: #000080; font-style: italic\">trainer.py</span><span style=\"color: #0000ff; text-decoration-color: #0000ff\">:</span><span style=\"color: #000000; text-decoration-color: #000000\">892</span><span style=\"color: #000000; text-decoration-color: #000000\">]</span><span style=\"color: #838383; text-decoration-color: #838383\"> - </span><span style=\"color: #0000ff; text-decoration-color: #0000ff; font-style: italic\">step</span>=<span style=\"color: #ff00ff; text-decoration-color: #ff00ff\">900</span> <span style=\"color: #0000ff; text-decoration-color: #0000ff; font-style: italic\">loss</span>=<span style=\"color: #ff00ff; text-decoration-color: #ff00ff\">1.38289</span> <span style=\"color: #0000ff; text-decoration-color: #0000ff; font-style: italic\">dt</span>=<span style=\"color: #ff00ff; text-decoration-color: #ff00ff\">0.106711</span> <span style=\"color: #0000ff; text-decoration-color: #0000ff; font-style: italic\">dtf</span>=<span style=\"color: #ff00ff; text-decoration-color: #ff00ff\">0.00680892</span> <span style=\"color: #0000ff; text-decoration-color: #0000ff; font-style: italic\">dtb</span>=<span style=\"color: #ff00ff; text-decoration-color: #ff00ff\">0.0112572</span> <span style=\"color: #0000ff; text-decoration-color: #0000ff; font-style: italic\">sps</span>=<span style=\"color: #ff00ff; text-decoration-color: #ff00ff\">9.37109</span> <span style=\"color: #0000ff; text-decoration-color: #0000ff; font-style: italic\">sps_per_gpu</span>=<span style=\"color: #ff00ff; text-decoration-color: #ff00ff\">9.37109</span> <span style=\"color: #0000ff; text-decoration-color: #0000ff; font-style: italic\">tps</span>=<span style=\"color: #ff00ff; text-decoration-color: #ff00ff\">153536</span> <span style=\"color: #0000ff; text-decoration-color: #0000ff; font-style: italic\">tps_per_gpu</span>=<span style=\"color: #ff00ff; text-decoration-color: #ff00ff\">153536</span> <span style=\"color: #0000ff; text-decoration-color: #0000ff; font-style: italic\">mfu</span>=<span style=\"color: #ff00ff; text-decoration-color: #ff00ff\">3.57253</span>\n",
              "</pre>\n"
            ]
          },
          "metadata": {}
        },
        {
          "output_type": "display_data",
          "data": {
            "text/plain": [
              "\u001b[30m[\u001b[0m\u001b[30m2024-11-08 \u001b[0m\u001b[90m00:07:55.084000\u001b[0m\u001b[30m]\u001b[0m\u001b[30m[\u001b[0m\u001b[1;32mINFO\u001b[0m\u001b[30m]\u001b[0m\u001b[30m[\u001b[0m\u001b[3;34mtrainer.py\u001b[0m\u001b[94m:\u001b[0m\u001b[30m892\u001b[0m\u001b[30m]\u001b[0m\u001b[38;2;131;131;131m - \u001b[0m\u001b[3;94mstep\u001b[0m=\u001b[95m950\u001b[0m \u001b[3;94mloss\u001b[0m=\u001b[95m1\u001b[0m\u001b[95m.35019\u001b[0m \u001b[3;94mdt\u001b[0m=\u001b[95m0\u001b[0m\u001b[95m.100931\u001b[0m \u001b[3;94mdtf\u001b[0m=\u001b[95m0\u001b[0m\u001b[95m.00466838\u001b[0m \u001b[3;94mdtb\u001b[0m=\u001b[95m0\u001b[0m\u001b[95m.00744134\u001b[0m \u001b[3;94msps\u001b[0m=\u001b[95m9\u001b[0m\u001b[95m.90774\u001b[0m \u001b[3;94msps_per_gpu\u001b[0m=\u001b[95m9\u001b[0m\u001b[95m.90774\u001b[0m \u001b[3;94mtps\u001b[0m=\u001b[95m162328\u001b[0m \u001b[3;94mtps_per_gpu\u001b[0m=\u001b[95m162328\u001b[0m \u001b[3;94mmfu\u001b[0m=\u001b[95m3\u001b[0m\u001b[95m.58446\u001b[0m\n"
            ],
            "text/html": [
              "<pre style=\"white-space:pre;overflow-x:auto;line-height:normal;font-family:Menlo,'DejaVu Sans Mono',consolas,'Courier New',monospace\"><span style=\"color: #000000; text-decoration-color: #000000\">[</span><span style=\"color: #000000; text-decoration-color: #000000\">2024-11-08 </span><span style=\"color: #808080; text-decoration-color: #808080\">00:07:55.084000</span><span style=\"color: #000000; text-decoration-color: #000000\">][</span><span style=\"color: #008000; text-decoration-color: #008000; font-weight: bold\">INFO</span><span style=\"color: #000000; text-decoration-color: #000000\">][</span><span style=\"color: #000080; text-decoration-color: #000080; font-style: italic\">trainer.py</span><span style=\"color: #0000ff; text-decoration-color: #0000ff\">:</span><span style=\"color: #000000; text-decoration-color: #000000\">892</span><span style=\"color: #000000; text-decoration-color: #000000\">]</span><span style=\"color: #838383; text-decoration-color: #838383\"> - </span><span style=\"color: #0000ff; text-decoration-color: #0000ff; font-style: italic\">step</span>=<span style=\"color: #ff00ff; text-decoration-color: #ff00ff\">950</span> <span style=\"color: #0000ff; text-decoration-color: #0000ff; font-style: italic\">loss</span>=<span style=\"color: #ff00ff; text-decoration-color: #ff00ff\">1.35019</span> <span style=\"color: #0000ff; text-decoration-color: #0000ff; font-style: italic\">dt</span>=<span style=\"color: #ff00ff; text-decoration-color: #ff00ff\">0.100931</span> <span style=\"color: #0000ff; text-decoration-color: #0000ff; font-style: italic\">dtf</span>=<span style=\"color: #ff00ff; text-decoration-color: #ff00ff\">0.00466838</span> <span style=\"color: #0000ff; text-decoration-color: #0000ff; font-style: italic\">dtb</span>=<span style=\"color: #ff00ff; text-decoration-color: #ff00ff\">0.00744134</span> <span style=\"color: #0000ff; text-decoration-color: #0000ff; font-style: italic\">sps</span>=<span style=\"color: #ff00ff; text-decoration-color: #ff00ff\">9.90774</span> <span style=\"color: #0000ff; text-decoration-color: #0000ff; font-style: italic\">sps_per_gpu</span>=<span style=\"color: #ff00ff; text-decoration-color: #ff00ff\">9.90774</span> <span style=\"color: #0000ff; text-decoration-color: #0000ff; font-style: italic\">tps</span>=<span style=\"color: #ff00ff; text-decoration-color: #ff00ff\">162328</span> <span style=\"color: #0000ff; text-decoration-color: #0000ff; font-style: italic\">tps_per_gpu</span>=<span style=\"color: #ff00ff; text-decoration-color: #ff00ff\">162328</span> <span style=\"color: #0000ff; text-decoration-color: #0000ff; font-style: italic\">mfu</span>=<span style=\"color: #ff00ff; text-decoration-color: #ff00ff\">3.58446</span>\n",
              "</pre>\n"
            ]
          },
          "metadata": {}
        },
        {
          "output_type": "display_data",
          "data": {
            "text/plain": [
              "\u001b[30m[\u001b[0m\u001b[30m2024-11-08 \u001b[0m\u001b[90m00:08:00.257605\u001b[0m\u001b[30m]\u001b[0m\u001b[30m[\u001b[0m\u001b[1;32mINFO\u001b[0m\u001b[30m]\u001b[0m\u001b[30m[\u001b[0m\u001b[3;34mtrainer.py\u001b[0m\u001b[94m:\u001b[0m\u001b[30m892\u001b[0m\u001b[30m]\u001b[0m\u001b[38;2;131;131;131m - \u001b[0m\u001b[3;94mstep\u001b[0m=\u001b[95m1000\u001b[0m \u001b[3;94mloss\u001b[0m=\u001b[95m1\u001b[0m\u001b[95m.3418\u001b[0m \u001b[3;94mdt\u001b[0m=\u001b[95m0\u001b[0m\u001b[95m.105038\u001b[0m \u001b[3;94mdtf\u001b[0m=\u001b[95m0\u001b[0m\u001b[95m.00424622\u001b[0m \u001b[3;94mdtb\u001b[0m=\u001b[95m0\u001b[0m\u001b[95m.00703662\u001b[0m \u001b[3;94msps\u001b[0m=\u001b[95m9\u001b[0m\u001b[95m.52039\u001b[0m \u001b[3;94msps_per_gpu\u001b[0m=\u001b[95m9\u001b[0m\u001b[95m.52039\u001b[0m \u001b[3;94mtps\u001b[0m=\u001b[95m155982\u001b[0m \u001b[3;94mtps_per_gpu\u001b[0m=\u001b[95m155982\u001b[0m \u001b[3;94mmfu\u001b[0m=\u001b[95m3\u001b[0m\u001b[95m.58077\u001b[0m\n"
            ],
            "text/html": [
              "<pre style=\"white-space:pre;overflow-x:auto;line-height:normal;font-family:Menlo,'DejaVu Sans Mono',consolas,'Courier New',monospace\"><span style=\"color: #000000; text-decoration-color: #000000\">[</span><span style=\"color: #000000; text-decoration-color: #000000\">2024-11-08 </span><span style=\"color: #808080; text-decoration-color: #808080\">00:08:00.257605</span><span style=\"color: #000000; text-decoration-color: #000000\">][</span><span style=\"color: #008000; text-decoration-color: #008000; font-weight: bold\">INFO</span><span style=\"color: #000000; text-decoration-color: #000000\">][</span><span style=\"color: #000080; text-decoration-color: #000080; font-style: italic\">trainer.py</span><span style=\"color: #0000ff; text-decoration-color: #0000ff\">:</span><span style=\"color: #000000; text-decoration-color: #000000\">892</span><span style=\"color: #000000; text-decoration-color: #000000\">]</span><span style=\"color: #838383; text-decoration-color: #838383\"> - </span><span style=\"color: #0000ff; text-decoration-color: #0000ff; font-style: italic\">step</span>=<span style=\"color: #ff00ff; text-decoration-color: #ff00ff\">1000</span> <span style=\"color: #0000ff; text-decoration-color: #0000ff; font-style: italic\">loss</span>=<span style=\"color: #ff00ff; text-decoration-color: #ff00ff\">1.3418</span> <span style=\"color: #0000ff; text-decoration-color: #0000ff; font-style: italic\">dt</span>=<span style=\"color: #ff00ff; text-decoration-color: #ff00ff\">0.105038</span> <span style=\"color: #0000ff; text-decoration-color: #0000ff; font-style: italic\">dtf</span>=<span style=\"color: #ff00ff; text-decoration-color: #ff00ff\">0.00424622</span> <span style=\"color: #0000ff; text-decoration-color: #0000ff; font-style: italic\">dtb</span>=<span style=\"color: #ff00ff; text-decoration-color: #ff00ff\">0.00703662</span> <span style=\"color: #0000ff; text-decoration-color: #0000ff; font-style: italic\">sps</span>=<span style=\"color: #ff00ff; text-decoration-color: #ff00ff\">9.52039</span> <span style=\"color: #0000ff; text-decoration-color: #0000ff; font-style: italic\">sps_per_gpu</span>=<span style=\"color: #ff00ff; text-decoration-color: #ff00ff\">9.52039</span> <span style=\"color: #0000ff; text-decoration-color: #0000ff; font-style: italic\">tps</span>=<span style=\"color: #ff00ff; text-decoration-color: #ff00ff\">155982</span> <span style=\"color: #0000ff; text-decoration-color: #0000ff; font-style: italic\">tps_per_gpu</span>=<span style=\"color: #ff00ff; text-decoration-color: #ff00ff\">155982</span> <span style=\"color: #0000ff; text-decoration-color: #0000ff; font-style: italic\">mfu</span>=<span style=\"color: #ff00ff; text-decoration-color: #ff00ff\">3.58077</span>\n",
              "</pre>\n"
            ]
          },
          "metadata": {}
        },
        {
          "output_type": "display_data",
          "data": {
            "text/plain": [
              "\u001b[30m[\u001b[0m\u001b[30m2024-11-08 \u001b[0m\u001b[90m00:08:01.181815\u001b[0m\u001b[30m]\u001b[0m\u001b[30m[\u001b[0m\u001b[1;32mINFO\u001b[0m\u001b[30m]\u001b[0m\u001b[30m[\u001b[0m\u001b[3;34mtrainer.py\u001b[0m\u001b[94m:\u001b[0m\u001b[30m827\u001b[0m\u001b[30m]\u001b[0m\u001b[38;2;131;131;131m - \u001b[0m\u001b[97m[\u001b[0m\u001b[3;92m'prompt'\u001b[0m\u001b[97m]\u001b[0m: \u001b[3;92m'What is an LLM?'\u001b[0m\n"
            ],
            "text/html": [
              "<pre style=\"white-space:pre;overflow-x:auto;line-height:normal;font-family:Menlo,'DejaVu Sans Mono',consolas,'Courier New',monospace\"><span style=\"color: #000000; text-decoration-color: #000000\">[</span><span style=\"color: #000000; text-decoration-color: #000000\">2024-11-08 </span><span style=\"color: #808080; text-decoration-color: #808080\">00:08:01.181815</span><span style=\"color: #000000; text-decoration-color: #000000\">][</span><span style=\"color: #008000; text-decoration-color: #008000; font-weight: bold\">INFO</span><span style=\"color: #000000; text-decoration-color: #000000\">][</span><span style=\"color: #000080; text-decoration-color: #000080; font-style: italic\">trainer.py</span><span style=\"color: #0000ff; text-decoration-color: #0000ff\">:</span><span style=\"color: #000000; text-decoration-color: #000000\">827</span><span style=\"color: #000000; text-decoration-color: #000000\">]</span><span style=\"color: #838383; text-decoration-color: #838383\"> - </span><span style=\"color: #ffffff; text-decoration-color: #ffffff\">[</span><span style=\"color: #00ff00; text-decoration-color: #00ff00; font-style: italic\">'prompt'</span><span style=\"color: #ffffff; text-decoration-color: #ffffff\">]</span>: <span style=\"color: #00ff00; text-decoration-color: #00ff00; font-style: italic\">'What is an LLM?'</span>\n",
              "</pre>\n"
            ]
          },
          "metadata": {}
        },
        {
          "output_type": "display_data",
          "data": {
            "text/plain": [
              "\u001b[30m[\u001b[0m\u001b[30m2024-11-08 \u001b[0m\u001b[90m00:08:01.185095\u001b[0m\u001b[30m]\u001b[0m\u001b[30m[\u001b[0m\u001b[1;32mINFO\u001b[0m\u001b[30m]\u001b[0m\u001b[30m[\u001b[0m\u001b[3;34mtrainer.py\u001b[0m\u001b[94m:\u001b[0m\u001b[30m831\u001b[0m\u001b[30m]\u001b[0m\u001b[38;2;131;131;131m - \u001b[0m\u001b[97m[\u001b[0m\u001b[3;92m'response'\u001b[0m\u001b[97m]\u001b[0m:\n",
              "\n",
              "What is an LLM?\n",
              "\n",
              "LADY ANNE:\n",
              "You know?\n",
              "\n",
              "PAULINA:\n",
              "Well,\n",
              "The last remormedy bear it, sir, for,\n",
              "Which your father solemn battle being a man,\n",
              "And before your grave old prove and lawful\n",
              "As it fall of the roots of more honour's content,\n",
              "The dream accuse mullic to them, my world\n"
            ],
            "text/html": [
              "<pre style=\"white-space:pre;overflow-x:auto;line-height:normal;font-family:Menlo,'DejaVu Sans Mono',consolas,'Courier New',monospace\"><span style=\"color: #000000; text-decoration-color: #000000\">[</span><span style=\"color: #000000; text-decoration-color: #000000\">2024-11-08 </span><span style=\"color: #808080; text-decoration-color: #808080\">00:08:01.185095</span><span style=\"color: #000000; text-decoration-color: #000000\">][</span><span style=\"color: #008000; text-decoration-color: #008000; font-weight: bold\">INFO</span><span style=\"color: #000000; text-decoration-color: #000000\">][</span><span style=\"color: #000080; text-decoration-color: #000080; font-style: italic\">trainer.py</span><span style=\"color: #0000ff; text-decoration-color: #0000ff\">:</span><span style=\"color: #000000; text-decoration-color: #000000\">831</span><span style=\"color: #000000; text-decoration-color: #000000\">]</span><span style=\"color: #838383; text-decoration-color: #838383\"> - </span><span style=\"color: #ffffff; text-decoration-color: #ffffff\">[</span><span style=\"color: #00ff00; text-decoration-color: #00ff00; font-style: italic\">'response'</span><span style=\"color: #ffffff; text-decoration-color: #ffffff\">]</span>:\n",
              "\n",
              "What is an LLM?\n",
              "\n",
              "LADY ANNE:\n",
              "You know?\n",
              "\n",
              "PAULINA:\n",
              "Well,\n",
              "The last remormedy bear it, sir, for,\n",
              "Which your father solemn battle being a man,\n",
              "And before your grave old prove and lawful\n",
              "As it fall of the roots of more honour's content,\n",
              "The dream accuse mullic to them, my world\n",
              "</pre>\n"
            ]
          },
          "metadata": {}
        },
        {
          "output_type": "display_data",
          "data": {
            "text/plain": [
              "\u001b[30m[\u001b[0m\u001b[30m2024-11-08 \u001b[0m\u001b[90m00:08:14.326482\u001b[0m\u001b[30m]\u001b[0m\u001b[30m[\u001b[0m\u001b[1;32mINFO\u001b[0m\u001b[30m]\u001b[0m\u001b[30m[\u001b[0m\u001b[3;34mtrainer.py\u001b[0m\u001b[94m:\u001b[0m\u001b[30m762\u001b[0m\u001b[30m]\u001b[0m\u001b[38;2;131;131;131m - \u001b[0mSaving checkpoint to: \u001b[32m/\u001b[0m\u001b[35mcontent\u001b[0m\n"
            ],
            "text/html": [
              "<pre style=\"white-space:pre;overflow-x:auto;line-height:normal;font-family:Menlo,'DejaVu Sans Mono',consolas,'Courier New',monospace\"><span style=\"color: #000000; text-decoration-color: #000000\">[</span><span style=\"color: #000000; text-decoration-color: #000000\">2024-11-08 </span><span style=\"color: #808080; text-decoration-color: #808080\">00:08:14.326482</span><span style=\"color: #000000; text-decoration-color: #000000\">][</span><span style=\"color: #008000; text-decoration-color: #008000; font-weight: bold\">INFO</span><span style=\"color: #000000; text-decoration-color: #000000\">][</span><span style=\"color: #000080; text-decoration-color: #000080; font-style: italic\">trainer.py</span><span style=\"color: #0000ff; text-decoration-color: #0000ff\">:</span><span style=\"color: #000000; text-decoration-color: #000000\">762</span><span style=\"color: #000000; text-decoration-color: #000000\">]</span><span style=\"color: #838383; text-decoration-color: #838383\"> - </span>Saving checkpoint to: <span style=\"color: #008000; text-decoration-color: #008000\">/</span><span style=\"color: #800080; text-decoration-color: #800080\">content</span>\n",
              "</pre>\n"
            ]
          },
          "metadata": {}
        },
        {
          "output_type": "display_data",
          "data": {
            "text/plain": [
              "\u001b[30m[\u001b[0m\u001b[30m2024-11-08 \u001b[0m\u001b[90m00:08:14.329663\u001b[0m\u001b[30m]\u001b[0m\u001b[30m[\u001b[0m\u001b[1;32mINFO\u001b[0m\u001b[30m]\u001b[0m\u001b[30m[\u001b[0m\u001b[3;34mtrainer.py\u001b[0m\u001b[94m:\u001b[0m\u001b[30m763\u001b[0m\u001b[30m]\u001b[0m\u001b[38;2;131;131;131m - \u001b[0mSaving model to: \u001b[32m/content/\u001b[0m\u001b[35mmodel.pth\u001b[0m\n"
            ],
            "text/html": [
              "<pre style=\"white-space:pre;overflow-x:auto;line-height:normal;font-family:Menlo,'DejaVu Sans Mono',consolas,'Courier New',monospace\"><span style=\"color: #000000; text-decoration-color: #000000\">[</span><span style=\"color: #000000; text-decoration-color: #000000\">2024-11-08 </span><span style=\"color: #808080; text-decoration-color: #808080\">00:08:14.329663</span><span style=\"color: #000000; text-decoration-color: #000000\">][</span><span style=\"color: #008000; text-decoration-color: #008000; font-weight: bold\">INFO</span><span style=\"color: #000000; text-decoration-color: #000000\">][</span><span style=\"color: #000080; text-decoration-color: #000080; font-style: italic\">trainer.py</span><span style=\"color: #0000ff; text-decoration-color: #0000ff\">:</span><span style=\"color: #000000; text-decoration-color: #000000\">763</span><span style=\"color: #000000; text-decoration-color: #000000\">]</span><span style=\"color: #838383; text-decoration-color: #838383\"> - </span>Saving model to: <span style=\"color: #008000; text-decoration-color: #008000\">/content/</span><span style=\"color: #800080; text-decoration-color: #800080\">model.pth</span>\n",
              "</pre>\n"
            ]
          },
          "metadata": {}
        },
        {
          "output_type": "display_data",
          "data": {
            "text/plain": [
              "\u001b[30m[\u001b[0m\u001b[30m2024-11-08 \u001b[0m\u001b[90m00:08:14.885473\u001b[0m\u001b[30m]\u001b[0m\u001b[30m[\u001b[0m\u001b[1;32mINFO\u001b[0m\u001b[30m]\u001b[0m\u001b[30m[\u001b[0m\u001b[3;34mconfigs.py\u001b[0m\u001b[94m:\u001b[0m\u001b[30m141\u001b[0m\u001b[30m]\u001b[0m\u001b[38;2;131;131;131m - \u001b[0mAppending \u001b[32m/\u001b[0m\u001b[35mcontent\u001b[0m to \u001b[32m/content/wordplay/src/ckpts/\u001b[0m\u001b[35mcheckpoints.log\u001b[0m\n"
            ],
            "text/html": [
              "<pre style=\"white-space:pre;overflow-x:auto;line-height:normal;font-family:Menlo,'DejaVu Sans Mono',consolas,'Courier New',monospace\"><span style=\"color: #000000; text-decoration-color: #000000\">[</span><span style=\"color: #000000; text-decoration-color: #000000\">2024-11-08 </span><span style=\"color: #808080; text-decoration-color: #808080\">00:08:14.885473</span><span style=\"color: #000000; text-decoration-color: #000000\">][</span><span style=\"color: #008000; text-decoration-color: #008000; font-weight: bold\">INFO</span><span style=\"color: #000000; text-decoration-color: #000000\">][</span><span style=\"color: #000080; text-decoration-color: #000080; font-style: italic\">configs.py</span><span style=\"color: #0000ff; text-decoration-color: #0000ff\">:</span><span style=\"color: #000000; text-decoration-color: #000000\">141</span><span style=\"color: #000000; text-decoration-color: #000000\">]</span><span style=\"color: #838383; text-decoration-color: #838383\"> - </span>Appending <span style=\"color: #008000; text-decoration-color: #008000\">/</span><span style=\"color: #800080; text-decoration-color: #800080\">content</span> to <span style=\"color: #008000; text-decoration-color: #008000\">/content/wordplay/src/ckpts/</span><span style=\"color: #800080; text-decoration-color: #800080\">checkpoints.log</span>\n",
              "</pre>\n"
            ]
          },
          "metadata": {}
        },
        {
          "output_type": "display_data",
          "data": {
            "text/plain": [
              "\u001b[30m[\u001b[0m\u001b[30m2024-11-08 \u001b[0m\u001b[90m00:08:20.169141\u001b[0m\u001b[30m]\u001b[0m\u001b[30m[\u001b[0m\u001b[1;32mINFO\u001b[0m\u001b[30m]\u001b[0m\u001b[30m[\u001b[0m\u001b[3;34mtrainer.py\u001b[0m\u001b[94m:\u001b[0m\u001b[30m892\u001b[0m\u001b[30m]\u001b[0m\u001b[38;2;131;131;131m - \u001b[0m\u001b[3;94mstep\u001b[0m=\u001b[95m1050\u001b[0m \u001b[3;94mloss\u001b[0m=\u001b[95m1\u001b[0m\u001b[95m.3295\u001b[0m \u001b[3;94mdt\u001b[0m=\u001b[95m0\u001b[0m\u001b[95m.104336\u001b[0m \u001b[3;94mdtf\u001b[0m=\u001b[95m0\u001b[0m\u001b[95m.00503246\u001b[0m \u001b[3;94mdtb\u001b[0m=\u001b[95m0\u001b[0m\u001b[95m.00725961\u001b[0m \u001b[3;94msps\u001b[0m=\u001b[95m9\u001b[0m\u001b[95m.5844\u001b[0m \u001b[3;94msps_per_gpu\u001b[0m=\u001b[95m9\u001b[0m\u001b[95m.5844\u001b[0m \u001b[3;94mtps\u001b[0m=\u001b[95m157031\u001b[0m \u001b[3;94mtps_per_gpu\u001b[0m=\u001b[95m157031\u001b[0m \u001b[3;94mmfu\u001b[0m=\u001b[95m3\u001b[0m\u001b[95m.57983\u001b[0m\n"
            ],
            "text/html": [
              "<pre style=\"white-space:pre;overflow-x:auto;line-height:normal;font-family:Menlo,'DejaVu Sans Mono',consolas,'Courier New',monospace\"><span style=\"color: #000000; text-decoration-color: #000000\">[</span><span style=\"color: #000000; text-decoration-color: #000000\">2024-11-08 </span><span style=\"color: #808080; text-decoration-color: #808080\">00:08:20.169141</span><span style=\"color: #000000; text-decoration-color: #000000\">][</span><span style=\"color: #008000; text-decoration-color: #008000; font-weight: bold\">INFO</span><span style=\"color: #000000; text-decoration-color: #000000\">][</span><span style=\"color: #000080; text-decoration-color: #000080; font-style: italic\">trainer.py</span><span style=\"color: #0000ff; text-decoration-color: #0000ff\">:</span><span style=\"color: #000000; text-decoration-color: #000000\">892</span><span style=\"color: #000000; text-decoration-color: #000000\">]</span><span style=\"color: #838383; text-decoration-color: #838383\"> - </span><span style=\"color: #0000ff; text-decoration-color: #0000ff; font-style: italic\">step</span>=<span style=\"color: #ff00ff; text-decoration-color: #ff00ff\">1050</span> <span style=\"color: #0000ff; text-decoration-color: #0000ff; font-style: italic\">loss</span>=<span style=\"color: #ff00ff; text-decoration-color: #ff00ff\">1.3295</span> <span style=\"color: #0000ff; text-decoration-color: #0000ff; font-style: italic\">dt</span>=<span style=\"color: #ff00ff; text-decoration-color: #ff00ff\">0.104336</span> <span style=\"color: #0000ff; text-decoration-color: #0000ff; font-style: italic\">dtf</span>=<span style=\"color: #ff00ff; text-decoration-color: #ff00ff\">0.00503246</span> <span style=\"color: #0000ff; text-decoration-color: #0000ff; font-style: italic\">dtb</span>=<span style=\"color: #ff00ff; text-decoration-color: #ff00ff\">0.00725961</span> <span style=\"color: #0000ff; text-decoration-color: #0000ff; font-style: italic\">sps</span>=<span style=\"color: #ff00ff; text-decoration-color: #ff00ff\">9.5844</span> <span style=\"color: #0000ff; text-decoration-color: #0000ff; font-style: italic\">sps_per_gpu</span>=<span style=\"color: #ff00ff; text-decoration-color: #ff00ff\">9.5844</span> <span style=\"color: #0000ff; text-decoration-color: #0000ff; font-style: italic\">tps</span>=<span style=\"color: #ff00ff; text-decoration-color: #ff00ff\">157031</span> <span style=\"color: #0000ff; text-decoration-color: #0000ff; font-style: italic\">tps_per_gpu</span>=<span style=\"color: #ff00ff; text-decoration-color: #ff00ff\">157031</span> <span style=\"color: #0000ff; text-decoration-color: #0000ff; font-style: italic\">mfu</span>=<span style=\"color: #ff00ff; text-decoration-color: #ff00ff\">3.57983</span>\n",
              "</pre>\n"
            ]
          },
          "metadata": {}
        },
        {
          "output_type": "display_data",
          "data": {
            "text/plain": [
              "\u001b[30m[\u001b[0m\u001b[30m2024-11-08 \u001b[0m\u001b[90m00:08:25.478876\u001b[0m\u001b[30m]\u001b[0m\u001b[30m[\u001b[0m\u001b[1;32mINFO\u001b[0m\u001b[30m]\u001b[0m\u001b[30m[\u001b[0m\u001b[3;34mtrainer.py\u001b[0m\u001b[94m:\u001b[0m\u001b[30m892\u001b[0m\u001b[30m]\u001b[0m\u001b[38;2;131;131;131m - \u001b[0m\u001b[3;94mstep\u001b[0m=\u001b[95m1100\u001b[0m \u001b[3;94mloss\u001b[0m=\u001b[95m1\u001b[0m\u001b[95m.32706\u001b[0m \u001b[3;94mdt\u001b[0m=\u001b[95m0\u001b[0m\u001b[95m.104979\u001b[0m \u001b[3;94mdtf\u001b[0m=\u001b[95m0\u001b[0m\u001b[95m.00432937\u001b[0m \u001b[3;94mdtb\u001b[0m=\u001b[95m0\u001b[0m\u001b[95m.00719676\u001b[0m \u001b[3;94msps\u001b[0m=\u001b[95m9\u001b[0m\u001b[95m.52575\u001b[0m \u001b[3;94msps_per_gpu\u001b[0m=\u001b[95m9\u001b[0m\u001b[95m.52575\u001b[0m \u001b[3;94mtps\u001b[0m=\u001b[95m156070\u001b[0m \u001b[3;94mtps_per_gpu\u001b[0m=\u001b[95m156070\u001b[0m \u001b[3;94mmfu\u001b[0m=\u001b[95m3\u001b[0m\u001b[95m.5768\u001b[0m\n"
            ],
            "text/html": [
              "<pre style=\"white-space:pre;overflow-x:auto;line-height:normal;font-family:Menlo,'DejaVu Sans Mono',consolas,'Courier New',monospace\"><span style=\"color: #000000; text-decoration-color: #000000\">[</span><span style=\"color: #000000; text-decoration-color: #000000\">2024-11-08 </span><span style=\"color: #808080; text-decoration-color: #808080\">00:08:25.478876</span><span style=\"color: #000000; text-decoration-color: #000000\">][</span><span style=\"color: #008000; text-decoration-color: #008000; font-weight: bold\">INFO</span><span style=\"color: #000000; text-decoration-color: #000000\">][</span><span style=\"color: #000080; text-decoration-color: #000080; font-style: italic\">trainer.py</span><span style=\"color: #0000ff; text-decoration-color: #0000ff\">:</span><span style=\"color: #000000; text-decoration-color: #000000\">892</span><span style=\"color: #000000; text-decoration-color: #000000\">]</span><span style=\"color: #838383; text-decoration-color: #838383\"> - </span><span style=\"color: #0000ff; text-decoration-color: #0000ff; font-style: italic\">step</span>=<span style=\"color: #ff00ff; text-decoration-color: #ff00ff\">1100</span> <span style=\"color: #0000ff; text-decoration-color: #0000ff; font-style: italic\">loss</span>=<span style=\"color: #ff00ff; text-decoration-color: #ff00ff\">1.32706</span> <span style=\"color: #0000ff; text-decoration-color: #0000ff; font-style: italic\">dt</span>=<span style=\"color: #ff00ff; text-decoration-color: #ff00ff\">0.104979</span> <span style=\"color: #0000ff; text-decoration-color: #0000ff; font-style: italic\">dtf</span>=<span style=\"color: #ff00ff; text-decoration-color: #ff00ff\">0.00432937</span> <span style=\"color: #0000ff; text-decoration-color: #0000ff; font-style: italic\">dtb</span>=<span style=\"color: #ff00ff; text-decoration-color: #ff00ff\">0.00719676</span> <span style=\"color: #0000ff; text-decoration-color: #0000ff; font-style: italic\">sps</span>=<span style=\"color: #ff00ff; text-decoration-color: #ff00ff\">9.52575</span> <span style=\"color: #0000ff; text-decoration-color: #0000ff; font-style: italic\">sps_per_gpu</span>=<span style=\"color: #ff00ff; text-decoration-color: #ff00ff\">9.52575</span> <span style=\"color: #0000ff; text-decoration-color: #0000ff; font-style: italic\">tps</span>=<span style=\"color: #ff00ff; text-decoration-color: #ff00ff\">156070</span> <span style=\"color: #0000ff; text-decoration-color: #0000ff; font-style: italic\">tps_per_gpu</span>=<span style=\"color: #ff00ff; text-decoration-color: #ff00ff\">156070</span> <span style=\"color: #0000ff; text-decoration-color: #0000ff; font-style: italic\">mfu</span>=<span style=\"color: #ff00ff; text-decoration-color: #ff00ff\">3.5768</span>\n",
              "</pre>\n"
            ]
          },
          "metadata": {}
        },
        {
          "output_type": "display_data",
          "data": {
            "text/plain": [
              "\u001b[30m[\u001b[0m\u001b[30m2024-11-08 \u001b[0m\u001b[90m00:08:30.816650\u001b[0m\u001b[30m]\u001b[0m\u001b[30m[\u001b[0m\u001b[1;32mINFO\u001b[0m\u001b[30m]\u001b[0m\u001b[30m[\u001b[0m\u001b[3;34mtrainer.py\u001b[0m\u001b[94m:\u001b[0m\u001b[30m892\u001b[0m\u001b[30m]\u001b[0m\u001b[38;2;131;131;131m - \u001b[0m\u001b[3;94mstep\u001b[0m=\u001b[95m1150\u001b[0m \u001b[3;94mloss\u001b[0m=\u001b[95m1\u001b[0m\u001b[95m.30912\u001b[0m \u001b[3;94mdt\u001b[0m=\u001b[95m0\u001b[0m\u001b[95m.102867\u001b[0m \u001b[3;94mdtf\u001b[0m=\u001b[95m0\u001b[0m\u001b[95m.00467667\u001b[0m \u001b[3;94mdtb\u001b[0m=\u001b[95m0\u001b[0m\u001b[95m.0072872\u001b[0m \u001b[3;94msps\u001b[0m=\u001b[95m9\u001b[0m\u001b[95m.72127\u001b[0m \u001b[3;94msps_per_gpu\u001b[0m=\u001b[95m9\u001b[0m\u001b[95m.72127\u001b[0m \u001b[3;94mtps\u001b[0m=\u001b[95m159273\u001b[0m \u001b[3;94mtps_per_gpu\u001b[0m=\u001b[95m159273\u001b[0m \u001b[3;94mmfu\u001b[0m=\u001b[95m3\u001b[0m\u001b[95m.58135\u001b[0m\n"
            ],
            "text/html": [
              "<pre style=\"white-space:pre;overflow-x:auto;line-height:normal;font-family:Menlo,'DejaVu Sans Mono',consolas,'Courier New',monospace\"><span style=\"color: #000000; text-decoration-color: #000000\">[</span><span style=\"color: #000000; text-decoration-color: #000000\">2024-11-08 </span><span style=\"color: #808080; text-decoration-color: #808080\">00:08:30.816650</span><span style=\"color: #000000; text-decoration-color: #000000\">][</span><span style=\"color: #008000; text-decoration-color: #008000; font-weight: bold\">INFO</span><span style=\"color: #000000; text-decoration-color: #000000\">][</span><span style=\"color: #000080; text-decoration-color: #000080; font-style: italic\">trainer.py</span><span style=\"color: #0000ff; text-decoration-color: #0000ff\">:</span><span style=\"color: #000000; text-decoration-color: #000000\">892</span><span style=\"color: #000000; text-decoration-color: #000000\">]</span><span style=\"color: #838383; text-decoration-color: #838383\"> - </span><span style=\"color: #0000ff; text-decoration-color: #0000ff; font-style: italic\">step</span>=<span style=\"color: #ff00ff; text-decoration-color: #ff00ff\">1150</span> <span style=\"color: #0000ff; text-decoration-color: #0000ff; font-style: italic\">loss</span>=<span style=\"color: #ff00ff; text-decoration-color: #ff00ff\">1.30912</span> <span style=\"color: #0000ff; text-decoration-color: #0000ff; font-style: italic\">dt</span>=<span style=\"color: #ff00ff; text-decoration-color: #ff00ff\">0.102867</span> <span style=\"color: #0000ff; text-decoration-color: #0000ff; font-style: italic\">dtf</span>=<span style=\"color: #ff00ff; text-decoration-color: #ff00ff\">0.00467667</span> <span style=\"color: #0000ff; text-decoration-color: #0000ff; font-style: italic\">dtb</span>=<span style=\"color: #ff00ff; text-decoration-color: #ff00ff\">0.0072872</span> <span style=\"color: #0000ff; text-decoration-color: #0000ff; font-style: italic\">sps</span>=<span style=\"color: #ff00ff; text-decoration-color: #ff00ff\">9.72127</span> <span style=\"color: #0000ff; text-decoration-color: #0000ff; font-style: italic\">sps_per_gpu</span>=<span style=\"color: #ff00ff; text-decoration-color: #ff00ff\">9.72127</span> <span style=\"color: #0000ff; text-decoration-color: #0000ff; font-style: italic\">tps</span>=<span style=\"color: #ff00ff; text-decoration-color: #ff00ff\">159273</span> <span style=\"color: #0000ff; text-decoration-color: #0000ff; font-style: italic\">tps_per_gpu</span>=<span style=\"color: #ff00ff; text-decoration-color: #ff00ff\">159273</span> <span style=\"color: #0000ff; text-decoration-color: #0000ff; font-style: italic\">mfu</span>=<span style=\"color: #ff00ff; text-decoration-color: #ff00ff\">3.58135</span>\n",
              "</pre>\n"
            ]
          },
          "metadata": {}
        },
        {
          "output_type": "display_data",
          "data": {
            "text/plain": [
              "\u001b[30m[\u001b[0m\u001b[30m2024-11-08 \u001b[0m\u001b[90m00:08:36.146786\u001b[0m\u001b[30m]\u001b[0m\u001b[30m[\u001b[0m\u001b[1;32mINFO\u001b[0m\u001b[30m]\u001b[0m\u001b[30m[\u001b[0m\u001b[3;34mtrainer.py\u001b[0m\u001b[94m:\u001b[0m\u001b[30m892\u001b[0m\u001b[30m]\u001b[0m\u001b[38;2;131;131;131m - \u001b[0m\u001b[3;94mstep\u001b[0m=\u001b[95m1200\u001b[0m \u001b[3;94mloss\u001b[0m=\u001b[95m1\u001b[0m\u001b[95m.2755\u001b[0m \u001b[3;94mdt\u001b[0m=\u001b[95m0\u001b[0m\u001b[95m.104344\u001b[0m \u001b[3;94mdtf\u001b[0m=\u001b[95m0\u001b[0m\u001b[95m.00435786\u001b[0m \u001b[3;94mdtb\u001b[0m=\u001b[95m0\u001b[0m\u001b[95m.00714969\u001b[0m \u001b[3;94msps\u001b[0m=\u001b[95m9\u001b[0m\u001b[95m.58371\u001b[0m \u001b[3;94msps_per_gpu\u001b[0m=\u001b[95m9\u001b[0m\u001b[95m.58371\u001b[0m \u001b[3;94mtps\u001b[0m=\u001b[95m157020\u001b[0m \u001b[3;94mtps_per_gpu\u001b[0m=\u001b[95m157020\u001b[0m \u001b[3;94mmfu\u001b[0m=\u001b[95m3\u001b[0m\u001b[95m.58033\u001b[0m\n"
            ],
            "text/html": [
              "<pre style=\"white-space:pre;overflow-x:auto;line-height:normal;font-family:Menlo,'DejaVu Sans Mono',consolas,'Courier New',monospace\"><span style=\"color: #000000; text-decoration-color: #000000\">[</span><span style=\"color: #000000; text-decoration-color: #000000\">2024-11-08 </span><span style=\"color: #808080; text-decoration-color: #808080\">00:08:36.146786</span><span style=\"color: #000000; text-decoration-color: #000000\">][</span><span style=\"color: #008000; text-decoration-color: #008000; font-weight: bold\">INFO</span><span style=\"color: #000000; text-decoration-color: #000000\">][</span><span style=\"color: #000080; text-decoration-color: #000080; font-style: italic\">trainer.py</span><span style=\"color: #0000ff; text-decoration-color: #0000ff\">:</span><span style=\"color: #000000; text-decoration-color: #000000\">892</span><span style=\"color: #000000; text-decoration-color: #000000\">]</span><span style=\"color: #838383; text-decoration-color: #838383\"> - </span><span style=\"color: #0000ff; text-decoration-color: #0000ff; font-style: italic\">step</span>=<span style=\"color: #ff00ff; text-decoration-color: #ff00ff\">1200</span> <span style=\"color: #0000ff; text-decoration-color: #0000ff; font-style: italic\">loss</span>=<span style=\"color: #ff00ff; text-decoration-color: #ff00ff\">1.2755</span> <span style=\"color: #0000ff; text-decoration-color: #0000ff; font-style: italic\">dt</span>=<span style=\"color: #ff00ff; text-decoration-color: #ff00ff\">0.104344</span> <span style=\"color: #0000ff; text-decoration-color: #0000ff; font-style: italic\">dtf</span>=<span style=\"color: #ff00ff; text-decoration-color: #ff00ff\">0.00435786</span> <span style=\"color: #0000ff; text-decoration-color: #0000ff; font-style: italic\">dtb</span>=<span style=\"color: #ff00ff; text-decoration-color: #ff00ff\">0.00714969</span> <span style=\"color: #0000ff; text-decoration-color: #0000ff; font-style: italic\">sps</span>=<span style=\"color: #ff00ff; text-decoration-color: #ff00ff\">9.58371</span> <span style=\"color: #0000ff; text-decoration-color: #0000ff; font-style: italic\">sps_per_gpu</span>=<span style=\"color: #ff00ff; text-decoration-color: #ff00ff\">9.58371</span> <span style=\"color: #0000ff; text-decoration-color: #0000ff; font-style: italic\">tps</span>=<span style=\"color: #ff00ff; text-decoration-color: #ff00ff\">157020</span> <span style=\"color: #0000ff; text-decoration-color: #0000ff; font-style: italic\">tps_per_gpu</span>=<span style=\"color: #ff00ff; text-decoration-color: #ff00ff\">157020</span> <span style=\"color: #0000ff; text-decoration-color: #0000ff; font-style: italic\">mfu</span>=<span style=\"color: #ff00ff; text-decoration-color: #ff00ff\">3.58033</span>\n",
              "</pre>\n"
            ]
          },
          "metadata": {}
        },
        {
          "output_type": "display_data",
          "data": {
            "text/plain": [
              "\u001b[30m[\u001b[0m\u001b[30m2024-11-08 \u001b[0m\u001b[90m00:08:41.445737\u001b[0m\u001b[30m]\u001b[0m\u001b[30m[\u001b[0m\u001b[1;32mINFO\u001b[0m\u001b[30m]\u001b[0m\u001b[30m[\u001b[0m\u001b[3;34mtrainer.py\u001b[0m\u001b[94m:\u001b[0m\u001b[30m892\u001b[0m\u001b[30m]\u001b[0m\u001b[38;2;131;131;131m - \u001b[0m\u001b[3;94mstep\u001b[0m=\u001b[95m1250\u001b[0m \u001b[3;94mloss\u001b[0m=\u001b[95m1\u001b[0m\u001b[95m.26971\u001b[0m \u001b[3;94mdt\u001b[0m=\u001b[95m0\u001b[0m\u001b[95m.104908\u001b[0m \u001b[3;94mdtf\u001b[0m=\u001b[95m0\u001b[0m\u001b[95m.00665145\u001b[0m \u001b[3;94mdtb\u001b[0m=\u001b[95m0\u001b[0m\u001b[95m.0111064\u001b[0m \u001b[3;94msps\u001b[0m=\u001b[95m9\u001b[0m\u001b[95m.53216\u001b[0m \u001b[3;94msps_per_gpu\u001b[0m=\u001b[95m9\u001b[0m\u001b[95m.53216\u001b[0m \u001b[3;94mtps\u001b[0m=\u001b[95m156175\u001b[0m \u001b[3;94mtps_per_gpu\u001b[0m=\u001b[95m156175\u001b[0m \u001b[3;94mmfu\u001b[0m=\u001b[95m3\u001b[0m\u001b[95m.57749\u001b[0m\n"
            ],
            "text/html": [
              "<pre style=\"white-space:pre;overflow-x:auto;line-height:normal;font-family:Menlo,'DejaVu Sans Mono',consolas,'Courier New',monospace\"><span style=\"color: #000000; text-decoration-color: #000000\">[</span><span style=\"color: #000000; text-decoration-color: #000000\">2024-11-08 </span><span style=\"color: #808080; text-decoration-color: #808080\">00:08:41.445737</span><span style=\"color: #000000; text-decoration-color: #000000\">][</span><span style=\"color: #008000; text-decoration-color: #008000; font-weight: bold\">INFO</span><span style=\"color: #000000; text-decoration-color: #000000\">][</span><span style=\"color: #000080; text-decoration-color: #000080; font-style: italic\">trainer.py</span><span style=\"color: #0000ff; text-decoration-color: #0000ff\">:</span><span style=\"color: #000000; text-decoration-color: #000000\">892</span><span style=\"color: #000000; text-decoration-color: #000000\">]</span><span style=\"color: #838383; text-decoration-color: #838383\"> - </span><span style=\"color: #0000ff; text-decoration-color: #0000ff; font-style: italic\">step</span>=<span style=\"color: #ff00ff; text-decoration-color: #ff00ff\">1250</span> <span style=\"color: #0000ff; text-decoration-color: #0000ff; font-style: italic\">loss</span>=<span style=\"color: #ff00ff; text-decoration-color: #ff00ff\">1.26971</span> <span style=\"color: #0000ff; text-decoration-color: #0000ff; font-style: italic\">dt</span>=<span style=\"color: #ff00ff; text-decoration-color: #ff00ff\">0.104908</span> <span style=\"color: #0000ff; text-decoration-color: #0000ff; font-style: italic\">dtf</span>=<span style=\"color: #ff00ff; text-decoration-color: #ff00ff\">0.00665145</span> <span style=\"color: #0000ff; text-decoration-color: #0000ff; font-style: italic\">dtb</span>=<span style=\"color: #ff00ff; text-decoration-color: #ff00ff\">0.0111064</span> <span style=\"color: #0000ff; text-decoration-color: #0000ff; font-style: italic\">sps</span>=<span style=\"color: #ff00ff; text-decoration-color: #ff00ff\">9.53216</span> <span style=\"color: #0000ff; text-decoration-color: #0000ff; font-style: italic\">sps_per_gpu</span>=<span style=\"color: #ff00ff; text-decoration-color: #ff00ff\">9.53216</span> <span style=\"color: #0000ff; text-decoration-color: #0000ff; font-style: italic\">tps</span>=<span style=\"color: #ff00ff; text-decoration-color: #ff00ff\">156175</span> <span style=\"color: #0000ff; text-decoration-color: #0000ff; font-style: italic\">tps_per_gpu</span>=<span style=\"color: #ff00ff; text-decoration-color: #ff00ff\">156175</span> <span style=\"color: #0000ff; text-decoration-color: #0000ff; font-style: italic\">mfu</span>=<span style=\"color: #ff00ff; text-decoration-color: #ff00ff\">3.57749</span>\n",
              "</pre>\n"
            ]
          },
          "metadata": {}
        },
        {
          "output_type": "display_data",
          "data": {
            "text/plain": [
              "\u001b[30m[\u001b[0m\u001b[30m2024-11-08 \u001b[0m\u001b[90m00:08:46.734188\u001b[0m\u001b[30m]\u001b[0m\u001b[30m[\u001b[0m\u001b[1;32mINFO\u001b[0m\u001b[30m]\u001b[0m\u001b[30m[\u001b[0m\u001b[3;34mtrainer.py\u001b[0m\u001b[94m:\u001b[0m\u001b[30m892\u001b[0m\u001b[30m]\u001b[0m\u001b[38;2;131;131;131m - \u001b[0m\u001b[3;94mstep\u001b[0m=\u001b[95m1300\u001b[0m \u001b[3;94mloss\u001b[0m=\u001b[95m1\u001b[0m\u001b[95m.26026\u001b[0m \u001b[3;94mdt\u001b[0m=\u001b[95m0\u001b[0m\u001b[95m.107473\u001b[0m \u001b[3;94mdtf\u001b[0m=\u001b[95m0\u001b[0m\u001b[95m.00433868\u001b[0m \u001b[3;94mdtb\u001b[0m=\u001b[95m0\u001b[0m\u001b[95m.00728943\u001b[0m \u001b[3;94msps\u001b[0m=\u001b[95m9\u001b[0m\u001b[95m.30465\u001b[0m \u001b[3;94msps_per_gpu\u001b[0m=\u001b[95m9\u001b[0m\u001b[95m.30465\u001b[0m \u001b[3;94mtps\u001b[0m=\u001b[95m152447\u001b[0m \u001b[3;94mtps_per_gpu\u001b[0m=\u001b[95m152447\u001b[0m \u001b[3;94mmfu\u001b[0m=\u001b[95m3\u001b[0m\u001b[95m.56645\u001b[0m\n"
            ],
            "text/html": [
              "<pre style=\"white-space:pre;overflow-x:auto;line-height:normal;font-family:Menlo,'DejaVu Sans Mono',consolas,'Courier New',monospace\"><span style=\"color: #000000; text-decoration-color: #000000\">[</span><span style=\"color: #000000; text-decoration-color: #000000\">2024-11-08 </span><span style=\"color: #808080; text-decoration-color: #808080\">00:08:46.734188</span><span style=\"color: #000000; text-decoration-color: #000000\">][</span><span style=\"color: #008000; text-decoration-color: #008000; font-weight: bold\">INFO</span><span style=\"color: #000000; text-decoration-color: #000000\">][</span><span style=\"color: #000080; text-decoration-color: #000080; font-style: italic\">trainer.py</span><span style=\"color: #0000ff; text-decoration-color: #0000ff\">:</span><span style=\"color: #000000; text-decoration-color: #000000\">892</span><span style=\"color: #000000; text-decoration-color: #000000\">]</span><span style=\"color: #838383; text-decoration-color: #838383\"> - </span><span style=\"color: #0000ff; text-decoration-color: #0000ff; font-style: italic\">step</span>=<span style=\"color: #ff00ff; text-decoration-color: #ff00ff\">1300</span> <span style=\"color: #0000ff; text-decoration-color: #0000ff; font-style: italic\">loss</span>=<span style=\"color: #ff00ff; text-decoration-color: #ff00ff\">1.26026</span> <span style=\"color: #0000ff; text-decoration-color: #0000ff; font-style: italic\">dt</span>=<span style=\"color: #ff00ff; text-decoration-color: #ff00ff\">0.107473</span> <span style=\"color: #0000ff; text-decoration-color: #0000ff; font-style: italic\">dtf</span>=<span style=\"color: #ff00ff; text-decoration-color: #ff00ff\">0.00433868</span> <span style=\"color: #0000ff; text-decoration-color: #0000ff; font-style: italic\">dtb</span>=<span style=\"color: #ff00ff; text-decoration-color: #ff00ff\">0.00728943</span> <span style=\"color: #0000ff; text-decoration-color: #0000ff; font-style: italic\">sps</span>=<span style=\"color: #ff00ff; text-decoration-color: #ff00ff\">9.30465</span> <span style=\"color: #0000ff; text-decoration-color: #0000ff; font-style: italic\">sps_per_gpu</span>=<span style=\"color: #ff00ff; text-decoration-color: #ff00ff\">9.30465</span> <span style=\"color: #0000ff; text-decoration-color: #0000ff; font-style: italic\">tps</span>=<span style=\"color: #ff00ff; text-decoration-color: #ff00ff\">152447</span> <span style=\"color: #0000ff; text-decoration-color: #0000ff; font-style: italic\">tps_per_gpu</span>=<span style=\"color: #ff00ff; text-decoration-color: #ff00ff\">152447</span> <span style=\"color: #0000ff; text-decoration-color: #0000ff; font-style: italic\">mfu</span>=<span style=\"color: #ff00ff; text-decoration-color: #ff00ff\">3.56645</span>\n",
              "</pre>\n"
            ]
          },
          "metadata": {}
        },
        {
          "output_type": "display_data",
          "data": {
            "text/plain": [
              "\u001b[30m[\u001b[0m\u001b[30m2024-11-08 \u001b[0m\u001b[90m00:08:52.016008\u001b[0m\u001b[30m]\u001b[0m\u001b[30m[\u001b[0m\u001b[1;32mINFO\u001b[0m\u001b[30m]\u001b[0m\u001b[30m[\u001b[0m\u001b[3;34mtrainer.py\u001b[0m\u001b[94m:\u001b[0m\u001b[30m892\u001b[0m\u001b[30m]\u001b[0m\u001b[38;2;131;131;131m - \u001b[0m\u001b[3;94mstep\u001b[0m=\u001b[95m1350\u001b[0m \u001b[3;94mloss\u001b[0m=\u001b[95m1\u001b[0m\u001b[95m.27349\u001b[0m \u001b[3;94mdt\u001b[0m=\u001b[95m0\u001b[0m\u001b[95m.104497\u001b[0m \u001b[3;94mdtf\u001b[0m=\u001b[95m0\u001b[0m\u001b[95m.00441646\u001b[0m \u001b[3;94mdtb\u001b[0m=\u001b[95m0\u001b[0m\u001b[95m.00680301\u001b[0m \u001b[3;94msps\u001b[0m=\u001b[95m9\u001b[0m\u001b[95m.56963\u001b[0m \u001b[3;94msps_per_gpu\u001b[0m=\u001b[95m9\u001b[0m\u001b[95m.56963\u001b[0m \u001b[3;94mtps\u001b[0m=\u001b[95m156789\u001b[0m \u001b[3;94mtps_per_gpu\u001b[0m=\u001b[95m156789\u001b[0m \u001b[3;94mmfu\u001b[0m=\u001b[95m3\u001b[0m\u001b[95m.56639\u001b[0m\n"
            ],
            "text/html": [
              "<pre style=\"white-space:pre;overflow-x:auto;line-height:normal;font-family:Menlo,'DejaVu Sans Mono',consolas,'Courier New',monospace\"><span style=\"color: #000000; text-decoration-color: #000000\">[</span><span style=\"color: #000000; text-decoration-color: #000000\">2024-11-08 </span><span style=\"color: #808080; text-decoration-color: #808080\">00:08:52.016008</span><span style=\"color: #000000; text-decoration-color: #000000\">][</span><span style=\"color: #008000; text-decoration-color: #008000; font-weight: bold\">INFO</span><span style=\"color: #000000; text-decoration-color: #000000\">][</span><span style=\"color: #000080; text-decoration-color: #000080; font-style: italic\">trainer.py</span><span style=\"color: #0000ff; text-decoration-color: #0000ff\">:</span><span style=\"color: #000000; text-decoration-color: #000000\">892</span><span style=\"color: #000000; text-decoration-color: #000000\">]</span><span style=\"color: #838383; text-decoration-color: #838383\"> - </span><span style=\"color: #0000ff; text-decoration-color: #0000ff; font-style: italic\">step</span>=<span style=\"color: #ff00ff; text-decoration-color: #ff00ff\">1350</span> <span style=\"color: #0000ff; text-decoration-color: #0000ff; font-style: italic\">loss</span>=<span style=\"color: #ff00ff; text-decoration-color: #ff00ff\">1.27349</span> <span style=\"color: #0000ff; text-decoration-color: #0000ff; font-style: italic\">dt</span>=<span style=\"color: #ff00ff; text-decoration-color: #ff00ff\">0.104497</span> <span style=\"color: #0000ff; text-decoration-color: #0000ff; font-style: italic\">dtf</span>=<span style=\"color: #ff00ff; text-decoration-color: #ff00ff\">0.00441646</span> <span style=\"color: #0000ff; text-decoration-color: #0000ff; font-style: italic\">dtb</span>=<span style=\"color: #ff00ff; text-decoration-color: #ff00ff\">0.00680301</span> <span style=\"color: #0000ff; text-decoration-color: #0000ff; font-style: italic\">sps</span>=<span style=\"color: #ff00ff; text-decoration-color: #ff00ff\">9.56963</span> <span style=\"color: #0000ff; text-decoration-color: #0000ff; font-style: italic\">sps_per_gpu</span>=<span style=\"color: #ff00ff; text-decoration-color: #ff00ff\">9.56963</span> <span style=\"color: #0000ff; text-decoration-color: #0000ff; font-style: italic\">tps</span>=<span style=\"color: #ff00ff; text-decoration-color: #ff00ff\">156789</span> <span style=\"color: #0000ff; text-decoration-color: #0000ff; font-style: italic\">tps_per_gpu</span>=<span style=\"color: #ff00ff; text-decoration-color: #ff00ff\">156789</span> <span style=\"color: #0000ff; text-decoration-color: #0000ff; font-style: italic\">mfu</span>=<span style=\"color: #ff00ff; text-decoration-color: #ff00ff\">3.56639</span>\n",
              "</pre>\n"
            ]
          },
          "metadata": {}
        },
        {
          "output_type": "display_data",
          "data": {
            "text/plain": [
              "\u001b[30m[\u001b[0m\u001b[30m2024-11-08 \u001b[0m\u001b[90m00:08:57.281239\u001b[0m\u001b[30m]\u001b[0m\u001b[30m[\u001b[0m\u001b[1;32mINFO\u001b[0m\u001b[30m]\u001b[0m\u001b[30m[\u001b[0m\u001b[3;34mtrainer.py\u001b[0m\u001b[94m:\u001b[0m\u001b[30m892\u001b[0m\u001b[30m]\u001b[0m\u001b[38;2;131;131;131m - \u001b[0m\u001b[3;94mstep\u001b[0m=\u001b[95m1400\u001b[0m \u001b[3;94mloss\u001b[0m=\u001b[95m1\u001b[0m\u001b[95m.26435\u001b[0m \u001b[3;94mdt\u001b[0m=\u001b[95m0\u001b[0m\u001b[95m.103198\u001b[0m \u001b[3;94mdtf\u001b[0m=\u001b[95m0\u001b[0m\u001b[95m.0043633\u001b[0m \u001b[3;94mdtb\u001b[0m=\u001b[95m0\u001b[0m\u001b[95m.00708873\u001b[0m \u001b[3;94msps\u001b[0m=\u001b[95m9\u001b[0m\u001b[95m.69012\u001b[0m \u001b[3;94msps_per_gpu\u001b[0m=\u001b[95m9\u001b[0m\u001b[95m.69012\u001b[0m \u001b[3;94mtps\u001b[0m=\u001b[95m158763\u001b[0m \u001b[3;94mtps_per_gpu\u001b[0m=\u001b[95m158763\u001b[0m \u001b[3;94mmfu\u001b[0m=\u001b[95m3\u001b[0m\u001b[95m.57083\u001b[0m\n"
            ],
            "text/html": [
              "<pre style=\"white-space:pre;overflow-x:auto;line-height:normal;font-family:Menlo,'DejaVu Sans Mono',consolas,'Courier New',monospace\"><span style=\"color: #000000; text-decoration-color: #000000\">[</span><span style=\"color: #000000; text-decoration-color: #000000\">2024-11-08 </span><span style=\"color: #808080; text-decoration-color: #808080\">00:08:57.281239</span><span style=\"color: #000000; text-decoration-color: #000000\">][</span><span style=\"color: #008000; text-decoration-color: #008000; font-weight: bold\">INFO</span><span style=\"color: #000000; text-decoration-color: #000000\">][</span><span style=\"color: #000080; text-decoration-color: #000080; font-style: italic\">trainer.py</span><span style=\"color: #0000ff; text-decoration-color: #0000ff\">:</span><span style=\"color: #000000; text-decoration-color: #000000\">892</span><span style=\"color: #000000; text-decoration-color: #000000\">]</span><span style=\"color: #838383; text-decoration-color: #838383\"> - </span><span style=\"color: #0000ff; text-decoration-color: #0000ff; font-style: italic\">step</span>=<span style=\"color: #ff00ff; text-decoration-color: #ff00ff\">1400</span> <span style=\"color: #0000ff; text-decoration-color: #0000ff; font-style: italic\">loss</span>=<span style=\"color: #ff00ff; text-decoration-color: #ff00ff\">1.26435</span> <span style=\"color: #0000ff; text-decoration-color: #0000ff; font-style: italic\">dt</span>=<span style=\"color: #ff00ff; text-decoration-color: #ff00ff\">0.103198</span> <span style=\"color: #0000ff; text-decoration-color: #0000ff; font-style: italic\">dtf</span>=<span style=\"color: #ff00ff; text-decoration-color: #ff00ff\">0.0043633</span> <span style=\"color: #0000ff; text-decoration-color: #0000ff; font-style: italic\">dtb</span>=<span style=\"color: #ff00ff; text-decoration-color: #ff00ff\">0.00708873</span> <span style=\"color: #0000ff; text-decoration-color: #0000ff; font-style: italic\">sps</span>=<span style=\"color: #ff00ff; text-decoration-color: #ff00ff\">9.69012</span> <span style=\"color: #0000ff; text-decoration-color: #0000ff; font-style: italic\">sps_per_gpu</span>=<span style=\"color: #ff00ff; text-decoration-color: #ff00ff\">9.69012</span> <span style=\"color: #0000ff; text-decoration-color: #0000ff; font-style: italic\">tps</span>=<span style=\"color: #ff00ff; text-decoration-color: #ff00ff\">158763</span> <span style=\"color: #0000ff; text-decoration-color: #0000ff; font-style: italic\">tps_per_gpu</span>=<span style=\"color: #ff00ff; text-decoration-color: #ff00ff\">158763</span> <span style=\"color: #0000ff; text-decoration-color: #0000ff; font-style: italic\">mfu</span>=<span style=\"color: #ff00ff; text-decoration-color: #ff00ff\">3.57083</span>\n",
              "</pre>\n"
            ]
          },
          "metadata": {}
        },
        {
          "output_type": "display_data",
          "data": {
            "text/plain": [
              "\u001b[30m[\u001b[0m\u001b[30m2024-11-08 \u001b[0m\u001b[90m00:09:02.513953\u001b[0m\u001b[30m]\u001b[0m\u001b[30m[\u001b[0m\u001b[1;32mINFO\u001b[0m\u001b[30m]\u001b[0m\u001b[30m[\u001b[0m\u001b[3;34mtrainer.py\u001b[0m\u001b[94m:\u001b[0m\u001b[30m892\u001b[0m\u001b[30m]\u001b[0m\u001b[38;2;131;131;131m - \u001b[0m\u001b[3;94mstep\u001b[0m=\u001b[95m1450\u001b[0m \u001b[3;94mloss\u001b[0m=\u001b[95m1\u001b[0m\u001b[95m.25481\u001b[0m \u001b[3;94mdt\u001b[0m=\u001b[95m0\u001b[0m\u001b[95m.102105\u001b[0m \u001b[3;94mdtf\u001b[0m=\u001b[95m0\u001b[0m\u001b[95m.00439323\u001b[0m \u001b[3;94mdtb\u001b[0m=\u001b[95m0\u001b[0m\u001b[95m.00740321\u001b[0m \u001b[3;94msps\u001b[0m=\u001b[95m9\u001b[0m\u001b[95m.79382\u001b[0m \u001b[3;94msps_per_gpu\u001b[0m=\u001b[95m9\u001b[0m\u001b[95m.79382\u001b[0m \u001b[3;94mtps\u001b[0m=\u001b[95m160462\u001b[0m \u001b[3;94mtps_per_gpu\u001b[0m=\u001b[95m160462\u001b[0m \u001b[3;94mmfu\u001b[0m=\u001b[95m3\u001b[0m\u001b[95m.57869\u001b[0m\n"
            ],
            "text/html": [
              "<pre style=\"white-space:pre;overflow-x:auto;line-height:normal;font-family:Menlo,'DejaVu Sans Mono',consolas,'Courier New',monospace\"><span style=\"color: #000000; text-decoration-color: #000000\">[</span><span style=\"color: #000000; text-decoration-color: #000000\">2024-11-08 </span><span style=\"color: #808080; text-decoration-color: #808080\">00:09:02.513953</span><span style=\"color: #000000; text-decoration-color: #000000\">][</span><span style=\"color: #008000; text-decoration-color: #008000; font-weight: bold\">INFO</span><span style=\"color: #000000; text-decoration-color: #000000\">][</span><span style=\"color: #000080; text-decoration-color: #000080; font-style: italic\">trainer.py</span><span style=\"color: #0000ff; text-decoration-color: #0000ff\">:</span><span style=\"color: #000000; text-decoration-color: #000000\">892</span><span style=\"color: #000000; text-decoration-color: #000000\">]</span><span style=\"color: #838383; text-decoration-color: #838383\"> - </span><span style=\"color: #0000ff; text-decoration-color: #0000ff; font-style: italic\">step</span>=<span style=\"color: #ff00ff; text-decoration-color: #ff00ff\">1450</span> <span style=\"color: #0000ff; text-decoration-color: #0000ff; font-style: italic\">loss</span>=<span style=\"color: #ff00ff; text-decoration-color: #ff00ff\">1.25481</span> <span style=\"color: #0000ff; text-decoration-color: #0000ff; font-style: italic\">dt</span>=<span style=\"color: #ff00ff; text-decoration-color: #ff00ff\">0.102105</span> <span style=\"color: #0000ff; text-decoration-color: #0000ff; font-style: italic\">dtf</span>=<span style=\"color: #ff00ff; text-decoration-color: #ff00ff\">0.00439323</span> <span style=\"color: #0000ff; text-decoration-color: #0000ff; font-style: italic\">dtb</span>=<span style=\"color: #ff00ff; text-decoration-color: #ff00ff\">0.00740321</span> <span style=\"color: #0000ff; text-decoration-color: #0000ff; font-style: italic\">sps</span>=<span style=\"color: #ff00ff; text-decoration-color: #ff00ff\">9.79382</span> <span style=\"color: #0000ff; text-decoration-color: #0000ff; font-style: italic\">sps_per_gpu</span>=<span style=\"color: #ff00ff; text-decoration-color: #ff00ff\">9.79382</span> <span style=\"color: #0000ff; text-decoration-color: #0000ff; font-style: italic\">tps</span>=<span style=\"color: #ff00ff; text-decoration-color: #ff00ff\">160462</span> <span style=\"color: #0000ff; text-decoration-color: #0000ff; font-style: italic\">tps_per_gpu</span>=<span style=\"color: #ff00ff; text-decoration-color: #ff00ff\">160462</span> <span style=\"color: #0000ff; text-decoration-color: #0000ff; font-style: italic\">mfu</span>=<span style=\"color: #ff00ff; text-decoration-color: #ff00ff\">3.57869</span>\n",
              "</pre>\n"
            ]
          },
          "metadata": {}
        },
        {
          "output_type": "display_data",
          "data": {
            "text/plain": [
              "\u001b[30m[\u001b[0m\u001b[30m2024-11-08 \u001b[0m\u001b[90m00:09:07.740335\u001b[0m\u001b[30m]\u001b[0m\u001b[30m[\u001b[0m\u001b[1;32mINFO\u001b[0m\u001b[30m]\u001b[0m\u001b[30m[\u001b[0m\u001b[3;34mtrainer.py\u001b[0m\u001b[94m:\u001b[0m\u001b[30m892\u001b[0m\u001b[30m]\u001b[0m\u001b[38;2;131;131;131m - \u001b[0m\u001b[3;94mstep\u001b[0m=\u001b[95m1500\u001b[0m \u001b[3;94mloss\u001b[0m=\u001b[95m1\u001b[0m\u001b[95m.23598\u001b[0m \u001b[3;94mdt\u001b[0m=\u001b[95m0\u001b[0m\u001b[95m.104492\u001b[0m \u001b[3;94mdtf\u001b[0m=\u001b[95m0\u001b[0m\u001b[95m.0078132\u001b[0m \u001b[3;94mdtb\u001b[0m=\u001b[95m0\u001b[0m\u001b[95m.0118242\u001b[0m \u001b[3;94msps\u001b[0m=\u001b[95m9\u001b[0m\u001b[95m.57015\u001b[0m \u001b[3;94msps_per_gpu\u001b[0m=\u001b[95m9\u001b[0m\u001b[95m.57015\u001b[0m \u001b[3;94mtps\u001b[0m=\u001b[95m156797\u001b[0m \u001b[3;94mtps_per_gpu\u001b[0m=\u001b[95m156797\u001b[0m \u001b[3;94mmfu\u001b[0m=\u001b[95m3\u001b[0m\u001b[95m.57743\u001b[0m\n"
            ],
            "text/html": [
              "<pre style=\"white-space:pre;overflow-x:auto;line-height:normal;font-family:Menlo,'DejaVu Sans Mono',consolas,'Courier New',monospace\"><span style=\"color: #000000; text-decoration-color: #000000\">[</span><span style=\"color: #000000; text-decoration-color: #000000\">2024-11-08 </span><span style=\"color: #808080; text-decoration-color: #808080\">00:09:07.740335</span><span style=\"color: #000000; text-decoration-color: #000000\">][</span><span style=\"color: #008000; text-decoration-color: #008000; font-weight: bold\">INFO</span><span style=\"color: #000000; text-decoration-color: #000000\">][</span><span style=\"color: #000080; text-decoration-color: #000080; font-style: italic\">trainer.py</span><span style=\"color: #0000ff; text-decoration-color: #0000ff\">:</span><span style=\"color: #000000; text-decoration-color: #000000\">892</span><span style=\"color: #000000; text-decoration-color: #000000\">]</span><span style=\"color: #838383; text-decoration-color: #838383\"> - </span><span style=\"color: #0000ff; text-decoration-color: #0000ff; font-style: italic\">step</span>=<span style=\"color: #ff00ff; text-decoration-color: #ff00ff\">1500</span> <span style=\"color: #0000ff; text-decoration-color: #0000ff; font-style: italic\">loss</span>=<span style=\"color: #ff00ff; text-decoration-color: #ff00ff\">1.23598</span> <span style=\"color: #0000ff; text-decoration-color: #0000ff; font-style: italic\">dt</span>=<span style=\"color: #ff00ff; text-decoration-color: #ff00ff\">0.104492</span> <span style=\"color: #0000ff; text-decoration-color: #0000ff; font-style: italic\">dtf</span>=<span style=\"color: #ff00ff; text-decoration-color: #ff00ff\">0.0078132</span> <span style=\"color: #0000ff; text-decoration-color: #0000ff; font-style: italic\">dtb</span>=<span style=\"color: #ff00ff; text-decoration-color: #ff00ff\">0.0118242</span> <span style=\"color: #0000ff; text-decoration-color: #0000ff; font-style: italic\">sps</span>=<span style=\"color: #ff00ff; text-decoration-color: #ff00ff\">9.57015</span> <span style=\"color: #0000ff; text-decoration-color: #0000ff; font-style: italic\">sps_per_gpu</span>=<span style=\"color: #ff00ff; text-decoration-color: #ff00ff\">9.57015</span> <span style=\"color: #0000ff; text-decoration-color: #0000ff; font-style: italic\">tps</span>=<span style=\"color: #ff00ff; text-decoration-color: #ff00ff\">156797</span> <span style=\"color: #0000ff; text-decoration-color: #0000ff; font-style: italic\">tps_per_gpu</span>=<span style=\"color: #ff00ff; text-decoration-color: #ff00ff\">156797</span> <span style=\"color: #0000ff; text-decoration-color: #0000ff; font-style: italic\">mfu</span>=<span style=\"color: #ff00ff; text-decoration-color: #ff00ff\">3.57743</span>\n",
              "</pre>\n"
            ]
          },
          "metadata": {}
        }
      ],
      "source": [
        "trainer.train()"
      ]
    },
    {
      "cell_type": "markdown",
      "id": "aa5c0c5a-539a-462d-a9e3-0655e8e48d85",
      "metadata": {
        "id": "aa5c0c5a-539a-462d-a9e3-0655e8e48d85"
      },
      "source": [
        "## Evaluate Model"
      ]
    },
    {
      "cell_type": "code",
      "execution_count": null,
      "id": "b17c4414",
      "metadata": {
        "colab": {
          "base_uri": "https://localhost:8080/",
          "height": 257
        },
        "id": "b17c4414",
        "jupyter": {
          "outputs_hidden": false,
          "source_hidden": false
        },
        "outputId": "4a7ef1e6-10b9-454c-cdf1-e7d2ce631c43"
      },
      "outputs": [
        {
          "output_type": "display_data",
          "data": {
            "text/plain": [
              "\u001b[30m[\u001b[0m\u001b[30m2024-11-08 \u001b[0m\u001b[90m05:29:21.164063\u001b[0m\u001b[30m]\u001b[0m\u001b[30m[\u001b[0m\u001b[1;32mINFO\u001b[0m\u001b[30m]\u001b[0m\u001b[30m[\u001b[0m\u001b[3;34m<ipython-input-10-99b80f46fd99>\u001b[0m\u001b[94m:\u001b[0m\u001b[30m12\u001b[0m\u001b[30m]\u001b[0m\u001b[38;2;131;131;131m - \u001b[0mtook: \u001b[95m0.\u001b[0m8170s\n"
            ],
            "text/html": [
              "<pre style=\"white-space:pre;overflow-x:auto;line-height:normal;font-family:Menlo,'DejaVu Sans Mono',consolas,'Courier New',monospace\"><span style=\"color: #000000; text-decoration-color: #000000\">[</span><span style=\"color: #000000; text-decoration-color: #000000\">2024-11-08 </span><span style=\"color: #808080; text-decoration-color: #808080\">05:29:21.164063</span><span style=\"color: #000000; text-decoration-color: #000000\">][</span><span style=\"color: #008000; text-decoration-color: #008000; font-weight: bold\">INFO</span><span style=\"color: #000000; text-decoration-color: #000000\">][</span><span style=\"color: #000080; text-decoration-color: #000080; font-style: italic\">&lt;ipython-input-10-99b80f46fd99&gt;</span><span style=\"color: #0000ff; text-decoration-color: #0000ff\">:</span><span style=\"color: #000000; text-decoration-color: #000000\">12</span><span style=\"color: #000000; text-decoration-color: #000000\">]</span><span style=\"color: #838383; text-decoration-color: #838383\"> - </span>took: <span style=\"color: #ff00ff; text-decoration-color: #ff00ff\">0.</span>8170s\n",
              "</pre>\n"
            ]
          },
          "metadata": {}
        },
        {
          "output_type": "display_data",
          "data": {
            "text/plain": [
              "\u001b[30m[\u001b[0m\u001b[30m2024-11-08 \u001b[0m\u001b[90m05:29:21.166561\u001b[0m\u001b[30m]\u001b[0m\u001b[30m[\u001b[0m\u001b[1;32mINFO\u001b[0m\u001b[30m]\u001b[0m\u001b[30m[\u001b[0m\u001b[3;34m<ipython-input-10-99b80f46fd99>\u001b[0m\u001b[94m:\u001b[0m\u001b[30m13\u001b[0m\u001b[30m]\u001b[0m\u001b[38;2;131;131;131m - \u001b[0m\u001b[97m[\u001b[0m\u001b[3;92m'prompt'\u001b[0m\u001b[97m]\u001b[0m: \u001b[3;92m'What is an LLM?'\u001b[0m\n"
            ],
            "text/html": [
              "<pre style=\"white-space:pre;overflow-x:auto;line-height:normal;font-family:Menlo,'DejaVu Sans Mono',consolas,'Courier New',monospace\"><span style=\"color: #000000; text-decoration-color: #000000\">[</span><span style=\"color: #000000; text-decoration-color: #000000\">2024-11-08 </span><span style=\"color: #808080; text-decoration-color: #808080\">05:29:21.166561</span><span style=\"color: #000000; text-decoration-color: #000000\">][</span><span style=\"color: #008000; text-decoration-color: #008000; font-weight: bold\">INFO</span><span style=\"color: #000000; text-decoration-color: #000000\">][</span><span style=\"color: #000080; text-decoration-color: #000080; font-style: italic\">&lt;ipython-input-10-99b80f46fd99&gt;</span><span style=\"color: #0000ff; text-decoration-color: #0000ff\">:</span><span style=\"color: #000000; text-decoration-color: #000000\">13</span><span style=\"color: #000000; text-decoration-color: #000000\">]</span><span style=\"color: #838383; text-decoration-color: #838383\"> - </span><span style=\"color: #ffffff; text-decoration-color: #ffffff\">[</span><span style=\"color: #00ff00; text-decoration-color: #00ff00; font-style: italic\">'prompt'</span><span style=\"color: #ffffff; text-decoration-color: #ffffff\">]</span>: <span style=\"color: #00ff00; text-decoration-color: #00ff00; font-style: italic\">'What is an LLM?'</span>\n",
              "</pre>\n"
            ]
          },
          "metadata": {}
        },
        {
          "output_type": "display_data",
          "data": {
            "text/plain": [
              "\u001b[30m[\u001b[0m\u001b[30m2024-11-08 \u001b[0m\u001b[90m05:29:21.169822\u001b[0m\u001b[30m]\u001b[0m\u001b[30m[\u001b[0m\u001b[1;32mINFO\u001b[0m\u001b[30m]\u001b[0m\u001b[30m[\u001b[0m\u001b[3;34m<ipython-input-10-99b80f46fd99>\u001b[0m\u001b[94m:\u001b[0m\u001b[30m14\u001b[0m\u001b[30m]\u001b[0m\u001b[38;2;131;131;131m - \u001b[0m\u001b[97m[\u001b[0m\u001b[3;92m'response'\u001b[0m\u001b[97m]\u001b[0m:\n",
              "\n",
              "What is an LLM?\n",
              "\n",
              "LEONTES:\n",
              "Well the world so the was of the could the words,\n",
              "And that the world the wast of the world shall deserves of the ward.\n",
              "\n",
              "LEONTES:\n",
              "Well, sir, thou should thou see the common to the warl.\n",
              "\n",
              "GLOUCESTER:\n",
              "I would the do the world the world stand the de\n"
            ],
            "text/html": [
              "<pre style=\"white-space:pre;overflow-x:auto;line-height:normal;font-family:Menlo,'DejaVu Sans Mono',consolas,'Courier New',monospace\"><span style=\"color: #000000; text-decoration-color: #000000\">[</span><span style=\"color: #000000; text-decoration-color: #000000\">2024-11-08 </span><span style=\"color: #808080; text-decoration-color: #808080\">05:29:21.169822</span><span style=\"color: #000000; text-decoration-color: #000000\">][</span><span style=\"color: #008000; text-decoration-color: #008000; font-weight: bold\">INFO</span><span style=\"color: #000000; text-decoration-color: #000000\">][</span><span style=\"color: #000080; text-decoration-color: #000080; font-style: italic\">&lt;ipython-input-10-99b80f46fd99&gt;</span><span style=\"color: #0000ff; text-decoration-color: #0000ff\">:</span><span style=\"color: #000000; text-decoration-color: #000000\">14</span><span style=\"color: #000000; text-decoration-color: #000000\">]</span><span style=\"color: #838383; text-decoration-color: #838383\"> - </span><span style=\"color: #ffffff; text-decoration-color: #ffffff\">[</span><span style=\"color: #00ff00; text-decoration-color: #00ff00; font-style: italic\">'response'</span><span style=\"color: #ffffff; text-decoration-color: #ffffff\">]</span>:\n",
              "\n",
              "What is an LLM?\n",
              "\n",
              "LEONTES:\n",
              "Well the world so the was of the could the words,\n",
              "And that the world the wast of the world shall deserves of the ward.\n",
              "\n",
              "LEONTES:\n",
              "Well, sir, thou should thou see the common to the warl.\n",
              "\n",
              "GLOUCESTER:\n",
              "I would the do the world the world stand the de\n",
              "</pre>\n"
            ]
          },
          "metadata": {}
        }
      ],
      "source": [
        "import time\n",
        "\n",
        "query = \"What is an LLM?\"\n",
        "t0 = time.perf_counter()\n",
        "outputs = trainer.evaluate(\n",
        "    query,\n",
        "    num_samples=1,\n",
        "    max_new_tokens=256,\n",
        "    top_k=2,\n",
        "    display=False\n",
        ")\n",
        "log.info(f'took: {time.perf_counter() - t0:.4f}s')\n",
        "log.info(f\"['prompt']: '{query}'\")\n",
        "log.info(\"['response']:\\n\\n\" + fr\"{outputs['0']['raw']}\")"
      ]
    },
    {
      "cell_type": "code",
      "execution_count": null,
      "id": "45437956",
      "metadata": {
        "id": "45437956"
      },
      "outputs": [],
      "source": []
    }
  ],
  "metadata": {
    "accelerator": "GPU",
    "colab": {
      "gpuType": "T4",
      "provenance": [],
      "include_colab_link": true
    },
    "kernelspec": {
      "display_name": "Python 3",
      "name": "python3"
    },
    "language_info": {
      "codemirror_mode": {
        "name": "ipython",
        "version": 3
      },
      "file_extension": ".py",
      "mimetype": "text/x-python",
      "name": "python",
      "nbconvert_exporter": "python",
      "pygments_lexer": "ipython3",
      "version": "3.11.6"
    }
  },
  "nbformat": 4,
  "nbformat_minor": 5
}