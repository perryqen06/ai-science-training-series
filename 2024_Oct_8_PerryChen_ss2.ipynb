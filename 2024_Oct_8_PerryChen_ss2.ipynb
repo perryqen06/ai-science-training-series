{
  "cells": [
    {
      "cell_type": "markdown",
      "metadata": {
        "id": "view-in-github",
        "colab_type": "text"
      },
      "source": [
        "<a href=\"https://colab.research.google.com/github/perryqen06/ai-science-training-series/blob/main/2024_Oct_8_PerryChen_ss2.ipynb\" target=\"_parent\"><img src=\"https://colab.research.google.com/assets/colab-badge.svg\" alt=\"Open In Colab\"/></a>"
      ]
    },
    {
      "cell_type": "code",
      "source": [
        "#            Batch size --- learning rate --- activation function  ---   val. Loss --- val. accuracy\n",
        "#Original:       128           0.05                    ReLU               0.2163            93.47\n",
        "#Batch size:     256           0.05                    ReLU               0.3158            90.74\n",
        "#Learning rate:  128           0.01                    ReLU               0.6877            81.15\n",
        "#Act. Function:  128           0.05                    ELU                0.2428            92.45\n",
        "\n",
        "## Conclusion: the original model has the least loss of function and highest accuracy whereas changine learning rate to 0.01 only compromise\n",
        "## the model significantly.\n"
      ],
      "metadata": {
        "id": "DAR61iAQwnYH"
      },
      "execution_count": null,
      "outputs": []
    },
    {
      "cell_type": "markdown",
      "metadata": {
        "id": "uOi5BHOddncz"
      },
      "source": [
        "# Original **Introduction to Neural Networks**\n",
        "Author: Marieme Ngom, adapting materials from Bethany Lusch, Asad Khan, Prasanna Balaprakash, Taylor Childers, Corey Adams, Kyle Felker, and Tanwi Mallick.\n"
      ]
    },
    {
      "cell_type": "code",
      "execution_count": null,
      "metadata": {
        "id": "U2KIX3Dgdnc2"
      },
      "outputs": [],
      "source": [
        "%matplotlib inline\n",
        "\n",
        "import torch\n",
        "import torchvision\n",
        "from torch import nn\n",
        "\n",
        "import numpy\n",
        "import matplotlib.pyplot as plt\n",
        "import time"
      ]
    },
    {
      "cell_type": "code",
      "execution_count": null,
      "metadata": {
        "id": "gMu6TQLSdnc4",
        "colab": {
          "base_uri": "https://localhost:8080/"
        },
        "outputId": "ac9681e3-a77a-48b3-f9ec-3f5b56703f07"
      },
      "outputs": [
        {
          "output_type": "stream",
          "name": "stdout",
          "text": [
            "Downloading http://yann.lecun.com/exdb/mnist/train-images-idx3-ubyte.gz\n",
            "Failed to download (trying next):\n",
            "HTTP Error 403: Forbidden\n",
            "\n",
            "Downloading https://ossci-datasets.s3.amazonaws.com/mnist/train-images-idx3-ubyte.gz\n",
            "Downloading https://ossci-datasets.s3.amazonaws.com/mnist/train-images-idx3-ubyte.gz to data/MNIST/raw/train-images-idx3-ubyte.gz\n"
          ]
        },
        {
          "output_type": "stream",
          "name": "stderr",
          "text": [
            "100%|██████████| 9912422/9912422 [00:01<00:00, 6237375.25it/s]\n"
          ]
        },
        {
          "output_type": "stream",
          "name": "stdout",
          "text": [
            "Extracting data/MNIST/raw/train-images-idx3-ubyte.gz to data/MNIST/raw\n",
            "\n",
            "Downloading http://yann.lecun.com/exdb/mnist/train-labels-idx1-ubyte.gz\n",
            "Failed to download (trying next):\n",
            "HTTP Error 403: Forbidden\n",
            "\n",
            "Downloading https://ossci-datasets.s3.amazonaws.com/mnist/train-labels-idx1-ubyte.gz\n",
            "Downloading https://ossci-datasets.s3.amazonaws.com/mnist/train-labels-idx1-ubyte.gz to data/MNIST/raw/train-labels-idx1-ubyte.gz\n"
          ]
        },
        {
          "output_type": "stream",
          "name": "stderr",
          "text": [
            "100%|██████████| 28881/28881 [00:00<00:00, 1063405.35it/s]\n"
          ]
        },
        {
          "output_type": "stream",
          "name": "stdout",
          "text": [
            "Extracting data/MNIST/raw/train-labels-idx1-ubyte.gz to data/MNIST/raw\n",
            "\n",
            "Downloading http://yann.lecun.com/exdb/mnist/t10k-images-idx3-ubyte.gz\n",
            "Failed to download (trying next):\n",
            "HTTP Error 403: Forbidden\n",
            "\n",
            "Downloading https://ossci-datasets.s3.amazonaws.com/mnist/t10k-images-idx3-ubyte.gz\n",
            "Downloading https://ossci-datasets.s3.amazonaws.com/mnist/t10k-images-idx3-ubyte.gz to data/MNIST/raw/t10k-images-idx3-ubyte.gz\n"
          ]
        },
        {
          "output_type": "stream",
          "name": "stderr",
          "text": [
            "100%|██████████| 1648877/1648877 [00:00<00:00, 9321261.59it/s]\n"
          ]
        },
        {
          "output_type": "stream",
          "name": "stdout",
          "text": [
            "Extracting data/MNIST/raw/t10k-images-idx3-ubyte.gz to data/MNIST/raw\n",
            "\n",
            "Downloading http://yann.lecun.com/exdb/mnist/t10k-labels-idx1-ubyte.gz\n",
            "Failed to download (trying next):\n",
            "HTTP Error 403: Forbidden\n",
            "\n",
            "Downloading https://ossci-datasets.s3.amazonaws.com/mnist/t10k-labels-idx1-ubyte.gz\n",
            "Downloading https://ossci-datasets.s3.amazonaws.com/mnist/t10k-labels-idx1-ubyte.gz to data/MNIST/raw/t10k-labels-idx1-ubyte.gz\n"
          ]
        },
        {
          "output_type": "stream",
          "name": "stderr",
          "text": [
            "100%|██████████| 4542/4542 [00:00<00:00, 7538792.55it/s]\n"
          ]
        },
        {
          "output_type": "stream",
          "name": "stdout",
          "text": [
            "Extracting data/MNIST/raw/t10k-labels-idx1-ubyte.gz to data/MNIST/raw\n",
            "\n"
          ]
        }
      ],
      "source": [
        "training_data = torchvision.datasets.MNIST(\n",
        "    root=\"data\",\n",
        "    train=True,\n",
        "    download=True,\n",
        "    transform=torchvision.transforms.ToTensor()\n",
        ")\n",
        "\n",
        "test_data = torchvision.datasets.MNIST(\n",
        "    root=\"data\",\n",
        "    train=False,\n",
        "    download=True,\n",
        "    transform=torchvision.transforms.ToTensor()\n",
        ")"
      ]
    },
    {
      "cell_type": "code",
      "execution_count": null,
      "metadata": {
        "id": "-vSw8djtdnc4"
      },
      "outputs": [],
      "source": [
        "train_size = int(0.8 * len(training_data))  # 80% for training\n",
        "val_size = len(training_data) - train_size  # Remaining 20% for validation\n",
        "training_data, validation_data = torch.utils.data.random_split(training_data, [train_size, val_size], generator=torch.Generator().manual_seed(55))"
      ]
    },
    {
      "cell_type": "code",
      "execution_count": null,
      "metadata": {
        "id": "pHfpu5uddnc4",
        "colab": {
          "base_uri": "https://localhost:8080/"
        },
        "outputId": "1e4d8b35-3a0c-4875-c96a-c3f042705ce0"
      },
      "outputs": [
        {
          "output_type": "stream",
          "name": "stdout",
          "text": [
            "MNIST data loaded: train: 48000  examples, validation:  12000 examples, test: 10000 examples\n",
            "Input shape torch.Size([1, 28, 28])\n"
          ]
        }
      ],
      "source": [
        "print('MNIST data loaded: train:',len(training_data),' examples, validation: ', len(validation_data), 'examples, test:',len(test_data), 'examples')\n",
        "print('Input shape', training_data[0][0].shape)"
      ]
    },
    {
      "cell_type": "markdown",
      "metadata": {
        "id": "JDYxZJ-udnc4"
      },
      "source": [
        "Let's take a closer look. Here are the first 10 training digits:"
      ]
    },
    {
      "cell_type": "code",
      "execution_count": null,
      "metadata": {
        "id": "vwVjZSV-dnc5",
        "colab": {
          "base_uri": "https://localhost:8080/",
          "height": 125
        },
        "outputId": "c2e4caf3-1daf-4705-87f2-48febffb76db"
      },
      "outputs": [
        {
          "output_type": "display_data",
          "data": {
            "text/plain": [
              "<Figure size 1000x100 with 10 Axes>"
            ],
            "image/png": "[encoded data removed]"
          },
          "metadata": {}
        }
      ],
      "source": [
        "pltsize=1\n",
        "plt.figure(figsize=(10*pltsize, pltsize))\n",
        "\n",
        "for i in range(10):\n",
        "    plt.subplot(1,10,i+1)\n",
        "    plt.axis('off')\n",
        "    plt.imshow(numpy.reshape(training_data[i][0], (28, 28)), cmap=\"gray\")\n",
        "    plt.title('Class: '+str(training_data[i][1]))"
      ]
    },
    {
      "cell_type": "markdown",
      "metadata": {
        "id": "o8lUtiSjdnc7"
      },
      "source": [
        "# Linear Model\n",
        "Let's begin with a simple linear model: linear regression, like last week.\n",
        "We add one complication: each example is a vector (flattened image), so the \"slope\" multiplication becomes a dot product. If the target output is a vector as well, then the multiplication becomes matrix multiplication.\n",
        "\n",
        "Note, like before, we consider multiple examples at once, adding another dimension to the input.\n",
        "\n",
        "\n",
        " <img src=\"https://github.com/argonne-lcf/ai-science-training-series/blob/main/02_intro_neural_networks/images/LinearModel_1.png?raw=1\"  align=\"center\"/>\n",
        "\n",
        "\n",
        "\n",
        "The linear layers in PyTorch perform a basic $xW + b$. These \"fully connected\" layers connect each input to each output with some weight parameter. We wouldn't expect a simple linear model $f(x) = xW+b$ directly outputting the class label and minimizing mean squared error to work well - the model would output labels like 3.55 and 2.11 instead of skipping to integers."
      ]
    },
    {
      "cell_type": "markdown",
      "metadata": {
        "id": "Tt0S8sXhdnc8"
      },
      "source": [
        "We now need:\n",
        "- A loss function $J(\\theta)$ where $\\theta$ is the list of parameters (here W and b). Last week, we used mean squared error (MSE), but this week let's make two changes that make more sense for classification:\n",
        "    - Change the output to be a length-10 vector of class probabilities (0 to 1, adding to 1).\n",
        "    - Cross entropy as the loss function, which is typical for classification. You can read more [here](https://gombru.github.io/2018/05/23/cross_entropy_loss/).\n",
        "\n",
        "- An optimization method or optimizer such as the stochastic gradient descent (sgd) method, the Adam optimizer, RMSprop, Adagrad etc. Let's start with stochastic gradient descent (sgd), like last week. For far more information about more advanced optimizers than basic SGD, with some cool animations, see https://ruder.io/optimizing-gradient-descent/ or https://distill.pub/2017/momentum/.\n",
        "\n",
        "- A learning rate. As we learned last week, the learning rate controls how far we move during each step."
      ]
    },
    {
      "cell_type": "code",
      "execution_count": null,
      "metadata": {
        "id": "42M-vIYWdnc8"
      },
      "outputs": [],
      "source": [
        "class LinearClassifier(nn.Module):\n",
        "\n",
        "    def __init__(self):\n",
        "        super().__init__()\n",
        "\n",
        "        # First, we need to convert the input image to a vector by using\n",
        "        # nn.Flatten(). For MNIST, it means the second dimension 28*28 becomes 784.\n",
        "        self.flatten = nn.Flatten()\n",
        "\n",
        "        # Here, we add a fully connected (\"dense\") layer that has 28 x 28 = 784 input nodes\n",
        "        #(one for each pixel in the input image) and 10 output nodes (for probabilities of each class).\n",
        "        self.layer_1 = nn.Linear(28*28, 10)\n",
        "\n",
        "    def forward(self, x):\n",
        "\n",
        "        x = self.flatten(x)\n",
        "        x = self.layer_1(x)\n",
        "\n",
        "        return x"
      ]
    },
    {
      "cell_type": "code",
      "execution_count": null,
      "metadata": {
        "id": "MZh2hu9Hdnc8",
        "colab": {
          "base_uri": "https://localhost:8080/"
        },
        "outputId": "97cefddf-3777-4956-9a23-b6e5b24ae28e"
      },
      "outputs": [
        {
          "output_type": "stream",
          "name": "stdout",
          "text": [
            "LinearClassifier(\n",
            "  (flatten): Flatten(start_dim=1, end_dim=-1)\n",
            "  (layer_1): Linear(in_features=784, out_features=10, bias=True)\n",
            ")\n"
          ]
        }
      ],
      "source": [
        "linear_model = LinearClassifier()\n",
        "print(linear_model)\n",
        "\n",
        "loss_fn = nn.CrossEntropyLoss()\n",
        "optimizer = torch.optim.SGD(linear_model.parameters(), lr=0.05)"
      ]
    },
    {
      "cell_type": "markdown",
      "metadata": {
        "id": "C2YVCqiUdnc9"
      },
      "source": [
        "# Learning\n",
        "Now we are ready to train our first model. A training step is comprised of:\n",
        "- A forward pass: the input is passed through the network\n",
        "- Backpropagation: A backward pass to compute the gradient $\\frac{\\partial J}{\\partial \\mathbf{W}}$ of the loss function with respect to the parameters of the network.\n",
        "- Weight updates $\\mathbf{W} = \\mathbf{W} - \\alpha \\frac{\\partial J}{\\partial \\mathbf{W}} $ where $\\alpha$ is the learning rate.\n",
        "\n",
        "How many steps do we take?\n",
        "- The batch size corresponds to the number of training examples in one pass (forward + backward). A smaller batch size allows the model to learn from individual examples but takes longer to train. A larger batch size requires fewer steps but may result in the model not capturing the nuances in the data. The higher the batch size, the more memory you will require.  \n",
        "- An epoch means one pass through the whole training data (looping over the batches). Using few epochs can lead to underfitting and using too many can lead to overfitting.\n",
        "- The choice of batch size and learning rate are important for performance, generalization and accuracy in deep learning.\n",
        "\n",
        "\n",
        "\n",
        "\n"
      ]
    },
    {
      "cell_type": "code",
      "execution_count": null,
      "metadata": {
        "id": "wfphDz8Idnc9"
      },
      "outputs": [],
      "source": [
        "batch_size = 128\n",
        "\n",
        "# The dataloader makes our dataset iterable\n",
        "train_dataloader = torch.utils.data.DataLoader(training_data, batch_size=batch_size)\n",
        "val_dataloader = torch.utils.data.DataLoader(validation_data, batch_size=batch_size)"
      ]
    },
    {
      "cell_type": "code",
      "execution_count": null,
      "metadata": {
        "id": "Nyz8mIT_dnc9"
      },
      "outputs": [],
      "source": [
        "def train_one_epoch(dataloader, model, loss_fn, optimizer):\n",
        "    model.train()\n",
        "    for batch, (X, y) in enumerate(dataloader):\n",
        "        # forward pass\n",
        "        pred = model(X)\n",
        "        loss = loss_fn(pred, y)\n",
        "\n",
        "        # backward pass calculates gradients\n",
        "        loss.backward()\n",
        "\n",
        "        # take one step with these gradients\n",
        "        optimizer.step()\n",
        "\n",
        "        # resets the gradients\n",
        "        optimizer.zero_grad()"
      ]
    },
    {
      "cell_type": "code",
      "execution_count": null,
      "metadata": {
        "id": "63kAxTFMdnc9"
      },
      "outputs": [],
      "source": [
        "def evaluate(dataloader, model, loss_fn):\n",
        "    # Set the model to evaluation mode - some NN pieces behave differently during training\n",
        "    # Unnecessary in this situation but added for best practices\n",
        "    model.eval()\n",
        "    size = len(dataloader.dataset)\n",
        "    num_batches = len(dataloader)\n",
        "    loss, correct = 0, 0\n",
        "\n",
        "    # We can save computation and memory by not calculating gradients here - we aren't optimizing\n",
        "    with torch.no_grad():\n",
        "        # loop over all of the batches\n",
        "        for X, y in dataloader:\n",
        "            pred = model(X)\n",
        "            loss += loss_fn(pred, y).item()\n",
        "            # how many are correct in this batch? Tracking for accuracy\n",
        "            correct += (pred.argmax(1) == y).type(torch.float).sum().item()\n",
        "\n",
        "    loss /= num_batches\n",
        "    correct /= size\n",
        "\n",
        "    accuracy = 100*correct\n",
        "    return accuracy, loss"
      ]
    },
    {
      "cell_type": "code",
      "execution_count": null,
      "metadata": {
        "id": "RsW05iV1dnc-",
        "colab": {
          "base_uri": "https://localhost:8080/"
        },
        "outputId": "748b98c7-cee2-46fa-df8e-410e09554685"
      },
      "outputs": [
        {
          "output_type": "stream",
          "name": "stdout",
          "text": [
            "Epoch 0: training loss: 0.5017600514888764, accuracy: 87.67083333333333\n",
            "Epoch 0: val. loss: 0.49395205460964364, val. accuracy: 87.70833333333333\n",
            "Epoch 1: training loss: 0.42148773463567096, accuracy: 88.98958333333333\n",
            "Epoch 1: val. loss: 0.4121171492845454, val. accuracy: 88.9\n",
            "Epoch 2: training loss: 0.38759415539105735, accuracy: 89.66458333333334\n",
            "Epoch 2: val. loss: 0.37768000427712783, val. accuracy: 89.5\n",
            "Epoch 3: training loss: 0.36766598467032113, accuracy: 90.12291666666667\n",
            "Epoch 3: val. loss: 0.3575907241790853, val. accuracy: 89.85833333333333\n",
            "Epoch 4: training loss: 0.3541034430265427, accuracy: 90.425\n",
            "Epoch 4: val. loss: 0.34404782316786175, val. accuracy: 90.20833333333333\n",
            "CPU times: user 1min 13s, sys: 93.7 ms, total: 1min 14s\n",
            "Wall time: 1min 15s\n"
          ]
        }
      ],
      "source": [
        "%%time\n",
        "\n",
        "epochs = 5\n",
        "train_acc_all = []\n",
        "val_acc_all = []\n",
        "for j in range(epochs):\n",
        "    train_one_epoch(train_dataloader, linear_model, loss_fn, optimizer)\n",
        "\n",
        "    # checking on the training loss and accuracy once per epoch\n",
        "    acc, loss = evaluate(train_dataloader, linear_model, loss_fn)\n",
        "    train_acc_all.append(acc)\n",
        "    print(f\"Epoch {j}: training loss: {loss}, accuracy: {acc}\")\n",
        "\n",
        "    # checking on the validation loss and accuracy once per epoch\n",
        "    val_acc, val_loss = evaluate(val_dataloader, linear_model, loss_fn)\n",
        "    val_acc_all.append(val_acc)\n",
        "    print(f\"Epoch {j}: val. loss: {val_loss}, val. accuracy: {val_acc}\")"
      ]
    },
    {
      "cell_type": "code",
      "execution_count": null,
      "metadata": {
        "id": "lVbuXxrNdnc-",
        "colab": {
          "base_uri": "https://localhost:8080/",
          "height": 868
        },
        "outputId": "c5112084-cd4e-4130-a57f-5b983bb79b54"
      },
      "outputs": [
        {
          "output_type": "execute_result",
          "data": {
            "text/plain": [
              "<matplotlib.legend.Legend at 0x7fb09c08af50>"
            ]
          },
          "metadata": {},
          "execution_count": 16
        },
        {
          "output_type": "display_data",
          "data": {
            "text/plain": [
              "<Figure size 1000x1000 with 1 Axes>"
            ],
            "image/png": "[encoded data removed]"
          },
          "metadata": {}
        }
      ],
      "source": [
        "pltsize=1\n",
        "plt.figure(figsize=(10*pltsize, 10 * pltsize))\n",
        "plt.plot(range(epochs), train_acc_all,label = 'Training Acc.' )\n",
        "plt.plot(range(epochs), val_acc_all, label = 'Validation Acc.' )\n",
        "plt.xlabel('Epoch #')\n",
        "plt.ylabel('Loss')\n",
        "plt.legend()"
      ]
    },
    {
      "cell_type": "code",
      "execution_count": null,
      "metadata": {
        "id": "IU-C0UxGdnc-",
        "colab": {
          "base_uri": "https://localhost:8080/",
          "height": 125
        },
        "outputId": "b5a54d7a-58fd-49cc-9182-2985af759540"
      },
      "outputs": [
        {
          "output_type": "display_data",
          "data": {
            "text/plain": [
              "<Figure size 1000x100 with 10 Axes>"
            ],
            "image/png": "[encoded data removed]"
          },
          "metadata": {}
        }
      ],
      "source": [
        "# Visualize how the model is doing on the first 10 examples\n",
        "pltsize=1\n",
        "plt.figure(figsize=(10*pltsize, pltsize))\n",
        "linear_model.eval()\n",
        "batch = next(iter(train_dataloader))\n",
        "predictions = linear_model(batch[0])\n",
        "\n",
        "for i in range(10):\n",
        "    plt.subplot(1,10,i+1)\n",
        "    plt.axis('off')\n",
        "    plt.imshow(batch[0][i,0,:,:], cmap=\"gray\")\n",
        "    plt.title('%d' % predictions[i,:].argmax())"
      ]
    },
    {
      "cell_type": "markdown",
      "metadata": {
        "id": "KWD6zTMHdnc_"
      },
      "source": [
        "Exercise: How can you improve the accuracy? Some things you might consider: increasing the number of epochs, changing the learning rate, etc."
      ]
    },
    {
      "cell_type": "markdown",
      "metadata": {
        "id": "jhnMRVgfdnc_"
      },
      "source": [
        "# Prediction\n",
        "\n",
        "Let's see how our model generalizes to the unseen test data.\n",
        "\n"
      ]
    },
    {
      "cell_type": "code",
      "execution_count": null,
      "metadata": {
        "id": "fZejs70hdnc_"
      },
      "outputs": [],
      "source": [
        "#create dataloader for test data\n",
        "# The dataloader makes our dataset iterable\n",
        "batch_size_test = 256\n",
        "test_dataloader = torch.utils.data.DataLoader(test_data, batch_size=batch_size_test)"
      ]
    },
    {
      "cell_type": "code",
      "execution_count": null,
      "metadata": {
        "id": "vSZqJan1dnc_"
      },
      "outputs": [],
      "source": [
        "acc_test, loss_test = evaluate(test_dataloader, linear_model, loss_fn)\n",
        "print(\"Test loss: %.4f, test accuracy: %.2f%%\" % (loss_test, acc_test))"
      ]
    },
    {
      "cell_type": "markdown",
      "metadata": {
        "id": "BBuEZBGCdnc_"
      },
      "source": [
        "We can now take a closer look at the results.\n",
        "\n",
        "Let's define a helper function to show the failure cases of our classifier."
      ]
    },
    {
      "cell_type": "code",
      "execution_count": null,
      "metadata": {
        "id": "m712VMNvdnc_"
      },
      "outputs": [],
      "source": [
        "def show_failures(model, dataloader, maxtoshow=10):\n",
        "    model.eval()\n",
        "    batch = next(iter(dataloader))\n",
        "    predictions = model(batch[0])\n",
        "\n",
        "    rounded = predictions.argmax(1)\n",
        "    errors = rounded!=batch[1]\n",
        "    print('Showing max', maxtoshow, 'first failures. '\n",
        "          'The predicted class is shown first and the correct class in parentheses.')\n",
        "    ii = 0\n",
        "    plt.figure(figsize=(maxtoshow, 1))\n",
        "    for i in range(batch[0].shape[0]):\n",
        "        if ii>=maxtoshow:\n",
        "            break\n",
        "        if errors[i]:\n",
        "            plt.subplot(1, maxtoshow, ii+1)\n",
        "            plt.axis('off')\n",
        "            plt.imshow(batch[0][i,0,:,:], cmap=\"gray\")\n",
        "            plt.title(\"%d (%d)\" % (rounded[i], batch[1][i]))\n",
        "            ii = ii + 1"
      ]
    },
    {
      "cell_type": "markdown",
      "metadata": {
        "id": "gntEKfIxdndA"
      },
      "source": [
        "Here are the first 10 images from the test data that this small model classified to a wrong class:\n",
        "\n"
      ]
    },
    {
      "cell_type": "code",
      "execution_count": null,
      "metadata": {
        "id": "AN7CmcibdndA",
        "colab": {
          "base_uri": "https://localhost:8080/",
          "height": 143
        },
        "outputId": "ccca8500-4030-4d80-a12b-f0004cd8cfeb"
      },
      "outputs": [
        {
          "output_type": "stream",
          "name": "stdout",
          "text": [
            "Showing max 10 first failures. The predicted class is shown first and the correct class in parentheses.\n"
          ]
        },
        {
          "output_type": "display_data",
          "data": {
            "text/plain": [
              "<Figure size 1000x100 with 10 Axes>"
            ],
            "image/png": "[encoded data removed]"
          },
          "metadata": {}
        }
      ],
      "source": [
        "show_failures(linear_model, test_dataloader)"
      ]
    },
    {
      "cell_type": "markdown",
      "metadata": {
        "id": "MINqtgdSdndA"
      },
      "source": [
        "<!-- # Exercise:\n",
        "- Try changing the loss function,\n",
        "- Try changing the optimizer -->"
      ]
    },
    {
      "cell_type": "markdown",
      "metadata": {
        "id": "NkybUqqCdndA"
      },
      "source": [
        "# Multilayer Model\n",
        "Our linear model isn't enough for high accuracy on this dataset. To improve the model, we often need to add more layers and nonlinearities.\n",
        "<img src=\"https://github.com/argonne-lcf/ai-science-training-series/blob/main/02_intro_neural_networks/images/shallow_nn.png?raw=1\"  align=\"left\"/>\n",
        "\n",
        "The output of this NN can be written as\n",
        "\\begin{equation}\\label{eq: NN1d}\n",
        "  \\hat{u}(x) = \\sigma_2(\\sigma_1(\\mathbf{x}\\mathbf{W}_1 + \\mathbf{b}_1)\\mathbf{W}_2 + \\mathbf{b}_2),\n",
        "\\end{equation}\n",
        "where $\\mathbf{x}$ is the input, $\\mathbf{W}_j$ are the weights of the neural network, $\\sigma_j$ the (nonlinear) activation functions, and $\\mathbf{b}_j$ its biases. The activation function introduces the nonlinearity and makes it possible to learn more complex tasks. Desirable properties in an activation function include being differentiable, bounded, and monotonic.\n",
        "\n",
        "\n",
        "Image source: [PragatiBaheti](https://www.v7labs.com/blog/neural-networks-activation-functions)\n",
        "<img src=\"https://github.com/argonne-lcf/ai-science-training-series/blob/main/02_intro_neural_networks/images/activation.jpeg?raw=1\"  align=\"center\"/>\n",
        "\n",
        "Adding more layers to obtain a deep neural network:\n",
        "<img src=\"https://github.com/argonne-lcf/ai-science-training-series/blob/main/02_intro_neural_networks/images/deep_nn_annotated.jpg?raw=1\"  align=\"left\"/>\n",
        "\n",
        "\n",
        "\n",
        "# Important things to know\n",
        "Deep Neural networks can be overly flexible/complicated and \"overfit\" your data, just like fitting overly complicated polynomials:\n",
        "<img src=\"https://github.com/argonne-lcf/ai-science-training-series/blob/main/02_intro_neural_networks/images/bias_vs_variance.png?raw=1\"  align=\"left\"/>\n",
        "\n",
        "\n",
        "Vizualization wrt to the accuracy and loss (Image source: [Baeldung](https://www.baeldung.com/cs/ml-underfitting-overfitting)):\n",
        "<img src=\"https://github.com/argonne-lcf/ai-science-training-series/blob/main/02_intro_neural_networks/images/acc_under_over.webp?raw=1\"  align=\"center\"/>\n",
        "\n",
        "\n",
        "To improve the generalization of our model on previously unseen data, we employ a technique known as regularization, which constrains our optimization problem in order to discourage complex models.\n",
        "\n",
        "  - Dropout is the commonly used regularization technique. The Dropout layer randomly sets input units to 0 with a frequency of rate at each step during training time, which helps prevent overfitting.\n",
        "  - Penalizing the loss function by adding a term such as $\\lambda ||\\mathbf{W}||^2$ is alsp a commonly used regularization technique. This helps \"control\" the magnitude of the weights of the network.\n",
        "    \n",
        "Vanishing gradients: Gradients become small as they propagate backward through the layers. Squashing activation functions like sigmoid or tanh could cause this.\n",
        "\n",
        "Exploding gradients: Gradients grow exponentially usually due to \"poor\" weight initialization.\n",
        "\n",
        "<!--  <img src=\"images/test_data_rule.png\" width=\"800\" hight=\"500\" align=\"center\"/>\n",
        "  -->"
      ]
    },
    {
      "cell_type": "markdown",
      "metadata": {
        "id": "dcXQNIl-dndB"
      },
      "source": [
        "We can now implement a deep network in PyTorch. nn.Dropout() performs the Dropout operation mentioned earlier"
      ]
    },
    {
      "cell_type": "code",
      "execution_count": null,
      "metadata": {
        "id": "WgOSr_cidndB"
      },
      "outputs": [],
      "source": [
        "class NonlinearClassifier(nn.Module):\n",
        "\n",
        "    def __init__(self):\n",
        "        super().__init__()\n",
        "        self.flatten = nn.Flatten()\n",
        "        self.layers_stack = nn.Sequential(\n",
        "            nn.Linear(28*28, 50),\n",
        "            nn.ReLU(),\n",
        "            nn.Dropout(0.2),\n",
        "            nn.Linear(50, 50),\n",
        "            nn.ReLU(),\n",
        "           # nn.Dropout(0.2),\n",
        "            nn.Linear(50, 50),\n",
        "            nn.ReLU(),\n",
        "           # nn.Dropout(0.2),\n",
        "            nn.Linear(50, 10)\n",
        "        )\n",
        "\n",
        "    def forward(self, x):\n",
        "        x = self.flatten(x)\n",
        "        x = self.layers_stack(x)\n",
        "\n",
        "        return x"
      ]
    },
    {
      "cell_type": "code",
      "execution_count": null,
      "metadata": {
        "id": "mVnCkMaYdndB"
      },
      "outputs": [],
      "source": [
        "nonlinear_model = NonlinearClassifier()\n",
        "loss_fn = nn.CrossEntropyLoss()\n",
        "optimizer = torch.optim.SGD(nonlinear_model.parameters(), lr=0.05)"
      ]
    },
    {
      "cell_type": "code",
      "execution_count": null,
      "metadata": {
        "id": "xl84T8uDdndB",
        "colab": {
          "base_uri": "https://localhost:8080/"
        },
        "outputId": "a49245c2-c00b-4b61-b9ad-e8fc67c43800"
      },
      "outputs": [
        {
          "output_type": "stream",
          "name": "stdout",
          "text": [
            "Epoch 0: training loss: 0.7219207402865092, accuracy: 78.38958333333333\n",
            "Epoch 0: val. loss: 0.713258149141961, val. accuracy: 78.29166666666667\n",
            "Epoch 1: training loss: 0.3814277653694153, accuracy: 89.08541666666666\n",
            "Epoch 1: val. loss: 0.3737065738185923, val. accuracy: 89.20833333333333\n",
            "Epoch 2: training loss: 0.3059046631654104, accuracy: 91.14583333333334\n",
            "Epoch 2: val. loss: 0.29855954139790636, val. accuracy: 91.14166666666667\n",
            "Epoch 3: training loss: 0.2507135619918505, accuracy: 92.72500000000001\n",
            "Epoch 3: val. loss: 0.24639348709519873, val. accuracy: 92.75\n",
            "Epoch 4: training loss: 0.21779268860816955, accuracy: 93.61041666666667\n",
            "Epoch 4: val. loss: 0.21636295738689443, val. accuracy: 93.46666666666667\n",
            "CPU times: user 1min 15s, sys: 56.1 ms, total: 1min 15s\n",
            "Wall time: 1min 16s\n"
          ]
        }
      ],
      "source": [
        "%%time\n",
        "\n",
        "epochs = 5\n",
        "train_acc_all = []\n",
        "val_acc_all = []\n",
        "for j in range(epochs):\n",
        "    train_one_epoch(train_dataloader, nonlinear_model, loss_fn, optimizer)\n",
        "\n",
        "    # checking on the training loss and accuracy once per epoch\n",
        "    acc, loss = evaluate(train_dataloader, nonlinear_model, loss_fn)\n",
        "    train_acc_all.append(acc)\n",
        "    print(f\"Epoch {j}: training loss: {loss}, accuracy: {acc}\")\n",
        "\n",
        "    # checking on the validation loss and accuracy once per epoch\n",
        "    val_acc, val_loss = evaluate(val_dataloader, nonlinear_model, loss_fn)\n",
        "    val_acc_all.append(val_acc)\n",
        "    print(f\"Epoch {j}: val. loss: {val_loss}, val. accuracy: {val_acc}\")"
      ]
    },
    {
      "cell_type": "code",
      "execution_count": null,
      "metadata": {
        "id": "JSyWpiCMdndB",
        "colab": {
          "base_uri": "https://localhost:8080/",
          "height": 868
        },
        "outputId": "eb789e6f-ff59-4d7f-c0b7-67e40aa69d96"
      },
      "outputs": [
        {
          "output_type": "execute_result",
          "data": {
            "text/plain": [
              "<matplotlib.legend.Legend at 0x7fb099b94f40>"
            ]
          },
          "metadata": {},
          "execution_count": 24
        },
        {
          "output_type": "display_data",
          "data": {
            "text/plain": [
              "<Figure size 1000x1000 with 1 Axes>"
            ],
            "image/png": "[encoded data removed]"
          },
          "metadata": {}
        }
      ],
      "source": [
        "pltsize=1\n",
        "plt.figure(figsize=(10*pltsize, 10 * pltsize))\n",
        "plt.plot(range(epochs), train_acc_all,label = 'Training Acc.' )\n",
        "plt.plot(range(epochs), val_acc_all, label = 'Validation Acc.' )\n",
        "plt.xlabel('Epoch #')\n",
        "plt.ylabel('Loss')\n",
        "plt.legend()"
      ]
    },
    {
      "cell_type": "code",
      "execution_count": null,
      "metadata": {
        "id": "bxcSkpbtdndC",
        "colab": {
          "base_uri": "https://localhost:8080/",
          "height": 143
        },
        "outputId": "6eda607f-3636-45bb-d993-0e66e70df2ba"
      },
      "outputs": [
        {
          "output_type": "stream",
          "name": "stdout",
          "text": [
            "Showing max 10 first failures. The predicted class is shown first and the correct class in parentheses.\n"
          ]
        },
        {
          "output_type": "display_data",
          "data": {
            "text/plain": [
              "<Figure size 1000x100 with 10 Axes>"
            ],
            "image/png": "[encoded data removed]"
          },
          "metadata": {}
        }
      ],
      "source": [
        "show_failures(nonlinear_model, test_dataloader)"
      ]
    },
    {
      "cell_type": "markdown",
      "metadata": {
        "id": "CdT0E-b3dndC"
      },
      "source": [
        "# Recap\n",
        "To train and validate a neural network model, you need:\n",
        "- Data split into training/validation/test sets,\n",
        "- A model with parameters to learn,\n",
        "- An appropriate loss function,\n",
        "- An optimizer (with tunable parameters such as learning rate, weight decay etc.) used to learn the parameters of the model.\n"
      ]
    },
    {
      "cell_type": "markdown",
      "metadata": {
        "id": "YuIfh2GcdndC"
      },
      "source": [
        "# Homework"
      ]
    },
    {
      "cell_type": "markdown",
      "metadata": {
        "id": "UWIHE2H8dndD"
      },
      "source": [
        "1. Compare the quality of your model when using different:\n",
        " - batch sizes,\n",
        " - learning rates,\n",
        " - activation functions.\n",
        "\n",
        "3. Bonus: What is a learning rate scheduler?\n",
        "\n",
        "If you have time, experiment with how to improve the model. Note: training and validation data can be used to compare models, but test data should be saved until the end as a final check of generalization."
      ]
    },
    {
      "cell_type": "code",
      "execution_count": null,
      "metadata": {
        "id": "2-VEboirr7aT"
      },
      "outputs": [],
      "source": []
    },
    {
      "cell_type": "code",
      "execution_count": null,
      "metadata": {
        "id": "LbboMPBMdndD"
      },
      "outputs": [],
      "source": []
    },
    {
      "cell_type": "markdown",
      "metadata": {
        "id": "4DRx7csX1ZWT"
      },
      "source": [
        "# \"**Change Batch size**\"\n"
      ]
    },
    {
      "cell_type": "code",
      "execution_count": null,
      "metadata": {
        "id": "J0pXyBF71ZWV"
      },
      "outputs": [],
      "source": [
        "%matplotlib inline\n",
        "\n",
        "import torch\n",
        "import torchvision\n",
        "from torch import nn\n",
        "\n",
        "import numpy\n",
        "import matplotlib.pyplot as plt\n",
        "import time"
      ]
    },
    {
      "cell_type": "code",
      "execution_count": null,
      "metadata": {
        "colab": {
          "base_uri": "https://localhost:8080/"
        },
        "outputId": "76104c8c-a078-43a8-8b81-0a76dcbd5ab6",
        "collapsed": true,
        "id": "04G7PnU91ZWV"
      },
      "outputs": [
        {
          "output_type": "stream",
          "name": "stdout",
          "text": [
            "Downloading http://yann.lecun.com/exdb/mnist/train-images-idx3-ubyte.gz\n",
            "Failed to download (trying next):\n",
            "HTTP Error 403: Forbidden\n",
            "\n",
            "Downloading https://ossci-datasets.s3.amazonaws.com/mnist/train-images-idx3-ubyte.gz\n",
            "Downloading https://ossci-datasets.s3.amazonaws.com/mnist/train-images-idx3-ubyte.gz to data/MNIST/raw/train-images-idx3-ubyte.gz\n"
          ]
        },
        {
          "output_type": "stream",
          "name": "stderr",
          "text": [
            "100%|██████████| 9912422/9912422 [00:00<00:00, 20162133.88it/s]\n"
          ]
        },
        {
          "output_type": "stream",
          "name": "stdout",
          "text": [
            "Extracting data/MNIST/raw/train-images-idx3-ubyte.gz to data/MNIST/raw\n",
            "\n",
            "Downloading http://yann.lecun.com/exdb/mnist/train-labels-idx1-ubyte.gz\n",
            "Failed to download (trying next):\n",
            "HTTP Error 403: Forbidden\n",
            "\n",
            "Downloading https://ossci-datasets.s3.amazonaws.com/mnist/train-labels-idx1-ubyte.gz\n",
            "Downloading https://ossci-datasets.s3.amazonaws.com/mnist/train-labels-idx1-ubyte.gz to data/MNIST/raw/train-labels-idx1-ubyte.gz\n"
          ]
        },
        {
          "output_type": "stream",
          "name": "stderr",
          "text": [
            "100%|██████████| 28881/28881 [00:00<00:00, 613516.14it/s]\n"
          ]
        },
        {
          "output_type": "stream",
          "name": "stdout",
          "text": [
            "Extracting data/MNIST/raw/train-labels-idx1-ubyte.gz to data/MNIST/raw\n",
            "\n",
            "Downloading http://yann.lecun.com/exdb/mnist/t10k-images-idx3-ubyte.gz\n",
            "Failed to download (trying next):\n",
            "HTTP Error 403: Forbidden\n",
            "\n",
            "Downloading https://ossci-datasets.s3.amazonaws.com/mnist/t10k-images-idx3-ubyte.gz\n",
            "Downloading https://ossci-datasets.s3.amazonaws.com/mnist/t10k-images-idx3-ubyte.gz to data/MNIST/raw/t10k-images-idx3-ubyte.gz\n"
          ]
        },
        {
          "output_type": "stream",
          "name": "stderr",
          "text": [
            "100%|██████████| 1648877/1648877 [00:00<00:00, 5504192.59it/s]\n"
          ]
        },
        {
          "output_type": "stream",
          "name": "stdout",
          "text": [
            "Extracting data/MNIST/raw/t10k-images-idx3-ubyte.gz to data/MNIST/raw\n",
            "\n",
            "Downloading http://yann.lecun.com/exdb/mnist/t10k-labels-idx1-ubyte.gz\n",
            "Failed to download (trying next):\n",
            "HTTP Error 403: Forbidden\n",
            "\n",
            "Downloading https://ossci-datasets.s3.amazonaws.com/mnist/t10k-labels-idx1-ubyte.gz\n",
            "Downloading https://ossci-datasets.s3.amazonaws.com/mnist/t10k-labels-idx1-ubyte.gz to data/MNIST/raw/t10k-labels-idx1-ubyte.gz\n"
          ]
        },
        {
          "output_type": "stream",
          "name": "stderr",
          "text": [
            "100%|██████████| 4542/4542 [00:00<00:00, 3906999.34it/s]"
          ]
        },
        {
          "output_type": "stream",
          "name": "stdout",
          "text": [
            "Extracting data/MNIST/raw/t10k-labels-idx1-ubyte.gz to data/MNIST/raw\n",
            "\n"
          ]
        },
        {
          "output_type": "stream",
          "name": "stderr",
          "text": [
            "\n"
          ]
        }
      ],
      "source": [
        "# creating training and testing data from the MNIST dataset\n",
        "    training_data = torchvision.datasets.MNIST(\n",
        "    root=\"data\",\n",
        "    train=True,\n",
        "    download=True,\n",
        "    transform=torchvision.transforms.ToTensor()\n",
        ")\n",
        "\n",
        "test_data = torchvision.datasets.MNIST(\n",
        "    root=\"data\",\n",
        "    train=False,\n",
        "    download=True,\n",
        "    transform=torchvision.transforms.ToTensor()\n",
        ")"
      ]
    },
    {
      "cell_type": "code",
      "execution_count": null,
      "metadata": {
        "id": "Pve687Qa1ZWX"
      },
      "outputs": [],
      "source": [
        "train_size = int(0.8 * len(training_data))  # 80% for training\n",
        "val_size = len(training_data) - train_size  # Remaining 20% for validation\n",
        "training_data, validation_data = torch.utils.data.random_split(training_data, [train_size, val_size], generator=torch.Generator().manual_seed(55))"
      ]
    },
    {
      "cell_type": "code",
      "execution_count": null,
      "metadata": {
        "id": "zeTobevm1ZWX"
      },
      "outputs": [],
      "source": [
        "print('MNIST data loaded: train:',len(training_data),' examples, validation: ', len(validation_data), 'examples, test:',len(test_data), 'examples')\n",
        "print('Input shape', training_data[0][0].shape)"
      ]
    },
    {
      "cell_type": "markdown",
      "metadata": {
        "id": "65FE1epW1ZWY"
      },
      "source": [
        "Let's take a closer look. Here are the first 10 training digits:"
      ]
    },
    {
      "cell_type": "code",
      "execution_count": null,
      "metadata": {
        "id": "MAcMo7KJ1ZWY"
      },
      "outputs": [],
      "source": [
        "pltsize=1\n",
        "plt.figure(figsize=(10*pltsize, pltsize))\n",
        "\n",
        "for i in range(10):\n",
        "    plt.subplot(1,10,i+1)\n",
        "    plt.axis('off')\n",
        "    plt.imshow(numpy.reshape(training_data[i][0], (28, 28)), cmap=\"gray\")\n",
        "    plt.title('Class: '+str(training_data[i][1]))"
      ]
    },
    {
      "cell_type": "code",
      "execution_count": null,
      "metadata": {
        "id": "7byG5ctO1ZWZ"
      },
      "outputs": [],
      "source": [
        "class LinearClassifier(nn.Module):\n",
        "\n",
        "    def __init__(self):\n",
        "        super().__init__()\n",
        "\n",
        "        # First, we need to convert the input image to a vector by using\n",
        "        # nn.Flatten(). For MNIST, it means the second dimension 28*28 becomes 784.\n",
        "        self.flatten = nn.Flatten()\n",
        "\n",
        "        # Here, we add a fully connected (\"dense\") layer that has 28 x 28 = 784 input nodes\n",
        "        #(one for each pixel in the input image) and 10 output nodes (for probabilities of each class).\n",
        "        self.layer_1 = nn.Linear(28*28, 10)\n",
        "\n",
        "    def forward(self, x):\n",
        "\n",
        "        x = self.flatten(x)\n",
        "        x = self.layer_1(x)\n",
        "\n",
        "        return x"
      ]
    },
    {
      "cell_type": "code",
      "execution_count": null,
      "metadata": {
        "id": "_rGkVpAj1ZWZ"
      },
      "outputs": [],
      "source": [
        "linear_model = LinearClassifier()\n",
        "print(linear_model)\n",
        "\n",
        "loss_fn = nn.CrossEntropyLoss()\n",
        "optimizer = torch.optim.SGD(linear_model.parameters(), lr=0.05)"
      ]
    },
    {
      "cell_type": "code",
      "execution_count": null,
      "metadata": {
        "id": "dVhj5tHc1ZWa"
      },
      "outputs": [],
      "source": [
        "batch_size = 256\n",
        "\n",
        "# The dataloader makes our dataset iterable\n",
        "train_dataloader = torch.utils.data.DataLoader(training_data, batch_size=batch_size)\n",
        "val_dataloader = torch.utils.data.DataLoader(validation_data, batch_size=batch_size)"
      ]
    },
    {
      "cell_type": "code",
      "execution_count": null,
      "metadata": {
        "id": "Dxy5fi9t1ZWa"
      },
      "outputs": [],
      "source": [
        "def train_one_epoch(dataloader, model, loss_fn, optimizer):\n",
        "    model.train()\n",
        "    for batch, (X, y) in enumerate(dataloader):\n",
        "        # forward pass\n",
        "        pred = model(X)\n",
        "        loss = loss_fn(pred, y)\n",
        "\n",
        "        # backward pass calculates gradients\n",
        "        loss.backward()\n",
        "\n",
        "        # take one step with these gradients\n",
        "        optimizer.step()\n",
        "\n",
        "        # resets the gradients\n",
        "        optimizer.zero_grad()"
      ]
    },
    {
      "cell_type": "code",
      "execution_count": null,
      "metadata": {
        "id": "Rah9W0OK1ZWa"
      },
      "outputs": [],
      "source": [
        "def evaluate(dataloader, model, loss_fn):\n",
        "    # Set the model to evaluation mode - some NN pieces behave differently during training\n",
        "    # Unnecessary in this situation but added for best practices\n",
        "    model.eval()\n",
        "    size = len(dataloader.dataset)\n",
        "    num_batches = len(dataloader)\n",
        "    loss, correct = 0, 0\n",
        "\n",
        "    # We can save computation and memory by not calculating gradients here - we aren't optimizing\n",
        "    with torch.no_grad():\n",
        "        # loop over all of the batches\n",
        "        for X, y in dataloader:\n",
        "            pred = model(X)\n",
        "            loss += loss_fn(pred, y).item()\n",
        "            # how many are correct in this batch? Tracking for accuracy\n",
        "            correct += (pred.argmax(1) == y).type(torch.float).sum().item()\n",
        "\n",
        "    loss /= num_batches\n",
        "    correct /= size\n",
        "\n",
        "    accuracy = 100*correct\n",
        "    return accuracy, loss"
      ]
    },
    {
      "cell_type": "code",
      "execution_count": null,
      "metadata": {
        "id": "Bgszsnv01ZWb"
      },
      "outputs": [],
      "source": [
        "%%time\n",
        "\n",
        "epochs = 5\n",
        "train_acc_all = []\n",
        "val_acc_all = []\n",
        "for j in range(epochs):\n",
        "    train_one_epoch(train_dataloader, linear_model, loss_fn, optimizer)\n",
        "\n",
        "    # checking on the training loss and accuracy once per epoch\n",
        "    acc, loss = evaluate(train_dataloader, linear_model, loss_fn)\n",
        "    train_acc_all.append(acc)\n",
        "    print(f\"Epoch {j}: training loss: {loss}, accuracy: {acc}\")\n",
        "\n",
        "    # checking on the validation loss and accuracy once per epoch\n",
        "    val_acc, val_loss = evaluate(val_dataloader, linear_model, loss_fn)\n",
        "    val_acc_all.append(val_acc)\n",
        "    print(f\"Epoch {j}: val. loss: {val_loss}, val. accuracy: {val_acc}\")"
      ]
    },
    {
      "cell_type": "code",
      "execution_count": null,
      "metadata": {
        "id": "4Es9kBr_1ZWb"
      },
      "outputs": [],
      "source": [
        "pltsize=1\n",
        "plt.figure(figsize=(10*pltsize, 10 * pltsize))\n",
        "plt.plot(range(epochs), train_acc_all,label = 'Training Acc.' )\n",
        "plt.plot(range(epochs), val_acc_all, label = 'Validation Acc.' )\n",
        "plt.xlabel('Epoch #')\n",
        "plt.ylabel('Loss')\n",
        "plt.legend()"
      ]
    },
    {
      "cell_type": "code",
      "execution_count": null,
      "metadata": {
        "id": "pWnRoLRs1ZWb"
      },
      "outputs": [],
      "source": [
        "# Visualize how the model is doing on the first 10 examples\n",
        "pltsize=1\n",
        "plt.figure(figsize=(10*pltsize, pltsize))\n",
        "linear_model.eval()\n",
        "batch = next(iter(train_dataloader))\n",
        "predictions = linear_model(batch[0])\n",
        "\n",
        "for i in range(10):\n",
        "    plt.subplot(1,10,i+1)\n",
        "    plt.axis('off')\n",
        "    plt.imshow(batch[0][i,0,:,:], cmap=\"gray\")\n",
        "    plt.title('%d' % predictions[i,:].argmax())"
      ]
    },
    {
      "cell_type": "markdown",
      "metadata": {
        "id": "UEez96vg1ZWc"
      },
      "source": [
        "# Prediction\n",
        "\n",
        "Let's see how our model generalizes to the unseen test data.\n",
        "\n"
      ]
    },
    {
      "cell_type": "code",
      "execution_count": null,
      "metadata": {
        "id": "FDXCnsab1ZWc"
      },
      "outputs": [],
      "source": [
        "#create dataloader for test data\n",
        "# The dataloader makes our dataset iterable\n",
        "batch_size_test = 256\n",
        "test_dataloader = torch.utils.data.DataLoader(test_data, batch_size=batch_size_test)"
      ]
    },
    {
      "cell_type": "code",
      "execution_count": null,
      "metadata": {
        "id": "tt7XKFrD1ZWc"
      },
      "outputs": [],
      "source": [
        "acc_test, loss_test = evaluate(test_dataloader, linear_model, loss_fn)\n",
        "print(\"Test loss: %.4f, test accuracy: %.2f%%\" % (loss_test, acc_test))"
      ]
    },
    {
      "cell_type": "markdown",
      "metadata": {
        "id": "c7hLlJdO1ZWd"
      },
      "source": [
        "We can now take a closer look at the results.\n",
        "\n",
        "Let's define a helper function to show the failure cases of our classifier."
      ]
    },
    {
      "cell_type": "code",
      "execution_count": null,
      "metadata": {
        "id": "atjaedsf1ZWd"
      },
      "outputs": [],
      "source": [
        "def show_failures(model, dataloader, maxtoshow=10):\n",
        "    model.eval()\n",
        "    batch = next(iter(dataloader))\n",
        "    predictions = model(batch[0])\n",
        "\n",
        "    rounded = predictions.argmax(1)\n",
        "    errors = rounded!=batch[1]\n",
        "    print('Showing max', maxtoshow, 'first failures. '\n",
        "          'The predicted class is shown first and the correct class in parentheses.')\n",
        "    ii = 0\n",
        "    plt.figure(figsize=(maxtoshow, 1))\n",
        "    for i in range(batch[0].shape[0]):\n",
        "        if ii>=maxtoshow:\n",
        "            break\n",
        "        if errors[i]:\n",
        "            plt.subplot(1, maxtoshow, ii+1)\n",
        "            plt.axis('off')\n",
        "            plt.imshow(batch[0][i,0,:,:], cmap=\"gray\")\n",
        "            plt.title(\"%d (%d)\" % (rounded[i], batch[1][i]))\n",
        "            ii = ii + 1"
      ]
    },
    {
      "cell_type": "markdown",
      "metadata": {
        "id": "Wx6-DgOA1ZWd"
      },
      "source": [
        "Here are the first 10 images from the test data that this small model classified to a wrong class:\n",
        "\n"
      ]
    },
    {
      "cell_type": "code",
      "execution_count": null,
      "metadata": {
        "id": "o2cVumJx1ZWd"
      },
      "outputs": [],
      "source": [
        "show_failures(linear_model, test_dataloader)"
      ]
    },
    {
      "cell_type": "markdown",
      "metadata": {
        "id": "jVEonwjA1ZWe"
      },
      "source": [
        "<!-- # Exercise:\n",
        "- Try changing the loss function,\n",
        "- Try changing the optimizer -->"
      ]
    },
    {
      "cell_type": "markdown",
      "metadata": {
        "id": "1G-G0UVP1ZWe"
      },
      "source": [
        "We can now implement a deep network in PyTorch. nn.Dropout() performs the Dropout operation mentioned earlier"
      ]
    },
    {
      "cell_type": "code",
      "execution_count": null,
      "metadata": {
        "id": "pZaXlAJP1ZWe"
      },
      "outputs": [],
      "source": [
        "class NonlinearClassifier(nn.Module):\n",
        "\n",
        "    def __init__(self):\n",
        "        super().__init__()\n",
        "        self.flatten = nn.Flatten()\n",
        "        self.layers_stack = nn.Sequential(\n",
        "            nn.Linear(28*28, 50),\n",
        "            nn.ReLU(),\n",
        "            nn.Dropout(0.2),\n",
        "            nn.Linear(50, 50),\n",
        "            nn.ReLU(),\n",
        "           # nn.Dropout(0.2),\n",
        "            nn.Linear(50, 50),\n",
        "            nn.ReLU(),\n",
        "           # nn.Dropout(0.2),\n",
        "            nn.Linear(50, 10)\n",
        "        )\n",
        "\n",
        "    def forward(self, x):\n",
        "        x = self.flatten(x)\n",
        "        x = self.layers_stack(x)\n",
        "\n",
        "        return x"
      ]
    },
    {
      "cell_type": "code",
      "execution_count": null,
      "metadata": {
        "id": "8IGbYzVO1ZWf"
      },
      "outputs": [],
      "source": [
        "nonlinear_model = NonlinearClassifier()\n",
        "loss_fn = nn.CrossEntropyLoss()\n",
        "optimizer = torch.optim.SGD(nonlinear_model.parameters(), lr=0.05)"
      ]
    },
    {
      "cell_type": "code",
      "execution_count": null,
      "metadata": {
        "colab": {
          "base_uri": "https://localhost:8080/"
        },
        "outputId": "8c14b7ae-b7a7-4f13-b0bb-7ea3216c6952",
        "id": "H4d_7LnK1ZWf"
      },
      "outputs": [
        {
          "output_type": "stream",
          "name": "stdout",
          "text": [
            "Epoch 0: training loss: 0.8007944717686227, accuracy: 76.76458333333333\n",
            "Epoch 0: val. loss: 0.7890138943144616, val. accuracy: 76.81666666666666\n",
            "Epoch 1: training loss: 0.5385277085798852, accuracy: 85.22083333333333\n",
            "Epoch 1: val. loss: 0.5289862625142361, val. accuracy: 85.075\n",
            "Epoch 2: training loss: 0.42781285402622626, accuracy: 87.94999999999999\n",
            "Epoch 2: val. loss: 0.4199851009439915, val. accuracy: 87.96666666666667\n",
            "Epoch 3: training loss: 0.36056818860642453, accuracy: 89.81041666666667\n",
            "Epoch 3: val. loss: 0.354622927751947, val. accuracy: 89.70833333333333\n",
            "Epoch 4: training loss: 0.32078426053866427, accuracy: 90.87291666666667\n",
            "Epoch 4: val. loss: 0.3157864878786371, val. accuracy: 90.74166666666666\n",
            "CPU times: user 1min, sys: 0 ns, total: 1min\n",
            "Wall time: 1min\n"
          ]
        }
      ],
      "source": [
        "%%time\n",
        "\n",
        "epochs = 5\n",
        "train_acc_all = []\n",
        "val_acc_all = []\n",
        "for j in range(epochs):\n",
        "    train_one_epoch(train_dataloader, nonlinear_model, loss_fn, optimizer)\n",
        "\n",
        "    # checking on the training loss and accuracy once per epoch\n",
        "    acc, loss = evaluate(train_dataloader, nonlinear_model, loss_fn)\n",
        "    train_acc_all.append(acc)\n",
        "    print(f\"Epoch {j}: training loss: {loss}, accuracy: {acc}\")\n",
        "\n",
        "    # checking on the validation loss and accuracy once per epoch\n",
        "    val_acc, val_loss = evaluate(val_dataloader, nonlinear_model, loss_fn)\n",
        "    val_acc_all.append(val_acc)\n",
        "    print(f\"Epoch {j}: val. loss: {val_loss}, val. accuracy: {val_acc}\")"
      ]
    },
    {
      "cell_type": "code",
      "execution_count": null,
      "metadata": {
        "colab": {
          "base_uri": "https://localhost:8080/",
          "height": 868
        },
        "outputId": "18fd57bc-159b-4ddf-dfa6-5f6be05b44f2",
        "id": "3yOceiLU1ZWf"
      },
      "outputs": [
        {
          "output_type": "execute_result",
          "data": {
            "text/plain": [
              "<matplotlib.legend.Legend at 0x7d8306ddaaa0>"
            ]
          },
          "metadata": {},
          "execution_count": 21
        },
        {
          "output_type": "display_data",
          "data": {
            "text/plain": [
              "<Figure size 1000x1000 with 1 Axes>"
            ],
            "image/png": "[encoded data removed]"
          },
          "metadata": {}
        }
      ],
      "source": [
        "pltsize=1\n",
        "plt.figure(figsize=(10*pltsize, 10 * pltsize))\n",
        "plt.plot(range(epochs), train_acc_all,label = 'Training Acc.' )\n",
        "plt.plot(range(epochs), val_acc_all, label = 'Validation Acc.' )\n",
        "plt.xlabel('Epoch #')\n",
        "plt.ylabel('Loss')\n",
        "plt.legend()"
      ]
    },
    {
      "cell_type": "code",
      "execution_count": null,
      "metadata": {
        "id": "fZviqz-W1ZWg"
      },
      "outputs": [],
      "source": [
        "show_failures(nonlinear_model, test_dataloader)"
      ]
    },
    {
      "cell_type": "markdown",
      "metadata": {
        "id": "PVaPjAa8bjG7"
      },
      "source": [
        "# \"**Change Learning rates**\"\n"
      ]
    },
    {
      "cell_type": "code",
      "execution_count": null,
      "metadata": {
        "id": "zqI1LM39apC3"
      },
      "outputs": [],
      "source": [
        "%matplotlib inline\n",
        "\n",
        "import torch\n",
        "import torchvision\n",
        "from torch import nn\n",
        "\n",
        "import numpy\n",
        "import matplotlib.pyplot as plt\n",
        "import time"
      ]
    },
    {
      "cell_type": "code",
      "execution_count": null,
      "metadata": {
        "colab": {
          "base_uri": "https://localhost:8080/"
        },
        "outputId": "76104c8c-a078-43a8-8b81-0a76dcbd5ab6",
        "collapsed": true,
        "id": "-lnMXXrqapC4"
      },
      "outputs": [
        {
          "output_type": "stream",
          "name": "stdout",
          "text": [
            "Downloading http://yann.lecun.com/exdb/mnist/train-images-idx3-ubyte.gz\n",
            "Failed to download (trying next):\n",
            "HTTP Error 403: Forbidden\n",
            "\n",
            "Downloading https://ossci-datasets.s3.amazonaws.com/mnist/train-images-idx3-ubyte.gz\n",
            "Downloading https://ossci-datasets.s3.amazonaws.com/mnist/train-images-idx3-ubyte.gz to data/MNIST/raw/train-images-idx3-ubyte.gz\n"
          ]
        },
        {
          "output_type": "stream",
          "name": "stderr",
          "text": [
            "100%|██████████| 9912422/9912422 [00:00<00:00, 20162133.88it/s]\n"
          ]
        },
        {
          "output_type": "stream",
          "name": "stdout",
          "text": [
            "Extracting data/MNIST/raw/train-images-idx3-ubyte.gz to data/MNIST/raw\n",
            "\n",
            "Downloading http://yann.lecun.com/exdb/mnist/train-labels-idx1-ubyte.gz\n",
            "Failed to download (trying next):\n",
            "HTTP Error 403: Forbidden\n",
            "\n",
            "Downloading https://ossci-datasets.s3.amazonaws.com/mnist/train-labels-idx1-ubyte.gz\n",
            "Downloading https://ossci-datasets.s3.amazonaws.com/mnist/train-labels-idx1-ubyte.gz to data/MNIST/raw/train-labels-idx1-ubyte.gz\n"
          ]
        },
        {
          "output_type": "stream",
          "name": "stderr",
          "text": [
            "100%|██████████| 28881/28881 [00:00<00:00, 613516.14it/s]\n"
          ]
        },
        {
          "output_type": "stream",
          "name": "stdout",
          "text": [
            "Extracting data/MNIST/raw/train-labels-idx1-ubyte.gz to data/MNIST/raw\n",
            "\n",
            "Downloading http://yann.lecun.com/exdb/mnist/t10k-images-idx3-ubyte.gz\n",
            "Failed to download (trying next):\n",
            "HTTP Error 403: Forbidden\n",
            "\n",
            "Downloading https://ossci-datasets.s3.amazonaws.com/mnist/t10k-images-idx3-ubyte.gz\n",
            "Downloading https://ossci-datasets.s3.amazonaws.com/mnist/t10k-images-idx3-ubyte.gz to data/MNIST/raw/t10k-images-idx3-ubyte.gz\n"
          ]
        },
        {
          "output_type": "stream",
          "name": "stderr",
          "text": [
            "100%|██████████| 1648877/1648877 [00:00<00:00, 5504192.59it/s]\n"
          ]
        },
        {
          "output_type": "stream",
          "name": "stdout",
          "text": [
            "Extracting data/MNIST/raw/t10k-images-idx3-ubyte.gz to data/MNIST/raw\n",
            "\n",
            "Downloading http://yann.lecun.com/exdb/mnist/t10k-labels-idx1-ubyte.gz\n",
            "Failed to download (trying next):\n",
            "HTTP Error 403: Forbidden\n",
            "\n",
            "Downloading https://ossci-datasets.s3.amazonaws.com/mnist/t10k-labels-idx1-ubyte.gz\n",
            "Downloading https://ossci-datasets.s3.amazonaws.com/mnist/t10k-labels-idx1-ubyte.gz to data/MNIST/raw/t10k-labels-idx1-ubyte.gz\n"
          ]
        },
        {
          "output_type": "stream",
          "name": "stderr",
          "text": [
            "100%|██████████| 4542/4542 [00:00<00:00, 3906999.34it/s]"
          ]
        },
        {
          "output_type": "stream",
          "name": "stdout",
          "text": [
            "Extracting data/MNIST/raw/t10k-labels-idx1-ubyte.gz to data/MNIST/raw\n",
            "\n"
          ]
        },
        {
          "output_type": "stream",
          "name": "stderr",
          "text": [
            "\n"
          ]
        }
      ],
      "source": [
        "# creating training and testing data from the MNIST dataset\n",
        "    training_data = torchvision.datasets.MNIST(\n",
        "    root=\"data\",\n",
        "    train=True,\n",
        "    download=True,\n",
        "    transform=torchvision.transforms.ToTensor()\n",
        ")\n",
        "\n",
        "test_data = torchvision.datasets.MNIST(\n",
        "    root=\"data\",\n",
        "    train=False,\n",
        "    download=True,\n",
        "    transform=torchvision.transforms.ToTensor()\n",
        ")"
      ]
    },
    {
      "cell_type": "code",
      "execution_count": null,
      "metadata": {
        "id": "CeddkNsBapC5"
      },
      "outputs": [],
      "source": [
        "train_size = int(0.8 * len(training_data))  # 80% for training\n",
        "val_size = len(training_data) - train_size  # Remaining 20% for validation\n",
        "training_data, validation_data = torch.utils.data.random_split(training_data, [train_size, val_size], generator=torch.Generator().manual_seed(55))"
      ]
    },
    {
      "cell_type": "code",
      "execution_count": null,
      "metadata": {
        "id": "Vqn51L6AapC6"
      },
      "outputs": [],
      "source": [
        "print('MNIST data loaded: train:',len(training_data),' examples, validation: ', len(validation_data), 'examples, test:',len(test_data), 'examples')\n",
        "print('Input shape', training_data[0][0].shape)"
      ]
    },
    {
      "cell_type": "markdown",
      "metadata": {
        "id": "8MpFybtuapC6"
      },
      "source": [
        "Let's take a closer look. Here are the first 10 training digits:"
      ]
    },
    {
      "cell_type": "code",
      "execution_count": null,
      "metadata": {
        "id": "h0mzxksvapC7"
      },
      "outputs": [],
      "source": [
        "pltsize=1\n",
        "plt.figure(figsize=(10*pltsize, pltsize))\n",
        "\n",
        "for i in range(10):\n",
        "    plt.subplot(1,10,i+1)\n",
        "    plt.axis('off')\n",
        "    plt.imshow(numpy.reshape(training_data[i][0], (28, 28)), cmap=\"gray\")\n",
        "    plt.title('Class: '+str(training_data[i][1]))"
      ]
    },
    {
      "cell_type": "code",
      "execution_count": null,
      "metadata": {
        "id": "NNTKhUsjapC7"
      },
      "outputs": [],
      "source": [
        "class LinearClassifier(nn.Module):\n",
        "\n",
        "    def __init__(self):\n",
        "        super().__init__()\n",
        "\n",
        "        # First, we need to convert the input image to a vector by using\n",
        "        # nn.Flatten(). For MNIST, it means the second dimension 28*28 becomes 784.\n",
        "        self.flatten = nn.Flatten()\n",
        "\n",
        "        # Here, we add a fully connected (\"dense\") layer that has 28 x 28 = 784 input nodes\n",
        "        #(one for each pixel in the input image) and 10 output nodes (for probabilities of each class).\n",
        "        self.layer_1 = nn.Linear(28*28, 10)\n",
        "\n",
        "    def forward(self, x):\n",
        "\n",
        "        x = self.flatten(x)\n",
        "        x = self.layer_1(x)\n",
        "\n",
        "        return x"
      ]
    },
    {
      "cell_type": "code",
      "execution_count": null,
      "metadata": {
        "id": "rmknYGpNapC8"
      },
      "outputs": [],
      "source": [
        "linear_model = LinearClassifier()\n",
        "print(linear_model)\n",
        "\n",
        "loss_fn = nn.CrossEntropyLoss()\n",
        "optimizer = torch.optim.SGD(linear_model.parameters(), lr=0.05)"
      ]
    },
    {
      "cell_type": "code",
      "execution_count": null,
      "metadata": {
        "id": "GSdElDA4apC8"
      },
      "outputs": [],
      "source": [
        "batch_size = 128\n",
        "\n",
        "# The dataloader makes our dataset iterable\n",
        "train_dataloader = torch.utils.data.DataLoader(training_data, batch_size=batch_size)\n",
        "val_dataloader = torch.utils.data.DataLoader(validation_data, batch_size=batch_size)"
      ]
    },
    {
      "cell_type": "code",
      "execution_count": null,
      "metadata": {
        "id": "AS_NqVK1apC9"
      },
      "outputs": [],
      "source": [
        "def train_one_epoch(dataloader, model, loss_fn, optimizer):\n",
        "    model.train()\n",
        "    for batch, (X, y) in enumerate(dataloader):\n",
        "        # forward pass\n",
        "        pred = model(X)\n",
        "        loss = loss_fn(pred, y)\n",
        "\n",
        "        # backward pass calculates gradients\n",
        "        loss.backward()\n",
        "\n",
        "        # take one step with these gradients\n",
        "        optimizer.step()\n",
        "\n",
        "        # resets the gradients\n",
        "        optimizer.zero_grad()"
      ]
    },
    {
      "cell_type": "code",
      "execution_count": null,
      "metadata": {
        "id": "_9qA3k0capC-"
      },
      "outputs": [],
      "source": [
        "def evaluate(dataloader, model, loss_fn):\n",
        "    # Set the model to evaluation mode - some NN pieces behave differently during training\n",
        "    # Unnecessary in this situation but added for best practices\n",
        "    model.eval()\n",
        "    size = len(dataloader.dataset)\n",
        "    num_batches = len(dataloader)\n",
        "    loss, correct = 0, 0\n",
        "\n",
        "    # We can save computation and memory by not calculating gradients here - we aren't optimizing\n",
        "    with torch.no_grad():\n",
        "        # loop over all of the batches\n",
        "        for X, y in dataloader:\n",
        "            pred = model(X)\n",
        "            loss += loss_fn(pred, y).item()\n",
        "            # how many are correct in this batch? Tracking for accuracy\n",
        "            correct += (pred.argmax(1) == y).type(torch.float).sum().item()\n",
        "\n",
        "    loss /= num_batches\n",
        "    correct /= size\n",
        "\n",
        "    accuracy = 100*correct\n",
        "    return accuracy, loss"
      ]
    },
    {
      "cell_type": "code",
      "execution_count": null,
      "metadata": {
        "id": "qX0oQUUSapC-"
      },
      "outputs": [],
      "source": [
        "%%time\n",
        "\n",
        "epochs = 5\n",
        "train_acc_all = []\n",
        "val_acc_all = []\n",
        "for j in range(epochs):\n",
        "    train_one_epoch(train_dataloader, linear_model, loss_fn, optimizer)\n",
        "\n",
        "    # checking on the training loss and accuracy once per epoch\n",
        "    acc, loss = evaluate(train_dataloader, linear_model, loss_fn)\n",
        "    train_acc_all.append(acc)\n",
        "    print(f\"Epoch {j}: training loss: {loss}, accuracy: {acc}\")\n",
        "\n",
        "    # checking on the validation loss and accuracy once per epoch\n",
        "    val_acc, val_loss = evaluate(val_dataloader, linear_model, loss_fn)\n",
        "    val_acc_all.append(val_acc)\n",
        "    print(f\"Epoch {j}: val. loss: {val_loss}, val. accuracy: {val_acc}\")"
      ]
    },
    {
      "cell_type": "code",
      "execution_count": null,
      "metadata": {
        "id": "VDL0JGmKapC_"
      },
      "outputs": [],
      "source": [
        "pltsize=1\n",
        "plt.figure(figsize=(10*pltsize, 10 * pltsize))\n",
        "plt.plot(range(epochs), train_acc_all,label = 'Training Acc.' )\n",
        "plt.plot(range(epochs), val_acc_all, label = 'Validation Acc.' )\n",
        "plt.xlabel('Epoch #')\n",
        "plt.ylabel('Loss')\n",
        "plt.legend()"
      ]
    },
    {
      "cell_type": "code",
      "execution_count": null,
      "metadata": {
        "id": "PV4R9SvZapC_"
      },
      "outputs": [],
      "source": [
        "# Visualize how the model is doing on the first 10 examples\n",
        "pltsize=1\n",
        "plt.figure(figsize=(10*pltsize, pltsize))\n",
        "linear_model.eval()\n",
        "batch = next(iter(train_dataloader))\n",
        "predictions = linear_model(batch[0])\n",
        "\n",
        "for i in range(10):\n",
        "    plt.subplot(1,10,i+1)\n",
        "    plt.axis('off')\n",
        "    plt.imshow(batch[0][i,0,:,:], cmap=\"gray\")\n",
        "    plt.title('%d' % predictions[i,:].argmax())"
      ]
    },
    {
      "cell_type": "markdown",
      "metadata": {
        "id": "a6gTs6e3apC_"
      },
      "source": [
        "# Prediction\n",
        "\n",
        "Let's see how our model generalizes to the unseen test data.\n",
        "\n"
      ]
    },
    {
      "cell_type": "code",
      "execution_count": null,
      "metadata": {
        "id": "nDqbbCpTapDA"
      },
      "outputs": [],
      "source": [
        "#create dataloader for test data\n",
        "# The dataloader makes our dataset iterable\n",
        "batch_size_test = 256\n",
        "test_dataloader = torch.utils.data.DataLoader(test_data, batch_size=batch_size_test)"
      ]
    },
    {
      "cell_type": "code",
      "execution_count": null,
      "metadata": {
        "id": "c2m3lnamapDA"
      },
      "outputs": [],
      "source": [
        "acc_test, loss_test = evaluate(test_dataloader, linear_model, loss_fn)\n",
        "print(\"Test loss: %.4f, test accuracy: %.2f%%\" % (loss_test, acc_test))"
      ]
    },
    {
      "cell_type": "markdown",
      "metadata": {
        "id": "kMTntqzvapDA"
      },
      "source": [
        "We can now take a closer look at the results.\n",
        "\n",
        "Let's define a helper function to show the failure cases of our classifier."
      ]
    },
    {
      "cell_type": "code",
      "execution_count": null,
      "metadata": {
        "id": "vmfFy8D2apDA"
      },
      "outputs": [],
      "source": [
        "def show_failures(model, dataloader, maxtoshow=10):\n",
        "    model.eval()\n",
        "    batch = next(iter(dataloader))\n",
        "    predictions = model(batch[0])\n",
        "\n",
        "    rounded = predictions.argmax(1)\n",
        "    errors = rounded!=batch[1]\n",
        "    print('Showing max', maxtoshow, 'first failures. '\n",
        "          'The predicted class is shown first and the correct class in parentheses.')\n",
        "    ii = 0\n",
        "    plt.figure(figsize=(maxtoshow, 1))\n",
        "    for i in range(batch[0].shape[0]):\n",
        "        if ii>=maxtoshow:\n",
        "            break\n",
        "        if errors[i]:\n",
        "            plt.subplot(1, maxtoshow, ii+1)\n",
        "            plt.axis('off')\n",
        "            plt.imshow(batch[0][i,0,:,:], cmap=\"gray\")\n",
        "            plt.title(\"%d (%d)\" % (rounded[i], batch[1][i]))\n",
        "            ii = ii + 1"
      ]
    },
    {
      "cell_type": "markdown",
      "metadata": {
        "id": "CR_qNrm-apDB"
      },
      "source": [
        "Here are the first 10 images from the test data that this small model classified to a wrong class:\n",
        "\n"
      ]
    },
    {
      "cell_type": "code",
      "execution_count": null,
      "metadata": {
        "id": "iWd8oGYsapDB"
      },
      "outputs": [],
      "source": [
        "show_failures(linear_model, test_dataloader)"
      ]
    },
    {
      "cell_type": "markdown",
      "metadata": {
        "id": "mMHC-FVXapDB"
      },
      "source": [
        "<!-- # Exercise:\n",
        "- Try changing the loss function,\n",
        "- Try changing the optimizer -->"
      ]
    },
    {
      "cell_type": "markdown",
      "metadata": {
        "id": "otKRv8AgapDC"
      },
      "source": [
        "We can now implement a deep network in PyTorch. nn.Dropout() performs the Dropout operation mentioned earlier"
      ]
    },
    {
      "cell_type": "code",
      "execution_count": null,
      "metadata": {
        "id": "sQwoe8LjapDC"
      },
      "outputs": [],
      "source": [
        "class NonlinearClassifier(nn.Module):\n",
        "\n",
        "    def __init__(self):\n",
        "        super().__init__()\n",
        "        self.flatten = nn.Flatten()\n",
        "        self.layers_stack = nn.Sequential(\n",
        "            nn.Linear(28*28, 50),\n",
        "            nn.ReLU(),\n",
        "            nn.Dropout(0.2),\n",
        "            nn.Linear(50, 50),\n",
        "            nn.ReLU(),\n",
        "           # nn.Dropout(0.2),\n",
        "            nn.Linear(50, 50),\n",
        "            nn.ReLU(),\n",
        "           # nn.Dropout(0.2),\n",
        "            nn.Linear(50, 10)\n",
        "        )\n",
        "\n",
        "    def forward(self, x):\n",
        "        x = self.flatten(x)\n",
        "        x = self.layers_stack(x)\n",
        "\n",
        "        return x"
      ]
    },
    {
      "cell_type": "code",
      "execution_count": null,
      "metadata": {
        "id": "fA3LeeHuapDC"
      },
      "outputs": [],
      "source": [
        "nonlinear_model = NonlinearClassifier()\n",
        "loss_fn = nn.CrossEntropyLoss()\n",
        "optimizer = torch.optim.SGD(nonlinear_model.parameters(), lr=0.01)"
      ]
    },
    {
      "cell_type": "code",
      "execution_count": null,
      "metadata": {
        "colab": {
          "base_uri": "https://localhost:8080/"
        },
        "id": "Cb7_zF-lapDD",
        "outputId": "59f3def6-3b05-4941-e7fa-eb4e64219016"
      },
      "outputs": [
        {
          "output_type": "stream",
          "name": "stdout",
          "text": [
            "Epoch 0: training loss: 2.2791398537953693, accuracy: 12.720833333333333\n",
            "Epoch 0: val. loss: 2.2785965432512, val. accuracy: 12.808333333333334\n",
            "Epoch 1: training loss: 2.2094785315195717, accuracy: 35.27708333333333\n",
            "Epoch 1: val. loss: 2.208634112743621, val. accuracy: 35.61666666666667\n",
            "Epoch 2: training loss: 1.7674557135899862, accuracy: 43.375\n",
            "Epoch 2: val. loss: 1.7634935505846714, val. accuracy: 43.7\n",
            "Epoch 3: training loss: 1.0390490579605103, accuracy: 72.60625\n",
            "Epoch 3: val. loss: 1.0274220736736948, val. accuracy: 72.73333333333333\n",
            "Epoch 4: training loss: 0.6996784555117289, accuracy: 81.02083333333333\n",
            "Epoch 4: val. loss: 0.6876668435461978, val. accuracy: 81.15\n",
            "CPU times: user 1min 4s, sys: 45.7 ms, total: 1min 4s\n",
            "Wall time: 1min 5s\n"
          ]
        }
      ],
      "source": [
        "%%time\n",
        "\n",
        "epochs = 5\n",
        "train_acc_all = []\n",
        "val_acc_all = []\n",
        "for j in range(epochs):\n",
        "    train_one_epoch(train_dataloader, nonlinear_model, loss_fn, optimizer)\n",
        "\n",
        "    # checking on the training loss and accuracy once per epoch\n",
        "    acc, loss = evaluate(train_dataloader, nonlinear_model, loss_fn)\n",
        "    train_acc_all.append(acc)\n",
        "    print(f\"Epoch {j}: training loss: {loss}, accuracy: {acc}\")\n",
        "\n",
        "    # checking on the validation loss and accuracy once per epoch\n",
        "    val_acc, val_loss = evaluate(val_dataloader, nonlinear_model, loss_fn)\n",
        "    val_acc_all.append(val_acc)\n",
        "    print(f\"Epoch {j}: val. loss: {val_loss}, val. accuracy: {val_acc}\")"
      ]
    },
    {
      "cell_type": "code",
      "execution_count": null,
      "metadata": {
        "colab": {
          "base_uri": "https://localhost:8080/",
          "height": 868
        },
        "id": "D9X3OVweapDD",
        "outputId": "cfcfbc7d-dd63-4628-aee6-21cce720f4b2"
      },
      "outputs": [
        {
          "output_type": "execute_result",
          "data": {
            "text/plain": [
              "<matplotlib.legend.Legend at 0x7d8304b3eaa0>"
            ]
          },
          "metadata": {},
          "execution_count": 28
        },
        {
          "output_type": "display_data",
          "data": {
            "text/plain": [
              "<Figure size 1000x1000 with 1 Axes>"
            ],
            "image/png": "[encoded data removed]"
          },
          "metadata": {}
        }
      ],
      "source": [
        "pltsize=1\n",
        "plt.figure(figsize=(10*pltsize, 10 * pltsize))\n",
        "plt.plot(range(epochs), train_acc_all,label = 'Training Acc.' )\n",
        "plt.plot(range(epochs), val_acc_all, label = 'Validation Acc.' )\n",
        "plt.xlabel('Epoch #')\n",
        "plt.ylabel('Loss')\n",
        "plt.legend()"
      ]
    },
    {
      "cell_type": "code",
      "execution_count": null,
      "metadata": {
        "id": "oMNTJUB9apDD"
      },
      "outputs": [],
      "source": [
        "show_failures(nonlinear_model, test_dataloader)"
      ]
    },
    {
      "cell_type": "markdown",
      "metadata": {
        "id": "kzy2jxiCapDE"
      },
      "source": [
        "# Recap\n",
        "To train and validate a neural network model, you need:\n",
        "- Data split into training/validation/test sets,\n",
        "- A model with parameters to learn,\n",
        "- An appropriate loss function,\n",
        "- An optimizer (with tunable parameters such as learning rate, weight decay etc.) used to learn the parameters of the model.\n"
      ]
    },
    {
      "cell_type": "markdown",
      "metadata": {
        "id": "6mE8OgDhapDE"
      },
      "source": [
        "# Homework"
      ]
    },
    {
      "cell_type": "markdown",
      "metadata": {
        "id": "yIoxLUEoapDE"
      },
      "source": [
        "1. Compare the quality of your model when using different:\n",
        " - batch sizes,\n",
        " - learning rates,\n",
        " - activation functions.\n",
        "\n",
        "3. Bonus: What is a learning rate scheduler?\n",
        "\n",
        "If you have time, experiment with how to improve the model. Note: training and validation data can be used to compare models, but test data should be saved until the end as a final check of generalization."
      ]
    },
    {
      "cell_type": "code",
      "execution_count": null,
      "metadata": {
        "id": "XhmnBPgedndD"
      },
      "outputs": [],
      "source": []
    },
    {
      "cell_type": "code",
      "execution_count": null,
      "metadata": {
        "id": "ydBss6o2apDE"
      },
      "outputs": [],
      "source": []
    },
    {
      "cell_type": "markdown",
      "metadata": {
        "id": "x2zb1FTU20Sb"
      },
      "source": [
        "# \"**Different Activation Function**\"\n"
      ]
    },
    {
      "cell_type": "code",
      "execution_count": null,
      "metadata": {
        "id": "RaJgPr-L20Si"
      },
      "outputs": [],
      "source": [
        "%matplotlib inline\n",
        "\n",
        "import torch\n",
        "import torchvision\n",
        "from torch import nn\n",
        "\n",
        "import numpy\n",
        "import matplotlib.pyplot as plt\n",
        "import time"
      ]
    },
    {
      "cell_type": "code",
      "execution_count": null,
      "metadata": {
        "colab": {
          "base_uri": "https://localhost:8080/"
        },
        "outputId": "d35fbe3e-5031-4553-ed88-ea7820181439",
        "collapsed": true,
        "id": "xMgzEmJo20Sk"
      },
      "outputs": [
        {
          "output_type": "stream",
          "name": "stdout",
          "text": [
            "Downloading http://yann.lecun.com/exdb/mnist/train-images-idx3-ubyte.gz\n",
            "Failed to download (trying next):\n",
            "HTTP Error 403: Forbidden\n",
            "\n",
            "Downloading https://ossci-datasets.s3.amazonaws.com/mnist/train-images-idx3-ubyte.gz\n",
            "Downloading https://ossci-datasets.s3.amazonaws.com/mnist/train-images-idx3-ubyte.gz to data/MNIST/raw/train-images-idx3-ubyte.gz\n"
          ]
        },
        {
          "output_type": "stream",
          "name": "stderr",
          "text": [
            "100%|██████████| 9912422/9912422 [00:00<00:00, 53812167.68it/s]\n"
          ]
        },
        {
          "output_type": "stream",
          "name": "stdout",
          "text": [
            "Extracting data/MNIST/raw/train-images-idx3-ubyte.gz to data/MNIST/raw\n",
            "\n",
            "Downloading http://yann.lecun.com/exdb/mnist/train-labels-idx1-ubyte.gz\n",
            "Failed to download (trying next):\n",
            "HTTP Error 403: Forbidden\n",
            "\n",
            "Downloading https://ossci-datasets.s3.amazonaws.com/mnist/train-labels-idx1-ubyte.gz\n",
            "Downloading https://ossci-datasets.s3.amazonaws.com/mnist/train-labels-idx1-ubyte.gz to data/MNIST/raw/train-labels-idx1-ubyte.gz\n"
          ]
        },
        {
          "output_type": "stream",
          "name": "stderr",
          "text": [
            "100%|██████████| 28881/28881 [00:00<00:00, 1759031.35it/s]"
          ]
        },
        {
          "output_type": "stream",
          "name": "stdout",
          "text": [
            "Extracting data/MNIST/raw/train-labels-idx1-ubyte.gz to data/MNIST/raw\n",
            "\n",
            "Downloading http://yann.lecun.com/exdb/mnist/t10k-images-idx3-ubyte.gz\n"
          ]
        },
        {
          "output_type": "stream",
          "name": "stderr",
          "text": [
            "\n"
          ]
        },
        {
          "output_type": "stream",
          "name": "stdout",
          "text": [
            "Failed to download (trying next):\n",
            "HTTP Error 403: Forbidden\n",
            "\n",
            "Downloading https://ossci-datasets.s3.amazonaws.com/mnist/t10k-images-idx3-ubyte.gz\n",
            "Downloading https://ossci-datasets.s3.amazonaws.com/mnist/t10k-images-idx3-ubyte.gz to data/MNIST/raw/t10k-images-idx3-ubyte.gz\n"
          ]
        },
        {
          "output_type": "stream",
          "name": "stderr",
          "text": [
            "100%|██████████| 1648877/1648877 [00:00<00:00, 14365310.42it/s]\n"
          ]
        },
        {
          "output_type": "stream",
          "name": "stdout",
          "text": [
            "Extracting data/MNIST/raw/t10k-images-idx3-ubyte.gz to data/MNIST/raw\n",
            "\n",
            "Downloading http://yann.lecun.com/exdb/mnist/t10k-labels-idx1-ubyte.gz\n",
            "Failed to download (trying next):\n",
            "HTTP Error 403: Forbidden\n",
            "\n",
            "Downloading https://ossci-datasets.s3.amazonaws.com/mnist/t10k-labels-idx1-ubyte.gz\n",
            "Downloading https://ossci-datasets.s3.amazonaws.com/mnist/t10k-labels-idx1-ubyte.gz to data/MNIST/raw/t10k-labels-idx1-ubyte.gz\n"
          ]
        },
        {
          "output_type": "stream",
          "name": "stderr",
          "text": [
            "100%|██████████| 4542/4542 [00:00<00:00, 3992147.69it/s]"
          ]
        },
        {
          "output_type": "stream",
          "name": "stdout",
          "text": [
            "Extracting data/MNIST/raw/t10k-labels-idx1-ubyte.gz to data/MNIST/raw\n",
            "\n"
          ]
        },
        {
          "output_type": "stream",
          "name": "stderr",
          "text": [
            "\n"
          ]
        }
      ],
      "source": [
        "# creating training and testing data from the MNIST dataset\n",
        "training_data = torchvision.datasets.MNIST(\n",
        "    root=\"data\",\n",
        "    train=True,\n",
        "    download=True,\n",
        "    transform=torchvision.transforms.ToTensor()\n",
        ")\n",
        "\n",
        "test_data = torchvision.datasets.MNIST(\n",
        "    root=\"data\",\n",
        "    train=False,\n",
        "    download=True,\n",
        "    transform=torchvision.transforms.ToTensor()\n",
        ")"
      ]
    },
    {
      "cell_type": "code",
      "execution_count": null,
      "metadata": {
        "id": "RihCPOPU20Sm"
      },
      "outputs": [],
      "source": [
        "train_size = int(0.8 * len(training_data))  # 80% for training\n",
        "val_size = len(training_data) - train_size  # Remaining 20% for validation\n",
        "training_data, validation_data = torch.utils.data.random_split(training_data, [train_size, val_size], generator=torch.Generator().manual_seed(55))"
      ]
    },
    {
      "cell_type": "code",
      "execution_count": null,
      "metadata": {
        "colab": {
          "base_uri": "https://localhost:8080/"
        },
        "id": "owuu10B120So",
        "outputId": "302e08ea-4283-42ba-ee81-7fe239b35384"
      },
      "outputs": [
        {
          "output_type": "stream",
          "name": "stdout",
          "text": [
            "MNIST data loaded: train: 48000  examples, validation:  12000 examples, test: 10000 examples\n",
            "Input shape torch.Size([1, 28, 28])\n"
          ]
        }
      ],
      "source": [
        "print('MNIST data loaded: train:',len(training_data),' examples, validation: ', len(validation_data), 'examples, test:',len(test_data), 'examples')\n",
        "print('Input shape', training_data[0][0].shape)"
      ]
    },
    {
      "cell_type": "markdown",
      "metadata": {
        "id": "FwiVo26O20Sp"
      },
      "source": [
        "Let's take a closer look. Here are the first 10 training digits:"
      ]
    },
    {
      "cell_type": "code",
      "execution_count": null,
      "metadata": {
        "id": "rOY04gOz20Sr"
      },
      "outputs": [],
      "source": [
        "pltsize=1\n",
        "plt.figure(figsize=(10*pltsize, pltsize))\n",
        "\n",
        "for i in range(10):\n",
        "    plt.subplot(1,10,i+1)\n",
        "    plt.axis('off')\n",
        "    plt.imshow(numpy.reshape(training_data[i][0], (28, 28)), cmap=\"gray\")\n",
        "    plt.title('Class: '+str(training_data[i][1]))"
      ]
    },
    {
      "cell_type": "code",
      "execution_count": null,
      "metadata": {
        "id": "2Wri4urF20St"
      },
      "outputs": [],
      "source": [
        "class LinearClassifier(nn.Module):\n",
        "\n",
        "    def __init__(self):\n",
        "        super().__init__()\n",
        "\n",
        "        # First, we need to convert the input image to a vector by using\n",
        "        # nn.Flatten(). For MNIST, it means the second dimension 28*28 becomes 784.\n",
        "        self.flatten = nn.Flatten()\n",
        "\n",
        "        # Here, we add a fully connected (\"dense\") layer that has 28 x 28 = 784 input nodes\n",
        "        #(one for each pixel in the input image) and 10 output nodes (for probabilities of each class).\n",
        "        self.layer_1 = nn.Linear(28*28, 10)\n",
        "\n",
        "    def forward(self, x):\n",
        "\n",
        "        x = self.flatten(x)\n",
        "        x = self.layer_1(x)\n",
        "\n",
        "        return x"
      ]
    },
    {
      "cell_type": "code",
      "execution_count": null,
      "metadata": {
        "id": "AMXrACFX20Sv"
      },
      "outputs": [],
      "source": [
        "linear_model = LinearClassifier()\n",
        "print(linear_model)\n",
        "\n",
        "loss_fn = nn.CrossEntropyLoss()\n",
        "optimizer = torch.optim.SGD(linear_model.parameters(), lr=0.05)"
      ]
    },
    {
      "cell_type": "code",
      "execution_count": null,
      "metadata": {
        "id": "Y47qsKeF20Sx"
      },
      "outputs": [],
      "source": [
        "batch_size = 128\n",
        "\n",
        "# The dataloader makes our dataset iterable\n",
        "train_dataloader = torch.utils.data.DataLoader(training_data, batch_size=batch_size)\n",
        "val_dataloader = torch.utils.data.DataLoader(validation_data, batch_size=batch_size)"
      ]
    },
    {
      "cell_type": "code",
      "execution_count": null,
      "metadata": {
        "id": "N_UfUN0Z20S2"
      },
      "outputs": [],
      "source": [
        "def train_one_epoch(dataloader, model, loss_fn, optimizer):\n",
        "    model.train()\n",
        "    for batch, (X, y) in enumerate(dataloader):\n",
        "        # forward pass\n",
        "        pred = model(X)\n",
        "        loss = loss_fn(pred, y)\n",
        "\n",
        "        # backward pass calculates gradients\n",
        "        loss.backward()\n",
        "\n",
        "        # take one step with these gradients\n",
        "        optimizer.step()\n",
        "\n",
        "        # resets the gradients\n",
        "        optimizer.zero_grad()"
      ]
    },
    {
      "cell_type": "code",
      "execution_count": null,
      "metadata": {
        "id": "2mrHZ3uc20S6"
      },
      "outputs": [],
      "source": [
        "def evaluate(dataloader, model, loss_fn):\n",
        "    # Set the model to evaluation mode - some NN pieces behave differently during training\n",
        "    # Unnecessary in this situation but added for best practices\n",
        "    model.eval()\n",
        "    size = len(dataloader.dataset)\n",
        "    num_batches = len(dataloader)\n",
        "    loss, correct = 0, 0\n",
        "\n",
        "    # We can save computation and memory by not calculating gradients here - we aren't optimizing\n",
        "    with torch.no_grad():\n",
        "        # loop over all of the batches\n",
        "        for X, y in dataloader:\n",
        "            pred = model(X)\n",
        "            loss += loss_fn(pred, y).item()\n",
        "            # how many are correct in this batch? Tracking for accuracy\n",
        "            correct += (pred.argmax(1) == y).type(torch.float).sum().item()\n",
        "\n",
        "    loss /= num_batches\n",
        "    correct /= size\n",
        "\n",
        "    accuracy = 100*correct\n",
        "    return accuracy, loss"
      ]
    },
    {
      "cell_type": "code",
      "execution_count": null,
      "metadata": {
        "id": "EyRuqA2420S7"
      },
      "outputs": [],
      "source": [
        "%%time\n",
        "\n",
        "epochs = 5\n",
        "train_acc_all = []\n",
        "val_acc_all = []\n",
        "for j in range(epochs):\n",
        "    train_one_epoch(train_dataloader, linear_model, loss_fn, optimizer)\n",
        "\n",
        "    # checking on the training loss and accuracy once per epoch\n",
        "    acc, loss = evaluate(train_dataloader, linear_model, loss_fn)\n",
        "    train_acc_all.append(acc)\n",
        "    print(f\"Epoch {j}: training loss: {loss}, accuracy: {acc}\")\n",
        "\n",
        "    # checking on the validation loss and accuracy once per epoch\n",
        "    val_acc, val_loss = evaluate(val_dataloader, linear_model, loss_fn)\n",
        "    val_acc_all.append(val_acc)\n",
        "    print(f\"Epoch {j}: val. loss: {val_loss}, val. accuracy: {val_acc}\")"
      ]
    },
    {
      "cell_type": "code",
      "execution_count": null,
      "metadata": {
        "id": "-KKwf4Od20S8"
      },
      "outputs": [],
      "source": [
        "pltsize=1\n",
        "plt.figure(figsize=(10*pltsize, 10 * pltsize))\n",
        "plt.plot(range(epochs), train_acc_all,label = 'Training Acc.' )\n",
        "plt.plot(range(epochs), val_acc_all, label = 'Validation Acc.' )\n",
        "plt.xlabel('Epoch #')\n",
        "plt.ylabel('Loss')\n",
        "plt.legend()"
      ]
    },
    {
      "cell_type": "code",
      "execution_count": null,
      "metadata": {
        "id": "k8oOpAhb20S8"
      },
      "outputs": [],
      "source": [
        "# Visualize how the model is doing on the first 10 examples\n",
        "pltsize=1\n",
        "plt.figure(figsize=(10*pltsize, pltsize))\n",
        "linear_model.eval()\n",
        "batch = next(iter(train_dataloader))\n",
        "predictions = linear_model(batch[0])\n",
        "\n",
        "for i in range(10):\n",
        "    plt.subplot(1,10,i+1)\n",
        "    plt.axis('off')\n",
        "    plt.imshow(batch[0][i,0,:,:], cmap=\"gray\")\n",
        "    plt.title('%d' % predictions[i,:].argmax())"
      ]
    },
    {
      "cell_type": "markdown",
      "metadata": {
        "id": "eRPBsRXv20S-"
      },
      "source": [
        "# Prediction\n",
        "\n",
        "Let's see how our model generalizes to the unseen test data.\n",
        "\n"
      ]
    },
    {
      "cell_type": "code",
      "execution_count": null,
      "metadata": {
        "id": "TVKpfnM820S_"
      },
      "outputs": [],
      "source": [
        "#create dataloader for test data\n",
        "# The dataloader makes our dataset iterable\n",
        "batch_size_test = 256\n",
        "test_dataloader = torch.utils.data.DataLoader(test_data, batch_size=batch_size_test)"
      ]
    },
    {
      "cell_type": "code",
      "execution_count": null,
      "metadata": {
        "id": "YstjeTEO20S_"
      },
      "outputs": [],
      "source": [
        "acc_test, loss_test = evaluate(test_dataloader, linear_model, loss_fn)\n",
        "print(\"Test loss: %.4f, test accuracy: %.2f%%\" % (loss_test, acc_test))"
      ]
    },
    {
      "cell_type": "markdown",
      "metadata": {
        "id": "HPbIEBkH20TA"
      },
      "source": [
        "We can now take a closer look at the results.\n",
        "\n",
        "Let's define a helper function to show the failure cases of our classifier."
      ]
    },
    {
      "cell_type": "code",
      "execution_count": null,
      "metadata": {
        "id": "E9kd1LoZ20TA"
      },
      "outputs": [],
      "source": [
        "def show_failures(model, dataloader, maxtoshow=10):\n",
        "    model.eval()\n",
        "    batch = next(iter(dataloader))\n",
        "    predictions = model(batch[0])\n",
        "\n",
        "    rounded = predictions.argmax(1)\n",
        "    errors = rounded!=batch[1]\n",
        "    print('Showing max', maxtoshow, 'first failures. '\n",
        "          'The predicted class is shown first and the correct class in parentheses.')\n",
        "    ii = 0\n",
        "    plt.figure(figsize=(maxtoshow, 1))\n",
        "    for i in range(batch[0].shape[0]):\n",
        "        if ii>=maxtoshow:\n",
        "            break\n",
        "        if errors[i]:\n",
        "            plt.subplot(1, maxtoshow, ii+1)\n",
        "            plt.axis('off')\n",
        "            plt.imshow(batch[0][i,0,:,:], cmap=\"gray\")\n",
        "            plt.title(\"%d (%d)\" % (rounded[i], batch[1][i]))\n",
        "            ii = ii + 1"
      ]
    },
    {
      "cell_type": "markdown",
      "metadata": {
        "id": "Bh1PXcl_20TB"
      },
      "source": [
        "Here are the first 10 images from the test data that this small model classified to a wrong class:\n",
        "\n"
      ]
    },
    {
      "cell_type": "code",
      "execution_count": null,
      "metadata": {
        "id": "IE6wTnow20TB"
      },
      "outputs": [],
      "source": [
        "show_failures(linear_model, test_dataloader)"
      ]
    },
    {
      "cell_type": "markdown",
      "metadata": {
        "id": "xTxS6f6K20TC"
      },
      "source": [
        "<!-- # Exercise:\n",
        "- Try changing the loss function,\n",
        "- Try changing the optimizer -->"
      ]
    },
    {
      "cell_type": "markdown",
      "metadata": {
        "id": "xY1LwfLB20TC"
      },
      "source": [
        "We can now implement a deep network in PyTorch. nn.Dropout() performs the Dropout operation mentioned earlier"
      ]
    },
    {
      "cell_type": "code",
      "execution_count": null,
      "metadata": {
        "id": "YfvhNaIv20TD"
      },
      "outputs": [],
      "source": [
        "class NonlinearClassifier(nn.Module):\n",
        "\n",
        "    def __init__(self):\n",
        "        super().__init__()\n",
        "        self.flatten = nn.Flatten()\n",
        "        self.layers_stack = nn.Sequential(\n",
        "            nn.Linear(28*28, 50),\n",
        "            nn.ELU(),\n",
        "            nn.Dropout(0.2),\n",
        "            nn.Linear(50, 50),\n",
        "            nn.ReLU(),\n",
        "           # nn.Dropout(0.2),\n",
        "            nn.Linear(50, 50),\n",
        "            nn.ReLU(),\n",
        "           # nn.Dropout(0.2),\n",
        "            nn.Linear(50, 10)\n",
        "        )\n",
        "\n",
        "    def forward(self, x):\n",
        "        x = self.flatten(x)\n",
        "        x = self.layers_stack(x)\n",
        "\n",
        "        return x"
      ]
    },
    {
      "cell_type": "code",
      "execution_count": null,
      "metadata": {
        "id": "vGYrpoLW20TD"
      },
      "outputs": [],
      "source": [
        "nonlinear_model = NonlinearClassifier()\n",
        "loss_fn = nn.CrossEntropyLoss()\n",
        "optimizer = torch.optim.SGD(nonlinear_model.parameters(), lr=0.05)"
      ]
    },
    {
      "cell_type": "code",
      "execution_count": null,
      "metadata": {
        "colab": {
          "base_uri": "https://localhost:8080/"
        },
        "outputId": "54b3ac18-fcf4-4ca0-b69e-08746055200c",
        "id": "mqGD0VDg20TD"
      },
      "outputs": [
        {
          "output_type": "stream",
          "name": "stdout",
          "text": [
            "Epoch 0: training loss: 0.7137679883639018, accuracy: 77.98958333333333\n",
            "Epoch 0: val. loss: 0.7104227897968698, val. accuracy: 77.85\n",
            "Epoch 1: training loss: 0.3900777490933736, accuracy: 88.85625\n",
            "Epoch 1: val. loss: 0.38112043462535167, val. accuracy: 88.97500000000001\n",
            "Epoch 2: training loss: 0.31512375648816426, accuracy: 90.99583333333334\n",
            "Epoch 2: val. loss: 0.3067143985882719, val. accuracy: 90.75833333333333\n",
            "Epoch 3: training loss: 0.27369697743654253, accuracy: 92.09791666666666\n",
            "Epoch 3: val. loss: 0.26768355642227415, val. accuracy: 91.78333333333333\n",
            "Epoch 4: training loss: 0.24637096899747848, accuracy: 92.65\n",
            "Epoch 4: val. loss: 0.2428353816429351, val. accuracy: 92.45\n",
            "CPU times: user 1min 15s, sys: 11.1 ms, total: 1min 15s\n",
            "Wall time: 1min 16s\n"
          ]
        }
      ],
      "source": [
        "%%time\n",
        "\n",
        "epochs = 5\n",
        "train_acc_all = []\n",
        "val_acc_all = []\n",
        "for j in range(epochs):\n",
        "    train_one_epoch(train_dataloader, nonlinear_model, loss_fn, optimizer)\n",
        "\n",
        "    # checking on the training loss and accuracy once per epoch\n",
        "    acc, loss = evaluate(train_dataloader, nonlinear_model, loss_fn)\n",
        "    train_acc_all.append(acc)\n",
        "    print(f\"Epoch {j}: training loss: {loss}, accuracy: {acc}\")\n",
        "\n",
        "    # checking on the validation loss and accuracy once per epoch\n",
        "    val_acc, val_loss = evaluate(val_dataloader, nonlinear_model, loss_fn)\n",
        "    val_acc_all.append(val_acc)\n",
        "    print(f\"Epoch {j}: val. loss: {val_loss}, val. accuracy: {val_acc}\")"
      ]
    },
    {
      "cell_type": "code",
      "execution_count": null,
      "metadata": {
        "colab": {
          "base_uri": "https://localhost:8080/",
          "height": 868
        },
        "outputId": "8df85ffe-6067-451c-da51-55b04d1b406a",
        "id": "34KziCkw20TD"
      },
      "outputs": [
        {
          "output_type": "execute_result",
          "data": {
            "text/plain": [
              "<matplotlib.legend.Legend at 0x787b80643070>"
            ]
          },
          "metadata": {},
          "execution_count": 16
        },
        {
          "output_type": "display_data",
          "data": {
            "text/plain": [
              "<Figure size 1000x1000 with 1 Axes>"
            ],
            "image/png": "[encoded data removed]"
          },
          "metadata": {}
        }
      ],
      "source": [
        "pltsize=1\n",
        "plt.figure(figsize=(10*pltsize, 10 * pltsize))\n",
        "plt.plot(range(epochs), train_acc_all,label = 'Training Acc.' )\n",
        "plt.plot(range(epochs), val_acc_all, label = 'Validation Acc.' )\n",
        "plt.xlabel('Epoch #')\n",
        "plt.ylabel('Loss')\n",
        "plt.legend()"
      ]
    },
    {
      "cell_type": "code",
      "execution_count": null,
      "metadata": {
        "id": "B9oyamh920TE"
      },
      "outputs": [],
      "source": [
        "show_failures(nonlinear_model, test_dataloader)"
      ]
    }
  ],
  "metadata": {
    "kernelspec": {
      "display_name": "Python 3 (ipykernel)",
      "language": "python",
      "name": "python3"
    },
    "language_info": {
      "codemirror_mode": {
        "name": "ipython",
        "version": 3
      },
      "file_extension": ".py",
      "mimetype": "text/x-python",
      "name": "python",
      "nbconvert_exporter": "python",
      "pygments_lexer": "ipython3",
      "version": "3.7.4"
    },
    "colab": {
      "provenance": [],
      "include_colab_link": true
    }
  },
  "nbformat": 4,
  "nbformat_minor": 0
}