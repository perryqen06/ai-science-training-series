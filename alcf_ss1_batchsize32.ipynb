{
  "nbformat": 4,
  "nbformat_minor": 0,
  "metadata": {
    "colab": {
      "provenance": [],
      "authorship_tag": "ABX9TyPqtsnLencHtsM9xVYnPxwm"
    },
    "kernelspec": {
      "name": "python3",
      "display_name": "Python 3"
    },
    "language_info": {
      "name": "python"
    }
  },
  "cells": [
    {
      "cell_type": "code",
      "execution_count": null,
      "metadata": {
        "colab": {
          "base_uri": "https://localhost:8080/"
        },
        "id": "Ww3WBRSObsvm",
        "outputId": "4251810a-9dc9-4e98-a887-45150b05a493"
      },
      "outputs": [
        {
          "output_type": "stream",
          "name": "stdout",
          "text": [
            "--2024-10-03 21:53:03--  https://raw.githubusercontent.com/argonne-lcf/ai-science-training-series/main/01_intro_AI_on_Supercomputer/slimmed_realestate_data.csv\n",
            "Resolving raw.githubusercontent.com (raw.githubusercontent.com)... 185.199.108.133, 185.199.109.133, 185.199.110.133, ...\n",
            "Connecting to raw.githubusercontent.com (raw.githubusercontent.com)|185.199.108.133|:443... connected.\n",
            "HTTP request sent, awaiting response... 200 OK\n",
            "Length: 8804 (8.6K) [text/plain]\n",
            "Saving to: ‘slimmed_realestate_data.csv’\n",
            "\n",
            "slimmed_realestate_ 100%[===================>]   8.60K  --.-KB/s    in 0s      \n",
            "\n",
            "2024-10-03 21:53:04 (82.2 MB/s) - ‘slimmed_realestate_data.csv’ saved [8804/8804]\n",
            "\n",
            "Index(['Unnamed: 0', 'SalePrice', 'GrLivArea'], dtype='object')\n"
          ]
        }
      ],
      "source": [
        "import pandas as pd\n",
        "import numpy as np\n",
        "import matplotlib.pyplot as plt\n",
        "import IPython.display as ipydis\n",
        "import time\n",
        "\n",
        "\n",
        "! [ -e ./slimmed_realestate_data.csv ] || wget https://raw.githubusercontent.com/argonne-lcf/ai-science-training-series/main/01_intro_AI_on_Supercomputer/slimmed_realestate_data.csv\n",
        "data = pd.read_csv('slimmed_realestate_data.csv')\n",
        "print(data.columns)"
      ]
    },
    {
      "cell_type": "code",
      "source": [
        "display(data)"
      ],
      "metadata": {
        "colab": {
          "base_uri": "https://localhost:8080/",
          "height": 444
        },
        "id": "WKbpmcBKfjDu",
        "outputId": "9c1e3577-30db-425a-c971-ad89e48d70ff"
      },
      "execution_count": null,
      "outputs": [
        {
          "output_type": "display_data",
          "data": {
            "text/plain": [
              "     Unnamed: 0  SalePrice  GrLivArea\n",
              "0             1     181500       1262\n",
              "1             7     200000       2090\n",
              "2             9     118000       1077\n",
              "3            12     144000        912\n",
              "4            15     132000        854\n",
              "..          ...        ...        ...\n",
              "546        1449      92000        630\n",
              "547        1456     210000       2073\n",
              "548        1457     266500       2340\n",
              "549        1458     142125       1078\n",
              "550        1459     147500       1256\n",
              "\n",
              "[551 rows x 3 columns]"
            ],
            "text/html": [
              "\n",
              "  <div id=\"df-4bb7887f-3183-4e7d-ad81-99118f223b0a\" class=\"colab-df-container\">\n",
              "    <div>\n",
              "<style scoped>\n",
              "    .dataframe tbody tr th:only-of-type {\n",
              "        vertical-align: middle;\n",
              "    }\n",
              "\n",
              "    .dataframe tbody tr th {\n",
              "        vertical-align: top;\n",
              "    }\n",
              "\n",
              "    .dataframe thead th {\n",
              "        text-align: right;\n",
              "    }\n",
              "</style>\n",
              "<table border=\"1\" class=\"dataframe\">\n",
              "  <thead>\n",
              "    <tr style=\"text-align: right;\">\n",
              "      <th></th>\n",
              "      <th>Unnamed: 0</th>\n",
              "      <th>SalePrice</th>\n",
              "      <th>GrLivArea</th>\n",
              "    </tr>\n",
              "  </thead>\n",
              "  <tbody>\n",
              "    <tr>\n",
              "      <th>0</th>\n",
              "      <td>1</td>\n",
              "      <td>181500</td>\n",
              "      <td>1262</td>\n",
              "    </tr>\n",
              "    <tr>\n",
              "      <th>1</th>\n",
              "      <td>7</td>\n",
              "      <td>200000</td>\n",
              "      <td>2090</td>\n",
              "    </tr>\n",
              "    <tr>\n",
              "      <th>2</th>\n",
              "      <td>9</td>\n",
              "      <td>118000</td>\n",
              "      <td>1077</td>\n",
              "    </tr>\n",
              "    <tr>\n",
              "      <th>3</th>\n",
              "      <td>12</td>\n",
              "      <td>144000</td>\n",
              "      <td>912</td>\n",
              "    </tr>\n",
              "    <tr>\n",
              "      <th>4</th>\n",
              "      <td>15</td>\n",
              "      <td>132000</td>\n",
              "      <td>854</td>\n",
              "    </tr>\n",
              "    <tr>\n",
              "      <th>...</th>\n",
              "      <td>...</td>\n",
              "      <td>...</td>\n",
              "      <td>...</td>\n",
              "    </tr>\n",
              "    <tr>\n",
              "      <th>546</th>\n",
              "      <td>1449</td>\n",
              "      <td>92000</td>\n",
              "      <td>630</td>\n",
              "    </tr>\n",
              "    <tr>\n",
              "      <th>547</th>\n",
              "      <td>1456</td>\n",
              "      <td>210000</td>\n",
              "      <td>2073</td>\n",
              "    </tr>\n",
              "    <tr>\n",
              "      <th>548</th>\n",
              "      <td>1457</td>\n",
              "      <td>266500</td>\n",
              "      <td>2340</td>\n",
              "    </tr>\n",
              "    <tr>\n",
              "      <th>549</th>\n",
              "      <td>1458</td>\n",
              "      <td>142125</td>\n",
              "      <td>1078</td>\n",
              "    </tr>\n",
              "    <tr>\n",
              "      <th>550</th>\n",
              "      <td>1459</td>\n",
              "      <td>147500</td>\n",
              "      <td>1256</td>\n",
              "    </tr>\n",
              "  </tbody>\n",
              "</table>\n",
              "<p>551 rows × 3 columns</p>\n",
              "</div>\n",
              "    <div class=\"colab-df-buttons\">\n",
              "\n",
              "  <div class=\"colab-df-container\">\n",
              "    <button class=\"colab-df-convert\" onclick=\"convertToInteractive('df-4bb7887f-3183-4e7d-ad81-99118f223b0a')\"\n",
              "            title=\"Convert this dataframe to an interactive table.\"\n",
              "            style=\"display:none;\">\n",
              "\n",
              "  <svg xmlns=\"http://www.w3.org/2000/svg\" height=\"24px\" viewBox=\"0 -960 960 960\">\n",
              "    <path d=\"M120-120v-720h720v720H120Zm60-500h600v-160H180v160Zm220 220h160v-160H400v160Zm0 220h160v-160H400v160ZM180-400h160v-160H180v160Zm440 0h160v-160H620v160ZM180-180h160v-160H180v160Zm440 0h160v-160H620v160Z\"/>\n",
              "  </svg>\n",
              "    </button>\n",
              "\n",
              "  <style>\n",
              "    .colab-df-container {\n",
              "      display:flex;\n",
              "      gap: 12px;\n",
              "    }\n",
              "\n",
              "    .colab-df-convert {\n",
              "      background-color: #E8F0FE;\n",
              "      border: none;\n",
              "      border-radius: 50%;\n",
              "      cursor: pointer;\n",
              "      display: none;\n",
              "      fill: #1967D2;\n",
              "      height: 32px;\n",
              "      padding: 0 0 0 0;\n",
              "      width: 32px;\n",
              "    }\n",
              "\n",
              "    .colab-df-convert:hover {\n",
              "      background-color: #E2EBFA;\n",
              "      box-shadow: 0px 1px 2px rgba(60, 64, 67, 0.3), 0px 1px 3px 1px rgba(60, 64, 67, 0.15);\n",
              "      fill: #174EA6;\n",
              "    }\n",
              "\n",
              "    .colab-df-buttons div {\n",
              "      margin-bottom: 4px;\n",
              "    }\n",
              "\n",
              "    [theme=dark] .colab-df-convert {\n",
              "      background-color: #3B4455;\n",
              "      fill: #D2E3FC;\n",
              "    }\n",
              "\n",
              "    [theme=dark] .colab-df-convert:hover {\n",
              "      background-color: #434B5C;\n",
              "      box-shadow: 0px 1px 3px 1px rgba(0, 0, 0, 0.15);\n",
              "      filter: drop-shadow(0px 1px 2px rgba(0, 0, 0, 0.3));\n",
              "      fill: #FFFFFF;\n",
              "    }\n",
              "  </style>\n",
              "\n",
              "    <script>\n",
              "      const buttonEl =\n",
              "        document.querySelector('#df-4bb7887f-3183-4e7d-ad81-99118f223b0a button.colab-df-convert');\n",
              "      buttonEl.style.display =\n",
              "        google.colab.kernel.accessAllowed ? 'block' : 'none';\n",
              "\n",
              "      async function convertToInteractive(key) {\n",
              "        const element = document.querySelector('#df-4bb7887f-3183-4e7d-ad81-99118f223b0a');\n",
              "        const dataTable =\n",
              "          await google.colab.kernel.invokeFunction('convertToInteractive',\n",
              "                                                    [key], {});\n",
              "        if (!dataTable) return;\n",
              "\n",
              "        const docLinkHtml = 'Like what you see? Visit the ' +\n",
              "          '<a target=\"_blank\" href=https://colab.research.google.com/notebooks/data_table.ipynb>data table notebook</a>'\n",
              "          + ' to learn more about interactive tables.';\n",
              "        element.innerHTML = '';\n",
              "        dataTable['output_type'] = 'display_data';\n",
              "        await google.colab.output.renderOutput(dataTable, element);\n",
              "        const docLink = document.createElement('div');\n",
              "        docLink.innerHTML = docLinkHtml;\n",
              "        element.appendChild(docLink);\n",
              "      }\n",
              "    </script>\n",
              "  </div>\n",
              "\n",
              "\n",
              "<div id=\"df-7eeb3842-0f19-4c2d-949f-86793b99f1d2\">\n",
              "  <button class=\"colab-df-quickchart\" onclick=\"quickchart('df-7eeb3842-0f19-4c2d-949f-86793b99f1d2')\"\n",
              "            title=\"Suggest charts\"\n",
              "            style=\"display:none;\">\n",
              "\n",
              "<svg xmlns=\"http://www.w3.org/2000/svg\" height=\"24px\"viewBox=\"0 0 24 24\"\n",
              "     width=\"24px\">\n",
              "    <g>\n",
              "        <path d=\"M19 3H5c-1.1 0-2 .9-2 2v14c0 1.1.9 2 2 2h14c1.1 0 2-.9 2-2V5c0-1.1-.9-2-2-2zM9 17H7v-7h2v7zm4 0h-2V7h2v10zm4 0h-2v-4h2v4z\"/>\n",
              "    </g>\n",
              "</svg>\n",
              "  </button>\n",
              "\n",
              "<style>\n",
              "  .colab-df-quickchart {\n",
              "      --bg-color: #E8F0FE;\n",
              "      --fill-color: #1967D2;\n",
              "      --hover-bg-color: #E2EBFA;\n",
              "      --hover-fill-color: #174EA6;\n",
              "      --disabled-fill-color: #AAA;\n",
              "      --disabled-bg-color: #DDD;\n",
              "  }\n",
              "\n",
              "  [theme=dark] .colab-df-quickchart {\n",
              "      --bg-color: #3B4455;\n",
              "      --fill-color: #D2E3FC;\n",
              "      --hover-bg-color: #434B5C;\n",
              "      --hover-fill-color: #FFFFFF;\n",
              "      --disabled-bg-color: #3B4455;\n",
              "      --disabled-fill-color: #666;\n",
              "  }\n",
              "\n",
              "  .colab-df-quickchart {\n",
              "    background-color: var(--bg-color);\n",
              "    border: none;\n",
              "    border-radius: 50%;\n",
              "    cursor: pointer;\n",
              "    display: none;\n",
              "    fill: var(--fill-color);\n",
              "    height: 32px;\n",
              "    padding: 0;\n",
              "    width: 32px;\n",
              "  }\n",
              "\n",
              "  .colab-df-quickchart:hover {\n",
              "    background-color: var(--hover-bg-color);\n",
              "    box-shadow: 0 1px 2px rgba(60, 64, 67, 0.3), 0 1px 3px 1px rgba(60, 64, 67, 0.15);\n",
              "    fill: var(--button-hover-fill-color);\n",
              "  }\n",
              "\n",
              "  .colab-df-quickchart-complete:disabled,\n",
              "  .colab-df-quickchart-complete:disabled:hover {\n",
              "    background-color: var(--disabled-bg-color);\n",
              "    fill: var(--disabled-fill-color);\n",
              "    box-shadow: none;\n",
              "  }\n",
              "\n",
              "  .colab-df-spinner {\n",
              "    border: 2px solid var(--fill-color);\n",
              "    border-color: transparent;\n",
              "    border-bottom-color: var(--fill-color);\n",
              "    animation:\n",
              "      spin 1s steps(1) infinite;\n",
              "  }\n",
              "\n",
              "  @keyframes spin {\n",
              "    0% {\n",
              "      border-color: transparent;\n",
              "      border-bottom-color: var(--fill-color);\n",
              "      border-left-color: var(--fill-color);\n",
              "    }\n",
              "    20% {\n",
              "      border-color: transparent;\n",
              "      border-left-color: var(--fill-color);\n",
              "      border-top-color: var(--fill-color);\n",
              "    }\n",
              "    30% {\n",
              "      border-color: transparent;\n",
              "      border-left-color: var(--fill-color);\n",
              "      border-top-color: var(--fill-color);\n",
              "      border-right-color: var(--fill-color);\n",
              "    }\n",
              "    40% {\n",
              "      border-color: transparent;\n",
              "      border-right-color: var(--fill-color);\n",
              "      border-top-color: var(--fill-color);\n",
              "    }\n",
              "    60% {\n",
              "      border-color: transparent;\n",
              "      border-right-color: var(--fill-color);\n",
              "    }\n",
              "    80% {\n",
              "      border-color: transparent;\n",
              "      border-right-color: var(--fill-color);\n",
              "      border-bottom-color: var(--fill-color);\n",
              "    }\n",
              "    90% {\n",
              "      border-color: transparent;\n",
              "      border-bottom-color: var(--fill-color);\n",
              "    }\n",
              "  }\n",
              "</style>\n",
              "\n",
              "  <script>\n",
              "    async function quickchart(key) {\n",
              "      const quickchartButtonEl =\n",
              "        document.querySelector('#' + key + ' button');\n",
              "      quickchartButtonEl.disabled = true;  // To prevent multiple clicks.\n",
              "      quickchartButtonEl.classList.add('colab-df-spinner');\n",
              "      try {\n",
              "        const charts = await google.colab.kernel.invokeFunction(\n",
              "            'suggestCharts', [key], {});\n",
              "      } catch (error) {\n",
              "        console.error('Error during call to suggestCharts:', error);\n",
              "      }\n",
              "      quickchartButtonEl.classList.remove('colab-df-spinner');\n",
              "      quickchartButtonEl.classList.add('colab-df-quickchart-complete');\n",
              "    }\n",
              "    (() => {\n",
              "      let quickchartButtonEl =\n",
              "        document.querySelector('#df-7eeb3842-0f19-4c2d-949f-86793b99f1d2 button');\n",
              "      quickchartButtonEl.style.display =\n",
              "        google.colab.kernel.accessAllowed ? 'block' : 'none';\n",
              "    })();\n",
              "  </script>\n",
              "</div>\n",
              "\n",
              "  <div id=\"id_6c77bf37-8b9b-486b-9bdf-a64d099f95cb\">\n",
              "    <style>\n",
              "      .colab-df-generate {\n",
              "        background-color: #E8F0FE;\n",
              "        border: none;\n",
              "        border-radius: 50%;\n",
              "        cursor: pointer;\n",
              "        display: none;\n",
              "        fill: #1967D2;\n",
              "        height: 32px;\n",
              "        padding: 0 0 0 0;\n",
              "        width: 32px;\n",
              "      }\n",
              "\n",
              "      .colab-df-generate:hover {\n",
              "        background-color: #E2EBFA;\n",
              "        box-shadow: 0px 1px 2px rgba(60, 64, 67, 0.3), 0px 1px 3px 1px rgba(60, 64, 67, 0.15);\n",
              "        fill: #174EA6;\n",
              "      }\n",
              "\n",
              "      [theme=dark] .colab-df-generate {\n",
              "        background-color: #3B4455;\n",
              "        fill: #D2E3FC;\n",
              "      }\n",
              "\n",
              "      [theme=dark] .colab-df-generate:hover {\n",
              "        background-color: #434B5C;\n",
              "        box-shadow: 0px 1px 3px 1px rgba(0, 0, 0, 0.15);\n",
              "        filter: drop-shadow(0px 1px 2px rgba(0, 0, 0, 0.3));\n",
              "        fill: #FFFFFF;\n",
              "      }\n",
              "    </style>\n",
              "    <button class=\"colab-df-generate\" onclick=\"generateWithVariable('data')\"\n",
              "            title=\"Generate code using this dataframe.\"\n",
              "            style=\"display:none;\">\n",
              "\n",
              "  <svg xmlns=\"http://www.w3.org/2000/svg\" height=\"24px\"viewBox=\"0 0 24 24\"\n",
              "       width=\"24px\">\n",
              "    <path d=\"M7,19H8.4L18.45,9,17,7.55,7,17.6ZM5,21V16.75L18.45,3.32a2,2,0,0,1,2.83,0l1.4,1.43a1.91,1.91,0,0,1,.58,1.4,1.91,1.91,0,0,1-.58,1.4L9.25,21ZM18.45,9,17,7.55Zm-12,3A5.31,5.31,0,0,0,4.9,8.1,5.31,5.31,0,0,0,1,6.5,5.31,5.31,0,0,0,4.9,4.9,5.31,5.31,0,0,0,6.5,1,5.31,5.31,0,0,0,8.1,4.9,5.31,5.31,0,0,0,12,6.5,5.46,5.46,0,0,0,6.5,12Z\"/>\n",
              "  </svg>\n",
              "    </button>\n",
              "    <script>\n",
              "      (() => {\n",
              "      const buttonEl =\n",
              "        document.querySelector('#id_6c77bf37-8b9b-486b-9bdf-a64d099f95cb button.colab-df-generate');\n",
              "      buttonEl.style.display =\n",
              "        google.colab.kernel.accessAllowed ? 'block' : 'none';\n",
              "\n",
              "      buttonEl.onclick = () => {\n",
              "        google.colab.notebook.generateWithVariable('data');\n",
              "      }\n",
              "      })();\n",
              "    </script>\n",
              "  </div>\n",
              "\n",
              "    </div>\n",
              "  </div>\n"
            ],
            "application/vnd.google.colaboratory.intrinsic+json": {
              "type": "dataframe",
              "variable_name": "data",
              "summary": "{\n  \"name\": \"data\",\n  \"rows\": 551,\n  \"fields\": [\n    {\n      \"column\": \"Unnamed: 0\",\n      \"properties\": {\n        \"dtype\": \"number\",\n        \"std\": 421,\n        \"min\": 1,\n        \"max\": 1459,\n        \"num_unique_values\": 551,\n        \"samples\": [\n          1449,\n          222,\n          392\n        ],\n        \"semantic_type\": \"\",\n        \"description\": \"\"\n      }\n    },\n    {\n      \"column\": \"SalePrice\",\n      \"properties\": {\n        \"dtype\": \"number\",\n        \"std\": 59968,\n        \"min\": 37900,\n        \"max\": 755000,\n        \"num_unique_values\": 309,\n        \"samples\": [\n          262500,\n          154000,\n          228000\n        ],\n        \"semantic_type\": \"\",\n        \"description\": \"\"\n      }\n    },\n    {\n      \"column\": \"GrLivArea\",\n      \"properties\": {\n        \"dtype\": \"number\",\n        \"std\": 524,\n        \"min\": 520,\n        \"max\": 4316,\n        \"num_unique_values\": 423,\n        \"samples\": [\n          904,\n          1445,\n          1041\n        ],\n        \"semantic_type\": \"\",\n        \"description\": \"\"\n      }\n    }\n  ]\n}"
            }
          },
          "metadata": {}
        }
      ]
    },
    {
      "cell_type": "code",
      "source": [
        "data.plot(x='GrLivArea', y='SalePrice',style='.')"
      ],
      "metadata": {
        "colab": {
          "base_uri": "https://localhost:8080/",
          "height": 486
        },
        "id": "jirVx9PAhmI6",
        "outputId": "06a7821c-a6fa-4f22-8169-5cf0f3b02e87"
      },
      "execution_count": null,
      "outputs": [
        {
          "output_type": "execute_result",
          "data": {
            "text/plain": [
              "<Axes: xlabel='GrLivArea'>"
            ]
          },
          "metadata": {},
          "execution_count": 6
        },
        {
          "output_type": "display_data",
          "data": {
            "text/plain": [
              "<Figure size 640x480 with 1 Axes>"
            ],
            "image/png": "[encoded data removed]"
          },
          "metadata": {}
        }
      ]
    },
    {
      "cell_type": "code",
      "source": [
        "n = len(data)\n",
        "print(n)\n"
      ],
      "metadata": {
        "colab": {
          "base_uri": "https://localhost:8080/"
        },
        "id": "wbGOES7qigYD",
        "outputId": "5e934c84-b9d4-4b7f-a349-0c5cefb3eb1e"
      },
      "execution_count": null,
      "outputs": [
        {
          "output_type": "stream",
          "name": "stdout",
          "text": [
            "551\n"
          ]
        }
      ]
    },
    {
      "cell_type": "code",
      "source": [
        "data_batch = data.sample(n=32)\n",
        "x = data_batch['GrLivArea'].to_numpy()\n",
        "y = data_batch['SalePrice'].to_numpy()"
      ],
      "metadata": {
        "id": "lkqumDGek9J_"
      },
      "execution_count": null,
      "outputs": []
    },
    {
      "cell_type": "code",
      "source": [
        "sum_xy = np.sum(x*y)\n",
        "sum_x = np.sum(x)\n",
        "sum_y = np.sum(y)\n",
        "sum_x2 = np.sum(x*x)"
      ],
      "metadata": {
        "id": "JdWXOBJClMVJ"
      },
      "execution_count": null,
      "outputs": []
    },
    {
      "cell_type": "code",
      "source": [
        "denominator = 32 * sum_x2 - sum_x * sum_x"
      ],
      "metadata": {
        "id": "zk4RezGlun3K"
      },
      "execution_count": null,
      "outputs": []
    },
    {
      "cell_type": "code",
      "source": [
        "m = (32 * sum_xy - sum_x * sum_y) / denominator\n",
        "b = (sum_y * sum_x2 - sum_x * sum_xy) / denominator\n",
        "print('y = %f * x + %f' % (m,b))\n",
        "\n",
        "\n"
      ],
      "metadata": {
        "colab": {
          "base_uri": "https://localhost:8080/"
        },
        "id": "jeb0ImeiuoBv",
        "outputId": "8dacaf7c-cdc6-44c4-97a0-32977ba24307"
      },
      "execution_count": null,
      "outputs": [
        {
          "output_type": "stream",
          "name": "stdout",
          "text": [
            "y = 47.005168 * x + 55582.140032\n"
          ]
        }
      ]
    },
    {
      "cell_type": "code",
      "source": [
        "# saving these for later comparison\n",
        "m_calc = m\n",
        "b_calc = b\n"
      ],
      "metadata": {
        "id": "gE3AXLoquoKR"
      },
      "execution_count": null,
      "outputs": []
    },
    {
      "cell_type": "code",
      "source": [
        "def plot_data(x,y,m,b,plt = plt):\n",
        "   # plot our data points with 'bo' = blue circles\n",
        "   plt.plot(x,y,'bo')\n",
        "   # create the line based on our linear fit\n",
        "   # first we need to make x points\n",
        "   # the 'arange' function generates points between two limits (min,max)\n",
        "   linear_x = np.arange(x.min(),x.max())\n",
        "   # now we use our fit parameters to calculate the y points based on our x points\n",
        "   linear_y = linear_x * m + b\n",
        "   print(linear_y)\n",
        "   # plot the linear points using 'r-' = red line\n",
        "   plt.plot(linear_x,linear_y,'r-',label='fit')"
      ],
      "metadata": {
        "id": "52rd9kOcuoNy"
      },
      "execution_count": null,
      "outputs": []
    },
    {
      "cell_type": "code",
      "source": [
        "plot_data(x,y,m,b)"
      ],
      "metadata": {
        "colab": {
          "base_uri": "https://localhost:8080/",
          "height": 485
        },
        "id": "wtbbpn0v3COJ",
        "outputId": "fbb35a00-e2a7-4d98-ba76-0840f97e2c6e"
      },
      "execution_count": null,
      "outputs": [
        {
          "output_type": "stream",
          "name": "stdout",
          "text": [
            "[ 85195.3959329   85242.401101    85289.40626909 ... 186679.5538543\n",
            " 186726.5590224  186773.5641905 ]\n"
          ]
        },
        {
          "output_type": "display_data",
          "data": {
            "text/plain": [
              "<Figure size 640x480 with 1 Axes>"
            ],
            "image/png": "[encoded data removed]"
          },
          "metadata": {}
        }
      ]
    },
    {
      "cell_type": "code",
      "source": [
        "def model(x,m,b):\n",
        "   return m * x + b"
      ],
      "metadata": {
        "id": "SQYps-mK34t4"
      },
      "execution_count": null,
      "outputs": []
    },
    {
      "cell_type": "code",
      "source": [
        "def loss(x,y,m,b):\n",
        "   y_predicted = model(x,m,b)\n",
        "   return np.power( y - y_predicted, 2 )"
      ],
      "metadata": {
        "id": "9o7Et5rYMnhE"
      },
      "execution_count": null,
      "outputs": []
    },
    {
      "cell_type": "code",
      "source": [
        "def updated_m(x,y,m,b,learning_rate):\n",
        "   dL_dm = - 2 * x * (y - model(x,m,b))\n",
        "   dL_dm = np.mean(dL_dm)\n",
        "   return m - learning_rate * dL_dm\n",
        "\n",
        "def updated_b(x,y,m,b,learning_rate):\n",
        "   dL_db = - 2 * (y - model(x,m,b))\n",
        "   dL_db = np.mean(dL_db)\n",
        "   return b - learning_rate * dL_db"
      ],
      "metadata": {
        "id": "FJiUTkznQoSn"
      },
      "execution_count": null,
      "outputs": []
    },
    {
      "cell_type": "code",
      "source": [
        "m = 5.\n",
        "b = 1000.\n",
        "print('y_i = %.2f * x + %.2f' % (m,b))"
      ],
      "metadata": {
        "colab": {
          "base_uri": "https://localhost:8080/"
        },
        "id": "MWvEkhk2RHje",
        "outputId": "18e9c0b6-3931-4f4b-b6be-9617aaa731ce"
      },
      "execution_count": null,
      "outputs": [
        {
          "output_type": "stream",
          "name": "stdout",
          "text": [
            "y_i = 5.00 * x + 1000.00\n"
          ]
        }
      ]
    },
    {
      "cell_type": "code",
      "source": [
        "l = loss(x,y,m,b)\n",
        "print('first 10 loss values: ',l[:10])"
      ],
      "metadata": {
        "colab": {
          "base_uri": "https://localhost:8080/"
        },
        "id": "HdtBjwxtRrrh",
        "outputId": "77e57919-ae8a-4c12-8c2d-5b89ef93966b"
      },
      "execution_count": null,
      "outputs": [
        {
          "output_type": "stream",
          "name": "stdout",
          "text": [
            "first 10 loss values:  [2.77822224e+10 1.47383049e+11 6.54924872e+10 3.85179876e+10\n",
            " 1.28845201e+10 2.86337162e+10 2.04261264e+10 1.66564836e+10\n",
            " 8.40522240e+09 1.59668496e+10]\n"
          ]
        }
      ]
    },
    {
      "cell_type": "code",
      "source": [
        "learning_rate = 1e-9\n",
        "m = updated_m(x,y,m,b,learning_rate)\n",
        "b = updated_b(x,y,m,b,learning_rate)\n",
        "print('y_i = %.2f * x + %.2f     previously calculated: y_i = %.2f * x + %.2f' % (m,b,m_calc,b_calc))\n",
        "plot_data(x,y,m,b)"
      ],
      "metadata": {
        "colab": {
          "base_uri": "https://localhost:8080/",
          "height": 502
        },
        "id": "qES4-KpfR50W",
        "outputId": "f042ca9c-52bc-40e1-d34d-107c4644769e"
      },
      "execution_count": null,
      "outputs": [
        {
          "output_type": "stream",
          "name": "stdout",
          "text": [
            "y_i = 5.52 * x + 1000.00     previously calculated: y_i = 47.01 * x + 55582.14\n",
            "[ 4477.07138299  4482.59054338  4488.10970378 ... 16392.93868186\n",
            " 16398.45784226 16403.97700266]\n"
          ]
        },
        {
          "output_type": "display_data",
          "data": {
            "text/plain": [
              "<Figure size 640x480 with 1 Axes>"
            ],
            "image/png": "[encoded data removed]"
          },
          "metadata": {}
        }
      ]
    },
    {
      "cell_type": "code",
      "source": [
        "# set our initial slope and intercept\n",
        "m = 5\n",
        "b = 1000.\n",
        "# batch_size = 60\n",
        "# set a learning rate for each parameter\n",
        "learning_rate_m = 1e-7\n",
        "learning_rate_b = 1e-1\n",
        "# use these to plot our progress over time\n",
        "loss_history = []\n",
        "# convert panda data to numpy arrays, one for the \"Ground Living Area\" and one for \"Sale Price\"\n",
        "data_x = data['GrLivArea'].to_numpy()\n",
        "data_y = data['SalePrice'].to_numpy()\n",
        "# we run our loop N times\n",
        "loop_N = int(551/32)\n",
        "for i in range(loop_N):\n",
        "   # update our slope and intercept based on the current values\n",
        "   m = updated_m(data_x,data_y,m,b,learning_rate_m)\n",
        "   b = updated_b(data_x,data_y,m,b,learning_rate_b)\n",
        "\n",
        "   # calculate the loss value\n",
        "   loss_value = np.mean(loss(data_x,data_y,m,b))\n",
        "\n",
        "   # keep a history of our loss values\n",
        "   loss_history.append(loss_value)\n",
        "\n",
        "   # print our progress\n",
        "   print('[%03d]  dy_i = %.2f * x + %.2f     previously calculated: y_i = %.2f * x + %.2f    loss: %f' % (i,m,b,m_calc,b_calc,loss_value))\n",
        "\n",
        "   # close/delete previous plots\n",
        "   plt.close('all')\n",
        "\n",
        "   # create a 1 by 2 plot grid\n",
        "   fig,ax = plt.subplots(1,2,figsize=(18,6),dpi=80)\n",
        "   # lot our usual output\n",
        "   plot_data(data_x,data_y,m,b,ax[0])\n",
        "\n",
        "   # here we also plot the calculated linear fit for comparison\n",
        "   line_x = np.arange(data_x.min(),data_x.max())\n",
        "   line_y = line_x * m_calc + b_calc\n",
        "   ax[0].plot(line_x,line_y,'b-',label='calculated')\n",
        "   # add a legend to the plot and x/y labels\n",
        "   ax[0].legend()\n",
        "   ax[0].set_xlabel('square footage')\n",
        "   ax[0].set_ylabel('sale price')\n",
        "\n",
        "   # plot the loss\n",
        "   loss_x = np.arange(0,len(loss_history))\n",
        "   loss_y = np.asarray(loss_history)\n",
        "   ax[1].plot(loss_x,loss_y, 'o-')\n",
        "   ax[1].set_yscale('log')\n",
        "   ax[1].set_xlabel('loop step')\n",
        "   ax[1].set_ylabel('loss')\n",
        "   plt.show()\n",
        "   # gives us time to see the plot\n",
        "   time.sleep(2.5)\n",
        "   # clears the plot when the next plot is ready to show.\n",
        "   ipydis.clear_output(wait=True)"
      ],
      "metadata": {
        "colab": {
          "base_uri": "https://localhost:8080/",
          "height": 506
        },
        "id": "I03HlBIFSbLf",
        "outputId": "15175908-baa3-4971-ddf5-ebff95ad3a40"
      },
      "execution_count": null,
      "outputs": [
        {
          "output_type": "stream",
          "name": "stdout",
          "text": [
            "[016]  dy_i = 89.25 * x + 32362.33     previously calculated: y_i = 47.01 * x + 55582.14    loss: 1478488446.281148\n",
            "[ 78771.71376052  78860.96257464  78950.21138877 ... 417292.46573171\n",
            " 417381.71454583 417470.96335995]\n"
          ]
        },
        {
          "output_type": "display_data",
          "data": {
            "text/plain": [
              "<Figure size 1440x480 with 2 Axes>"
            ],
            "image/png": "[encoded data removed]"
          },
          "metadata": {}
        }
      ]
    }
  ]
}